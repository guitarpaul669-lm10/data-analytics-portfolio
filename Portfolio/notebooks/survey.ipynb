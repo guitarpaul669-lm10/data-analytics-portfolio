{
 "cells": [
  {
   "cell_type": "code",
   "execution_count": 1,
   "id": "8d4e2835",
   "metadata": {},
   "outputs": [],
   "source": [
    "#Fundamentals\n",
    "import os\n",
    "import numpy as np\n",
    "import pandas as pd\n",
    "#Datenvisualisierung\n",
    "import matplotlib.pyplot as plt\n",
    "import seaborn as sns\n",
    "#Statistics\n",
    "import scipy.stats as stats \n",
    "import statsmodels.api as sm\n",
    "#Zeitreihen\n",
    "import datetime\n",
    "import zipfile\n",
    "#nice plots\n",
    "import plotly.express as px\n",
    "from plotly.subplots import make_subplots\n",
    "import plotly.graph_objects as go\n"
   ]
  },
  {
   "cell_type": "code",
   "execution_count": 2,
   "id": "ef091944",
   "metadata": {},
   "outputs": [
    {
     "name": "stdout",
     "output_type": "stream",
     "text": [
      "Index(['Timestamp', 'Age', 'Gender', 'Country', 'state', 'self_employed',\n",
      "       'family_history', 'treatment', 'work_interfere', 'no_employees',\n",
      "       'remote_work', 'tech_company', 'benefits', 'care_options',\n",
      "       'wellness_program', 'seek_help', 'anonymity', 'leave',\n",
      "       'mental_health_consequence', 'phys_health_consequence', 'coworkers',\n",
      "       'supervisor', 'mental_health_interview', 'phys_health_interview',\n",
      "       'mental_vs_physical', 'obs_consequence', 'comments'],\n",
      "      dtype='object')\n"
     ]
    }
   ],
   "source": [
    "zip_path = \"C:/Users/Dell/Documents/Python/hr_project/mental_health.zip\"\n",
    "extract_path = \"C:/Users/Dell/Documents/Python/hr_project\"\n",
    "\n",
    "with zipfile.ZipFile(zip_path, 'r') as zip_ref:\n",
    "    zip_ref.extractall(extract_path)\n",
    "\n",
    "csv_path = f\"{extract_path}/survey.csv\"\n",
    "df_raw = pd.read_csv(csv_path)\n",
    "\n",
    "print(df_raw.columns)\n",
    "\n"
   ]
  },
  {
   "cell_type": "code",
   "execution_count": 3,
   "id": "d4e5e1ec",
   "metadata": {},
   "outputs": [
    {
     "data": {
      "text/html": [
       "<div>\n",
       "<style scoped>\n",
       "    .dataframe tbody tr th:only-of-type {\n",
       "        vertical-align: middle;\n",
       "    }\n",
       "\n",
       "    .dataframe tbody tr th {\n",
       "        vertical-align: top;\n",
       "    }\n",
       "\n",
       "    .dataframe thead th {\n",
       "        text-align: right;\n",
       "    }\n",
       "</style>\n",
       "<table border=\"1\" class=\"dataframe\">\n",
       "  <thead>\n",
       "    <tr style=\"text-align: right;\">\n",
       "      <th></th>\n",
       "      <th>Timestamp</th>\n",
       "      <th>Age</th>\n",
       "      <th>Gender</th>\n",
       "      <th>Country</th>\n",
       "      <th>state</th>\n",
       "      <th>self_employed</th>\n",
       "      <th>family_history</th>\n",
       "      <th>treatment</th>\n",
       "      <th>work_interfere</th>\n",
       "      <th>no_employees</th>\n",
       "      <th>...</th>\n",
       "      <th>leave</th>\n",
       "      <th>mental_health_consequence</th>\n",
       "      <th>phys_health_consequence</th>\n",
       "      <th>coworkers</th>\n",
       "      <th>supervisor</th>\n",
       "      <th>mental_health_interview</th>\n",
       "      <th>phys_health_interview</th>\n",
       "      <th>mental_vs_physical</th>\n",
       "      <th>obs_consequence</th>\n",
       "      <th>comments</th>\n",
       "    </tr>\n",
       "  </thead>\n",
       "  <tbody>\n",
       "    <tr>\n",
       "      <th>0</th>\n",
       "      <td>2014-08-27 11:29:31</td>\n",
       "      <td>37</td>\n",
       "      <td>Female</td>\n",
       "      <td>United States</td>\n",
       "      <td>IL</td>\n",
       "      <td>NaN</td>\n",
       "      <td>No</td>\n",
       "      <td>Yes</td>\n",
       "      <td>Often</td>\n",
       "      <td>6-25</td>\n",
       "      <td>...</td>\n",
       "      <td>Somewhat easy</td>\n",
       "      <td>No</td>\n",
       "      <td>No</td>\n",
       "      <td>Some of them</td>\n",
       "      <td>Yes</td>\n",
       "      <td>No</td>\n",
       "      <td>Maybe</td>\n",
       "      <td>Yes</td>\n",
       "      <td>No</td>\n",
       "      <td>NaN</td>\n",
       "    </tr>\n",
       "    <tr>\n",
       "      <th>1</th>\n",
       "      <td>2014-08-27 11:29:37</td>\n",
       "      <td>44</td>\n",
       "      <td>M</td>\n",
       "      <td>United States</td>\n",
       "      <td>IN</td>\n",
       "      <td>NaN</td>\n",
       "      <td>No</td>\n",
       "      <td>No</td>\n",
       "      <td>Rarely</td>\n",
       "      <td>More than 1000</td>\n",
       "      <td>...</td>\n",
       "      <td>Don't know</td>\n",
       "      <td>Maybe</td>\n",
       "      <td>No</td>\n",
       "      <td>No</td>\n",
       "      <td>No</td>\n",
       "      <td>No</td>\n",
       "      <td>No</td>\n",
       "      <td>Don't know</td>\n",
       "      <td>No</td>\n",
       "      <td>NaN</td>\n",
       "    </tr>\n",
       "    <tr>\n",
       "      <th>2</th>\n",
       "      <td>2014-08-27 11:29:44</td>\n",
       "      <td>32</td>\n",
       "      <td>Male</td>\n",
       "      <td>Canada</td>\n",
       "      <td>NaN</td>\n",
       "      <td>NaN</td>\n",
       "      <td>No</td>\n",
       "      <td>No</td>\n",
       "      <td>Rarely</td>\n",
       "      <td>6-25</td>\n",
       "      <td>...</td>\n",
       "      <td>Somewhat difficult</td>\n",
       "      <td>No</td>\n",
       "      <td>No</td>\n",
       "      <td>Yes</td>\n",
       "      <td>Yes</td>\n",
       "      <td>Yes</td>\n",
       "      <td>Yes</td>\n",
       "      <td>No</td>\n",
       "      <td>No</td>\n",
       "      <td>NaN</td>\n",
       "    </tr>\n",
       "    <tr>\n",
       "      <th>3</th>\n",
       "      <td>2014-08-27 11:29:46</td>\n",
       "      <td>31</td>\n",
       "      <td>Male</td>\n",
       "      <td>United Kingdom</td>\n",
       "      <td>NaN</td>\n",
       "      <td>NaN</td>\n",
       "      <td>Yes</td>\n",
       "      <td>Yes</td>\n",
       "      <td>Often</td>\n",
       "      <td>26-100</td>\n",
       "      <td>...</td>\n",
       "      <td>Somewhat difficult</td>\n",
       "      <td>Yes</td>\n",
       "      <td>Yes</td>\n",
       "      <td>Some of them</td>\n",
       "      <td>No</td>\n",
       "      <td>Maybe</td>\n",
       "      <td>Maybe</td>\n",
       "      <td>No</td>\n",
       "      <td>Yes</td>\n",
       "      <td>NaN</td>\n",
       "    </tr>\n",
       "    <tr>\n",
       "      <th>4</th>\n",
       "      <td>2014-08-27 11:30:22</td>\n",
       "      <td>31</td>\n",
       "      <td>Male</td>\n",
       "      <td>United States</td>\n",
       "      <td>TX</td>\n",
       "      <td>NaN</td>\n",
       "      <td>No</td>\n",
       "      <td>No</td>\n",
       "      <td>Never</td>\n",
       "      <td>100-500</td>\n",
       "      <td>...</td>\n",
       "      <td>Don't know</td>\n",
       "      <td>No</td>\n",
       "      <td>No</td>\n",
       "      <td>Some of them</td>\n",
       "      <td>Yes</td>\n",
       "      <td>Yes</td>\n",
       "      <td>Yes</td>\n",
       "      <td>Don't know</td>\n",
       "      <td>No</td>\n",
       "      <td>NaN</td>\n",
       "    </tr>\n",
       "    <tr>\n",
       "      <th>...</th>\n",
       "      <td>...</td>\n",
       "      <td>...</td>\n",
       "      <td>...</td>\n",
       "      <td>...</td>\n",
       "      <td>...</td>\n",
       "      <td>...</td>\n",
       "      <td>...</td>\n",
       "      <td>...</td>\n",
       "      <td>...</td>\n",
       "      <td>...</td>\n",
       "      <td>...</td>\n",
       "      <td>...</td>\n",
       "      <td>...</td>\n",
       "      <td>...</td>\n",
       "      <td>...</td>\n",
       "      <td>...</td>\n",
       "      <td>...</td>\n",
       "      <td>...</td>\n",
       "      <td>...</td>\n",
       "      <td>...</td>\n",
       "      <td>...</td>\n",
       "    </tr>\n",
       "    <tr>\n",
       "      <th>1254</th>\n",
       "      <td>2015-09-12 11:17:21</td>\n",
       "      <td>26</td>\n",
       "      <td>male</td>\n",
       "      <td>United Kingdom</td>\n",
       "      <td>NaN</td>\n",
       "      <td>No</td>\n",
       "      <td>No</td>\n",
       "      <td>Yes</td>\n",
       "      <td>NaN</td>\n",
       "      <td>26-100</td>\n",
       "      <td>...</td>\n",
       "      <td>Somewhat easy</td>\n",
       "      <td>No</td>\n",
       "      <td>No</td>\n",
       "      <td>Some of them</td>\n",
       "      <td>Some of them</td>\n",
       "      <td>No</td>\n",
       "      <td>No</td>\n",
       "      <td>Don't know</td>\n",
       "      <td>No</td>\n",
       "      <td>NaN</td>\n",
       "    </tr>\n",
       "    <tr>\n",
       "      <th>1255</th>\n",
       "      <td>2015-09-26 01:07:35</td>\n",
       "      <td>32</td>\n",
       "      <td>Male</td>\n",
       "      <td>United States</td>\n",
       "      <td>IL</td>\n",
       "      <td>No</td>\n",
       "      <td>Yes</td>\n",
       "      <td>Yes</td>\n",
       "      <td>Often</td>\n",
       "      <td>26-100</td>\n",
       "      <td>...</td>\n",
       "      <td>Somewhat difficult</td>\n",
       "      <td>No</td>\n",
       "      <td>No</td>\n",
       "      <td>Some of them</td>\n",
       "      <td>Yes</td>\n",
       "      <td>No</td>\n",
       "      <td>No</td>\n",
       "      <td>Yes</td>\n",
       "      <td>No</td>\n",
       "      <td>NaN</td>\n",
       "    </tr>\n",
       "    <tr>\n",
       "      <th>1256</th>\n",
       "      <td>2015-11-07 12:36:58</td>\n",
       "      <td>34</td>\n",
       "      <td>male</td>\n",
       "      <td>United States</td>\n",
       "      <td>CA</td>\n",
       "      <td>No</td>\n",
       "      <td>Yes</td>\n",
       "      <td>Yes</td>\n",
       "      <td>Sometimes</td>\n",
       "      <td>More than 1000</td>\n",
       "      <td>...</td>\n",
       "      <td>Somewhat difficult</td>\n",
       "      <td>Yes</td>\n",
       "      <td>Yes</td>\n",
       "      <td>No</td>\n",
       "      <td>No</td>\n",
       "      <td>No</td>\n",
       "      <td>No</td>\n",
       "      <td>No</td>\n",
       "      <td>No</td>\n",
       "      <td>NaN</td>\n",
       "    </tr>\n",
       "    <tr>\n",
       "      <th>1257</th>\n",
       "      <td>2015-11-30 21:25:06</td>\n",
       "      <td>46</td>\n",
       "      <td>f</td>\n",
       "      <td>United States</td>\n",
       "      <td>NC</td>\n",
       "      <td>No</td>\n",
       "      <td>No</td>\n",
       "      <td>No</td>\n",
       "      <td>NaN</td>\n",
       "      <td>100-500</td>\n",
       "      <td>...</td>\n",
       "      <td>Don't know</td>\n",
       "      <td>Yes</td>\n",
       "      <td>No</td>\n",
       "      <td>No</td>\n",
       "      <td>No</td>\n",
       "      <td>No</td>\n",
       "      <td>No</td>\n",
       "      <td>No</td>\n",
       "      <td>No</td>\n",
       "      <td>NaN</td>\n",
       "    </tr>\n",
       "    <tr>\n",
       "      <th>1258</th>\n",
       "      <td>2016-02-01 23:04:31</td>\n",
       "      <td>25</td>\n",
       "      <td>Male</td>\n",
       "      <td>United States</td>\n",
       "      <td>IL</td>\n",
       "      <td>No</td>\n",
       "      <td>Yes</td>\n",
       "      <td>Yes</td>\n",
       "      <td>Sometimes</td>\n",
       "      <td>26-100</td>\n",
       "      <td>...</td>\n",
       "      <td>Don't know</td>\n",
       "      <td>Maybe</td>\n",
       "      <td>No</td>\n",
       "      <td>Some of them</td>\n",
       "      <td>No</td>\n",
       "      <td>No</td>\n",
       "      <td>No</td>\n",
       "      <td>Don't know</td>\n",
       "      <td>No</td>\n",
       "      <td>NaN</td>\n",
       "    </tr>\n",
       "  </tbody>\n",
       "</table>\n",
       "<p>1259 rows × 27 columns</p>\n",
       "</div>"
      ],
      "text/plain": [
       "                Timestamp  Age  Gender         Country state self_employed  \\\n",
       "0     2014-08-27 11:29:31   37  Female   United States    IL           NaN   \n",
       "1     2014-08-27 11:29:37   44       M   United States    IN           NaN   \n",
       "2     2014-08-27 11:29:44   32    Male          Canada   NaN           NaN   \n",
       "3     2014-08-27 11:29:46   31    Male  United Kingdom   NaN           NaN   \n",
       "4     2014-08-27 11:30:22   31    Male   United States    TX           NaN   \n",
       "...                   ...  ...     ...             ...   ...           ...   \n",
       "1254  2015-09-12 11:17:21   26    male  United Kingdom   NaN            No   \n",
       "1255  2015-09-26 01:07:35   32    Male   United States    IL            No   \n",
       "1256  2015-11-07 12:36:58   34    male   United States    CA            No   \n",
       "1257  2015-11-30 21:25:06   46       f   United States    NC            No   \n",
       "1258  2016-02-01 23:04:31   25    Male   United States    IL            No   \n",
       "\n",
       "     family_history treatment work_interfere    no_employees  ...  \\\n",
       "0                No       Yes          Often            6-25  ...   \n",
       "1                No        No         Rarely  More than 1000  ...   \n",
       "2                No        No         Rarely            6-25  ...   \n",
       "3               Yes       Yes          Often          26-100  ...   \n",
       "4                No        No          Never         100-500  ...   \n",
       "...             ...       ...            ...             ...  ...   \n",
       "1254             No       Yes            NaN          26-100  ...   \n",
       "1255            Yes       Yes          Often          26-100  ...   \n",
       "1256            Yes       Yes      Sometimes  More than 1000  ...   \n",
       "1257             No        No            NaN         100-500  ...   \n",
       "1258            Yes       Yes      Sometimes          26-100  ...   \n",
       "\n",
       "                   leave mental_health_consequence phys_health_consequence  \\\n",
       "0          Somewhat easy                        No                      No   \n",
       "1             Don't know                     Maybe                      No   \n",
       "2     Somewhat difficult                        No                      No   \n",
       "3     Somewhat difficult                       Yes                     Yes   \n",
       "4             Don't know                        No                      No   \n",
       "...                  ...                       ...                     ...   \n",
       "1254       Somewhat easy                        No                      No   \n",
       "1255  Somewhat difficult                        No                      No   \n",
       "1256  Somewhat difficult                       Yes                     Yes   \n",
       "1257          Don't know                       Yes                      No   \n",
       "1258          Don't know                     Maybe                      No   \n",
       "\n",
       "         coworkers    supervisor mental_health_interview  \\\n",
       "0     Some of them           Yes                      No   \n",
       "1               No            No                      No   \n",
       "2              Yes           Yes                     Yes   \n",
       "3     Some of them            No                   Maybe   \n",
       "4     Some of them           Yes                     Yes   \n",
       "...            ...           ...                     ...   \n",
       "1254  Some of them  Some of them                      No   \n",
       "1255  Some of them           Yes                      No   \n",
       "1256            No            No                      No   \n",
       "1257            No            No                      No   \n",
       "1258  Some of them            No                      No   \n",
       "\n",
       "     phys_health_interview mental_vs_physical obs_consequence comments  \n",
       "0                    Maybe                Yes              No      NaN  \n",
       "1                       No         Don't know              No      NaN  \n",
       "2                      Yes                 No              No      NaN  \n",
       "3                    Maybe                 No             Yes      NaN  \n",
       "4                      Yes         Don't know              No      NaN  \n",
       "...                    ...                ...             ...      ...  \n",
       "1254                    No         Don't know              No      NaN  \n",
       "1255                    No                Yes              No      NaN  \n",
       "1256                    No                 No              No      NaN  \n",
       "1257                    No                 No              No      NaN  \n",
       "1258                    No         Don't know              No      NaN  \n",
       "\n",
       "[1259 rows x 27 columns]"
      ]
     },
     "execution_count": 3,
     "metadata": {},
     "output_type": "execute_result"
    }
   ],
   "source": [
    "df_raw"
   ]
  },
  {
   "cell_type": "markdown",
   "id": "6e50185b",
   "metadata": {},
   "source": [
    "# 1. Fehlende Daten "
   ]
  },
  {
   "cell_type": "markdown",
   "id": "e511465c",
   "metadata": {},
   "source": [
    "## 1.1 Überblick"
   ]
  },
  {
   "cell_type": "code",
   "execution_count": 4,
   "id": "9a36975a",
   "metadata": {},
   "outputs": [
    {
     "data": {
      "image/png": "[encoded data removed]",
      "text/plain": [
       "<Figure size 640x480 with 2 Axes>"
      ]
     },
     "metadata": {},
     "output_type": "display_data"
    }
   ],
   "source": [
    "sns.heatmap(df_raw.isna().transpose(),\n",
    "           cbar_kws = {'label': 'Missing Data'});"
   ]
  },
  {
   "cell_type": "code",
   "execution_count": 5,
   "id": "83f299be",
   "metadata": {},
   "outputs": [
    {
     "data": {
      "text/plain": [
       "Timestamp                       0\n",
       "Age                             0\n",
       "Gender                          0\n",
       "Country                         0\n",
       "state                         515\n",
       "self_employed                  18\n",
       "family_history                  0\n",
       "treatment                       0\n",
       "work_interfere                264\n",
       "no_employees                    0\n",
       "remote_work                     0\n",
       "tech_company                    0\n",
       "benefits                        0\n",
       "care_options                    0\n",
       "wellness_program                0\n",
       "seek_help                       0\n",
       "anonymity                       0\n",
       "leave                           0\n",
       "mental_health_consequence       0\n",
       "phys_health_consequence         0\n",
       "coworkers                       0\n",
       "supervisor                      0\n",
       "mental_health_interview         0\n",
       "phys_health_interview           0\n",
       "mental_vs_physical              0\n",
       "obs_consequence                 0\n",
       "comments                     1095\n",
       "dtype: int64"
      ]
     },
     "execution_count": 5,
     "metadata": {},
     "output_type": "execute_result"
    }
   ],
   "source": [
    "df_raw.isna().sum()"
   ]
  },
  {
   "cell_type": "markdown",
   "id": "f814867d",
   "metadata": {},
   "source": [
    "Die Daten sind größten teils befreit von fehlenden Werten. \n",
    "Die Spalten mit den fehlenden Werten sind \n",
    "- state\n",
    "- self_employed\n",
    "- work_interfere\n",
    "- comments"
   ]
  },
  {
   "cell_type": "markdown",
   "id": "556ffe75",
   "metadata": {},
   "source": [
    "## 1.2 Betrachtung der Spalten mit NaN"
   ]
  },
  {
   "cell_type": "markdown",
   "id": "08be41f9",
   "metadata": {},
   "source": [
    "### 1.2.1 State"
   ]
  },
  {
   "cell_type": "markdown",
   "id": "516ab55f",
   "metadata": {},
   "source": [
    "Im Kopf der Datentabelle ist ersichtlich das die Personen aus der USA kommen auch den Staat zugewiesen bekommen. \n",
    "Personen aus UK oder Kanada weisen fehlende Werte auf. \n",
    "\n",
    "These 1: Nur Personen aus anderen Ländern, weisen fehlende Werte bei der Spalte Staat auf. "
   ]
  },
  {
   "cell_type": "code",
   "execution_count": 6,
   "id": "d24bba58",
   "metadata": {},
   "outputs": [
    {
     "data": {
      "text/plain": [
       "Country\n",
       "United States     751\n",
       "United Kingdom    185\n",
       "Canada             72\n",
       "Germany            45\n",
       "Ireland            27\n",
       "Netherlands        27\n",
       "Australia          21\n",
       "France             13\n",
       "India              10\n",
       "New Zealand         8\n",
       "Name: count, dtype: int64"
      ]
     },
     "execution_count": 6,
     "metadata": {},
     "output_type": "execute_result"
    }
   ],
   "source": [
    "df_raw.Country.value_counts().head(10)"
   ]
  },
  {
   "cell_type": "code",
   "execution_count": 7,
   "id": "654f5bd0",
   "metadata": {},
   "outputs": [
    {
     "data": {
      "text/plain": [
       "11"
      ]
     },
     "execution_count": 7,
     "metadata": {},
     "output_type": "execute_result"
    }
   ],
   "source": [
    "df_raw.loc[(df_raw[\"Country\"] == \"United States\") & (df_raw[\"state\"].isna())].shape[0]"
   ]
  },
  {
   "cell_type": "markdown",
   "id": "fd690cbf",
   "metadata": {},
   "source": [
    "Die These 1 wird verworfen, da es 11 Reihen mit State = NaN für die USA Daten gibt.\n",
    "\n",
    "State: \n",
    "- 40.9% NaN\n",
    "- keine Bedeutung für spätere Analyse \n",
    "\n",
    "&rarr; Entfernung der Spalte bei Data Cleaning\n",
    "\n"
   ]
  },
  {
   "cell_type": "markdown",
   "id": "93189148",
   "metadata": {},
   "source": [
    "### 1.2.2 self_employed"
   ]
  },
  {
   "cell_type": "markdown",
   "id": "da474c85",
   "metadata": {},
   "source": [
    "Aufgrund der geringen Anzahl an fehlenden Werten, besteht die Möglichkeit das NaN aus anderen Spalten abgeleitet werden kann. \n",
    "\n",
    "These 2: Die Entscheiddung über self_employed kann über die Spalten no_employees, leave, coworkers. \n",
    "\n",
    "Idee: \n",
    "\n",
    "- no_employees = Wenn ich selbstständig bin, habe ich vermutlich nicht viele Mitarbeiter\n",
    "- leave = Wenn ich krank bin, habe ich keine Probleme Urlaub zu bekommen\n",
    "- coworkers, supervisors = In der hinsicht interessant, weil die Person möglicherweise der Chef ist"
   ]
  },
  {
   "cell_type": "code",
   "execution_count": 8,
   "id": "3bdb4fd0",
   "metadata": {},
   "outputs": [
    {
     "data": {
      "text/plain": [
       "self_employed\n",
       "No     1095\n",
       "Yes     146\n",
       "Name: count, dtype: int64"
      ]
     },
     "execution_count": 8,
     "metadata": {},
     "output_type": "execute_result"
    }
   ],
   "source": [
    "df_raw.self_employed.value_counts()"
   ]
  },
  {
   "cell_type": "code",
   "execution_count": 9,
   "id": "8f5c23f9",
   "metadata": {},
   "outputs": [
    {
     "data": {
      "text/html": [
       "<div>\n",
       "<style scoped>\n",
       "    .dataframe tbody tr th:only-of-type {\n",
       "        vertical-align: middle;\n",
       "    }\n",
       "\n",
       "    .dataframe tbody tr th {\n",
       "        vertical-align: top;\n",
       "    }\n",
       "\n",
       "    .dataframe thead th {\n",
       "        text-align: right;\n",
       "    }\n",
       "</style>\n",
       "<table border=\"1\" class=\"dataframe\">\n",
       "  <thead>\n",
       "    <tr style=\"text-align: right;\">\n",
       "      <th></th>\n",
       "      <th>Timestamp</th>\n",
       "      <th>Age</th>\n",
       "      <th>Gender</th>\n",
       "      <th>Country</th>\n",
       "      <th>state</th>\n",
       "      <th>self_employed</th>\n",
       "      <th>family_history</th>\n",
       "      <th>treatment</th>\n",
       "      <th>work_interfere</th>\n",
       "      <th>no_employees</th>\n",
       "      <th>...</th>\n",
       "      <th>leave</th>\n",
       "      <th>mental_health_consequence</th>\n",
       "      <th>phys_health_consequence</th>\n",
       "      <th>coworkers</th>\n",
       "      <th>supervisor</th>\n",
       "      <th>mental_health_interview</th>\n",
       "      <th>phys_health_interview</th>\n",
       "      <th>mental_vs_physical</th>\n",
       "      <th>obs_consequence</th>\n",
       "      <th>comments</th>\n",
       "    </tr>\n",
       "  </thead>\n",
       "  <tbody>\n",
       "    <tr>\n",
       "      <th>0</th>\n",
       "      <td>2014-08-27 11:29:31</td>\n",
       "      <td>37</td>\n",
       "      <td>Female</td>\n",
       "      <td>United States</td>\n",
       "      <td>IL</td>\n",
       "      <td>NaN</td>\n",
       "      <td>No</td>\n",
       "      <td>Yes</td>\n",
       "      <td>Often</td>\n",
       "      <td>6-25</td>\n",
       "      <td>...</td>\n",
       "      <td>Somewhat easy</td>\n",
       "      <td>No</td>\n",
       "      <td>No</td>\n",
       "      <td>Some of them</td>\n",
       "      <td>Yes</td>\n",
       "      <td>No</td>\n",
       "      <td>Maybe</td>\n",
       "      <td>Yes</td>\n",
       "      <td>No</td>\n",
       "      <td>NaN</td>\n",
       "    </tr>\n",
       "    <tr>\n",
       "      <th>1</th>\n",
       "      <td>2014-08-27 11:29:37</td>\n",
       "      <td>44</td>\n",
       "      <td>M</td>\n",
       "      <td>United States</td>\n",
       "      <td>IN</td>\n",
       "      <td>NaN</td>\n",
       "      <td>No</td>\n",
       "      <td>No</td>\n",
       "      <td>Rarely</td>\n",
       "      <td>More than 1000</td>\n",
       "      <td>...</td>\n",
       "      <td>Don't know</td>\n",
       "      <td>Maybe</td>\n",
       "      <td>No</td>\n",
       "      <td>No</td>\n",
       "      <td>No</td>\n",
       "      <td>No</td>\n",
       "      <td>No</td>\n",
       "      <td>Don't know</td>\n",
       "      <td>No</td>\n",
       "      <td>NaN</td>\n",
       "    </tr>\n",
       "    <tr>\n",
       "      <th>2</th>\n",
       "      <td>2014-08-27 11:29:44</td>\n",
       "      <td>32</td>\n",
       "      <td>Male</td>\n",
       "      <td>Canada</td>\n",
       "      <td>NaN</td>\n",
       "      <td>NaN</td>\n",
       "      <td>No</td>\n",
       "      <td>No</td>\n",
       "      <td>Rarely</td>\n",
       "      <td>6-25</td>\n",
       "      <td>...</td>\n",
       "      <td>Somewhat difficult</td>\n",
       "      <td>No</td>\n",
       "      <td>No</td>\n",
       "      <td>Yes</td>\n",
       "      <td>Yes</td>\n",
       "      <td>Yes</td>\n",
       "      <td>Yes</td>\n",
       "      <td>No</td>\n",
       "      <td>No</td>\n",
       "      <td>NaN</td>\n",
       "    </tr>\n",
       "    <tr>\n",
       "      <th>3</th>\n",
       "      <td>2014-08-27 11:29:46</td>\n",
       "      <td>31</td>\n",
       "      <td>Male</td>\n",
       "      <td>United Kingdom</td>\n",
       "      <td>NaN</td>\n",
       "      <td>NaN</td>\n",
       "      <td>Yes</td>\n",
       "      <td>Yes</td>\n",
       "      <td>Often</td>\n",
       "      <td>26-100</td>\n",
       "      <td>...</td>\n",
       "      <td>Somewhat difficult</td>\n",
       "      <td>Yes</td>\n",
       "      <td>Yes</td>\n",
       "      <td>Some of them</td>\n",
       "      <td>No</td>\n",
       "      <td>Maybe</td>\n",
       "      <td>Maybe</td>\n",
       "      <td>No</td>\n",
       "      <td>Yes</td>\n",
       "      <td>NaN</td>\n",
       "    </tr>\n",
       "    <tr>\n",
       "      <th>4</th>\n",
       "      <td>2014-08-27 11:30:22</td>\n",
       "      <td>31</td>\n",
       "      <td>Male</td>\n",
       "      <td>United States</td>\n",
       "      <td>TX</td>\n",
       "      <td>NaN</td>\n",
       "      <td>No</td>\n",
       "      <td>No</td>\n",
       "      <td>Never</td>\n",
       "      <td>100-500</td>\n",
       "      <td>...</td>\n",
       "      <td>Don't know</td>\n",
       "      <td>No</td>\n",
       "      <td>No</td>\n",
       "      <td>Some of them</td>\n",
       "      <td>Yes</td>\n",
       "      <td>Yes</td>\n",
       "      <td>Yes</td>\n",
       "      <td>Don't know</td>\n",
       "      <td>No</td>\n",
       "      <td>NaN</td>\n",
       "    </tr>\n",
       "    <tr>\n",
       "      <th>5</th>\n",
       "      <td>2014-08-27 11:31:22</td>\n",
       "      <td>33</td>\n",
       "      <td>Male</td>\n",
       "      <td>United States</td>\n",
       "      <td>TN</td>\n",
       "      <td>NaN</td>\n",
       "      <td>Yes</td>\n",
       "      <td>No</td>\n",
       "      <td>Sometimes</td>\n",
       "      <td>6-25</td>\n",
       "      <td>...</td>\n",
       "      <td>Don't know</td>\n",
       "      <td>No</td>\n",
       "      <td>No</td>\n",
       "      <td>Yes</td>\n",
       "      <td>Yes</td>\n",
       "      <td>No</td>\n",
       "      <td>Maybe</td>\n",
       "      <td>Don't know</td>\n",
       "      <td>No</td>\n",
       "      <td>NaN</td>\n",
       "    </tr>\n",
       "    <tr>\n",
       "      <th>6</th>\n",
       "      <td>2014-08-27 11:31:50</td>\n",
       "      <td>35</td>\n",
       "      <td>Female</td>\n",
       "      <td>United States</td>\n",
       "      <td>MI</td>\n",
       "      <td>NaN</td>\n",
       "      <td>Yes</td>\n",
       "      <td>Yes</td>\n",
       "      <td>Sometimes</td>\n",
       "      <td>1-5</td>\n",
       "      <td>...</td>\n",
       "      <td>Somewhat difficult</td>\n",
       "      <td>Maybe</td>\n",
       "      <td>Maybe</td>\n",
       "      <td>Some of them</td>\n",
       "      <td>No</td>\n",
       "      <td>No</td>\n",
       "      <td>No</td>\n",
       "      <td>Don't know</td>\n",
       "      <td>No</td>\n",
       "      <td>NaN</td>\n",
       "    </tr>\n",
       "    <tr>\n",
       "      <th>7</th>\n",
       "      <td>2014-08-27 11:32:05</td>\n",
       "      <td>39</td>\n",
       "      <td>M</td>\n",
       "      <td>Canada</td>\n",
       "      <td>NaN</td>\n",
       "      <td>NaN</td>\n",
       "      <td>No</td>\n",
       "      <td>No</td>\n",
       "      <td>Never</td>\n",
       "      <td>1-5</td>\n",
       "      <td>...</td>\n",
       "      <td>Don't know</td>\n",
       "      <td>No</td>\n",
       "      <td>No</td>\n",
       "      <td>No</td>\n",
       "      <td>No</td>\n",
       "      <td>No</td>\n",
       "      <td>No</td>\n",
       "      <td>No</td>\n",
       "      <td>No</td>\n",
       "      <td>NaN</td>\n",
       "    </tr>\n",
       "    <tr>\n",
       "      <th>8</th>\n",
       "      <td>2014-08-27 11:32:39</td>\n",
       "      <td>42</td>\n",
       "      <td>Female</td>\n",
       "      <td>United States</td>\n",
       "      <td>IL</td>\n",
       "      <td>NaN</td>\n",
       "      <td>Yes</td>\n",
       "      <td>Yes</td>\n",
       "      <td>Sometimes</td>\n",
       "      <td>100-500</td>\n",
       "      <td>...</td>\n",
       "      <td>Very difficult</td>\n",
       "      <td>Maybe</td>\n",
       "      <td>No</td>\n",
       "      <td>Yes</td>\n",
       "      <td>Yes</td>\n",
       "      <td>No</td>\n",
       "      <td>Maybe</td>\n",
       "      <td>No</td>\n",
       "      <td>No</td>\n",
       "      <td>NaN</td>\n",
       "    </tr>\n",
       "    <tr>\n",
       "      <th>9</th>\n",
       "      <td>2014-08-27 11:32:43</td>\n",
       "      <td>23</td>\n",
       "      <td>Male</td>\n",
       "      <td>Canada</td>\n",
       "      <td>NaN</td>\n",
       "      <td>NaN</td>\n",
       "      <td>No</td>\n",
       "      <td>No</td>\n",
       "      <td>Never</td>\n",
       "      <td>26-100</td>\n",
       "      <td>...</td>\n",
       "      <td>Don't know</td>\n",
       "      <td>No</td>\n",
       "      <td>No</td>\n",
       "      <td>Yes</td>\n",
       "      <td>Yes</td>\n",
       "      <td>Maybe</td>\n",
       "      <td>Maybe</td>\n",
       "      <td>Yes</td>\n",
       "      <td>No</td>\n",
       "      <td>NaN</td>\n",
       "    </tr>\n",
       "    <tr>\n",
       "      <th>10</th>\n",
       "      <td>2014-08-27 11:32:44</td>\n",
       "      <td>31</td>\n",
       "      <td>Male</td>\n",
       "      <td>United States</td>\n",
       "      <td>OH</td>\n",
       "      <td>NaN</td>\n",
       "      <td>No</td>\n",
       "      <td>Yes</td>\n",
       "      <td>Sometimes</td>\n",
       "      <td>6-25</td>\n",
       "      <td>...</td>\n",
       "      <td>Don't know</td>\n",
       "      <td>No</td>\n",
       "      <td>No</td>\n",
       "      <td>Some of them</td>\n",
       "      <td>Yes</td>\n",
       "      <td>No</td>\n",
       "      <td>No</td>\n",
       "      <td>Don't know</td>\n",
       "      <td>No</td>\n",
       "      <td>NaN</td>\n",
       "    </tr>\n",
       "    <tr>\n",
       "      <th>11</th>\n",
       "      <td>2014-08-27 11:32:49</td>\n",
       "      <td>29</td>\n",
       "      <td>male</td>\n",
       "      <td>Bulgaria</td>\n",
       "      <td>NaN</td>\n",
       "      <td>NaN</td>\n",
       "      <td>No</td>\n",
       "      <td>No</td>\n",
       "      <td>Never</td>\n",
       "      <td>100-500</td>\n",
       "      <td>...</td>\n",
       "      <td>Don't know</td>\n",
       "      <td>No</td>\n",
       "      <td>No</td>\n",
       "      <td>Yes</td>\n",
       "      <td>Yes</td>\n",
       "      <td>Yes</td>\n",
       "      <td>Yes</td>\n",
       "      <td>Don't know</td>\n",
       "      <td>No</td>\n",
       "      <td>NaN</td>\n",
       "    </tr>\n",
       "    <tr>\n",
       "      <th>12</th>\n",
       "      <td>2014-08-27 11:33:23</td>\n",
       "      <td>42</td>\n",
       "      <td>female</td>\n",
       "      <td>United States</td>\n",
       "      <td>CA</td>\n",
       "      <td>NaN</td>\n",
       "      <td>Yes</td>\n",
       "      <td>Yes</td>\n",
       "      <td>Sometimes</td>\n",
       "      <td>26-100</td>\n",
       "      <td>...</td>\n",
       "      <td>Somewhat difficult</td>\n",
       "      <td>Yes</td>\n",
       "      <td>Yes</td>\n",
       "      <td>Yes</td>\n",
       "      <td>Yes</td>\n",
       "      <td>Maybe</td>\n",
       "      <td>Maybe</td>\n",
       "      <td>No</td>\n",
       "      <td>Yes</td>\n",
       "      <td>NaN</td>\n",
       "    </tr>\n",
       "    <tr>\n",
       "      <th>13</th>\n",
       "      <td>2014-08-27 11:33:26</td>\n",
       "      <td>36</td>\n",
       "      <td>Male</td>\n",
       "      <td>United States</td>\n",
       "      <td>CT</td>\n",
       "      <td>NaN</td>\n",
       "      <td>Yes</td>\n",
       "      <td>No</td>\n",
       "      <td>Never</td>\n",
       "      <td>500-1000</td>\n",
       "      <td>...</td>\n",
       "      <td>Don't know</td>\n",
       "      <td>No</td>\n",
       "      <td>No</td>\n",
       "      <td>Yes</td>\n",
       "      <td>Yes</td>\n",
       "      <td>No</td>\n",
       "      <td>No</td>\n",
       "      <td>Don't know</td>\n",
       "      <td>No</td>\n",
       "      <td>I'm not on my company's health insurance which...</td>\n",
       "    </tr>\n",
       "    <tr>\n",
       "      <th>14</th>\n",
       "      <td>2014-08-27 11:33:57</td>\n",
       "      <td>27</td>\n",
       "      <td>Male</td>\n",
       "      <td>Canada</td>\n",
       "      <td>NaN</td>\n",
       "      <td>NaN</td>\n",
       "      <td>No</td>\n",
       "      <td>No</td>\n",
       "      <td>Never</td>\n",
       "      <td>6-25</td>\n",
       "      <td>...</td>\n",
       "      <td>Somewhat easy</td>\n",
       "      <td>No</td>\n",
       "      <td>No</td>\n",
       "      <td>Some of them</td>\n",
       "      <td>Some of them</td>\n",
       "      <td>Maybe</td>\n",
       "      <td>Yes</td>\n",
       "      <td>Yes</td>\n",
       "      <td>No</td>\n",
       "      <td>NaN</td>\n",
       "    </tr>\n",
       "    <tr>\n",
       "      <th>15</th>\n",
       "      <td>2014-08-27 11:34:00</td>\n",
       "      <td>29</td>\n",
       "      <td>female</td>\n",
       "      <td>United States</td>\n",
       "      <td>IL</td>\n",
       "      <td>NaN</td>\n",
       "      <td>Yes</td>\n",
       "      <td>Yes</td>\n",
       "      <td>Rarely</td>\n",
       "      <td>26-100</td>\n",
       "      <td>...</td>\n",
       "      <td>Somewhat easy</td>\n",
       "      <td>No</td>\n",
       "      <td>No</td>\n",
       "      <td>Yes</td>\n",
       "      <td>Some of them</td>\n",
       "      <td>Maybe</td>\n",
       "      <td>Maybe</td>\n",
       "      <td>Don't know</td>\n",
       "      <td>No</td>\n",
       "      <td>I have chronic low-level neurological issues t...</td>\n",
       "    </tr>\n",
       "    <tr>\n",
       "      <th>16</th>\n",
       "      <td>2014-08-27 11:34:20</td>\n",
       "      <td>23</td>\n",
       "      <td>Male</td>\n",
       "      <td>United Kingdom</td>\n",
       "      <td>NaN</td>\n",
       "      <td>NaN</td>\n",
       "      <td>No</td>\n",
       "      <td>Yes</td>\n",
       "      <td>Sometimes</td>\n",
       "      <td>26-100</td>\n",
       "      <td>...</td>\n",
       "      <td>Very easy</td>\n",
       "      <td>Maybe</td>\n",
       "      <td>No</td>\n",
       "      <td>Some of them</td>\n",
       "      <td>No</td>\n",
       "      <td>Maybe</td>\n",
       "      <td>Maybe</td>\n",
       "      <td>No</td>\n",
       "      <td>No</td>\n",
       "      <td>My company does provide healthcare but not to ...</td>\n",
       "    </tr>\n",
       "    <tr>\n",
       "      <th>17</th>\n",
       "      <td>2014-08-27 11:34:37</td>\n",
       "      <td>32</td>\n",
       "      <td>Male</td>\n",
       "      <td>United States</td>\n",
       "      <td>TN</td>\n",
       "      <td>NaN</td>\n",
       "      <td>No</td>\n",
       "      <td>Yes</td>\n",
       "      <td>Sometimes</td>\n",
       "      <td>6-25</td>\n",
       "      <td>...</td>\n",
       "      <td>Don't know</td>\n",
       "      <td>Maybe</td>\n",
       "      <td>No</td>\n",
       "      <td>Some of them</td>\n",
       "      <td>Yes</td>\n",
       "      <td>No</td>\n",
       "      <td>No</td>\n",
       "      <td>No</td>\n",
       "      <td>No</td>\n",
       "      <td>NaN</td>\n",
       "    </tr>\n",
       "  </tbody>\n",
       "</table>\n",
       "<p>18 rows × 27 columns</p>\n",
       "</div>"
      ],
      "text/plain": [
       "              Timestamp  Age  Gender         Country state self_employed  \\\n",
       "0   2014-08-27 11:29:31   37  Female   United States    IL           NaN   \n",
       "1   2014-08-27 11:29:37   44       M   United States    IN           NaN   \n",
       "2   2014-08-27 11:29:44   32    Male          Canada   NaN           NaN   \n",
       "3   2014-08-27 11:29:46   31    Male  United Kingdom   NaN           NaN   \n",
       "4   2014-08-27 11:30:22   31    Male   United States    TX           NaN   \n",
       "5   2014-08-27 11:31:22   33    Male   United States    TN           NaN   \n",
       "6   2014-08-27 11:31:50   35  Female   United States    MI           NaN   \n",
       "7   2014-08-27 11:32:05   39       M          Canada   NaN           NaN   \n",
       "8   2014-08-27 11:32:39   42  Female   United States    IL           NaN   \n",
       "9   2014-08-27 11:32:43   23    Male          Canada   NaN           NaN   \n",
       "10  2014-08-27 11:32:44   31    Male   United States    OH           NaN   \n",
       "11  2014-08-27 11:32:49   29    male        Bulgaria   NaN           NaN   \n",
       "12  2014-08-27 11:33:23   42  female   United States    CA           NaN   \n",
       "13  2014-08-27 11:33:26   36    Male   United States    CT           NaN   \n",
       "14  2014-08-27 11:33:57   27    Male          Canada   NaN           NaN   \n",
       "15  2014-08-27 11:34:00   29  female   United States    IL           NaN   \n",
       "16  2014-08-27 11:34:20   23    Male  United Kingdom   NaN           NaN   \n",
       "17  2014-08-27 11:34:37   32    Male   United States    TN           NaN   \n",
       "\n",
       "   family_history treatment work_interfere    no_employees  ...  \\\n",
       "0              No       Yes          Often            6-25  ...   \n",
       "1              No        No         Rarely  More than 1000  ...   \n",
       "2              No        No         Rarely            6-25  ...   \n",
       "3             Yes       Yes          Often          26-100  ...   \n",
       "4              No        No          Never         100-500  ...   \n",
       "5             Yes        No      Sometimes            6-25  ...   \n",
       "6             Yes       Yes      Sometimes             1-5  ...   \n",
       "7              No        No          Never             1-5  ...   \n",
       "8             Yes       Yes      Sometimes         100-500  ...   \n",
       "9              No        No          Never          26-100  ...   \n",
       "10             No       Yes      Sometimes            6-25  ...   \n",
       "11             No        No          Never         100-500  ...   \n",
       "12            Yes       Yes      Sometimes          26-100  ...   \n",
       "13            Yes        No          Never        500-1000  ...   \n",
       "14             No        No          Never            6-25  ...   \n",
       "15            Yes       Yes         Rarely          26-100  ...   \n",
       "16             No       Yes      Sometimes          26-100  ...   \n",
       "17             No       Yes      Sometimes            6-25  ...   \n",
       "\n",
       "                 leave mental_health_consequence phys_health_consequence  \\\n",
       "0        Somewhat easy                        No                      No   \n",
       "1           Don't know                     Maybe                      No   \n",
       "2   Somewhat difficult                        No                      No   \n",
       "3   Somewhat difficult                       Yes                     Yes   \n",
       "4           Don't know                        No                      No   \n",
       "5           Don't know                        No                      No   \n",
       "6   Somewhat difficult                     Maybe                   Maybe   \n",
       "7           Don't know                        No                      No   \n",
       "8       Very difficult                     Maybe                      No   \n",
       "9           Don't know                        No                      No   \n",
       "10          Don't know                        No                      No   \n",
       "11          Don't know                        No                      No   \n",
       "12  Somewhat difficult                       Yes                     Yes   \n",
       "13          Don't know                        No                      No   \n",
       "14       Somewhat easy                        No                      No   \n",
       "15       Somewhat easy                        No                      No   \n",
       "16           Very easy                     Maybe                      No   \n",
       "17          Don't know                     Maybe                      No   \n",
       "\n",
       "       coworkers    supervisor mental_health_interview phys_health_interview  \\\n",
       "0   Some of them           Yes                      No                 Maybe   \n",
       "1             No            No                      No                    No   \n",
       "2            Yes           Yes                     Yes                   Yes   \n",
       "3   Some of them            No                   Maybe                 Maybe   \n",
       "4   Some of them           Yes                     Yes                   Yes   \n",
       "5            Yes           Yes                      No                 Maybe   \n",
       "6   Some of them            No                      No                    No   \n",
       "7             No            No                      No                    No   \n",
       "8            Yes           Yes                      No                 Maybe   \n",
       "9            Yes           Yes                   Maybe                 Maybe   \n",
       "10  Some of them           Yes                      No                    No   \n",
       "11           Yes           Yes                     Yes                   Yes   \n",
       "12           Yes           Yes                   Maybe                 Maybe   \n",
       "13           Yes           Yes                      No                    No   \n",
       "14  Some of them  Some of them                   Maybe                   Yes   \n",
       "15           Yes  Some of them                   Maybe                 Maybe   \n",
       "16  Some of them            No                   Maybe                 Maybe   \n",
       "17  Some of them           Yes                      No                    No   \n",
       "\n",
       "   mental_vs_physical obs_consequence  \\\n",
       "0                 Yes              No   \n",
       "1          Don't know              No   \n",
       "2                  No              No   \n",
       "3                  No             Yes   \n",
       "4          Don't know              No   \n",
       "5          Don't know              No   \n",
       "6          Don't know              No   \n",
       "7                  No              No   \n",
       "8                  No              No   \n",
       "9                 Yes              No   \n",
       "10         Don't know              No   \n",
       "11         Don't know              No   \n",
       "12                 No             Yes   \n",
       "13         Don't know              No   \n",
       "14                Yes              No   \n",
       "15         Don't know              No   \n",
       "16                 No              No   \n",
       "17                 No              No   \n",
       "\n",
       "                                             comments  \n",
       "0                                                 NaN  \n",
       "1                                                 NaN  \n",
       "2                                                 NaN  \n",
       "3                                                 NaN  \n",
       "4                                                 NaN  \n",
       "5                                                 NaN  \n",
       "6                                                 NaN  \n",
       "7                                                 NaN  \n",
       "8                                                 NaN  \n",
       "9                                                 NaN  \n",
       "10                                                NaN  \n",
       "11                                                NaN  \n",
       "12                                                NaN  \n",
       "13  I'm not on my company's health insurance which...  \n",
       "14                                                NaN  \n",
       "15  I have chronic low-level neurological issues t...  \n",
       "16  My company does provide healthcare but not to ...  \n",
       "17                                                NaN  \n",
       "\n",
       "[18 rows x 27 columns]"
      ]
     },
     "execution_count": 9,
     "metadata": {},
     "output_type": "execute_result"
    }
   ],
   "source": [
    "df_raw.loc[df_raw[\"self_employed\"].isna()]"
   ]
  },
  {
   "cell_type": "code",
   "execution_count": 10,
   "id": "8d7946a7",
   "metadata": {},
   "outputs": [
    {
     "data": {
      "text/html": [
       "<div>\n",
       "<style scoped>\n",
       "    .dataframe tbody tr th:only-of-type {\n",
       "        vertical-align: middle;\n",
       "    }\n",
       "\n",
       "    .dataframe tbody tr th {\n",
       "        vertical-align: top;\n",
       "    }\n",
       "\n",
       "    .dataframe thead th {\n",
       "        text-align: right;\n",
       "    }\n",
       "</style>\n",
       "<table border=\"1\" class=\"dataframe\">\n",
       "  <thead>\n",
       "    <tr style=\"text-align: right;\">\n",
       "      <th></th>\n",
       "      <th>Timestamp</th>\n",
       "      <th>Age</th>\n",
       "      <th>Gender</th>\n",
       "      <th>Country</th>\n",
       "      <th>state</th>\n",
       "      <th>self_employed</th>\n",
       "      <th>family_history</th>\n",
       "      <th>treatment</th>\n",
       "      <th>work_interfere</th>\n",
       "      <th>no_employees</th>\n",
       "      <th>...</th>\n",
       "      <th>leave</th>\n",
       "      <th>mental_health_consequence</th>\n",
       "      <th>phys_health_consequence</th>\n",
       "      <th>coworkers</th>\n",
       "      <th>supervisor</th>\n",
       "      <th>mental_health_interview</th>\n",
       "      <th>phys_health_interview</th>\n",
       "      <th>mental_vs_physical</th>\n",
       "      <th>obs_consequence</th>\n",
       "      <th>comments</th>\n",
       "    </tr>\n",
       "  </thead>\n",
       "  <tbody>\n",
       "    <tr>\n",
       "      <th>13</th>\n",
       "      <td>2014-08-27 11:33:26</td>\n",
       "      <td>36</td>\n",
       "      <td>Male</td>\n",
       "      <td>United States</td>\n",
       "      <td>CT</td>\n",
       "      <td>NaN</td>\n",
       "      <td>Yes</td>\n",
       "      <td>No</td>\n",
       "      <td>Never</td>\n",
       "      <td>500-1000</td>\n",
       "      <td>...</td>\n",
       "      <td>Don't know</td>\n",
       "      <td>No</td>\n",
       "      <td>No</td>\n",
       "      <td>Yes</td>\n",
       "      <td>Yes</td>\n",
       "      <td>No</td>\n",
       "      <td>No</td>\n",
       "      <td>Don't know</td>\n",
       "      <td>No</td>\n",
       "      <td>I'm not on my company's health insurance which...</td>\n",
       "    </tr>\n",
       "    <tr>\n",
       "      <th>15</th>\n",
       "      <td>2014-08-27 11:34:00</td>\n",
       "      <td>29</td>\n",
       "      <td>female</td>\n",
       "      <td>United States</td>\n",
       "      <td>IL</td>\n",
       "      <td>NaN</td>\n",
       "      <td>Yes</td>\n",
       "      <td>Yes</td>\n",
       "      <td>Rarely</td>\n",
       "      <td>26-100</td>\n",
       "      <td>...</td>\n",
       "      <td>Somewhat easy</td>\n",
       "      <td>No</td>\n",
       "      <td>No</td>\n",
       "      <td>Yes</td>\n",
       "      <td>Some of them</td>\n",
       "      <td>Maybe</td>\n",
       "      <td>Maybe</td>\n",
       "      <td>Don't know</td>\n",
       "      <td>No</td>\n",
       "      <td>I have chronic low-level neurological issues t...</td>\n",
       "    </tr>\n",
       "    <tr>\n",
       "      <th>16</th>\n",
       "      <td>2014-08-27 11:34:20</td>\n",
       "      <td>23</td>\n",
       "      <td>Male</td>\n",
       "      <td>United Kingdom</td>\n",
       "      <td>NaN</td>\n",
       "      <td>NaN</td>\n",
       "      <td>No</td>\n",
       "      <td>Yes</td>\n",
       "      <td>Sometimes</td>\n",
       "      <td>26-100</td>\n",
       "      <td>...</td>\n",
       "      <td>Very easy</td>\n",
       "      <td>Maybe</td>\n",
       "      <td>No</td>\n",
       "      <td>Some of them</td>\n",
       "      <td>No</td>\n",
       "      <td>Maybe</td>\n",
       "      <td>Maybe</td>\n",
       "      <td>No</td>\n",
       "      <td>No</td>\n",
       "      <td>My company does provide healthcare but not to ...</td>\n",
       "    </tr>\n",
       "  </tbody>\n",
       "</table>\n",
       "<p>3 rows × 27 columns</p>\n",
       "</div>"
      ],
      "text/plain": [
       "              Timestamp  Age  Gender         Country state self_employed  \\\n",
       "13  2014-08-27 11:33:26   36    Male   United States    CT           NaN   \n",
       "15  2014-08-27 11:34:00   29  female   United States    IL           NaN   \n",
       "16  2014-08-27 11:34:20   23    Male  United Kingdom   NaN           NaN   \n",
       "\n",
       "   family_history treatment work_interfere no_employees  ...          leave  \\\n",
       "13            Yes        No          Never     500-1000  ...     Don't know   \n",
       "15            Yes       Yes         Rarely       26-100  ...  Somewhat easy   \n",
       "16             No       Yes      Sometimes       26-100  ...      Very easy   \n",
       "\n",
       "   mental_health_consequence phys_health_consequence     coworkers  \\\n",
       "13                        No                      No           Yes   \n",
       "15                        No                      No           Yes   \n",
       "16                     Maybe                      No  Some of them   \n",
       "\n",
       "      supervisor mental_health_interview phys_health_interview  \\\n",
       "13           Yes                      No                    No   \n",
       "15  Some of them                   Maybe                 Maybe   \n",
       "16            No                   Maybe                 Maybe   \n",
       "\n",
       "   mental_vs_physical obs_consequence  \\\n",
       "13         Don't know              No   \n",
       "15         Don't know              No   \n",
       "16                 No              No   \n",
       "\n",
       "                                             comments  \n",
       "13  I'm not on my company's health insurance which...  \n",
       "15  I have chronic low-level neurological issues t...  \n",
       "16  My company does provide healthcare but not to ...  \n",
       "\n",
       "[3 rows x 27 columns]"
      ]
     },
     "execution_count": 10,
     "metadata": {},
     "output_type": "execute_result"
    }
   ],
   "source": [
    "df_raw.loc[(df_raw[\"self_employed\"].isna()) & df_raw[\"comments\"].notna()]"
   ]
  },
  {
   "cell_type": "code",
   "execution_count": 11,
   "id": "4cb9cb75",
   "metadata": {},
   "outputs": [
    {
     "data": {
      "text/plain": [
       "\"I'm not on my company's health insurance which could be part of the reason I answered Don't know to so many questions.\""
      ]
     },
     "execution_count": 11,
     "metadata": {},
     "output_type": "execute_result"
    }
   ],
   "source": [
    "df_raw.loc[13,\"comments\"]"
   ]
  },
  {
   "cell_type": "code",
   "execution_count": 12,
   "id": "9a1a5388",
   "metadata": {},
   "outputs": [
    {
     "data": {
      "text/plain": [
       "'I have chronic low-level neurological issues that have mental health side effects. One of my supervisors has also experienced similar neurological problems so I feel more comfortable being open about my issues than I would with someone without that experience. '"
      ]
     },
     "execution_count": 12,
     "metadata": {},
     "output_type": "execute_result"
    }
   ],
   "source": [
    "df_raw.loc[15,\"comments\"]"
   ]
  },
  {
   "cell_type": "code",
   "execution_count": 13,
   "id": "62cbb6c0",
   "metadata": {},
   "outputs": [
    {
     "data": {
      "text/plain": [
       "\"My company does provide healthcare but not to me as I'm on a fixed-term contract. The mental healthcare I use is provided entirely outside of my work.\""
      ]
     },
     "execution_count": 13,
     "metadata": {},
     "output_type": "execute_result"
    }
   ],
   "source": [
    "df_raw.loc[16,\"comments\"]"
   ]
  },
  {
   "cell_type": "code",
   "execution_count": 14,
   "id": "33423b31",
   "metadata": {},
   "outputs": [
    {
     "data": {
      "text/plain": [
       "Timestamp                                                  2014-08-27 11:33:26\n",
       "Age                                                                         36\n",
       "Gender                                                                    Male\n",
       "Country                                                          United States\n",
       "state                                                                       CT\n",
       "self_employed                                                              NaN\n",
       "family_history                                                             Yes\n",
       "treatment                                                                   No\n",
       "work_interfere                                                           Never\n",
       "no_employees                                                          500-1000\n",
       "remote_work                                                                 No\n",
       "tech_company                                                               Yes\n",
       "benefits                                                            Don't know\n",
       "care_options                                                          Not sure\n",
       "wellness_program                                                            No\n",
       "seek_help                                                           Don't know\n",
       "anonymity                                                           Don't know\n",
       "leave                                                               Don't know\n",
       "mental_health_consequence                                                   No\n",
       "phys_health_consequence                                                     No\n",
       "coworkers                                                                  Yes\n",
       "supervisor                                                                 Yes\n",
       "mental_health_interview                                                     No\n",
       "phys_health_interview                                                       No\n",
       "mental_vs_physical                                                  Don't know\n",
       "obs_consequence                                                             No\n",
       "comments                     I'm not on my company's health insurance which...\n",
       "Name: 13, dtype: object"
      ]
     },
     "execution_count": 14,
     "metadata": {},
     "output_type": "execute_result"
    }
   ],
   "source": [
    "df_raw.iloc[13]"
   ]
  },
  {
   "cell_type": "markdown",
   "id": "83fa3967",
   "metadata": {},
   "source": [
    "Somit wird deutlich, das die Personen 13,15,16 nicht selbstständig sind.\n",
    "\n",
    "Das wird im Cleaning behoben."
   ]
  },
  {
   "cell_type": "markdown",
   "id": "322d679a",
   "metadata": {},
   "source": [
    "### 1.2.3 Comments"
   ]
  },
  {
   "cell_type": "code",
   "execution_count": 15,
   "id": "3832ce8c",
   "metadata": {},
   "outputs": [],
   "source": [
    "df_comments = df_raw.loc[df_raw[\"comments\"].notna()]"
   ]
  },
  {
   "cell_type": "code",
   "execution_count": 16,
   "id": "a7c200e8",
   "metadata": {},
   "outputs": [
    {
     "data": {
      "text/plain": [
       "\"My company does provide healthcare but not to me as I'm on a fixed-term contract. The mental healthcare I use is provided entirely outside of my work.\""
      ]
     },
     "execution_count": 16,
     "metadata": {},
     "output_type": "execute_result"
    }
   ],
   "source": [
    "df_raw.loc[16, \"comments\"]"
   ]
  },
  {
   "cell_type": "markdown",
   "id": "9ee3ec79",
   "metadata": {},
   "source": [
    "Was machen wir mit Comments??????"
   ]
  },
  {
   "cell_type": "markdown",
   "id": "5b570bad",
   "metadata": {},
   "source": [
    "### 1.2.4 work interfere"
   ]
  },
  {
   "cell_type": "code",
   "execution_count": 17,
   "id": "79a8f01f",
   "metadata": {},
   "outputs": [
    {
     "data": {
      "text/plain": [
       "264"
      ]
     },
     "execution_count": 17,
     "metadata": {},
     "output_type": "execute_result"
    }
   ],
   "source": [
    "df_raw.work_interfere.isna().sum()"
   ]
  },
  {
   "cell_type": "code",
   "execution_count": 18,
   "id": "9acb7eca",
   "metadata": {},
   "outputs": [
    {
     "data": {
      "text/plain": [
       "work_interfere\n",
       "Sometimes    465\n",
       "Never        213\n",
       "Rarely       173\n",
       "Often        144\n",
       "Name: count, dtype: int64"
      ]
     },
     "execution_count": 18,
     "metadata": {},
     "output_type": "execute_result"
    }
   ],
   "source": [
    "df_raw.work_interfere.value_counts()"
   ]
  },
  {
   "cell_type": "markdown",
   "id": "ae29513a",
   "metadata": {},
   "source": [
    "These: Die Variable treatment ((((interkorreliert)))) mit work interfere. Aus treatment kann man die Bedeutung von NaN bei work interfere hergeleitet werden. \n",
    "\n",
    "Grund: \n",
    "\n",
    "- Treatment = Haben Sie sich wegen einer psychischen Erkrankung in Behandlung begeben?\n",
    "- work interfere = **Wenn Sie an einer psychischen Erkrankung leiden**, haben Sie das Gefühl, dass diese Ihre Arbeit beeinträchtigt?\n",
    "\n",
    "Vorgehen: \n",
    "\n",
    "- Datensatz erstellen mit Bedingungen treatment = No & work interfere = NaN\n",
    "- These überprüfen\n",
    "- Bei Bestätigung &rarr; Erschaffung neuer Variable mental health condition   "
   ]
  },
  {
   "cell_type": "code",
   "execution_count": 19,
   "id": "2cd220ee",
   "metadata": {},
   "outputs": [
    {
     "data": {
      "text/plain": [
       "treatment\n",
       "Yes    637\n",
       "No     622\n",
       "Name: count, dtype: int64"
      ]
     },
     "execution_count": 19,
     "metadata": {},
     "output_type": "execute_result"
    }
   ],
   "source": [
    "df_raw.treatment.value_counts()"
   ]
  },
  {
   "cell_type": "code",
   "execution_count": 20,
   "id": "7ce9478b",
   "metadata": {},
   "outputs": [],
   "source": [
    "df_124 = df_raw.copy()\n",
    "df_124 = df_124.loc[(df_raw[\"treatment\"]==\"No\") & (df_raw[\"work_interfere\"].isna())]"
   ]
  },
  {
   "cell_type": "code",
   "execution_count": 21,
   "id": "9922b678",
   "metadata": {},
   "outputs": [
    {
     "name": "stdout",
     "output_type": "stream",
     "text": [
      "260 vs. 264\n"
     ]
    }
   ],
   "source": [
    "print( f'{df_124.shape[0]} vs. {df_raw.work_interfere.isna().sum()}')"
   ]
  },
  {
   "cell_type": "markdown",
   "id": "a08eea75",
   "metadata": {},
   "source": [
    "Die Anzahlen sind fast gleich.\n",
    "Bedeutung nach These: \n",
    "\n",
    "**260** Personen haben keine Hilfe gesucht und können work_interfere nicht beantworten. <br>\n",
    "Der Unterschied **4** haben sich Hilfe gesucht auf Grund mentaler Probleme, haben aber work_interfere nicht beantwortet. \n"
   ]
  },
  {
   "cell_type": "markdown",
   "id": "582ed637",
   "metadata": {},
   "source": [
    "Der Unterschied der Anzahl um 4 verwirft die These nicht, da die Personen mentale Probleme aufweisen.\n",
    "\n",
    "Die These wird angenommen und eine neue Variable wird erschafft.<br>\n",
    "\n",
    "Vorteile:\n",
    "- Bessere Darstellung\n",
    "- Mehr Informationen\n",
    "- Eignung als abhängige Variable\n"
   ]
  },
  {
   "cell_type": "markdown",
   "id": "4a15a5b2",
   "metadata": {},
   "source": [
    "## 1.3 Duplikate"
   ]
  },
  {
   "cell_type": "code",
   "execution_count": 22,
   "id": "67bbd5b5",
   "metadata": {},
   "outputs": [
    {
     "data": {
      "text/plain": [
       "0"
      ]
     },
     "execution_count": 22,
     "metadata": {},
     "output_type": "execute_result"
    }
   ],
   "source": [
    "df_raw.duplicated().sum()"
   ]
  },
  {
   "cell_type": "markdown",
   "id": "ddb6f0a9",
   "metadata": {},
   "source": [
    "Keine Duplikate. Dementsprechend keine Berücksichtigung. "
   ]
  },
  {
   "cell_type": "markdown",
   "id": "647fbc3e",
   "metadata": {},
   "source": [
    "## 1.4 Datentypen/Weitere Probleme"
   ]
  },
  {
   "cell_type": "code",
   "execution_count": 23,
   "id": "18006907",
   "metadata": {},
   "outputs": [
    {
     "data": {
      "text/plain": [
       "Timestamp                    object\n",
       "Age                           int64\n",
       "Gender                       object\n",
       "Country                      object\n",
       "state                        object\n",
       "self_employed                object\n",
       "family_history               object\n",
       "treatment                    object\n",
       "work_interfere               object\n",
       "no_employees                 object\n",
       "remote_work                  object\n",
       "tech_company                 object\n",
       "benefits                     object\n",
       "care_options                 object\n",
       "wellness_program             object\n",
       "seek_help                    object\n",
       "anonymity                    object\n",
       "leave                        object\n",
       "mental_health_consequence    object\n",
       "phys_health_consequence      object\n",
       "coworkers                    object\n",
       "supervisor                   object\n",
       "mental_health_interview      object\n",
       "phys_health_interview        object\n",
       "mental_vs_physical           object\n",
       "obs_consequence              object\n",
       "comments                     object\n",
       "dtype: object"
      ]
     },
     "execution_count": 23,
     "metadata": {},
     "output_type": "execute_result"
    }
   ],
   "source": [
    "df_raw.dtypes"
   ]
  },
  {
   "cell_type": "code",
   "execution_count": 24,
   "id": "75306692",
   "metadata": {},
   "outputs": [
    {
     "data": {
      "text/html": [
       "<div>\n",
       "<style scoped>\n",
       "    .dataframe tbody tr th:only-of-type {\n",
       "        vertical-align: middle;\n",
       "    }\n",
       "\n",
       "    .dataframe tbody tr th {\n",
       "        vertical-align: top;\n",
       "    }\n",
       "\n",
       "    .dataframe thead th {\n",
       "        text-align: right;\n",
       "    }\n",
       "</style>\n",
       "<table border=\"1\" class=\"dataframe\">\n",
       "  <thead>\n",
       "    <tr style=\"text-align: right;\">\n",
       "      <th></th>\n",
       "      <th>Timestamp</th>\n",
       "      <th>Age</th>\n",
       "      <th>Gender</th>\n",
       "      <th>Country</th>\n",
       "      <th>state</th>\n",
       "      <th>self_employed</th>\n",
       "      <th>family_history</th>\n",
       "      <th>treatment</th>\n",
       "      <th>work_interfere</th>\n",
       "      <th>no_employees</th>\n",
       "      <th>...</th>\n",
       "      <th>leave</th>\n",
       "      <th>mental_health_consequence</th>\n",
       "      <th>phys_health_consequence</th>\n",
       "      <th>coworkers</th>\n",
       "      <th>supervisor</th>\n",
       "      <th>mental_health_interview</th>\n",
       "      <th>phys_health_interview</th>\n",
       "      <th>mental_vs_physical</th>\n",
       "      <th>obs_consequence</th>\n",
       "      <th>comments</th>\n",
       "    </tr>\n",
       "  </thead>\n",
       "  <tbody>\n",
       "    <tr>\n",
       "      <th>0</th>\n",
       "      <td>2014-08-27 11:29:31</td>\n",
       "      <td>37</td>\n",
       "      <td>Female</td>\n",
       "      <td>United States</td>\n",
       "      <td>IL</td>\n",
       "      <td>NaN</td>\n",
       "      <td>No</td>\n",
       "      <td>Yes</td>\n",
       "      <td>Often</td>\n",
       "      <td>6-25</td>\n",
       "      <td>...</td>\n",
       "      <td>Somewhat easy</td>\n",
       "      <td>No</td>\n",
       "      <td>No</td>\n",
       "      <td>Some of them</td>\n",
       "      <td>Yes</td>\n",
       "      <td>No</td>\n",
       "      <td>Maybe</td>\n",
       "      <td>Yes</td>\n",
       "      <td>No</td>\n",
       "      <td>NaN</td>\n",
       "    </tr>\n",
       "    <tr>\n",
       "      <th>1</th>\n",
       "      <td>2014-08-27 11:29:37</td>\n",
       "      <td>44</td>\n",
       "      <td>M</td>\n",
       "      <td>United States</td>\n",
       "      <td>IN</td>\n",
       "      <td>NaN</td>\n",
       "      <td>No</td>\n",
       "      <td>No</td>\n",
       "      <td>Rarely</td>\n",
       "      <td>More than 1000</td>\n",
       "      <td>...</td>\n",
       "      <td>Don't know</td>\n",
       "      <td>Maybe</td>\n",
       "      <td>No</td>\n",
       "      <td>No</td>\n",
       "      <td>No</td>\n",
       "      <td>No</td>\n",
       "      <td>No</td>\n",
       "      <td>Don't know</td>\n",
       "      <td>No</td>\n",
       "      <td>NaN</td>\n",
       "    </tr>\n",
       "    <tr>\n",
       "      <th>2</th>\n",
       "      <td>2014-08-27 11:29:44</td>\n",
       "      <td>32</td>\n",
       "      <td>Male</td>\n",
       "      <td>Canada</td>\n",
       "      <td>NaN</td>\n",
       "      <td>NaN</td>\n",
       "      <td>No</td>\n",
       "      <td>No</td>\n",
       "      <td>Rarely</td>\n",
       "      <td>6-25</td>\n",
       "      <td>...</td>\n",
       "      <td>Somewhat difficult</td>\n",
       "      <td>No</td>\n",
       "      <td>No</td>\n",
       "      <td>Yes</td>\n",
       "      <td>Yes</td>\n",
       "      <td>Yes</td>\n",
       "      <td>Yes</td>\n",
       "      <td>No</td>\n",
       "      <td>No</td>\n",
       "      <td>NaN</td>\n",
       "    </tr>\n",
       "  </tbody>\n",
       "</table>\n",
       "<p>3 rows × 27 columns</p>\n",
       "</div>"
      ],
      "text/plain": [
       "             Timestamp  Age  Gender        Country state self_employed  \\\n",
       "0  2014-08-27 11:29:31   37  Female  United States    IL           NaN   \n",
       "1  2014-08-27 11:29:37   44       M  United States    IN           NaN   \n",
       "2  2014-08-27 11:29:44   32    Male         Canada   NaN           NaN   \n",
       "\n",
       "  family_history treatment work_interfere    no_employees  ...  \\\n",
       "0             No       Yes          Often            6-25  ...   \n",
       "1             No        No         Rarely  More than 1000  ...   \n",
       "2             No        No         Rarely            6-25  ...   \n",
       "\n",
       "                leave mental_health_consequence phys_health_consequence  \\\n",
       "0       Somewhat easy                        No                      No   \n",
       "1          Don't know                     Maybe                      No   \n",
       "2  Somewhat difficult                        No                      No   \n",
       "\n",
       "      coworkers supervisor mental_health_interview phys_health_interview  \\\n",
       "0  Some of them        Yes                      No                 Maybe   \n",
       "1            No         No                      No                    No   \n",
       "2           Yes        Yes                     Yes                   Yes   \n",
       "\n",
       "  mental_vs_physical obs_consequence comments  \n",
       "0                Yes              No      NaN  \n",
       "1         Don't know              No      NaN  \n",
       "2                 No              No      NaN  \n",
       "\n",
       "[3 rows x 27 columns]"
      ]
     },
     "execution_count": 24,
     "metadata": {},
     "output_type": "execute_result"
    }
   ],
   "source": [
    "df_raw.head(3)"
   ]
  },
  {
   "cell_type": "markdown",
   "id": "b969f467",
   "metadata": {},
   "source": [
    "Ableitung aus Übersicht:\n",
    "\n",
    "- Timestamp: object &rarr; datetime umwandeln\n",
    "\n",
    "Mögliche weiteren Aufgaben werden folgend durch eine Funktion ermittelt, welche angibt wie viele Ausprägungen es gibt. Insbesondere bei einer Auswahl aus vorgefertigten Antworten ist dies entscheidend."
   ]
  },
  {
   "cell_type": "code",
   "execution_count": 25,
   "id": "9ed883ad",
   "metadata": {},
   "outputs": [],
   "source": [
    "def spalten_uebersicht(df): \n",
    "    for col in df.columns:\n",
    "        count_unique = df[col].nunique(dropna = True) \n",
    "        has_na = df[col].isna().any() # Da NA auch eine Bedeutung haben siehe 1.2.4\n",
    "        answers = df[col].unique()[:8]\n",
    "        \n",
    "        if has_na: \n",
    "            print(f\"{col}: {count_unique} Antwortmöglichkeiten & NaN vorhanden\\n Ausprägungen: {answers}\\n\")\n",
    "        else: \n",
    "            print(f\"{col}: {count_unique} Antwortmöglichkeiten\\n Ausprägungen {answers}\\n\")\n",
    "\n"
   ]
  },
  {
   "cell_type": "code",
   "execution_count": 26,
   "id": "845cbfea",
   "metadata": {},
   "outputs": [
    {
     "name": "stdout",
     "output_type": "stream",
     "text": [
      "Timestamp: 1246 Antwortmöglichkeiten\n",
      " Ausprägungen ['2014-08-27 11:29:31' '2014-08-27 11:29:37' '2014-08-27 11:29:44'\n",
      " '2014-08-27 11:29:46' '2014-08-27 11:30:22' '2014-08-27 11:31:22'\n",
      " '2014-08-27 11:31:50' '2014-08-27 11:32:05']\n",
      "\n",
      "Age: 53 Antwortmöglichkeiten\n",
      " Ausprägungen [37 44 32 31 33 35 39 42]\n",
      "\n",
      "Gender: 49 Antwortmöglichkeiten\n",
      " Ausprägungen ['Female' 'M' 'Male' 'male' 'female' 'm' 'Male-ish' 'maile']\n",
      "\n",
      "Country: 48 Antwortmöglichkeiten\n",
      " Ausprägungen ['United States' 'Canada' 'United Kingdom' 'Bulgaria' 'France' 'Portugal'\n",
      " 'Netherlands' 'Switzerland']\n",
      "\n",
      "state: 45 Antwortmöglichkeiten & NaN vorhanden\n",
      " Ausprägungen: ['IL' 'IN' nan 'TX' 'TN' 'MI' 'OH' 'CA']\n",
      "\n",
      "self_employed: 2 Antwortmöglichkeiten & NaN vorhanden\n",
      " Ausprägungen: [nan 'Yes' 'No']\n",
      "\n",
      "family_history: 2 Antwortmöglichkeiten\n",
      " Ausprägungen ['No' 'Yes']\n",
      "\n",
      "treatment: 2 Antwortmöglichkeiten\n",
      " Ausprägungen ['Yes' 'No']\n",
      "\n",
      "work_interfere: 4 Antwortmöglichkeiten & NaN vorhanden\n",
      " Ausprägungen: ['Often' 'Rarely' 'Never' 'Sometimes' nan]\n",
      "\n",
      "no_employees: 6 Antwortmöglichkeiten\n",
      " Ausprägungen ['6-25' 'More than 1000' '26-100' '100-500' '1-5' '500-1000']\n",
      "\n",
      "remote_work: 2 Antwortmöglichkeiten\n",
      " Ausprägungen ['No' 'Yes']\n",
      "\n",
      "tech_company: 2 Antwortmöglichkeiten\n",
      " Ausprägungen ['Yes' 'No']\n",
      "\n",
      "benefits: 3 Antwortmöglichkeiten\n",
      " Ausprägungen ['Yes' \"Don't know\" 'No']\n",
      "\n",
      "care_options: 3 Antwortmöglichkeiten\n",
      " Ausprägungen ['Not sure' 'No' 'Yes']\n",
      "\n",
      "wellness_program: 3 Antwortmöglichkeiten\n",
      " Ausprägungen ['No' \"Don't know\" 'Yes']\n",
      "\n",
      "seek_help: 3 Antwortmöglichkeiten\n",
      " Ausprägungen ['Yes' \"Don't know\" 'No']\n",
      "\n",
      "anonymity: 3 Antwortmöglichkeiten\n",
      " Ausprägungen ['Yes' \"Don't know\" 'No']\n",
      "\n",
      "leave: 5 Antwortmöglichkeiten\n",
      " Ausprägungen ['Somewhat easy' \"Don't know\" 'Somewhat difficult' 'Very difficult'\n",
      " 'Very easy']\n",
      "\n",
      "mental_health_consequence: 3 Antwortmöglichkeiten\n",
      " Ausprägungen ['No' 'Maybe' 'Yes']\n",
      "\n",
      "phys_health_consequence: 3 Antwortmöglichkeiten\n",
      " Ausprägungen ['No' 'Yes' 'Maybe']\n",
      "\n",
      "coworkers: 3 Antwortmöglichkeiten\n",
      " Ausprägungen ['Some of them' 'No' 'Yes']\n",
      "\n",
      "supervisor: 3 Antwortmöglichkeiten\n",
      " Ausprägungen ['Yes' 'No' 'Some of them']\n",
      "\n",
      "mental_health_interview: 3 Antwortmöglichkeiten\n",
      " Ausprägungen ['No' 'Yes' 'Maybe']\n",
      "\n",
      "phys_health_interview: 3 Antwortmöglichkeiten\n",
      " Ausprägungen ['Maybe' 'No' 'Yes']\n",
      "\n",
      "mental_vs_physical: 3 Antwortmöglichkeiten\n",
      " Ausprägungen ['Yes' \"Don't know\" 'No']\n",
      "\n",
      "obs_consequence: 2 Antwortmöglichkeiten\n",
      " Ausprägungen ['No' 'Yes']\n",
      "\n",
      "comments: 160 Antwortmöglichkeiten & NaN vorhanden\n",
      " Ausprägungen: [nan\n",
      " \"I'm not on my company's health insurance which could be part of the reason I answered Don't know to so many questions.\"\n",
      " 'I have chronic low-level neurological issues that have mental health side effects. One of my supervisors has also experienced similar neurological problems so I feel more comfortable being open about my issues than I would with someone without that experience. '\n",
      " \"My company does provide healthcare but not to me as I'm on a fixed-term contract. The mental healthcare I use is provided entirely outside of my work.\"\n",
      " 'Relatively new job. Ask again later'\n",
      " 'Sometimes I think  about using drugs for my mental health issues. If i use drugs I feel better'\n",
      " 'I selected my current employer based on its policies about self care and the quality of their overall health and wellness benefits. I still have residual caution from previous employers who ranged from ambivalent to indifferent to actively hostile regarding mental health concerns.'\n",
      " \"Our health plan has covered my psychotherapy and my antidepressant medication. My manager has been aware but discreet throughout. I did get negative reviews when my depression was trashing my delivery but y'know I wasn't delivering.\"]\n",
      "\n"
     ]
    }
   ],
   "source": [
    "spalten_uebersicht(df_raw)"
   ]
  },
  {
   "cell_type": "markdown",
   "id": "9534b97b",
   "metadata": {},
   "source": [
    "Erkenntnisse: \n",
    "\n",
    "- Gender überprüfen (49 Möglichkeiten)\n",
    "- Alter auf Ausreißer überprüfen\n"
   ]
  },
  {
   "cell_type": "markdown",
   "id": "564d3fb4",
   "metadata": {},
   "source": [
    "### 1.4.1 Alter"
   ]
  },
  {
   "cell_type": "code",
   "execution_count": 27,
   "id": "bfe70f14",
   "metadata": {},
   "outputs": [
    {
     "data": {
      "text/plain": [
       "count    1.259000e+03\n",
       "mean     7.942815e+07\n",
       "std      2.818299e+09\n",
       "min     -1.726000e+03\n",
       "25%      2.700000e+01\n",
       "50%      3.100000e+01\n",
       "75%      3.600000e+01\n",
       "max      1.000000e+11\n",
       "Name: Age, dtype: float64"
      ]
     },
     "execution_count": 27,
     "metadata": {},
     "output_type": "execute_result"
    }
   ],
   "source": [
    "df_raw.Age.describe()"
   ]
  },
  {
   "cell_type": "markdown",
   "id": "ef381908",
   "metadata": {},
   "source": [
    "Es ist ersichtlich, das es negative Werte gibt, welche entfernt werden müssen im Cleaning Prozess"
   ]
  },
  {
   "cell_type": "markdown",
   "id": "42d708ba",
   "metadata": {},
   "source": [
    "### 1.4.1 Geschlecht"
   ]
  },
  {
   "cell_type": "code",
   "execution_count": 28,
   "id": "2f0e291f",
   "metadata": {},
   "outputs": [
    {
     "data": {
      "text/plain": [
       "Gender\n",
       "Male                                              615\n",
       "male                                              206\n",
       "Female                                            121\n",
       "M                                                 116\n",
       "female                                             62\n",
       "F                                                  38\n",
       "m                                                  34\n",
       "f                                                  15\n",
       "Make                                                4\n",
       "Male                                                3\n",
       "Woman                                               3\n",
       "Cis Male                                            2\n",
       "Man                                                 2\n",
       "Female (trans)                                      2\n",
       "Female                                              2\n",
       "Trans woman                                         1\n",
       "msle                                                1\n",
       "male leaning androgynous                            1\n",
       "Neuter                                              1\n",
       "cis male                                            1\n",
       "queer                                               1\n",
       "Female (cis)                                        1\n",
       "Mail                                                1\n",
       "cis-female/femme                                    1\n",
       "A little about you                                  1\n",
       "Malr                                                1\n",
       "p                                                   1\n",
       "femail                                              1\n",
       "Cis Man                                             1\n",
       "Guy (-ish) ^_^                                      1\n",
       "Enby                                                1\n",
       "Agender                                             1\n",
       "Androgyne                                           1\n",
       "Male-ish                                            1\n",
       "maile                                               1\n",
       "Trans-female                                        1\n",
       "Cis Female                                          1\n",
       "something kinda male?                               1\n",
       "Mal                                                 1\n",
       "Male (CIS)                                          1\n",
       "queer/she/they                                      1\n",
       "non-binary                                          1\n",
       "Femake                                              1\n",
       "woman                                               1\n",
       "Nah                                                 1\n",
       "All                                                 1\n",
       "fluid                                               1\n",
       "Genderqueer                                         1\n",
       "ostensibly male, unsure what that really means      1\n",
       "Name: count, dtype: int64"
      ]
     },
     "execution_count": 28,
     "metadata": {},
     "output_type": "execute_result"
    }
   ],
   "source": [
    "df_raw.Gender.value_counts()"
   ]
  },
  {
   "cell_type": "markdown",
   "id": "2bfa9fe7",
   "metadata": {},
   "source": [
    "Aufgrund der Vielzahl der Geschlechter, werden die Geschlechter unterteilt in Male, Female, Divers.\n",
    "\n",
    "Zuweisung folgender Ausprägungen zu Male/Female: \n",
    "\n",
    "- Kleinschreibung\n",
    "- m/f\n",
    "- Make\n",
    "- Male\n",
    "- Man\n",
    "- Woman\n",
    "- Female\n",
    "- femail\n",
    "- Cis (...)\n",
    "- Mail\n",
    "\n",
    "Maybe ändern!"
   ]
  },
  {
   "cell_type": "markdown",
   "id": "17d596a7",
   "metadata": {},
   "source": [
    "## 1.5. Zusammenfassung der Aufgaben des Cleanings"
   ]
  },
  {
   "cell_type": "markdown",
   "id": "167b32aa",
   "metadata": {},
   "source": [
    "|Variable|Aufgabe|\n",
    "|--------|-------|\n",
    "|state|Entfernung Variable|\n",
    "|self_employed|Berichtigung einzelner Werte|\n",
    "|work_interfere| Umwandlung NaN |\n",
    "|mental_health_condition| Erstellung Variable aus Zusammenhang treatment & work interfere|\n",
    "|timestamp|Umwandlung in datetime|\n",
    "|Age|Negative Werte entfernen|\n",
    "|Gender|Unterteilung in Male, Female, Divers|\n",
    "\n",
    "\n",
    "Alle Variablen die auf vorgegebenen Antworten beruhen (Datentyp = object), werden unterschiedlich in 2 Datensätzen nach dem Cleaning gespeichert. \n",
    "\n",
    "1. Datensatz: Beibehaltung der Werte aufgrund übersichtlicher explorative Darstellungen.\n",
    "2. Datensatz: Umwandlung der Variablen in numerische Werte um eine explanatorische Analyse zu gewährleisten und um Zusammenhänge, Prädiktionen darstellen/berechnen. (Dieses Vorgehen unterliegt Annahmen ordinaler Skalen und Likert-Skalen,....)\n"
   ]
  },
  {
   "cell_type": "markdown",
   "id": "ab1ef15a",
   "metadata": {},
   "source": [
    "# 2. Cleaning & Erstellen Datensätze für weitere Analyse"
   ]
  },
  {
   "cell_type": "markdown",
   "id": "75aaec58",
   "metadata": {},
   "source": [
    "## 2.1 Copy des ursprünglichen Datensatz"
   ]
  },
  {
   "cell_type": "code",
   "execution_count": 29,
   "id": "91d03698",
   "metadata": {},
   "outputs": [],
   "source": [
    "df = df_raw.copy()"
   ]
  },
  {
   "cell_type": "markdown",
   "id": "5d7fa888",
   "metadata": {},
   "source": [
    "## 2.2 state"
   ]
  },
  {
   "cell_type": "markdown",
   "id": "027d9b10",
   "metadata": {},
   "source": [
    "Aufgrund der Unvollständigkeit der Daten und fehlender Bedeutsamkeit für die Analyse wird die Variable entfernt."
   ]
  },
  {
   "cell_type": "code",
   "execution_count": 30,
   "id": "31f66c81",
   "metadata": {},
   "outputs": [],
   "source": [
    "df = df.drop([\"state\"], axis=1)"
   ]
  },
  {
   "cell_type": "markdown",
   "id": "21cbc042",
   "metadata": {},
   "source": [
    "Verifizierung:"
   ]
  },
  {
   "cell_type": "code",
   "execution_count": 31,
   "id": "fc6aaf59",
   "metadata": {},
   "outputs": [],
   "source": [
    "assert \"state\" not in df.columns, \"Spalte wurde nicht entfernt!\""
   ]
  },
  {
   "cell_type": "markdown",
   "id": "c6ec9041",
   "metadata": {},
   "source": [
    "## 2.3 self_employed"
   ]
  },
  {
   "cell_type": "markdown",
   "id": "23beca24",
   "metadata": {},
   "source": [
    "Durch die vorherige Analyse konnte herausgefunden werden, das die Personen in der Zeile 13, 15, 16 nicht self_employed sind. Dies wird nachfolgend geändert. "
   ]
  },
  {
   "cell_type": "code",
   "execution_count": 32,
   "id": "f79d389b",
   "metadata": {},
   "outputs": [
    {
     "data": {
      "text/plain": [
       "18"
      ]
     },
     "execution_count": 32,
     "metadata": {},
     "output_type": "execute_result"
    }
   ],
   "source": [
    "df[\"self_employed\"].isna().sum().sum()"
   ]
  },
  {
   "cell_type": "code",
   "execution_count": 33,
   "id": "00f2aa6d",
   "metadata": {},
   "outputs": [],
   "source": [
    "df.loc[13, \"self_employed\"] = \"No\"\n",
    "df.loc[15, \"self_employed\"] = \"No\"\n",
    "df.loc[16, \"self_employed\"] = \"No\""
   ]
  },
  {
   "cell_type": "code",
   "execution_count": 34,
   "id": "6c3a2723",
   "metadata": {},
   "outputs": [
    {
     "data": {
      "text/plain": [
       "15"
      ]
     },
     "execution_count": 34,
     "metadata": {},
     "output_type": "execute_result"
    }
   ],
   "source": [
    "df[\"self_employed\"].isna().sum().sum()"
   ]
  },
  {
   "cell_type": "markdown",
   "id": "63ffd6b0",
   "metadata": {},
   "source": [
    "## 2.4 work_interfere"
   ]
  },
  {
   "cell_type": "markdown",
   "id": "e59420a6",
   "metadata": {},
   "source": [
    "In diesem Abschnitt werden die NaN-Werte umgewandelt in \"Not applicable\". Da die fehlende Werte für die weiteren Analysen beweisen [vgl. 1.2.4]"
   ]
  },
  {
   "cell_type": "code",
   "execution_count": 35,
   "id": "34ec2f45",
   "metadata": {},
   "outputs": [
    {
     "data": {
      "text/plain": [
       "264"
      ]
     },
     "execution_count": 35,
     "metadata": {},
     "output_type": "execute_result"
    }
   ],
   "source": [
    "df[\"work_interfere\"].isna().sum().sum()"
   ]
  },
  {
   "cell_type": "code",
   "execution_count": 36,
   "id": "63e878f6",
   "metadata": {},
   "outputs": [
    {
     "data": {
      "text/plain": [
       "work_interfere\n",
       "Sometimes    465\n",
       "Never        213\n",
       "Rarely       173\n",
       "Often        144\n",
       "Name: count, dtype: int64"
      ]
     },
     "execution_count": 36,
     "metadata": {},
     "output_type": "execute_result"
    }
   ],
   "source": [
    "df[\"work_interfere\"].value_counts()"
   ]
  },
  {
   "cell_type": "code",
   "execution_count": 37,
   "id": "ef8ebba9",
   "metadata": {},
   "outputs": [],
   "source": [
    "df.loc[(df[\"treatment\"]==\"No\") & (df[\"work_interfere\"].isna()), \"work_interfere\"] = \"Not applicable\""
   ]
  },
  {
   "cell_type": "code",
   "execution_count": 38,
   "id": "82281cef",
   "metadata": {},
   "outputs": [
    {
     "data": {
      "text/plain": [
       "work_interfere\n",
       "Sometimes         465\n",
       "Not applicable    260\n",
       "Never             213\n",
       "Rarely            173\n",
       "Often             144\n",
       "Name: count, dtype: int64"
      ]
     },
     "execution_count": 38,
     "metadata": {},
     "output_type": "execute_result"
    }
   ],
   "source": [
    "df[\"work_interfere\"].value_counts()"
   ]
  },
  {
   "cell_type": "code",
   "execution_count": 39,
   "id": "d61fd43c",
   "metadata": {},
   "outputs": [
    {
     "data": {
      "text/plain": [
       "4"
      ]
     },
     "execution_count": 39,
     "metadata": {},
     "output_type": "execute_result"
    }
   ],
   "source": [
    "df.work_interfere.isna().sum().sum()"
   ]
  },
  {
   "cell_type": "markdown",
   "id": "a6aa372b",
   "metadata": {},
   "source": [
    "Wir verbleiben mit den 4 fehlenden Werten. Diese werden für die weitere Analyse beibehalten um die Ergebnisse der Analyse nicht zu verzerren. Diese Personen, haben sich Hilfe gesucht, wollen allerdings keine Aussage hinsichtlich der \"Beeinträchtigung der Arbeit durch mentale Proble\" (work_interfere) treffen."
   ]
  },
  {
   "cell_type": "markdown",
   "id": "66c926d0",
   "metadata": {},
   "source": [
    "## 2.5 mental_health_condition"
   ]
  },
  {
   "cell_type": "markdown",
   "id": "02be2649",
   "metadata": {},
   "source": [
    "Um das Vorgehen zur Schaffung der neuen Variable wird nachfolgend die Gedanken und Prozesse dargestellt.\n",
    "\n",
    "work_intefere: If you have a mental health condition, do you feel that it interferes with your work?\n",
    "\n",
    "- Bei Nichtbeantwortung bestehen 2 Möglichkeiten. Entweder sie haben keine mentalen Problemen oder sie wollten es nicht beantworten (Die Personen, wissen es nicht oder es ist ihnen zu privat,...)\n",
    "\n",
    "treatment: Have you sought treatment for a mental health condition?\n",
    "\n",
    "- Bei der Variable gibt es nur 2 Antwortmöglichkeiten (yes/no)\n",
    "- Allerdings sind bei der Antwort **no** auch die Personen mit einbegriffen, welche sich trotz mentaler Probleme, keine Hilfe professionelle Hilfe gesucht/erhalten haben.\n",
    "\n",
    "Im Zusammenhang bedeutet das: \n",
    "\n",
    "- Durch den vorherigen Prozess [vgl. 2.4] wurde dargestellt, welche Personen keine mentalen Probleme haben. \n",
    "- Somit erstellen wir eine neue Variable (**mental_health_condition**), welche das Vorliegen mentaler Probleme beschreibt. "
   ]
  },
  {
   "cell_type": "code",
   "execution_count": 40,
   "id": "a99abd30",
   "metadata": {},
   "outputs": [],
   "source": [
    "df[\"mental_health_condition\"] = \"Yes\"\n",
    "df.loc[df[\"work_interfere\"]==\"Not applicable\", \"mental_health_condition\"] = \"No\""
   ]
  },
  {
   "cell_type": "code",
   "execution_count": 41,
   "id": "21af06c8",
   "metadata": {},
   "outputs": [
    {
     "data": {
      "text/plain": [
       "mental_health_condition\n",
       "Yes    999\n",
       "No     260\n",
       "Name: count, dtype: int64"
      ]
     },
     "execution_count": 41,
     "metadata": {},
     "output_type": "execute_result"
    }
   ],
   "source": [
    "df[\"mental_health_condition\"].value_counts()"
   ]
  },
  {
   "cell_type": "markdown",
   "id": "997f3ea6",
   "metadata": {},
   "source": [
    "## 2.6 timestamp"
   ]
  },
  {
   "cell_type": "code",
   "execution_count": 42,
   "id": "a4a2cf9a",
   "metadata": {},
   "outputs": [],
   "source": [
    "df[\"Timestamp\"] = pd.to_datetime(arg= df[\"Timestamp\"], errors= \"coerce\")"
   ]
  },
  {
   "cell_type": "code",
   "execution_count": 43,
   "id": "353f362b",
   "metadata": {},
   "outputs": [
    {
     "data": {
      "text/plain": [
       "dtype('<M8[ns]')"
      ]
     },
     "execution_count": 43,
     "metadata": {},
     "output_type": "execute_result"
    }
   ],
   "source": [
    "df[\"Timestamp\"].dtype"
   ]
  },
  {
   "cell_type": "markdown",
   "id": "1779a8f5",
   "metadata": {},
   "source": [
    "## 2.7 Age"
   ]
  },
  {
   "cell_type": "markdown",
   "id": "ecc75707",
   "metadata": {},
   "source": [
    "Bei der Variable Alter haben sind negative Werte vorhanden die keinen Mehrwert haben. Zudem sind sie immens groß. <br> Dies wird folgend dargestellt. "
   ]
  },
  {
   "cell_type": "code",
   "execution_count": 44,
   "id": "fdd39a13",
   "metadata": {},
   "outputs": [
    {
     "data": {
      "text/plain": [
       "-1726"
      ]
     },
     "execution_count": 44,
     "metadata": {},
     "output_type": "execute_result"
    }
   ],
   "source": [
    "df[\"Age\"].min()"
   ]
  },
  {
   "cell_type": "markdown",
   "id": "1ba7a19a",
   "metadata": {},
   "source": [
    "Somit werden alle Werte kleiner 0 entfernt."
   ]
  },
  {
   "cell_type": "code",
   "execution_count": 45,
   "id": "cd762839",
   "metadata": {},
   "outputs": [],
   "source": [
    "df = df[df[\"Age\"]> 0]"
   ]
  },
  {
   "cell_type": "code",
   "execution_count": 46,
   "id": "db2b0aab",
   "metadata": {},
   "outputs": [
    {
     "data": {
      "text/plain": [
       "count    1.256000e+03\n",
       "mean     7.961787e+07\n",
       "std      2.821663e+09\n",
       "min      5.000000e+00\n",
       "25%      2.700000e+01\n",
       "50%      3.100000e+01\n",
       "75%      3.600000e+01\n",
       "max      1.000000e+11\n",
       "Name: Age, dtype: float64"
      ]
     },
     "execution_count": 46,
     "metadata": {},
     "output_type": "execute_result"
    }
   ],
   "source": [
    "df[\"Age\"].describe()"
   ]
  },
  {
   "cell_type": "markdown",
   "id": "eb5c1d6c",
   "metadata": {},
   "source": [
    "Sichtbar am Minimum und Maximum ist das es immer noch Ausreißer ohne Mehrwert gibt. <br>\n",
    "Somit werden die Grenzen auf 16-100 gesetzt um diese zu entfernen"
   ]
  },
  {
   "cell_type": "code",
   "execution_count": 47,
   "id": "941fae5a",
   "metadata": {},
   "outputs": [
    {
     "data": {
      "text/plain": [
       "count    1251.000000\n",
       "mean       32.076739\n",
       "std         7.288272\n",
       "min        18.000000\n",
       "25%        27.000000\n",
       "50%        31.000000\n",
       "75%        36.000000\n",
       "max        72.000000\n",
       "Name: Age, dtype: float64"
      ]
     },
     "execution_count": 47,
     "metadata": {},
     "output_type": "execute_result"
    }
   ],
   "source": [
    "df = df[(df[\"Age\"]>=16) & (df[\"Age\"]< 100)]\n",
    "df[\"Age\"].describe()"
   ]
  },
  {
   "cell_type": "markdown",
   "id": "fe4f0731",
   "metadata": {},
   "source": [
    "### 2.7.1 Verteilung Alter"
   ]
  },
  {
   "cell_type": "code",
   "execution_count": 48,
   "id": "23236613",
   "metadata": {},
   "outputs": [
    {
     "data": {
      "image/png": "[encoded data removed]",
      "text/plain": [
       "<Figure size 640x480 with 1 Axes>"
      ]
     },
     "metadata": {},
     "output_type": "display_data"
    }
   ],
   "source": [
    "sns.histplot(data=df, x=\"Age\", color=\"tab:blue\", bins=30)\n",
    "plt.xlabel(\"Alter (in Jahren)\")\n",
    "plt.ylabel(\"Anzahl\")\n",
    "plt.title(\"Altersverteilung\")\n",
    "plt.show();"
   ]
  },
  {
   "cell_type": "markdown",
   "id": "440621a2",
   "metadata": {},
   "source": [
    "## 2.8 Gender"
   ]
  },
  {
   "cell_type": "markdown",
   "id": "e0d34c68",
   "metadata": {},
   "source": [
    "Für analytische Zwecke wurden die ursprünglichen Angaben zu den Geschlechtern in die drei Kategorien überführt. \n",
    "\n",
    "- male \n",
    "- female \n",
    "- diverse \n",
    "\n",
    " Dabei wurden die Antworten trans, non-binary und jegliche Geschlechteridentifikationen in **diverse** zusammengefasst zu analytischen Zwecken. \n",
    " Rechtschreibfehler wurden nach eigenem Ermäßen den Geschlechtern female/male zugewiesen. Der Prozess wird beispielsweise dargestellt\n",
    " \n",
    " Bsp.:\n",
    "\n",
    " - make, msle &rarr; male\n",
    " - femake, femail &rarr; female"
   ]
  },
  {
   "cell_type": "markdown",
   "id": "0b6f0582",
   "metadata": {},
   "source": [
    "Zur Vereinfachung der Arbeit werden zuerst alle Zeichen in Kleinschreibung umgewandelt."
   ]
  },
  {
   "cell_type": "code",
   "execution_count": 49,
   "id": "4c47f6a9",
   "metadata": {},
   "outputs": [],
   "source": [
    "df[\"Gender\"] = df[\"Gender\"].str.strip().str.lower()"
   ]
  },
  {
   "cell_type": "code",
   "execution_count": 50,
   "id": "b8dcada6",
   "metadata": {},
   "outputs": [
    {
     "data": {
      "text/plain": [
       "Gender\n",
       "male                                              819\n",
       "female                                            185\n",
       "m                                                 150\n",
       "f                                                  53\n",
       "make                                                4\n",
       "woman                                               4\n",
       "cis male                                            3\n",
       "man                                                 2\n",
       "female (trans)                                      2\n",
       "msle                                                1\n",
       "guy (-ish) ^_^                                      1\n",
       "male leaning androgynous                            1\n",
       "trans woman                                         1\n",
       "queer                                               1\n",
       "neuter                                              1\n",
       "agender                                             1\n",
       "female (cis)                                        1\n",
       "mail                                                1\n",
       "malr                                                1\n",
       "femail                                              1\n",
       "cis man                                             1\n",
       "cis-female/femme                                    1\n",
       "fluid                                               1\n",
       "androgyne                                           1\n",
       "genderqueer                                         1\n",
       "enby                                                1\n",
       "nah                                                 1\n",
       "femake                                              1\n",
       "non-binary                                          1\n",
       "queer/she/they                                      1\n",
       "male (cis)                                          1\n",
       "mal                                                 1\n",
       "something kinda male?                               1\n",
       "cis female                                          1\n",
       "trans-female                                        1\n",
       "maile                                               1\n",
       "male-ish                                            1\n",
       "ostensibly male, unsure what that really means      1\n",
       "Name: count, dtype: int64"
      ]
     },
     "execution_count": 50,
     "metadata": {},
     "output_type": "execute_result"
    }
   ],
   "source": [
    "df[\"Gender\"].value_counts()"
   ]
  },
  {
   "cell_type": "code",
   "execution_count": 51,
   "id": "91bbbb34",
   "metadata": {},
   "outputs": [],
   "source": [
    "def gender_categorize(gender):\n",
    "    male_array = {\"male\", \"m\", \"make\",\"cis male\",\"man\",\"maile\",\"mal\",\"male (cis)\", \"msle\",\"mail\",\"malr\",\"cis man\"}\n",
    "    female_array = {\"female\",\"f\", \"woman\",\"femake\",\"cis female\",\"cis-female/femme\",\"femail\",\"female (cis)\"}\n",
    "    if gender in male_array:\n",
    "        return \"male\"\n",
    "    elif gender in female_array:\n",
    "        return \"female\"\n",
    "    else: \n",
    "        return \"diverse\""
   ]
  },
  {
   "cell_type": "code",
   "execution_count": 52,
   "id": "06561ad1",
   "metadata": {},
   "outputs": [],
   "source": [
    "df[\"Gender\"] = df[\"Gender\"].apply(gender_categorize)"
   ]
  },
  {
   "cell_type": "code",
   "execution_count": 53,
   "id": "08f69998",
   "metadata": {},
   "outputs": [
    {
     "data": {
      "text/plain": [
       "array(['female', 'male', 'diverse'], dtype=object)"
      ]
     },
     "execution_count": 53,
     "metadata": {},
     "output_type": "execute_result"
    }
   ],
   "source": [
    "df[\"Gender\"].unique()"
   ]
  },
  {
   "cell_type": "markdown",
   "id": "d1fe19fe",
   "metadata": {},
   "source": [
    "### 2.8.1 Geschlechtsverteilung"
   ]
  },
  {
   "cell_type": "code",
   "execution_count": 54,
   "id": "10e02f88",
   "metadata": {},
   "outputs": [
    {
     "data": {
      "application/vnd.plotly.v1+json": {
       "config": {
        "plotlyServerURL": "https://plot.ly"
       },
       "data": [
        {
         "customdata": [
          [
           985
          ],
          [
           247
          ],
          [
           19
          ]
         ],
         "domain": {
          "x": [
           0,
           1
          ],
          "y": [
           0,
           1
          ]
         },
         "hovertemplate": "Gender=%{label}<br>Anzahl=%{customdata[0]}<extra></extra>",
         "labels": [
          "male",
          "female",
          "diverse"
         ],
         "legendgroup": "",
         "name": "",
         "showlegend": true,
         "textinfo": "percent+label",
         "type": "pie",
         "values": [
          985,
          247,
          19
         ]
        }
       ],
       "layout": {
        "legend": {
         "tracegroupgap": 0
        },
        "template": {
         "data": {
          "bar": [
           {
            "error_x": {
             "color": "#2a3f5f"
            },
            "error_y": {
             "color": "#2a3f5f"
            },
            "marker": {
             "line": {
              "color": "#E5ECF6",
              "width": 0.5
             },
             "pattern": {
              "fillmode": "overlay",
              "size": 10,
              "solidity": 0.2
             }
            },
            "type": "bar"
           }
          ],
          "barpolar": [
           {
            "marker": {
             "line": {
              "color": "#E5ECF6",
              "width": 0.5
             },
             "pattern": {
              "fillmode": "overlay",
              "size": 10,
              "solidity": 0.2
             }
            },
            "type": "barpolar"
           }
          ],
          "carpet": [
           {
            "aaxis": {
             "endlinecolor": "#2a3f5f",
             "gridcolor": "white",
             "linecolor": "white",
             "minorgridcolor": "white",
             "startlinecolor": "#2a3f5f"
            },
            "baxis": {
             "endlinecolor": "#2a3f5f",
             "gridcolor": "white",
             "linecolor": "white",
             "minorgridcolor": "white",
             "startlinecolor": "#2a3f5f"
            },
            "type": "carpet"
           }
          ],
          "choropleth": [
           {
            "colorbar": {
             "outlinewidth": 0,
             "ticks": ""
            },
            "type": "choropleth"
           }
          ],
          "contour": [
           {
            "colorbar": {
             "outlinewidth": 0,
             "ticks": ""
            },
            "colorscale": [
             [
              0,
              "#0d0887"
             ],
             [
              0.1111111111111111,
              "#46039f"
             ],
             [
              0.2222222222222222,
              "#7201a8"
             ],
             [
              0.3333333333333333,
              "#9c179e"
             ],
             [
              0.4444444444444444,
              "#bd3786"
             ],
             [
              0.5555555555555556,
              "#d8576b"
             ],
             [
              0.6666666666666666,
              "#ed7953"
             ],
             [
              0.7777777777777778,
              "#fb9f3a"
             ],
             [
              0.8888888888888888,
              "#fdca26"
             ],
             [
              1,
              "#f0f921"
             ]
            ],
            "type": "contour"
           }
          ],
          "contourcarpet": [
           {
            "colorbar": {
             "outlinewidth": 0,
             "ticks": ""
            },
            "type": "contourcarpet"
           }
          ],
          "heatmap": [
           {
            "colorbar": {
             "outlinewidth": 0,
             "ticks": ""
            },
            "colorscale": [
             [
              0,
              "#0d0887"
             ],
             [
              0.1111111111111111,
              "#46039f"
             ],
             [
              0.2222222222222222,
              "#7201a8"
             ],
             [
              0.3333333333333333,
              "#9c179e"
             ],
             [
              0.4444444444444444,
              "#bd3786"
             ],
             [
              0.5555555555555556,
              "#d8576b"
             ],
             [
              0.6666666666666666,
              "#ed7953"
             ],
             [
              0.7777777777777778,
              "#fb9f3a"
             ],
             [
              0.8888888888888888,
              "#fdca26"
             ],
             [
              1,
              "#f0f921"
             ]
            ],
            "type": "heatmap"
           }
          ],
          "heatmapgl": [
           {
            "colorbar": {
             "outlinewidth": 0,
             "ticks": ""
            },
            "colorscale": [
             [
              0,
              "#0d0887"
             ],
             [
              0.1111111111111111,
              "#46039f"
             ],
             [
              0.2222222222222222,
              "#7201a8"
             ],
             [
              0.3333333333333333,
              "#9c179e"
             ],
             [
              0.4444444444444444,
              "#bd3786"
             ],
             [
              0.5555555555555556,
              "#d8576b"
             ],
             [
              0.6666666666666666,
              "#ed7953"
             ],
             [
              0.7777777777777778,
              "#fb9f3a"
             ],
             [
              0.8888888888888888,
              "#fdca26"
             ],
             [
              1,
              "#f0f921"
             ]
            ],
            "type": "heatmapgl"
           }
          ],
          "histogram": [
           {
            "marker": {
             "pattern": {
              "fillmode": "overlay",
              "size": 10,
              "solidity": 0.2
             }
            },
            "type": "histogram"
           }
          ],
          "histogram2d": [
           {
            "colorbar": {
             "outlinewidth": 0,
             "ticks": ""
            },
            "colorscale": [
             [
              0,
              "#0d0887"
             ],
             [
              0.1111111111111111,
              "#46039f"
             ],
             [
              0.2222222222222222,
              "#7201a8"
             ],
             [
              0.3333333333333333,
              "#9c179e"
             ],
             [
              0.4444444444444444,
              "#bd3786"
             ],
             [
              0.5555555555555556,
              "#d8576b"
             ],
             [
              0.6666666666666666,
              "#ed7953"
             ],
             [
              0.7777777777777778,
              "#fb9f3a"
             ],
             [
              0.8888888888888888,
              "#fdca26"
             ],
             [
              1,
              "#f0f921"
             ]
            ],
            "type": "histogram2d"
           }
          ],
          "histogram2dcontour": [
           {
            "colorbar": {
             "outlinewidth": 0,
             "ticks": ""
            },
            "colorscale": [
             [
              0,
              "#0d0887"
             ],
             [
              0.1111111111111111,
              "#46039f"
             ],
             [
              0.2222222222222222,
              "#7201a8"
             ],
             [
              0.3333333333333333,
              "#9c179e"
             ],
             [
              0.4444444444444444,
              "#bd3786"
             ],
             [
              0.5555555555555556,
              "#d8576b"
             ],
             [
              0.6666666666666666,
              "#ed7953"
             ],
             [
              0.7777777777777778,
              "#fb9f3a"
             ],
             [
              0.8888888888888888,
              "#fdca26"
             ],
             [
              1,
              "#f0f921"
             ]
            ],
            "type": "histogram2dcontour"
           }
          ],
          "mesh3d": [
           {
            "colorbar": {
             "outlinewidth": 0,
             "ticks": ""
            },
            "type": "mesh3d"
           }
          ],
          "parcoords": [
           {
            "line": {
             "colorbar": {
              "outlinewidth": 0,
              "ticks": ""
             }
            },
            "type": "parcoords"
           }
          ],
          "pie": [
           {
            "automargin": true,
            "type": "pie"
           }
          ],
          "scatter": [
           {
            "fillpattern": {
             "fillmode": "overlay",
             "size": 10,
             "solidity": 0.2
            },
            "type": "scatter"
           }
          ],
          "scatter3d": [
           {
            "line": {
             "colorbar": {
              "outlinewidth": 0,
              "ticks": ""
             }
            },
            "marker": {
             "colorbar": {
              "outlinewidth": 0,
              "ticks": ""
             }
            },
            "type": "scatter3d"
           }
          ],
          "scattercarpet": [
           {
            "marker": {
             "colorbar": {
              "outlinewidth": 0,
              "ticks": ""
             }
            },
            "type": "scattercarpet"
           }
          ],
          "scattergeo": [
           {
            "marker": {
             "colorbar": {
              "outlinewidth": 0,
              "ticks": ""
             }
            },
            "type": "scattergeo"
           }
          ],
          "scattergl": [
           {
            "marker": {
             "colorbar": {
              "outlinewidth": 0,
              "ticks": ""
             }
            },
            "type": "scattergl"
           }
          ],
          "scattermapbox": [
           {
            "marker": {
             "colorbar": {
              "outlinewidth": 0,
              "ticks": ""
             }
            },
            "type": "scattermapbox"
           }
          ],
          "scatterpolar": [
           {
            "marker": {
             "colorbar": {
              "outlinewidth": 0,
              "ticks": ""
             }
            },
            "type": "scatterpolar"
           }
          ],
          "scatterpolargl": [
           {
            "marker": {
             "colorbar": {
              "outlinewidth": 0,
              "ticks": ""
             }
            },
            "type": "scatterpolargl"
           }
          ],
          "scatterternary": [
           {
            "marker": {
             "colorbar": {
              "outlinewidth": 0,
              "ticks": ""
             }
            },
            "type": "scatterternary"
           }
          ],
          "surface": [
           {
            "colorbar": {
             "outlinewidth": 0,
             "ticks": ""
            },
            "colorscale": [
             [
              0,
              "#0d0887"
             ],
             [
              0.1111111111111111,
              "#46039f"
             ],
             [
              0.2222222222222222,
              "#7201a8"
             ],
             [
              0.3333333333333333,
              "#9c179e"
             ],
             [
              0.4444444444444444,
              "#bd3786"
             ],
             [
              0.5555555555555556,
              "#d8576b"
             ],
             [
              0.6666666666666666,
              "#ed7953"
             ],
             [
              0.7777777777777778,
              "#fb9f3a"
             ],
             [
              0.8888888888888888,
              "#fdca26"
             ],
             [
              1,
              "#f0f921"
             ]
            ],
            "type": "surface"
           }
          ],
          "table": [
           {
            "cells": {
             "fill": {
              "color": "#EBF0F8"
             },
             "line": {
              "color": "white"
             }
            },
            "header": {
             "fill": {
              "color": "#C8D4E3"
             },
             "line": {
              "color": "white"
             }
            },
            "type": "table"
           }
          ]
         },
         "layout": {
          "annotationdefaults": {
           "arrowcolor": "#2a3f5f",
           "arrowhead": 0,
           "arrowwidth": 1
          },
          "autotypenumbers": "strict",
          "coloraxis": {
           "colorbar": {
            "outlinewidth": 0,
            "ticks": ""
           }
          },
          "colorscale": {
           "diverging": [
            [
             0,
             "#8e0152"
            ],
            [
             0.1,
             "#c51b7d"
            ],
            [
             0.2,
             "#de77ae"
            ],
            [
             0.3,
             "#f1b6da"
            ],
            [
             0.4,
             "#fde0ef"
            ],
            [
             0.5,
             "#f7f7f7"
            ],
            [
             0.6,
             "#e6f5d0"
            ],
            [
             0.7,
             "#b8e186"
            ],
            [
             0.8,
             "#7fbc41"
            ],
            [
             0.9,
             "#4d9221"
            ],
            [
             1,
             "#276419"
            ]
           ],
           "sequential": [
            [
             0,
             "#0d0887"
            ],
            [
             0.1111111111111111,
             "#46039f"
            ],
            [
             0.2222222222222222,
             "#7201a8"
            ],
            [
             0.3333333333333333,
             "#9c179e"
            ],
            [
             0.4444444444444444,
             "#bd3786"
            ],
            [
             0.5555555555555556,
             "#d8576b"
            ],
            [
             0.6666666666666666,
             "#ed7953"
            ],
            [
             0.7777777777777778,
             "#fb9f3a"
            ],
            [
             0.8888888888888888,
             "#fdca26"
            ],
            [
             1,
             "#f0f921"
            ]
           ],
           "sequentialminus": [
            [
             0,
             "#0d0887"
            ],
            [
             0.1111111111111111,
             "#46039f"
            ],
            [
             0.2222222222222222,
             "#7201a8"
            ],
            [
             0.3333333333333333,
             "#9c179e"
            ],
            [
             0.4444444444444444,
             "#bd3786"
            ],
            [
             0.5555555555555556,
             "#d8576b"
            ],
            [
             0.6666666666666666,
             "#ed7953"
            ],
            [
             0.7777777777777778,
             "#fb9f3a"
            ],
            [
             0.8888888888888888,
             "#fdca26"
            ],
            [
             1,
             "#f0f921"
            ]
           ]
          },
          "colorway": [
           "#636efa",
           "#EF553B",
           "#00cc96",
           "#ab63fa",
           "#FFA15A",
           "#19d3f3",
           "#FF6692",
           "#B6E880",
           "#FF97FF",
           "#FECB52"
          ],
          "font": {
           "color": "#2a3f5f"
          },
          "geo": {
           "bgcolor": "white",
           "lakecolor": "white",
           "landcolor": "#E5ECF6",
           "showlakes": true,
           "showland": true,
           "subunitcolor": "white"
          },
          "hoverlabel": {
           "align": "left"
          },
          "hovermode": "closest",
          "mapbox": {
           "style": "light"
          },
          "paper_bgcolor": "white",
          "plot_bgcolor": "#E5ECF6",
          "polar": {
           "angularaxis": {
            "gridcolor": "white",
            "linecolor": "white",
            "ticks": ""
           },
           "bgcolor": "#E5ECF6",
           "radialaxis": {
            "gridcolor": "white",
            "linecolor": "white",
            "ticks": ""
           }
          },
          "scene": {
           "xaxis": {
            "backgroundcolor": "#E5ECF6",
            "gridcolor": "white",
            "gridwidth": 2,
            "linecolor": "white",
            "showbackground": true,
            "ticks": "",
            "zerolinecolor": "white"
           },
           "yaxis": {
            "backgroundcolor": "#E5ECF6",
            "gridcolor": "white",
            "gridwidth": 2,
            "linecolor": "white",
            "showbackground": true,
            "ticks": "",
            "zerolinecolor": "white"
           },
           "zaxis": {
            "backgroundcolor": "#E5ECF6",
            "gridcolor": "white",
            "gridwidth": 2,
            "linecolor": "white",
            "showbackground": true,
            "ticks": "",
            "zerolinecolor": "white"
           }
          },
          "shapedefaults": {
           "line": {
            "color": "#2a3f5f"
           }
          },
          "ternary": {
           "aaxis": {
            "gridcolor": "white",
            "linecolor": "white",
            "ticks": ""
           },
           "baxis": {
            "gridcolor": "white",
            "linecolor": "white",
            "ticks": ""
           },
           "bgcolor": "#E5ECF6",
           "caxis": {
            "gridcolor": "white",
            "linecolor": "white",
            "ticks": ""
           }
          },
          "title": {
           "x": 0.05
          },
          "xaxis": {
           "automargin": true,
           "gridcolor": "white",
           "linecolor": "white",
           "ticks": "",
           "title": {
            "standoff": 15
           },
           "zerolinecolor": "white",
           "zerolinewidth": 2
          },
          "yaxis": {
           "automargin": true,
           "gridcolor": "white",
           "linecolor": "white",
           "ticks": "",
           "title": {
            "standoff": 15
           },
           "zerolinecolor": "white",
           "zerolinewidth": 2
          }
         }
        },
        "title": {
         "text": "Geschlechterverteilung"
        }
       }
      }
     },
     "metadata": {},
     "output_type": "display_data"
    }
   ],
   "source": [
    "gender_count = df[\"Gender\"].value_counts().reset_index()\n",
    "gender_count.columns = [\"Gender\", \"Count\"]\n",
    "\n",
    "px.pie(gender_count, values=\"Count\", names=\"Gender\", \n",
    "       title=\"Geschlechterverteilung\", \n",
    "       hover_data=[\"Count\"], \n",
    "       labels={\"Count\": \"Anzahl\"}).update_traces(textinfo=\"percent+label\")\n"
   ]
  },
  {
   "cell_type": "markdown",
   "id": "7609406b",
   "metadata": {},
   "source": [
    "# 3. Erstellen der Datensätze"
   ]
  },
  {
   "cell_type": "markdown",
   "id": "ef26dc71",
   "metadata": {},
   "source": [
    "Nachfolgend werden die Datensätze für die jeweiligen Analysen erstellt. \n",
    "\n",
    "- Datensatz für die deskriptive Analyse\n",
    "- Datensatz für die explorative Analyse "
   ]
  },
  {
   "cell_type": "code",
   "execution_count": 55,
   "id": "e8941dca",
   "metadata": {},
   "outputs": [],
   "source": [
    "df_cl = df.copy()"
   ]
  },
  {
   "cell_type": "markdown",
   "id": "174956f6",
   "metadata": {},
   "source": [
    "Für die explorative Analyse werden bestimmte Werte in Boolsche Wertepaare (0,1) oder in Form von anderen Zahlenreihen umgewandelt. Hierbei basiert es auf die Annahmen der Likert Skala (Überarbeiten/Nachlesen!!!! KOmm du hund\"!!!!!)\n"
   ]
  },
  {
   "cell_type": "code",
   "execution_count": 56,
   "id": "723ef15b",
   "metadata": {},
   "outputs": [
    {
     "name": "stdout",
     "output_type": "stream",
     "text": [
      "Timestamp: 1239 Antwortmöglichkeiten\n",
      " Ausprägungen <DatetimeArray>\n",
      "['2014-08-27 11:29:31', '2014-08-27 11:29:37', '2014-08-27 11:29:44',\n",
      " '2014-08-27 11:29:46', '2014-08-27 11:30:22', '2014-08-27 11:31:22',\n",
      " '2014-08-27 11:31:50', '2014-08-27 11:32:05']\n",
      "Length: 8, dtype: datetime64[ns]\n",
      "\n",
      "Age: 45 Antwortmöglichkeiten\n",
      " Ausprägungen [37 44 32 31 33 35 39 42]\n",
      "\n",
      "Gender: 3 Antwortmöglichkeiten\n",
      " Ausprägungen ['female' 'male' 'diverse']\n",
      "\n",
      "Country: 46 Antwortmöglichkeiten\n",
      " Ausprägungen ['United States' 'Canada' 'United Kingdom' 'Bulgaria' 'France' 'Portugal'\n",
      " 'Netherlands' 'Switzerland']\n",
      "\n",
      "self_employed: 2 Antwortmöglichkeiten & NaN vorhanden\n",
      " Ausprägungen: [nan 'No' 'Yes']\n",
      "\n",
      "family_history: 2 Antwortmöglichkeiten\n",
      " Ausprägungen ['No' 'Yes']\n",
      "\n",
      "treatment: 2 Antwortmöglichkeiten\n",
      " Ausprägungen ['Yes' 'No']\n",
      "\n",
      "work_interfere: 5 Antwortmöglichkeiten & NaN vorhanden\n",
      " Ausprägungen: ['Often' 'Rarely' 'Never' 'Sometimes' 'Not applicable' nan]\n",
      "\n",
      "no_employees: 6 Antwortmöglichkeiten\n",
      " Ausprägungen ['6-25' 'More than 1000' '26-100' '100-500' '1-5' '500-1000']\n",
      "\n",
      "remote_work: 2 Antwortmöglichkeiten\n",
      " Ausprägungen ['No' 'Yes']\n",
      "\n",
      "tech_company: 2 Antwortmöglichkeiten\n",
      " Ausprägungen ['Yes' 'No']\n",
      "\n",
      "benefits: 3 Antwortmöglichkeiten\n",
      " Ausprägungen ['Yes' \"Don't know\" 'No']\n",
      "\n",
      "care_options: 3 Antwortmöglichkeiten\n",
      " Ausprägungen ['Not sure' 'No' 'Yes']\n",
      "\n",
      "wellness_program: 3 Antwortmöglichkeiten\n",
      " Ausprägungen ['No' \"Don't know\" 'Yes']\n",
      "\n",
      "seek_help: 3 Antwortmöglichkeiten\n",
      " Ausprägungen ['Yes' \"Don't know\" 'No']\n",
      "\n",
      "anonymity: 3 Antwortmöglichkeiten\n",
      " Ausprägungen ['Yes' \"Don't know\" 'No']\n",
      "\n",
      "leave: 5 Antwortmöglichkeiten\n",
      " Ausprägungen ['Somewhat easy' \"Don't know\" 'Somewhat difficult' 'Very difficult'\n",
      " 'Very easy']\n",
      "\n",
      "mental_health_consequence: 3 Antwortmöglichkeiten\n",
      " Ausprägungen ['No' 'Maybe' 'Yes']\n",
      "\n",
      "phys_health_consequence: 3 Antwortmöglichkeiten\n",
      " Ausprägungen ['No' 'Yes' 'Maybe']\n",
      "\n",
      "coworkers: 3 Antwortmöglichkeiten\n",
      " Ausprägungen ['Some of them' 'No' 'Yes']\n",
      "\n",
      "supervisor: 3 Antwortmöglichkeiten\n",
      " Ausprägungen ['Yes' 'No' 'Some of them']\n",
      "\n",
      "mental_health_interview: 3 Antwortmöglichkeiten\n",
      " Ausprägungen ['No' 'Yes' 'Maybe']\n",
      "\n",
      "phys_health_interview: 3 Antwortmöglichkeiten\n",
      " Ausprägungen ['Maybe' 'No' 'Yes']\n",
      "\n",
      "mental_vs_physical: 3 Antwortmöglichkeiten\n",
      " Ausprägungen ['Yes' \"Don't know\" 'No']\n",
      "\n",
      "obs_consequence: 2 Antwortmöglichkeiten\n",
      " Ausprägungen ['No' 'Yes']\n",
      "\n",
      "comments: 157 Antwortmöglichkeiten & NaN vorhanden\n",
      " Ausprägungen: [nan\n",
      " \"I'm not on my company's health insurance which could be part of the reason I answered Don't know to so many questions.\"\n",
      " 'I have chronic low-level neurological issues that have mental health side effects. One of my supervisors has also experienced similar neurological problems so I feel more comfortable being open about my issues than I would with someone without that experience. '\n",
      " \"My company does provide healthcare but not to me as I'm on a fixed-term contract. The mental healthcare I use is provided entirely outside of my work.\"\n",
      " 'Relatively new job. Ask again later'\n",
      " 'Sometimes I think  about using drugs for my mental health issues. If i use drugs I feel better'\n",
      " 'I selected my current employer based on its policies about self care and the quality of their overall health and wellness benefits. I still have residual caution from previous employers who ranged from ambivalent to indifferent to actively hostile regarding mental health concerns.'\n",
      " \"Our health plan has covered my psychotherapy and my antidepressant medication. My manager has been aware but discreet throughout. I did get negative reviews when my depression was trashing my delivery but y'know I wasn't delivering.\"]\n",
      "\n",
      "mental_health_condition: 2 Antwortmöglichkeiten\n",
      " Ausprägungen ['Yes' 'No']\n",
      "\n"
     ]
    }
   ],
   "source": [
    "spalten_uebersicht(df_cl)"
   ]
  },
  {
   "cell_type": "code",
   "execution_count": 57,
   "id": "37913f96",
   "metadata": {},
   "outputs": [],
   "source": [
    "df_reg = df_cl.copy()\n",
    "df_reg_1 = df_cl.copy()\n",
    "\n",
    "reg_map = {\n",
    "    \"Yes\": 2,\n",
    "    \"No\": 0,\n",
    "    \"Some of them\": 1 \n",
    "}\n",
    "\n",
    "reg_map_1 = {\n",
    "    \"Yes\": 2,\n",
    "    \"No\": 1, \n",
    "    \"Some of them\": 0\n",
    "}\n",
    "\n",
    "df_reg[\"supervisor\"] = df_reg[\"supervisor\"].map(reg_map)\n",
    "df_reg[\"coworkers\"] = df_reg[\"coworkers\"].map(reg_map)\n",
    "\n",
    "df_reg_1[\"supervisor\"] = df_reg_1[\"supervisor\"].map(reg_map_1)\n",
    "df_reg_1[\"coworkers\"] = df_reg_1[\"coworkers\"].map(reg_map_1)"
   ]
  },
  {
   "cell_type": "markdown",
   "id": "b844ab8a",
   "metadata": {},
   "source": [
    "Verify changes:"
   ]
  },
  {
   "cell_type": "code",
   "execution_count": 58,
   "id": "4f733fdd",
   "metadata": {},
   "outputs": [
    {
     "data": {
      "text/plain": [
       "array([2, 0, 1], dtype=int64)"
      ]
     },
     "execution_count": 58,
     "metadata": {},
     "output_type": "execute_result"
    }
   ],
   "source": [
    "df_reg[\"supervisor\"].unique()"
   ]
  },
  {
   "cell_type": "code",
   "execution_count": 59,
   "id": "f4d153c2",
   "metadata": {},
   "outputs": [
    {
     "data": {
      "text/plain": [
       "array([1, 0, 2], dtype=int64)"
      ]
     },
     "execution_count": 59,
     "metadata": {},
     "output_type": "execute_result"
    }
   ],
   "source": [
    "df_reg[\"coworkers\"].unique()"
   ]
  },
  {
   "cell_type": "markdown",
   "id": "1ab9061e",
   "metadata": {},
   "source": [
    "# 4 Deskriptive Analyse"
   ]
  },
  {
   "cell_type": "markdown",
   "id": "cc4b9d2d",
   "metadata": {},
   "source": [
    "## 4.1 Verteilungen der einzelnenen Variablen und Ableitung von Hypothesen"
   ]
  },
  {
   "cell_type": "markdown",
   "id": "00ea19c6",
   "metadata": {},
   "source": [
    "### 4.1.2 Alter"
   ]
  },
  {
   "cell_type": "code",
   "execution_count": 60,
   "id": "126b3134",
   "metadata": {},
   "outputs": [
    {
     "data": {
      "application/vnd.plotly.v1+json": {
       "config": {
        "plotlyServerURL": "https://plot.ly"
       },
       "data": [
        {
         "alignmentgroup": "True",
         "bingroup": "x",
         "hovertemplate": "Age=%{x}<br>count=%{y}<extra></extra>",
         "legendgroup": "",
         "marker": {
          "color": "#636efa",
          "pattern": {
           "shape": ""
          }
         },
         "name": "",
         "nbinsx": 30,
         "offsetgroup": "",
         "orientation": "v",
         "showlegend": false,
         "type": "histogram",
         "x": [
          37,
          44,
          32,
          31,
          31,
          33,
          35,
          39,
          42,
          23,
          31,
          29,
          42,
          36,
          27,
          29,
          23,
          32,
          46,
          36,
          29,
          31,
          46,
          41,
          33,
          35,
          33,
          35,
          34,
          37,
          32,
          31,
          30,
          42,
          40,
          27,
          29,
          38,
          50,
          35,
          24,
          35,
          27,
          18,
          30,
          38,
          28,
          34,
          26,
          30,
          22,
          33,
          31,
          32,
          28,
          27,
          32,
          24,
          26,
          33,
          44,
          26,
          27,
          26,
          35,
          40,
          23,
          36,
          31,
          34,
          28,
          34,
          23,
          38,
          33,
          19,
          25,
          31,
          32,
          28,
          38,
          23,
          30,
          27,
          33,
          31,
          39,
          34,
          29,
          32,
          31,
          40,
          34,
          18,
          25,
          29,
          24,
          31,
          33,
          30,
          26,
          44,
          25,
          33,
          29,
          35,
          35,
          28,
          34,
          32,
          22,
          28,
          45,
          32,
          28,
          26,
          21,
          27,
          18,
          35,
          29,
          25,
          33,
          36,
          27,
          27,
          27,
          32,
          31,
          19,
          33,
          32,
          27,
          38,
          24,
          39,
          28,
          39,
          29,
          22,
          38,
          37,
          35,
          30,
          37,
          24,
          23,
          30,
          29,
          19,
          32,
          28,
          36,
          37,
          25,
          27,
          26,
          27,
          25,
          36,
          25,
          31,
          26,
          33,
          27,
          34,
          42,
          23,
          24,
          26,
          31,
          22,
          23,
          34,
          31,
          28,
          32,
          45,
          33,
          29,
          26,
          28,
          45,
          43,
          37,
          24,
          26,
          23,
          35,
          38,
          28,
          28,
          35,
          32,
          31,
          35,
          26,
          27,
          28,
          27,
          34,
          41,
          37,
          34,
          32,
          21,
          30,
          24,
          26,
          40,
          37,
          26,
          32,
          32,
          27,
          30,
          31,
          29,
          41,
          34,
          33,
          28,
          28,
          23,
          24,
          32,
          34,
          24,
          26,
          36,
          41,
          38,
          38,
          30,
          25,
          37,
          34,
          37,
          28,
          22,
          34,
          33,
          25,
          27,
          40,
          21,
          29,
          32,
          29,
          23,
          28,
          31,
          27,
          24,
          29,
          23,
          42,
          24,
          25,
          27,
          27,
          30,
          29,
          43,
          32,
          41,
          32,
          37,
          32,
          30,
          23,
          30,
          34,
          38,
          33,
          34,
          28,
          28,
          23,
          22,
          27,
          18,
          35,
          25,
          27,
          26,
          18,
          38,
          26,
          30,
          35,
          45,
          32,
          56,
          24,
          30,
          60,
          33,
          37,
          23,
          31,
          26,
          28,
          37,
          26,
          30,
          26,
          25,
          27,
          25,
          35,
          36,
          26,
          27,
          30,
          29,
          25,
          22,
          29,
          41,
          29,
          32,
          24,
          25,
          25,
          30,
          25,
          30,
          33,
          24,
          25,
          31,
          45,
          29,
          46,
          30,
          29,
          24,
          29,
          35,
          33,
          27,
          36,
          33,
          25,
          23,
          54,
          22,
          25,
          29,
          27,
          30,
          26,
          25,
          31,
          33,
          34,
          34,
          29,
          33,
          34,
          26,
          32,
          28,
          35,
          36,
          21,
          21,
          22,
          41,
          55,
          32,
          21,
          45,
          27,
          25,
          34,
          26,
          41,
          27,
          31,
          25,
          26,
          27,
          42,
          29,
          25,
          33,
          40,
          31,
          26,
          24,
          29,
          48,
          35,
          32,
          29,
          26,
          28,
          23,
          35,
          29,
          26,
          33,
          33,
          22,
          30,
          33,
          31,
          21,
          31,
          26,
          30,
          30,
          23,
          34,
          55,
          28,
          26,
          28,
          32,
          28,
          21,
          24,
          26,
          23,
          24,
          28,
          24,
          33,
          34,
          27,
          28,
          26,
          20,
          23,
          29,
          26,
          36,
          41,
          33,
          23,
          39,
          34,
          26,
          24,
          37,
          43,
          40,
          30,
          34,
          27,
          36,
          27,
          35,
          32,
          37,
          29,
          33,
          28,
          26,
          27,
          38,
          57,
          28,
          26,
          42,
          31,
          58,
          29,
          39,
          34,
          57,
          27,
          23,
          18,
          30,
          23,
          43,
          18,
          29,
          48,
          43,
          28,
          30,
          26,
          33,
          31,
          30,
          27,
          24,
          25,
          23,
          36,
          25,
          54,
          34,
          38,
          40,
          32,
          25,
          35,
          46,
          42,
          32,
          47,
          22,
          33,
          25,
          29,
          39,
          38,
          43,
          46,
          38,
          33,
          34,
          62,
          23,
          35,
          25,
          36,
          41,
          24,
          51,
          29,
          31,
          27,
          31,
          27,
          23,
          21,
          27,
          39,
          26,
          27,
          22,
          26,
          31,
          32,
          28,
          28,
          23,
          30,
          36,
          21,
          30,
          25,
          32,
          29,
          21,
          27,
          32,
          34,
          33,
          22,
          24,
          65,
          27,
          33,
          36,
          40,
          28,
          39,
          32,
          31,
          38,
          23,
          42,
          27,
          26,
          50,
          37,
          23,
          33,
          29,
          34,
          41,
          50,
          29,
          35,
          27,
          40,
          27,
          29,
          31,
          43,
          34,
          29,
          19,
          41,
          29,
          23,
          24,
          31,
          43,
          31,
          29,
          35,
          33,
          30,
          27,
          32,
          50,
          24,
          27,
          27,
          32,
          42,
          37,
          30,
          29,
          30,
          35,
          35,
          38,
          22,
          24,
          22,
          31,
          23,
          31,
          28,
          37,
          34,
          32,
          28,
          24,
          56,
          31,
          34,
          35,
          28,
          36,
          30,
          35,
          49,
          36,
          35,
          29,
          57,
          31,
          37,
          25,
          30,
          26,
          22,
          39,
          29,
          54,
          34,
          32,
          25,
          29,
          32,
          30,
          31,
          20,
          27,
          32,
          26,
          30,
          30,
          22,
          24,
          26,
          43,
          26,
          23,
          26,
          26,
          35,
          28,
          22,
          29,
          29,
          45,
          33,
          38,
          19,
          29,
          21,
          23,
          33,
          49,
          28,
          27,
          23,
          29,
          30,
          28,
          32,
          32,
          37,
          39,
          31,
          29,
          30,
          33,
          37,
          23,
          43,
          32,
          26,
          32,
          37,
          29,
          34,
          27,
          30,
          29,
          32,
          25,
          37,
          29,
          27,
          33,
          30,
          29,
          25,
          33,
          31,
          21,
          30,
          29,
          43,
          37,
          24,
          29,
          31,
          33,
          43,
          33,
          27,
          36,
          37,
          32,
          39,
          31,
          36,
          30,
          28,
          32,
          35,
          19,
          33,
          42,
          37,
          40,
          36,
          29,
          38,
          26,
          34,
          21,
          31,
          37,
          37,
          38,
          27,
          39,
          33,
          27,
          36,
          28,
          39,
          33,
          32,
          28,
          37,
          39,
          43,
          32,
          27,
          31,
          43,
          33,
          34,
          33,
          25,
          25,
          32,
          25,
          37,
          39,
          29,
          33,
          37,
          35,
          22,
          38,
          32,
          28,
          27,
          35,
          29,
          23,
          39,
          30,
          32,
          28,
          40,
          36,
          27,
          41,
          29,
          29,
          35,
          28,
          36,
          39,
          39,
          44,
          26,
          35,
          40,
          35,
          38,
          34,
          43,
          48,
          20,
          40,
          29,
          35,
          29,
          40,
          29,
          29,
          34,
          44,
          24,
          47,
          43,
          36,
          43,
          36,
          31,
          35,
          33,
          37,
          34,
          36,
          40,
          40,
          42,
          23,
          21,
          26,
          31,
          25,
          51,
          24,
          33,
          32,
          32,
          26,
          23,
          33,
          46,
          34,
          35,
          39,
          32,
          43,
          56,
          32,
          41,
          39,
          37,
          30,
          31,
          29,
          23,
          31,
          29,
          30,
          37,
          36,
          35,
          41,
          31,
          38,
          26,
          39,
          42,
          32,
          29,
          30,
          40,
          51,
          33,
          34,
          50,
          24,
          25,
          43,
          25,
          24,
          51,
          49,
          30,
          25,
          36,
          48,
          48,
          53,
          24,
          33,
          25,
          30,
          30,
          34,
          31,
          22,
          28,
          35,
          28,
          42,
          33,
          29,
          43,
          29,
          25,
          31,
          35,
          34,
          43,
          38,
          26,
          38,
          42,
          33,
          32,
          44,
          28,
          40,
          31,
          32,
          28,
          39,
          45,
          43,
          35,
          40,
          34,
          24,
          61,
          36,
          38,
          33,
          30,
          34,
          26,
          33,
          32,
          25,
          35,
          24,
          55,
          33,
          26,
          25,
          45,
          33,
          43,
          30,
          40,
          49,
          29,
          26,
          38,
          27,
          26,
          28,
          40,
          37,
          34,
          28,
          27,
          29,
          39,
          28,
          23,
          38,
          19,
          30,
          28,
          20,
          35,
          39,
          31,
          32,
          27,
          25,
          42,
          34,
          26,
          35,
          34,
          38,
          34,
          39,
          44,
          40,
          33,
          24,
          38,
          31,
          23,
          26,
          46,
          30,
          25,
          19,
          30,
          32,
          32,
          37,
          42,
          25,
          19,
          40,
          34,
          26,
          31,
          40,
          31,
          36,
          35,
          26,
          44,
          34,
          35,
          28,
          33,
          40,
          26,
          29,
          26,
          33,
          28,
          41,
          39,
          26,
          23,
          35,
          36,
          42,
          39,
          27,
          33,
          31,
          28,
          29,
          27,
          44,
          25,
          24,
          25,
          34,
          26,
          48,
          34,
          39,
          43,
          41,
          25,
          31,
          40,
          43,
          27,
          37,
          32,
          25,
          29,
          30,
          34,
          32,
          37,
          41,
          38,
          32,
          28,
          43,
          32,
          25,
          37,
          36,
          24,
          40,
          29,
          43,
          29,
          26,
          33,
          35,
          45,
          25,
          50,
          26,
          33,
          30,
          33,
          29,
          37,
          25,
          40,
          24,
          40,
          46,
          38,
          34,
          32,
          44,
          33,
          45,
          35,
          26,
          20,
          37,
          28,
          42,
          32,
          36,
          27,
          27,
          27,
          25,
          41,
          23,
          21,
          26,
          29,
          28,
          27,
          23,
          26,
          38,
          39,
          35,
          32,
          32,
          26,
          38,
          34,
          39,
          32,
          37,
          31,
          30,
          51,
          29,
          31,
          31,
          26,
          46,
          32,
          29,
          34,
          26,
          32,
          29,
          30,
          40,
          23,
          20,
          38,
          26,
          29,
          40,
          25,
          32,
          38,
          72,
          35,
          28,
          27,
          56,
          38,
          31,
          40,
          44,
          34,
          37,
          38,
          27,
          34,
          35,
          34,
          32,
          25,
          28,
          28,
          31,
          24,
          34,
          32,
          34,
          23,
          33,
          29,
          24,
          45,
          34,
          31,
          33,
          28,
          27,
          42,
          28,
          38,
          46,
          46,
          41,
          23,
          24,
          23,
          39,
          32,
          25,
          39,
          23,
          24,
          25,
          23,
          24,
          23,
          60,
          28,
          28,
          30,
          31,
          31,
          28,
          43,
          32,
          22,
          32,
          36,
          41,
          30,
          30,
          36,
          29,
          36,
          26,
          32,
          34,
          46,
          25
         ],
         "xaxis": "x",
         "yaxis": "y"
        }
       ],
       "layout": {
        "barmode": "relative",
        "legend": {
         "tracegroupgap": 0
        },
        "template": {
         "data": {
          "bar": [
           {
            "error_x": {
             "color": "#2a3f5f"
            },
            "error_y": {
             "color": "#2a3f5f"
            },
            "marker": {
             "line": {
              "color": "#E5ECF6",
              "width": 0.5
             },
             "pattern": {
              "fillmode": "overlay",
              "size": 10,
              "solidity": 0.2
             }
            },
            "type": "bar"
           }
          ],
          "barpolar": [
           {
            "marker": {
             "line": {
              "color": "#E5ECF6",
              "width": 0.5
             },
             "pattern": {
              "fillmode": "overlay",
              "size": 10,
              "solidity": 0.2
             }
            },
            "type": "barpolar"
           }
          ],
          "carpet": [
           {
            "aaxis": {
             "endlinecolor": "#2a3f5f",
             "gridcolor": "white",
             "linecolor": "white",
             "minorgridcolor": "white",
             "startlinecolor": "#2a3f5f"
            },
            "baxis": {
             "endlinecolor": "#2a3f5f",
             "gridcolor": "white",
             "linecolor": "white",
             "minorgridcolor": "white",
             "startlinecolor": "#2a3f5f"
            },
            "type": "carpet"
           }
          ],
          "choropleth": [
           {
            "colorbar": {
             "outlinewidth": 0,
             "ticks": ""
            },
            "type": "choropleth"
           }
          ],
          "contour": [
           {
            "colorbar": {
             "outlinewidth": 0,
             "ticks": ""
            },
            "colorscale": [
             [
              0,
              "#0d0887"
             ],
             [
              0.1111111111111111,
              "#46039f"
             ],
             [
              0.2222222222222222,
              "#7201a8"
             ],
             [
              0.3333333333333333,
              "#9c179e"
             ],
             [
              0.4444444444444444,
              "#bd3786"
             ],
             [
              0.5555555555555556,
              "#d8576b"
             ],
             [
              0.6666666666666666,
              "#ed7953"
             ],
             [
              0.7777777777777778,
              "#fb9f3a"
             ],
             [
              0.8888888888888888,
              "#fdca26"
             ],
             [
              1,
              "#f0f921"
             ]
            ],
            "type": "contour"
           }
          ],
          "contourcarpet": [
           {
            "colorbar": {
             "outlinewidth": 0,
             "ticks": ""
            },
            "type": "contourcarpet"
           }
          ],
          "heatmap": [
           {
            "colorbar": {
             "outlinewidth": 0,
             "ticks": ""
            },
            "colorscale": [
             [
              0,
              "#0d0887"
             ],
             [
              0.1111111111111111,
              "#46039f"
             ],
             [
              0.2222222222222222,
              "#7201a8"
             ],
             [
              0.3333333333333333,
              "#9c179e"
             ],
             [
              0.4444444444444444,
              "#bd3786"
             ],
             [
              0.5555555555555556,
              "#d8576b"
             ],
             [
              0.6666666666666666,
              "#ed7953"
             ],
             [
              0.7777777777777778,
              "#fb9f3a"
             ],
             [
              0.8888888888888888,
              "#fdca26"
             ],
             [
              1,
              "#f0f921"
             ]
            ],
            "type": "heatmap"
           }
          ],
          "heatmapgl": [
           {
            "colorbar": {
             "outlinewidth": 0,
             "ticks": ""
            },
            "colorscale": [
             [
              0,
              "#0d0887"
             ],
             [
              0.1111111111111111,
              "#46039f"
             ],
             [
              0.2222222222222222,
              "#7201a8"
             ],
             [
              0.3333333333333333,
              "#9c179e"
             ],
             [
              0.4444444444444444,
              "#bd3786"
             ],
             [
              0.5555555555555556,
              "#d8576b"
             ],
             [
              0.6666666666666666,
              "#ed7953"
             ],
             [
              0.7777777777777778,
              "#fb9f3a"
             ],
             [
              0.8888888888888888,
              "#fdca26"
             ],
             [
              1,
              "#f0f921"
             ]
            ],
            "type": "heatmapgl"
           }
          ],
          "histogram": [
           {
            "marker": {
             "pattern": {
              "fillmode": "overlay",
              "size": 10,
              "solidity": 0.2
             }
            },
            "type": "histogram"
           }
          ],
          "histogram2d": [
           {
            "colorbar": {
             "outlinewidth": 0,
             "ticks": ""
            },
            "colorscale": [
             [
              0,
              "#0d0887"
             ],
             [
              0.1111111111111111,
              "#46039f"
             ],
             [
              0.2222222222222222,
              "#7201a8"
             ],
             [
              0.3333333333333333,
              "#9c179e"
             ],
             [
              0.4444444444444444,
              "#bd3786"
             ],
             [
              0.5555555555555556,
              "#d8576b"
             ],
             [
              0.6666666666666666,
              "#ed7953"
             ],
             [
              0.7777777777777778,
              "#fb9f3a"
             ],
             [
              0.8888888888888888,
              "#fdca26"
             ],
             [
              1,
              "#f0f921"
             ]
            ],
            "type": "histogram2d"
           }
          ],
          "histogram2dcontour": [
           {
            "colorbar": {
             "outlinewidth": 0,
             "ticks": ""
            },
            "colorscale": [
             [
              0,
              "#0d0887"
             ],
             [
              0.1111111111111111,
              "#46039f"
             ],
             [
              0.2222222222222222,
              "#7201a8"
             ],
             [
              0.3333333333333333,
              "#9c179e"
             ],
             [
              0.4444444444444444,
              "#bd3786"
             ],
             [
              0.5555555555555556,
              "#d8576b"
             ],
             [
              0.6666666666666666,
              "#ed7953"
             ],
             [
              0.7777777777777778,
              "#fb9f3a"
             ],
             [
              0.8888888888888888,
              "#fdca26"
             ],
             [
              1,
              "#f0f921"
             ]
            ],
            "type": "histogram2dcontour"
           }
          ],
          "mesh3d": [
           {
            "colorbar": {
             "outlinewidth": 0,
             "ticks": ""
            },
            "type": "mesh3d"
           }
          ],
          "parcoords": [
           {
            "line": {
             "colorbar": {
              "outlinewidth": 0,
              "ticks": ""
             }
            },
            "type": "parcoords"
           }
          ],
          "pie": [
           {
            "automargin": true,
            "type": "pie"
           }
          ],
          "scatter": [
           {
            "fillpattern": {
             "fillmode": "overlay",
             "size": 10,
             "solidity": 0.2
            },
            "type": "scatter"
           }
          ],
          "scatter3d": [
           {
            "line": {
             "colorbar": {
              "outlinewidth": 0,
              "ticks": ""
             }
            },
            "marker": {
             "colorbar": {
              "outlinewidth": 0,
              "ticks": ""
             }
            },
            "type": "scatter3d"
           }
          ],
          "scattercarpet": [
           {
            "marker": {
             "colorbar": {
              "outlinewidth": 0,
              "ticks": ""
             }
            },
            "type": "scattercarpet"
           }
          ],
          "scattergeo": [
           {
            "marker": {
             "colorbar": {
              "outlinewidth": 0,
              "ticks": ""
             }
            },
            "type": "scattergeo"
           }
          ],
          "scattergl": [
           {
            "marker": {
             "colorbar": {
              "outlinewidth": 0,
              "ticks": ""
             }
            },
            "type": "scattergl"
           }
          ],
          "scattermapbox": [
           {
            "marker": {
             "colorbar": {
              "outlinewidth": 0,
              "ticks": ""
             }
            },
            "type": "scattermapbox"
           }
          ],
          "scatterpolar": [
           {
            "marker": {
             "colorbar": {
              "outlinewidth": 0,
              "ticks": ""
             }
            },
            "type": "scatterpolar"
           }
          ],
          "scatterpolargl": [
           {
            "marker": {
             "colorbar": {
              "outlinewidth": 0,
              "ticks": ""
             }
            },
            "type": "scatterpolargl"
           }
          ],
          "scatterternary": [
           {
            "marker": {
             "colorbar": {
              "outlinewidth": 0,
              "ticks": ""
             }
            },
            "type": "scatterternary"
           }
          ],
          "surface": [
           {
            "colorbar": {
             "outlinewidth": 0,
             "ticks": ""
            },
            "colorscale": [
             [
              0,
              "#0d0887"
             ],
             [
              0.1111111111111111,
              "#46039f"
             ],
             [
              0.2222222222222222,
              "#7201a8"
             ],
             [
              0.3333333333333333,
              "#9c179e"
             ],
             [
              0.4444444444444444,
              "#bd3786"
             ],
             [
              0.5555555555555556,
              "#d8576b"
             ],
             [
              0.6666666666666666,
              "#ed7953"
             ],
             [
              0.7777777777777778,
              "#fb9f3a"
             ],
             [
              0.8888888888888888,
              "#fdca26"
             ],
             [
              1,
              "#f0f921"
             ]
            ],
            "type": "surface"
           }
          ],
          "table": [
           {
            "cells": {
             "fill": {
              "color": "#EBF0F8"
             },
             "line": {
              "color": "white"
             }
            },
            "header": {
             "fill": {
              "color": "#C8D4E3"
             },
             "line": {
              "color": "white"
             }
            },
            "type": "table"
           }
          ]
         },
         "layout": {
          "annotationdefaults": {
           "arrowcolor": "#2a3f5f",
           "arrowhead": 0,
           "arrowwidth": 1
          },
          "autotypenumbers": "strict",
          "coloraxis": {
           "colorbar": {
            "outlinewidth": 0,
            "ticks": ""
           }
          },
          "colorscale": {
           "diverging": [
            [
             0,
             "#8e0152"
            ],
            [
             0.1,
             "#c51b7d"
            ],
            [
             0.2,
             "#de77ae"
            ],
            [
             0.3,
             "#f1b6da"
            ],
            [
             0.4,
             "#fde0ef"
            ],
            [
             0.5,
             "#f7f7f7"
            ],
            [
             0.6,
             "#e6f5d0"
            ],
            [
             0.7,
             "#b8e186"
            ],
            [
             0.8,
             "#7fbc41"
            ],
            [
             0.9,
             "#4d9221"
            ],
            [
             1,
             "#276419"
            ]
           ],
           "sequential": [
            [
             0,
             "#0d0887"
            ],
            [
             0.1111111111111111,
             "#46039f"
            ],
            [
             0.2222222222222222,
             "#7201a8"
            ],
            [
             0.3333333333333333,
             "#9c179e"
            ],
            [
             0.4444444444444444,
             "#bd3786"
            ],
            [
             0.5555555555555556,
             "#d8576b"
            ],
            [
             0.6666666666666666,
             "#ed7953"
            ],
            [
             0.7777777777777778,
             "#fb9f3a"
            ],
            [
             0.8888888888888888,
             "#fdca26"
            ],
            [
             1,
             "#f0f921"
            ]
           ],
           "sequentialminus": [
            [
             0,
             "#0d0887"
            ],
            [
             0.1111111111111111,
             "#46039f"
            ],
            [
             0.2222222222222222,
             "#7201a8"
            ],
            [
             0.3333333333333333,
             "#9c179e"
            ],
            [
             0.4444444444444444,
             "#bd3786"
            ],
            [
             0.5555555555555556,
             "#d8576b"
            ],
            [
             0.6666666666666666,
             "#ed7953"
            ],
            [
             0.7777777777777778,
             "#fb9f3a"
            ],
            [
             0.8888888888888888,
             "#fdca26"
            ],
            [
             1,
             "#f0f921"
            ]
           ]
          },
          "colorway": [
           "#636efa",
           "#EF553B",
           "#00cc96",
           "#ab63fa",
           "#FFA15A",
           "#19d3f3",
           "#FF6692",
           "#B6E880",
           "#FF97FF",
           "#FECB52"
          ],
          "font": {
           "color": "#2a3f5f"
          },
          "geo": {
           "bgcolor": "white",
           "lakecolor": "white",
           "landcolor": "#E5ECF6",
           "showlakes": true,
           "showland": true,
           "subunitcolor": "white"
          },
          "hoverlabel": {
           "align": "left"
          },
          "hovermode": "closest",
          "mapbox": {
           "style": "light"
          },
          "paper_bgcolor": "white",
          "plot_bgcolor": "#E5ECF6",
          "polar": {
           "angularaxis": {
            "gridcolor": "white",
            "linecolor": "white",
            "ticks": ""
           },
           "bgcolor": "#E5ECF6",
           "radialaxis": {
            "gridcolor": "white",
            "linecolor": "white",
            "ticks": ""
           }
          },
          "scene": {
           "xaxis": {
            "backgroundcolor": "#E5ECF6",
            "gridcolor": "white",
            "gridwidth": 2,
            "linecolor": "white",
            "showbackground": true,
            "ticks": "",
            "zerolinecolor": "white"
           },
           "yaxis": {
            "backgroundcolor": "#E5ECF6",
            "gridcolor": "white",
            "gridwidth": 2,
            "linecolor": "white",
            "showbackground": true,
            "ticks": "",
            "zerolinecolor": "white"
           },
           "zaxis": {
            "backgroundcolor": "#E5ECF6",
            "gridcolor": "white",
            "gridwidth": 2,
            "linecolor": "white",
            "showbackground": true,
            "ticks": "",
            "zerolinecolor": "white"
           }
          },
          "shapedefaults": {
           "line": {
            "color": "#2a3f5f"
           }
          },
          "ternary": {
           "aaxis": {
            "gridcolor": "white",
            "linecolor": "white",
            "ticks": ""
           },
           "baxis": {
            "gridcolor": "white",
            "linecolor": "white",
            "ticks": ""
           },
           "bgcolor": "#E5ECF6",
           "caxis": {
            "gridcolor": "white",
            "linecolor": "white",
            "ticks": ""
           }
          },
          "title": {
           "x": 0.05
          },
          "xaxis": {
           "automargin": true,
           "gridcolor": "white",
           "linecolor": "white",
           "ticks": "",
           "title": {
            "standoff": 15
           },
           "zerolinecolor": "white",
           "zerolinewidth": 2
          },
          "yaxis": {
           "automargin": true,
           "gridcolor": "white",
           "linecolor": "white",
           "ticks": "",
           "title": {
            "standoff": 15
           },
           "zerolinecolor": "white",
           "zerolinewidth": 2
          }
         }
        },
        "title": {
         "text": "Allgemeine Verteilung des Alters"
        },
        "xaxis": {
         "anchor": "y",
         "domain": [
          0,
          1
         ],
         "title": {
          "text": "Age"
         }
        },
        "yaxis": {
         "anchor": "x",
         "domain": [
          0,
          1
         ],
         "title": {
          "text": "count"
         }
        }
       }
      }
     },
     "metadata": {},
     "output_type": "display_data"
    }
   ],
   "source": [
    "fig = px.histogram(df_cl, x = \"Age\", nbins=30, title=\"Allgemeine Verteilung des Alters\")\n",
    "\n",
    "fig.show()"
   ]
  },
  {
   "cell_type": "markdown",
   "id": "b6aae289",
   "metadata": {},
   "source": [
    "Es ist eine linkssteile,rechtsschiefe und bimodale Verteilung. Der Großteil aller Umfrageteilnehmer sind 25-35 Jahre alt."
   ]
  },
  {
   "cell_type": "markdown",
   "id": "3c203579",
   "metadata": {},
   "source": [
    "Alter\n",
    "\n",
    "- Mann vs Frau vs divers (boxplot)\n",
    "- country durchschnittsalter\n",
    "- supervisor & coworkers\n",
    "- mental health condition\n"
   ]
  },
  {
   "cell_type": "markdown",
   "id": "4e11bf0c",
   "metadata": {},
   "source": [
    "#### 4.1.2.1 Verteilung des Alters hinsichtlich Geschlecht"
   ]
  },
  {
   "cell_type": "code",
   "execution_count": 61,
   "id": "21208868",
   "metadata": {},
   "outputs": [
    {
     "data": {
      "application/vnd.plotly.v1+json": {
       "config": {
        "plotlyServerURL": "https://plot.ly"
       },
       "data": [
        {
         "alignmentgroup": "True",
         "boxpoints": "all",
         "hovertemplate": "Gender=female<br>Age=%{y}<extra></extra>",
         "legendgroup": "female",
         "marker": {
          "color": "#636efa"
         },
         "name": "female",
         "notched": false,
         "offsetgroup": "female",
         "orientation": "v",
         "showlegend": true,
         "type": "box",
         "x0": " ",
         "xaxis": "x",
         "y": [
          37,
          35,
          42,
          42,
          29,
          35,
          40,
          38,
          26,
          23,
          31,
          27,
          34,
          29,
          25,
          26,
          44,
          29,
          30,
          29,
          25,
          33,
          27,
          23,
          34,
          32,
          45,
          26,
          28,
          35,
          38,
          32,
          35,
          27,
          34,
          40,
          32,
          32,
          27,
          29,
          34,
          37,
          28,
          29,
          23,
          27,
          37,
          23,
          26,
          38,
          26,
          24,
          30,
          23,
          31,
          28,
          37,
          22,
          24,
          30,
          29,
          33,
          25,
          25,
          33,
          22,
          32,
          21,
          27,
          25,
          34,
          26,
          27,
          25,
          33,
          40,
          24,
          32,
          30,
          31,
          26,
          28,
          26,
          24,
          24,
          27,
          23,
          33,
          26,
          33,
          26,
          42,
          39,
          30,
          18,
          28,
          24,
          23,
          25,
          38,
          35,
          33,
          25,
          38,
          23,
          41,
          31,
          27,
          27,
          22,
          26,
          31,
          28,
          23,
          25,
          29,
          27,
          32,
          27,
          26,
          40,
          29,
          24,
          30,
          31,
          23,
          31,
          28,
          24,
          34,
          29,
          31,
          26,
          22,
          34,
          20,
          26,
          29,
          29,
          21,
          23,
          33,
          27,
          28,
          39,
          37,
          29,
          38,
          37,
          27,
          33,
          36,
          27,
          31,
          37,
          35,
          22,
          32,
          35,
          30,
          40,
          36,
          36,
          39,
          40,
          48,
          29,
          29,
          24,
          47,
          31,
          32,
          23,
          25,
          25,
          24,
          25,
          22,
          35,
          31,
          36,
          26,
          33,
          37,
          34,
          39,
          30,
          31,
          26,
          44,
          33,
          24,
          38,
          26,
          30,
          25,
          40,
          31,
          34,
          28,
          29,
          26,
          26,
          23,
          28,
          29,
          39,
          27,
          37,
          30,
          34,
          28,
          33,
          35,
          33,
          33,
          45,
          20,
          42,
          36,
          27,
          26,
          34,
          46,
          32,
          40,
          26,
          25,
          32,
          72,
          35,
          28,
          27,
          56,
          31,
          34,
          35,
          28,
          34,
          41,
          23,
          32,
          23,
          43,
          32,
          41,
          46
         ],
         "y0": " ",
         "yaxis": "y"
        },
        {
         "alignmentgroup": "True",
         "boxpoints": "all",
         "hovertemplate": "Gender=male<br>Age=%{y}<extra></extra>",
         "legendgroup": "male",
         "marker": {
          "color": "#EF553B"
         },
         "name": "male",
         "notched": false,
         "offsetgroup": "male",
         "orientation": "v",
         "showlegend": true,
         "type": "box",
         "x0": " ",
         "xaxis": "x2",
         "y": [
          44,
          32,
          31,
          31,
          33,
          39,
          23,
          31,
          29,
          36,
          27,
          23,
          32,
          46,
          36,
          29,
          31,
          46,
          41,
          33,
          35,
          33,
          34,
          37,
          32,
          31,
          30,
          42,
          27,
          29,
          38,
          50,
          35,
          24,
          35,
          27,
          18,
          30,
          28,
          34,
          26,
          30,
          22,
          33,
          31,
          32,
          28,
          32,
          24,
          26,
          33,
          44,
          27,
          26,
          35,
          40,
          36,
          34,
          28,
          34,
          38,
          33,
          19,
          25,
          31,
          32,
          28,
          38,
          23,
          30,
          33,
          31,
          39,
          32,
          31,
          40,
          34,
          29,
          24,
          31,
          33,
          30,
          25,
          33,
          29,
          35,
          35,
          28,
          34,
          32,
          22,
          28,
          45,
          32,
          28,
          26,
          21,
          27,
          18,
          35,
          29,
          25,
          33,
          36,
          27,
          27,
          27,
          32,
          31,
          19,
          33,
          32,
          27,
          38,
          24,
          39,
          28,
          39,
          22,
          38,
          37,
          35,
          37,
          24,
          23,
          30,
          19,
          32,
          28,
          36,
          37,
          25,
          27,
          26,
          27,
          25,
          36,
          31,
          26,
          34,
          42,
          23,
          24,
          26,
          31,
          22,
          31,
          28,
          33,
          29,
          45,
          43,
          37,
          24,
          26,
          23,
          28,
          28,
          35,
          31,
          26,
          27,
          28,
          41,
          37,
          34,
          32,
          21,
          30,
          24,
          26,
          37,
          26,
          30,
          31,
          41,
          33,
          28,
          28,
          23,
          24,
          32,
          34,
          24,
          26,
          36,
          41,
          38,
          38,
          30,
          25,
          37,
          34,
          22,
          34,
          33,
          25,
          27,
          40,
          21,
          29,
          32,
          23,
          28,
          31,
          27,
          24,
          29,
          42,
          24,
          25,
          27,
          30,
          29,
          43,
          32,
          41,
          32,
          32,
          30,
          30,
          34,
          38,
          33,
          34,
          28,
          28,
          23,
          22,
          27,
          18,
          35,
          25,
          27,
          18,
          30,
          35,
          45,
          32,
          56,
          60,
          33,
          37,
          26,
          26,
          26,
          25,
          27,
          25,
          35,
          36,
          26,
          27,
          30,
          29,
          25,
          29,
          41,
          29,
          32,
          25,
          25,
          25,
          30,
          33,
          24,
          25,
          31,
          45,
          29,
          46,
          30,
          24,
          29,
          35,
          27,
          36,
          33,
          23,
          54,
          22,
          29,
          27,
          30,
          26,
          31,
          33,
          34,
          34,
          29,
          34,
          26,
          32,
          28,
          35,
          36,
          21,
          21,
          41,
          55,
          45,
          41,
          27,
          31,
          25,
          26,
          42,
          31,
          26,
          29,
          48,
          35,
          29,
          26,
          28,
          23,
          35,
          29,
          26,
          33,
          33,
          22,
          33,
          21,
          30,
          23,
          34,
          55,
          28,
          26,
          28,
          32,
          21,
          24,
          23,
          28,
          33,
          34,
          28,
          26,
          20,
          29,
          26,
          36,
          41,
          23,
          39,
          34,
          24,
          37,
          43,
          30,
          34,
          27,
          36,
          27,
          35,
          32,
          37,
          29,
          28,
          27,
          38,
          57,
          28,
          26,
          31,
          58,
          29,
          34,
          57,
          27,
          23,
          18,
          23,
          43,
          29,
          48,
          43,
          30,
          26,
          33,
          31,
          30,
          27,
          25,
          36,
          54,
          34,
          40,
          32,
          25,
          46,
          42,
          32,
          47,
          22,
          29,
          39,
          38,
          43,
          46,
          33,
          34,
          62,
          35,
          25,
          36,
          24,
          51,
          29,
          27,
          31,
          23,
          21,
          39,
          26,
          27,
          32,
          30,
          36,
          21,
          30,
          32,
          34,
          33,
          22,
          24,
          65,
          27,
          33,
          36,
          40,
          28,
          39,
          32,
          31,
          38,
          23,
          42,
          50,
          37,
          23,
          33,
          29,
          34,
          41,
          50,
          29,
          35,
          27,
          27,
          31,
          43,
          34,
          29,
          19,
          41,
          29,
          23,
          31,
          43,
          31,
          29,
          35,
          33,
          27,
          32,
          50,
          24,
          27,
          27,
          32,
          42,
          37,
          30,
          29,
          30,
          35,
          35,
          38,
          22,
          24,
          22,
          34,
          28,
          56,
          31,
          35,
          28,
          36,
          30,
          35,
          49,
          36,
          35,
          57,
          37,
          25,
          30,
          39,
          29,
          54,
          32,
          25,
          29,
          32,
          30,
          31,
          27,
          32,
          26,
          30,
          30,
          22,
          24,
          26,
          43,
          26,
          23,
          26,
          35,
          28,
          22,
          29,
          45,
          33,
          38,
          49,
          28,
          23,
          29,
          30,
          32,
          32,
          37,
          31,
          29,
          30,
          33,
          37,
          23,
          43,
          32,
          26,
          32,
          29,
          34,
          27,
          30,
          29,
          32,
          25,
          37,
          29,
          27,
          33,
          30,
          29,
          25,
          33,
          31,
          21,
          30,
          29,
          43,
          37,
          24,
          29,
          31,
          33,
          43,
          33,
          27,
          36,
          37,
          32,
          39,
          31,
          36,
          30,
          28,
          32,
          35,
          19,
          33,
          42,
          37,
          40,
          36,
          26,
          34,
          21,
          31,
          37,
          38,
          39,
          27,
          28,
          39,
          33,
          32,
          28,
          37,
          39,
          43,
          43,
          33,
          34,
          33,
          25,
          25,
          32,
          25,
          37,
          39,
          29,
          33,
          38,
          28,
          27,
          29,
          23,
          39,
          32,
          27,
          41,
          29,
          29,
          35,
          28,
          39,
          44,
          35,
          35,
          38,
          34,
          43,
          20,
          40,
          35,
          29,
          40,
          29,
          34,
          44,
          43,
          36,
          43,
          36,
          35,
          33,
          37,
          34,
          36,
          40,
          40,
          42,
          23,
          21,
          26,
          31,
          25,
          51,
          24,
          33,
          32,
          32,
          26,
          23,
          33,
          46,
          34,
          35,
          39,
          32,
          43,
          56,
          41,
          39,
          37,
          30,
          31,
          29,
          31,
          29,
          30,
          37,
          36,
          35,
          41,
          31,
          38,
          26,
          39,
          42,
          32,
          29,
          30,
          40,
          51,
          33,
          34,
          50,
          24,
          25,
          43,
          24,
          51,
          49,
          30,
          36,
          48,
          48,
          53,
          33,
          30,
          30,
          34,
          31,
          28,
          35,
          28,
          42,
          33,
          29,
          43,
          29,
          25,
          31,
          34,
          43,
          38,
          26,
          38,
          42,
          33,
          32,
          44,
          28,
          40,
          32,
          28,
          39,
          45,
          43,
          35,
          40,
          34,
          24,
          61,
          38,
          33,
          30,
          34,
          26,
          33,
          32,
          25,
          35,
          24,
          55,
          33,
          25,
          45,
          43,
          30,
          40,
          49,
          29,
          26,
          38,
          27,
          26,
          28,
          40,
          28,
          27,
          29,
          28,
          23,
          38,
          19,
          28,
          20,
          35,
          39,
          32,
          27,
          25,
          42,
          34,
          35,
          34,
          38,
          34,
          39,
          40,
          31,
          23,
          30,
          25,
          19,
          32,
          32,
          37,
          42,
          19,
          34,
          26,
          31,
          40,
          36,
          35,
          26,
          44,
          35,
          33,
          40,
          26,
          33,
          28,
          41,
          39,
          35,
          36,
          42,
          39,
          27,
          33,
          31,
          27,
          44,
          25,
          24,
          25,
          34,
          26,
          48,
          34,
          43,
          41,
          25,
          31,
          40,
          43,
          32,
          25,
          29,
          32,
          37,
          41,
          38,
          32,
          43,
          32,
          25,
          37,
          36,
          24,
          40,
          29,
          43,
          29,
          26,
          45,
          25,
          50,
          26,
          30,
          33,
          29,
          37,
          25,
          40,
          24,
          40,
          46,
          38,
          34,
          32,
          44,
          35,
          26,
          37,
          28,
          32,
          27,
          27,
          27,
          25,
          41,
          23,
          21,
          26,
          29,
          28,
          23,
          38,
          39,
          35,
          32,
          32,
          26,
          38,
          39,
          32,
          37,
          31,
          30,
          51,
          29,
          31,
          31,
          26,
          32,
          29,
          34,
          26,
          29,
          30,
          23,
          20,
          38,
          29,
          40,
          38,
          38,
          40,
          44,
          34,
          37,
          38,
          27,
          34,
          32,
          25,
          28,
          31,
          24,
          34,
          32,
          34,
          23,
          33,
          29,
          24,
          45,
          31,
          33,
          28,
          27,
          42,
          28,
          38,
          46,
          46,
          23,
          24,
          39,
          25,
          39,
          24,
          25,
          23,
          23,
          60,
          28,
          28,
          30,
          31,
          31,
          28,
          22,
          32,
          36,
          30,
          30,
          36,
          29,
          36,
          26,
          32,
          34,
          25
         ],
         "y0": " ",
         "yaxis": "y2"
        },
        {
         "alignmentgroup": "True",
         "boxpoints": "all",
         "hovertemplate": "Gender=diverse<br>Age=%{y}<extra></extra>",
         "legendgroup": "diverse",
         "marker": {
          "color": "#00cc96"
         },
         "name": "diverse",
         "notched": false,
         "offsetgroup": "diverse",
         "orientation": "v",
         "showlegend": true,
         "type": "box",
         "x0": " ",
         "xaxis": "x3",
         "y": [
          27,
          23,
          18,
          30,
          25,
          29,
          31,
          30,
          40,
          28,
          21,
          37,
          32,
          19,
          32,
          28,
          26,
          46,
          24
         ],
         "y0": " ",
         "yaxis": "y3"
        }
       ],
       "layout": {
        "annotations": [
         {
          "font": {},
          "showarrow": false,
          "text": "Gender=female",
          "x": 0.15999999999999998,
          "xanchor": "center",
          "xref": "paper",
          "y": 1,
          "yanchor": "bottom",
          "yref": "paper"
         },
         {
          "font": {},
          "showarrow": false,
          "text": "Gender=male",
          "x": 0.49999999999999994,
          "xanchor": "center",
          "xref": "paper",
          "y": 1,
          "yanchor": "bottom",
          "yref": "paper"
         },
         {
          "font": {},
          "showarrow": false,
          "text": "Gender=diverse",
          "x": 0.8399999999999999,
          "xanchor": "center",
          "xref": "paper",
          "y": 1,
          "yanchor": "bottom",
          "yref": "paper"
         }
        ],
        "boxmode": "overlay",
        "legend": {
         "title": {
          "text": "Gender"
         },
         "tracegroupgap": 0
        },
        "template": {
         "data": {
          "bar": [
           {
            "error_x": {
             "color": "#2a3f5f"
            },
            "error_y": {
             "color": "#2a3f5f"
            },
            "marker": {
             "line": {
              "color": "#E5ECF6",
              "width": 0.5
             },
             "pattern": {
              "fillmode": "overlay",
              "size": 10,
              "solidity": 0.2
             }
            },
            "type": "bar"
           }
          ],
          "barpolar": [
           {
            "marker": {
             "line": {
              "color": "#E5ECF6",
              "width": 0.5
             },
             "pattern": {
              "fillmode": "overlay",
              "size": 10,
              "solidity": 0.2
             }
            },
            "type": "barpolar"
           }
          ],
          "carpet": [
           {
            "aaxis": {
             "endlinecolor": "#2a3f5f",
             "gridcolor": "white",
             "linecolor": "white",
             "minorgridcolor": "white",
             "startlinecolor": "#2a3f5f"
            },
            "baxis": {
             "endlinecolor": "#2a3f5f",
             "gridcolor": "white",
             "linecolor": "white",
             "minorgridcolor": "white",
             "startlinecolor": "#2a3f5f"
            },
            "type": "carpet"
           }
          ],
          "choropleth": [
           {
            "colorbar": {
             "outlinewidth": 0,
             "ticks": ""
            },
            "type": "choropleth"
           }
          ],
          "contour": [
           {
            "colorbar": {
             "outlinewidth": 0,
             "ticks": ""
            },
            "colorscale": [
             [
              0,
              "#0d0887"
             ],
             [
              0.1111111111111111,
              "#46039f"
             ],
             [
              0.2222222222222222,
              "#7201a8"
             ],
             [
              0.3333333333333333,
              "#9c179e"
             ],
             [
              0.4444444444444444,
              "#bd3786"
             ],
             [
              0.5555555555555556,
              "#d8576b"
             ],
             [
              0.6666666666666666,
              "#ed7953"
             ],
             [
              0.7777777777777778,
              "#fb9f3a"
             ],
             [
              0.8888888888888888,
              "#fdca26"
             ],
             [
              1,
              "#f0f921"
             ]
            ],
            "type": "contour"
           }
          ],
          "contourcarpet": [
           {
            "colorbar": {
             "outlinewidth": 0,
             "ticks": ""
            },
            "type": "contourcarpet"
           }
          ],
          "heatmap": [
           {
            "colorbar": {
             "outlinewidth": 0,
             "ticks": ""
            },
            "colorscale": [
             [
              0,
              "#0d0887"
             ],
             [
              0.1111111111111111,
              "#46039f"
             ],
             [
              0.2222222222222222,
              "#7201a8"
             ],
             [
              0.3333333333333333,
              "#9c179e"
             ],
             [
              0.4444444444444444,
              "#bd3786"
             ],
             [
              0.5555555555555556,
              "#d8576b"
             ],
             [
              0.6666666666666666,
              "#ed7953"
             ],
             [
              0.7777777777777778,
              "#fb9f3a"
             ],
             [
              0.8888888888888888,
              "#fdca26"
             ],
             [
              1,
              "#f0f921"
             ]
            ],
            "type": "heatmap"
           }
          ],
          "heatmapgl": [
           {
            "colorbar": {
             "outlinewidth": 0,
             "ticks": ""
            },
            "colorscale": [
             [
              0,
              "#0d0887"
             ],
             [
              0.1111111111111111,
              "#46039f"
             ],
             [
              0.2222222222222222,
              "#7201a8"
             ],
             [
              0.3333333333333333,
              "#9c179e"
             ],
             [
              0.4444444444444444,
              "#bd3786"
             ],
             [
              0.5555555555555556,
              "#d8576b"
             ],
             [
              0.6666666666666666,
              "#ed7953"
             ],
             [
              0.7777777777777778,
              "#fb9f3a"
             ],
             [
              0.8888888888888888,
              "#fdca26"
             ],
             [
              1,
              "#f0f921"
             ]
            ],
            "type": "heatmapgl"
           }
          ],
          "histogram": [
           {
            "marker": {
             "pattern": {
              "fillmode": "overlay",
              "size": 10,
              "solidity": 0.2
             }
            },
            "type": "histogram"
           }
          ],
          "histogram2d": [
           {
            "colorbar": {
             "outlinewidth": 0,
             "ticks": ""
            },
            "colorscale": [
             [
              0,
              "#0d0887"
             ],
             [
              0.1111111111111111,
              "#46039f"
             ],
             [
              0.2222222222222222,
              "#7201a8"
             ],
             [
              0.3333333333333333,
              "#9c179e"
             ],
             [
              0.4444444444444444,
              "#bd3786"
             ],
             [
              0.5555555555555556,
              "#d8576b"
             ],
             [
              0.6666666666666666,
              "#ed7953"
             ],
             [
              0.7777777777777778,
              "#fb9f3a"
             ],
             [
              0.8888888888888888,
              "#fdca26"
             ],
             [
              1,
              "#f0f921"
             ]
            ],
            "type": "histogram2d"
           }
          ],
          "histogram2dcontour": [
           {
            "colorbar": {
             "outlinewidth": 0,
             "ticks": ""
            },
            "colorscale": [
             [
              0,
              "#0d0887"
             ],
             [
              0.1111111111111111,
              "#46039f"
             ],
             [
              0.2222222222222222,
              "#7201a8"
             ],
             [
              0.3333333333333333,
              "#9c179e"
             ],
             [
              0.4444444444444444,
              "#bd3786"
             ],
             [
              0.5555555555555556,
              "#d8576b"
             ],
             [
              0.6666666666666666,
              "#ed7953"
             ],
             [
              0.7777777777777778,
              "#fb9f3a"
             ],
             [
              0.8888888888888888,
              "#fdca26"
             ],
             [
              1,
              "#f0f921"
             ]
            ],
            "type": "histogram2dcontour"
           }
          ],
          "mesh3d": [
           {
            "colorbar": {
             "outlinewidth": 0,
             "ticks": ""
            },
            "type": "mesh3d"
           }
          ],
          "parcoords": [
           {
            "line": {
             "colorbar": {
              "outlinewidth": 0,
              "ticks": ""
             }
            },
            "type": "parcoords"
           }
          ],
          "pie": [
           {
            "automargin": true,
            "type": "pie"
           }
          ],
          "scatter": [
           {
            "fillpattern": {
             "fillmode": "overlay",
             "size": 10,
             "solidity": 0.2
            },
            "type": "scatter"
           }
          ],
          "scatter3d": [
           {
            "line": {
             "colorbar": {
              "outlinewidth": 0,
              "ticks": ""
             }
            },
            "marker": {
             "colorbar": {
              "outlinewidth": 0,
              "ticks": ""
             }
            },
            "type": "scatter3d"
           }
          ],
          "scattercarpet": [
           {
            "marker": {
             "colorbar": {
              "outlinewidth": 0,
              "ticks": ""
             }
            },
            "type": "scattercarpet"
           }
          ],
          "scattergeo": [
           {
            "marker": {
             "colorbar": {
              "outlinewidth": 0,
              "ticks": ""
             }
            },
            "type": "scattergeo"
           }
          ],
          "scattergl": [
           {
            "marker": {
             "colorbar": {
              "outlinewidth": 0,
              "ticks": ""
             }
            },
            "type": "scattergl"
           }
          ],
          "scattermapbox": [
           {
            "marker": {
             "colorbar": {
              "outlinewidth": 0,
              "ticks": ""
             }
            },
            "type": "scattermapbox"
           }
          ],
          "scatterpolar": [
           {
            "marker": {
             "colorbar": {
              "outlinewidth": 0,
              "ticks": ""
             }
            },
            "type": "scatterpolar"
           }
          ],
          "scatterpolargl": [
           {
            "marker": {
             "colorbar": {
              "outlinewidth": 0,
              "ticks": ""
             }
            },
            "type": "scatterpolargl"
           }
          ],
          "scatterternary": [
           {
            "marker": {
             "colorbar": {
              "outlinewidth": 0,
              "ticks": ""
             }
            },
            "type": "scatterternary"
           }
          ],
          "surface": [
           {
            "colorbar": {
             "outlinewidth": 0,
             "ticks": ""
            },
            "colorscale": [
             [
              0,
              "#0d0887"
             ],
             [
              0.1111111111111111,
              "#46039f"
             ],
             [
              0.2222222222222222,
              "#7201a8"
             ],
             [
              0.3333333333333333,
              "#9c179e"
             ],
             [
              0.4444444444444444,
              "#bd3786"
             ],
             [
              0.5555555555555556,
              "#d8576b"
             ],
             [
              0.6666666666666666,
              "#ed7953"
             ],
             [
              0.7777777777777778,
              "#fb9f3a"
             ],
             [
              0.8888888888888888,
              "#fdca26"
             ],
             [
              1,
              "#f0f921"
             ]
            ],
            "type": "surface"
           }
          ],
          "table": [
           {
            "cells": {
             "fill": {
              "color": "#EBF0F8"
             },
             "line": {
              "color": "white"
             }
            },
            "header": {
             "fill": {
              "color": "#C8D4E3"
             },
             "line": {
              "color": "white"
             }
            },
            "type": "table"
           }
          ]
         },
         "layout": {
          "annotationdefaults": {
           "arrowcolor": "#2a3f5f",
           "arrowhead": 0,
           "arrowwidth": 1
          },
          "autotypenumbers": "strict",
          "coloraxis": {
           "colorbar": {
            "outlinewidth": 0,
            "ticks": ""
           }
          },
          "colorscale": {
           "diverging": [
            [
             0,
             "#8e0152"
            ],
            [
             0.1,
             "#c51b7d"
            ],
            [
             0.2,
             "#de77ae"
            ],
            [
             0.3,
             "#f1b6da"
            ],
            [
             0.4,
             "#fde0ef"
            ],
            [
             0.5,
             "#f7f7f7"
            ],
            [
             0.6,
             "#e6f5d0"
            ],
            [
             0.7,
             "#b8e186"
            ],
            [
             0.8,
             "#7fbc41"
            ],
            [
             0.9,
             "#4d9221"
            ],
            [
             1,
             "#276419"
            ]
           ],
           "sequential": [
            [
             0,
             "#0d0887"
            ],
            [
             0.1111111111111111,
             "#46039f"
            ],
            [
             0.2222222222222222,
             "#7201a8"
            ],
            [
             0.3333333333333333,
             "#9c179e"
            ],
            [
             0.4444444444444444,
             "#bd3786"
            ],
            [
             0.5555555555555556,
             "#d8576b"
            ],
            [
             0.6666666666666666,
             "#ed7953"
            ],
            [
             0.7777777777777778,
             "#fb9f3a"
            ],
            [
             0.8888888888888888,
             "#fdca26"
            ],
            [
             1,
             "#f0f921"
            ]
           ],
           "sequentialminus": [
            [
             0,
             "#0d0887"
            ],
            [
             0.1111111111111111,
             "#46039f"
            ],
            [
             0.2222222222222222,
             "#7201a8"
            ],
            [
             0.3333333333333333,
             "#9c179e"
            ],
            [
             0.4444444444444444,
             "#bd3786"
            ],
            [
             0.5555555555555556,
             "#d8576b"
            ],
            [
             0.6666666666666666,
             "#ed7953"
            ],
            [
             0.7777777777777778,
             "#fb9f3a"
            ],
            [
             0.8888888888888888,
             "#fdca26"
            ],
            [
             1,
             "#f0f921"
            ]
           ]
          },
          "colorway": [
           "#636efa",
           "#EF553B",
           "#00cc96",
           "#ab63fa",
           "#FFA15A",
           "#19d3f3",
           "#FF6692",
           "#B6E880",
           "#FF97FF",
           "#FECB52"
          ],
          "font": {
           "color": "#2a3f5f"
          },
          "geo": {
           "bgcolor": "white",
           "lakecolor": "white",
           "landcolor": "#E5ECF6",
           "showlakes": true,
           "showland": true,
           "subunitcolor": "white"
          },
          "hoverlabel": {
           "align": "left"
          },
          "hovermode": "closest",
          "mapbox": {
           "style": "light"
          },
          "paper_bgcolor": "white",
          "plot_bgcolor": "#E5ECF6",
          "polar": {
           "angularaxis": {
            "gridcolor": "white",
            "linecolor": "white",
            "ticks": ""
           },
           "bgcolor": "#E5ECF6",
           "radialaxis": {
            "gridcolor": "white",
            "linecolor": "white",
            "ticks": ""
           }
          },
          "scene": {
           "xaxis": {
            "backgroundcolor": "#E5ECF6",
            "gridcolor": "white",
            "gridwidth": 2,
            "linecolor": "white",
            "showbackground": true,
            "ticks": "",
            "zerolinecolor": "white"
           },
           "yaxis": {
            "backgroundcolor": "#E5ECF6",
            "gridcolor": "white",
            "gridwidth": 2,
            "linecolor": "white",
            "showbackground": true,
            "ticks": "",
            "zerolinecolor": "white"
           },
           "zaxis": {
            "backgroundcolor": "#E5ECF6",
            "gridcolor": "white",
            "gridwidth": 2,
            "linecolor": "white",
            "showbackground": true,
            "ticks": "",
            "zerolinecolor": "white"
           }
          },
          "shapedefaults": {
           "line": {
            "color": "#2a3f5f"
           }
          },
          "ternary": {
           "aaxis": {
            "gridcolor": "white",
            "linecolor": "white",
            "ticks": ""
           },
           "baxis": {
            "gridcolor": "white",
            "linecolor": "white",
            "ticks": ""
           },
           "bgcolor": "#E5ECF6",
           "caxis": {
            "gridcolor": "white",
            "linecolor": "white",
            "ticks": ""
           }
          },
          "title": {
           "x": 0.05
          },
          "xaxis": {
           "automargin": true,
           "gridcolor": "white",
           "linecolor": "white",
           "ticks": "",
           "title": {
            "standoff": 15
           },
           "zerolinecolor": "white",
           "zerolinewidth": 2
          },
          "yaxis": {
           "automargin": true,
           "gridcolor": "white",
           "linecolor": "white",
           "ticks": "",
           "title": {
            "standoff": 15
           },
           "zerolinecolor": "white",
           "zerolinewidth": 2
          }
         }
        },
        "title": {
         "text": "Verteilung des Alters nach Geschlecht"
        },
        "xaxis": {
         "anchor": "y",
         "domain": [
          0,
          0.31999999999999995
         ]
        },
        "xaxis2": {
         "anchor": "y2",
         "domain": [
          0.33999999999999997,
          0.6599999999999999
         ],
         "matches": "x"
        },
        "xaxis3": {
         "anchor": "y3",
         "domain": [
          0.6799999999999999,
          0.9999999999999999
         ],
         "matches": "x"
        },
        "yaxis": {
         "anchor": "x",
         "domain": [
          0,
          1
         ],
         "title": {
          "text": "Age"
         }
        },
        "yaxis2": {
         "anchor": "x2",
         "domain": [
          0,
          1
         ],
         "matches": "y",
         "showticklabels": false
        },
        "yaxis3": {
         "anchor": "x3",
         "domain": [
          0,
          1
         ],
         "matches": "y",
         "showticklabels": false
        }
       }
      }
     },
     "metadata": {},
     "output_type": "display_data"
    }
   ],
   "source": [
    "fig = px.box(df_cl, y = \"Age\", facet_col= \"Gender\", color=\"Gender\", boxmode= \"overlay\", points= \"all\", title=\"Verteilung des Alters nach Geschlecht\")\n",
    "\n",
    "fig.show()"
   ]
  },
  {
   "cell_type": "markdown",
   "id": "4e8b1326",
   "metadata": {},
   "source": [
    "Das Durchschnittsalter zwischen Mann und Frau unterscheidet sich allgemein nicht erheblich. Das Geschlecht Divers beweist geringere Werte."
   ]
  },
  {
   "cell_type": "markdown",
   "id": "22823b6b",
   "metadata": {},
   "source": [
    "#### 4.1.2.2 Verteilung Alter nach Ländern"
   ]
  },
  {
   "cell_type": "code",
   "execution_count": 62,
   "id": "ae9f5a34",
   "metadata": {},
   "outputs": [
    {
     "data": {
      "text/plain": [
       "Country\n",
       "United States     746\n",
       "United Kingdom    184\n",
       "Canada             72\n",
       "Germany            45\n",
       "Netherlands        27\n",
       "Ireland            27\n",
       "Australia          21\n",
       "France             13\n",
       "India              10\n",
       "New Zealand         8\n",
       "Name: count, dtype: int64"
      ]
     },
     "execution_count": 62,
     "metadata": {},
     "output_type": "execute_result"
    }
   ],
   "source": [
    "df_cl[\"Country\"].value_counts().head(10)"
   ]
  },
  {
   "cell_type": "markdown",
   "id": "d59bb886",
   "metadata": {},
   "source": [
    "\n",
    "Die Anzahl an Beobachtungen konzentrieren sich auf den oben dargestellten Bereich. Die weitere Analyse legt einen Threshold von >=10 fest. Da es bei Ländern mit wenigen Beobachtungen zu Verzerrungen kommt."
   ]
  },
  {
   "cell_type": "code",
   "execution_count": 63,
   "id": "4c0a5fca",
   "metadata": {},
   "outputs": [],
   "source": [
    "country_over_10 = df_cl[\"Country\"].value_counts().loc[lambda x: x >=10].index"
   ]
  },
  {
   "cell_type": "code",
   "execution_count": 64,
   "id": "f5f5a802",
   "metadata": {},
   "outputs": [],
   "source": [
    "age_country = df_cl[df_cl[\"Country\"].isin(country_over_10)]"
   ]
  },
  {
   "cell_type": "code",
   "execution_count": 65,
   "id": "0edc1243",
   "metadata": {},
   "outputs": [
    {
     "data": {
      "application/vnd.plotly.v1+json": {
       "config": {
        "plotlyServerURL": "https://plot.ly"
       },
       "data": [
        {
         "alignmentgroup": "True",
         "hovertemplate": "Country=United States<br>Age=%{y}<extra></extra>",
         "legendgroup": "United States",
         "marker": {
          "color": "#636efa"
         },
         "name": "United States",
         "notched": false,
         "offsetgroup": "United States",
         "orientation": "v",
         "showlegend": true,
         "type": "box",
         "x0": " ",
         "xaxis": "x",
         "y": [
          37,
          44,
          31,
          33,
          35,
          42,
          31,
          42,
          36,
          29,
          32,
          46,
          29,
          31,
          46,
          41,
          33,
          35,
          33,
          35,
          34,
          31,
          42,
          40,
          27,
          50,
          35,
          35,
          30,
          38,
          34,
          30,
          22,
          33,
          31,
          32,
          27,
          32,
          24,
          26,
          44,
          40,
          36,
          31,
          34,
          23,
          33,
          25,
          31,
          32,
          38,
          27,
          33,
          31,
          34,
          29,
          32,
          31,
          40,
          34,
          29,
          24,
          33,
          30,
          44,
          25,
          33,
          29,
          35,
          35,
          34,
          32,
          22,
          28,
          45,
          32,
          28,
          18,
          35,
          29,
          25,
          33,
          36,
          27,
          32,
          33,
          32,
          27,
          39,
          29,
          38,
          35,
          30,
          37,
          23,
          29,
          32,
          36,
          25,
          27,
          26,
          27,
          25,
          25,
          31,
          26,
          33,
          34,
          42,
          23,
          31,
          32,
          45,
          33,
          45,
          43,
          37,
          35,
          28,
          35,
          35,
          26,
          27,
          27,
          34,
          41,
          30,
          24,
          40,
          32,
          32,
          27,
          29,
          41,
          34,
          28,
          28,
          23,
          24,
          32,
          24,
          36,
          41,
          38,
          37,
          34,
          33,
          27,
          40,
          21,
          32,
          29,
          23,
          28,
          31,
          24,
          42,
          27,
          30,
          32,
          41,
          37,
          32,
          23,
          30,
          38,
          34,
          28,
          23,
          18,
          35,
          26,
          18,
          38,
          26,
          35,
          45,
          32,
          56,
          24,
          30,
          60,
          33,
          37,
          23,
          31,
          26,
          28,
          37,
          30,
          26,
          25,
          27,
          35,
          36,
          26,
          27,
          30,
          29,
          25,
          22,
          41,
          29,
          32,
          24,
          25,
          25,
          30,
          25,
          30,
          24,
          31,
          46,
          29,
          24,
          29,
          35,
          33,
          27,
          36,
          25,
          23,
          54,
          22,
          25,
          27,
          26,
          31,
          33,
          34,
          34,
          29,
          33,
          26,
          32,
          28,
          35,
          36,
          21,
          22,
          41,
          55,
          32,
          21,
          45,
          27,
          25,
          34,
          26,
          27,
          31,
          26,
          27,
          29,
          25,
          40,
          31,
          24,
          29,
          32,
          26,
          28,
          23,
          35,
          26,
          33,
          33,
          33,
          31,
          21,
          26,
          30,
          55,
          28,
          21,
          24,
          26,
          23,
          24,
          24,
          33,
          34,
          27,
          28,
          26,
          23,
          29,
          36,
          41,
          33,
          39,
          34,
          26,
          24,
          43,
          40,
          30,
          34,
          27,
          36,
          37,
          33,
          28,
          26,
          27,
          57,
          31,
          58,
          29,
          34,
          57,
          30,
          23,
          43,
          29,
          48,
          28,
          30,
          31,
          30,
          24,
          25,
          23,
          36,
          25,
          38,
          35,
          46,
          42,
          47,
          22,
          33,
          25,
          29,
          39,
          38,
          43,
          46,
          38,
          62,
          23,
          35,
          36,
          41,
          29,
          39,
          26,
          22,
          26,
          31,
          28,
          36,
          21,
          25,
          33,
          24,
          65,
          27,
          36,
          28,
          39,
          32,
          31,
          38,
          23,
          42,
          27,
          26,
          50,
          37,
          23,
          33,
          34,
          41,
          50,
          35,
          40,
          29,
          31,
          43,
          34,
          29,
          41,
          29,
          23,
          24,
          31,
          43,
          31,
          29,
          35,
          33,
          30,
          27,
          32,
          50,
          24,
          27,
          32,
          42,
          37,
          29,
          30,
          35,
          35,
          31,
          23,
          31,
          28,
          34,
          28,
          56,
          34,
          35,
          57,
          39,
          32,
          32,
          23,
          28,
          29,
          45,
          38,
          19,
          33,
          49,
          28,
          39,
          29,
          30,
          33,
          37,
          23,
          43,
          26,
          32,
          37,
          29,
          30,
          29,
          32,
          37,
          27,
          25,
          33,
          29,
          29,
          31,
          43,
          36,
          31,
          36,
          30,
          35,
          37,
          36,
          29,
          38,
          26,
          21,
          37,
          27,
          33,
          36,
          33,
          43,
          27,
          33,
          33,
          25,
          25,
          25,
          33,
          37,
          35,
          22,
          38,
          32,
          35,
          29,
          23,
          39,
          30,
          28,
          40,
          36,
          27,
          41,
          35,
          28,
          39,
          39,
          44,
          40,
          38,
          34,
          43,
          48,
          20,
          40,
          35,
          29,
          40,
          29,
          34,
          24,
          47,
          36,
          43,
          31,
          35,
          33,
          34,
          40,
          40,
          42,
          23,
          31,
          25,
          51,
          24,
          33,
          23,
          33,
          46,
          35,
          39,
          56,
          39,
          37,
          30,
          31,
          29,
          31,
          29,
          30,
          37,
          36,
          35,
          41,
          39,
          42,
          32,
          29,
          30,
          40,
          51,
          33,
          50,
          24,
          25,
          25,
          51,
          49,
          30,
          25,
          36,
          48,
          53,
          33,
          30,
          31,
          22,
          28,
          35,
          28,
          33,
          29,
          43,
          29,
          25,
          31,
          35,
          34,
          43,
          38,
          26,
          42,
          32,
          44,
          28,
          40,
          31,
          32,
          28,
          39,
          45,
          43,
          35,
          40,
          36,
          38,
          30,
          26,
          43,
          40,
          49,
          38,
          40,
          28,
          23,
          30,
          39,
          31,
          25,
          42,
          34,
          26,
          38,
          34,
          39,
          44,
          40,
          33,
          24,
          38,
          31,
          26,
          46,
          30,
          25,
          30,
          32,
          37,
          42,
          25,
          19,
          40,
          34,
          26,
          31,
          40,
          31,
          36,
          44,
          34,
          35,
          28,
          33,
          40,
          26,
          41,
          26,
          23,
          36,
          42,
          39,
          27,
          33,
          28,
          29,
          27,
          44,
          25,
          34,
          26,
          48,
          39,
          43,
          41,
          25,
          31,
          40,
          43,
          27,
          37,
          25,
          30,
          38,
          32,
          28,
          43,
          32,
          25,
          37,
          36,
          24,
          40,
          29,
          43,
          29,
          26,
          35,
          45,
          25,
          33,
          25,
          40,
          46,
          38,
          34,
          45,
          35,
          20,
          28,
          42,
          36,
          26,
          35,
          32,
          32,
          39,
          30,
          29,
          26,
          46,
          32,
          29,
          32,
          29,
          30,
          40,
          38,
          26,
          29,
          32,
          38,
          72,
          35,
          28,
          27,
          56,
          38,
          40,
          44,
          32,
          28,
          23,
          33,
          38,
          46,
          46,
          25,
          60,
          28,
          43,
          32,
          41,
          30,
          30,
          29,
          36,
          32,
          34,
          46,
          25
         ],
         "y0": " ",
         "yaxis": "y"
        },
        {
         "alignmentgroup": "True",
         "hovertemplate": "Country=Canada<br>Age=%{y}<extra></extra>",
         "legendgroup": "Canada",
         "marker": {
          "color": "#EF553B"
         },
         "name": "Canada",
         "notched": false,
         "offsetgroup": "Canada",
         "orientation": "v",
         "showlegend": true,
         "type": "box",
         "x0": " ",
         "xaxis": "x2",
         "y": [
          32,
          39,
          23,
          27,
          29,
          27,
          26,
          33,
          35,
          34,
          30,
          25,
          26,
          27,
          27,
          24,
          19,
          34,
          21,
          31,
          37,
          28,
          29,
          27,
          43,
          33,
          25,
          26,
          25,
          25,
          41,
          26,
          29,
          28,
          23,
          37,
          31,
          21,
          29,
          32,
          40,
          29,
          29,
          19,
          37,
          32,
          26,
          35,
          29,
          23,
          28,
          30,
          29,
          28,
          19,
          31,
          39,
          26,
          25,
          37,
          27,
          19,
          35,
          26,
          31,
          34,
          33,
          24,
          38,
          32,
          34,
          23
         ],
         "y0": " ",
         "yaxis": "y2"
        },
        {
         "alignmentgroup": "True",
         "hovertemplate": "Country=United Kingdom<br>Age=%{y}<extra></extra>",
         "legendgroup": "United Kingdom",
         "marker": {
          "color": "#00cc96"
         },
         "name": "United Kingdom",
         "notched": false,
         "offsetgroup": "United Kingdom",
         "orientation": "v",
         "showlegend": true,
         "type": "box",
         "x0": " ",
         "xaxis": "x3",
         "y": [
          31,
          23,
          37,
          32,
          30,
          24,
          28,
          27,
          38,
          19,
          23,
          39,
          26,
          21,
          27,
          31,
          39,
          28,
          37,
          24,
          37,
          36,
          27,
          24,
          26,
          31,
          28,
          28,
          24,
          23,
          28,
          32,
          37,
          26,
          33,
          26,
          38,
          25,
          34,
          29,
          27,
          23,
          24,
          32,
          34,
          27,
          30,
          33,
          30,
          21,
          48,
          35,
          31,
          32,
          26,
          32,
          29,
          38,
          28,
          39,
          18,
          54,
          32,
          32,
          34,
          27,
          27,
          32,
          28,
          23,
          30,
          21,
          22,
          24,
          30,
          29,
          54,
          30,
          27,
          21,
          27,
          32,
          32,
          32,
          34,
          33,
          37,
          33,
          33,
          27,
          39,
          27,
          28,
          39,
          32,
          28,
          37,
          32,
          31,
          43,
          34,
          32,
          29,
          32,
          29,
          29,
          36,
          29,
          44,
          43,
          36,
          21,
          32,
          32,
          26,
          34,
          32,
          41,
          23,
          31,
          38,
          43,
          24,
          24,
          30,
          34,
          38,
          24,
          33,
          32,
          24,
          55,
          33,
          26,
          25,
          45,
          33,
          30,
          28,
          34,
          29,
          39,
          28,
          38,
          19,
          28,
          35,
          32,
          35,
          34,
          32,
          29,
          39,
          32,
          40,
          32,
          44,
          33,
          32,
          27,
          25,
          41,
          21,
          27,
          38,
          39,
          26,
          34,
          31,
          31,
          23,
          37,
          24,
          34,
          34,
          27,
          23,
          23,
          24,
          25,
          23,
          24,
          32,
          26
         ],
         "y0": " ",
         "yaxis": "y3"
        },
        {
         "alignmentgroup": "True",
         "hovertemplate": "Country=France<br>Age=%{y}<extra></extra>",
         "legendgroup": "France",
         "marker": {
          "color": "#ab63fa"
         },
         "name": "France",
         "notched": false,
         "offsetgroup": "France",
         "orientation": "v",
         "showlegend": true,
         "type": "box",
         "x0": " ",
         "xaxis": "x4",
         "y": [
          36,
          26,
          28,
          26,
          26,
          43,
          37,
          31,
          27,
          24,
          27,
          50,
          29
         ],
         "y0": " ",
         "yaxis": "y4"
        },
        {
         "alignmentgroup": "True",
         "hovertemplate": "Country=Netherlands<br>Age=%{y}<extra></extra>",
         "legendgroup": "Netherlands",
         "marker": {
          "color": "#FFA15A"
         },
         "name": "Netherlands",
         "notched": false,
         "offsetgroup": "Netherlands",
         "orientation": "v",
         "showlegend": true,
         "type": "box",
         "x0": " ",
         "xaxis": "x5",
         "y": [
          18,
          30,
          35,
          42,
          34,
          22,
          38,
          22,
          22,
          26,
          29,
          29,
          39,
          37,
          36,
          33,
          34,
          34,
          32,
          29,
          37,
          37,
          28,
          28,
          41,
          39,
          30
         ],
         "y0": " ",
         "yaxis": "y5"
        },
        {
         "alignmentgroup": "True",
         "hovertemplate": "Country=Australia<br>Age=%{y}<extra></extra>",
         "legendgroup": "Australia",
         "marker": {
          "color": "#19d3f3"
         },
         "name": "Australia",
         "notched": false,
         "offsetgroup": "Australia",
         "orientation": "v",
         "showlegend": true,
         "type": "box",
         "x0": " ",
         "xaxis": "x6",
         "y": [
          23,
          34,
          25,
          22,
          20,
          31,
          27,
          34,
          33,
          27,
          27,
          29,
          30,
          26,
          34,
          37,
          48,
          26,
          26,
          28,
          22
         ],
         "y0": " ",
         "yaxis": "y6"
        },
        {
         "alignmentgroup": "True",
         "hovertemplate": "Country=Germany<br>Age=%{y}<extra></extra>",
         "legendgroup": "Germany",
         "marker": {
          "color": "#FF6692"
         },
         "name": "Germany",
         "notched": false,
         "offsetgroup": "Germany",
         "orientation": "v",
         "showlegend": true,
         "type": "box",
         "x0": " ",
         "xaxis": "x7",
         "y": [
          28,
          32,
          30,
          33,
          34,
          25,
          29,
          30,
          28,
          27,
          23,
          43,
          25,
          33,
          30,
          24,
          31,
          35,
          28,
          36,
          35,
          32,
          31,
          29,
          30,
          25,
          21,
          42,
          34,
          26,
          32,
          34,
          33,
          25,
          35,
          29,
          26,
          24,
          37,
          41,
          37,
          26,
          23,
          27,
          31
         ],
         "y0": " ",
         "yaxis": "y7"
        },
        {
         "alignmentgroup": "True",
         "hovertemplate": "Country=Ireland<br>Age=%{y}<extra></extra>",
         "legendgroup": "Ireland",
         "marker": {
          "color": "#B6E880"
         },
         "name": "Ireland",
         "notched": false,
         "offsetgroup": "Ireland",
         "orientation": "v",
         "showlegend": true,
         "type": "box",
         "x0": " ",
         "xaxis": "x8",
         "y": [
          30,
          23,
          37,
          30,
          45,
          40,
          37,
          25,
          26,
          30,
          24,
          37,
          38,
          34,
          35,
          34,
          25,
          34,
          32,
          24,
          45,
          42,
          24,
          23,
          32,
          28,
          28
         ],
         "y0": " ",
         "yaxis": "y8"
        },
        {
         "alignmentgroup": "True",
         "hovertemplate": "Country=India<br>Age=%{y}<extra></extra>",
         "legendgroup": "India",
         "marker": {
          "color": "#FF97FF"
         },
         "name": "India",
         "notched": false,
         "offsetgroup": "India",
         "orientation": "v",
         "showlegend": true,
         "type": "box",
         "x0": " ",
         "xaxis": "x9",
         "y": [
          22,
          26,
          23,
          22,
          22,
          23,
          26,
          20,
          30,
          31
         ],
         "y0": " ",
         "yaxis": "y9"
        }
       ],
       "layout": {
        "annotations": [
         {
          "font": {
           "size": 8
          },
          "showarrow": false,
          "text": "Country=United States",
          "x": 0.04666666666666666,
          "xanchor": "center",
          "xref": "paper",
          "y": 1,
          "yanchor": "bottom",
          "yref": "paper"
         },
         {
          "font": {
           "size": 8
          },
          "showarrow": false,
          "text": "Country=Canada",
          "x": 0.16,
          "xanchor": "center",
          "xref": "paper",
          "y": 1,
          "yanchor": "bottom",
          "yref": "paper"
         },
         {
          "font": {
           "size": 8
          },
          "showarrow": false,
          "text": "Country=United Kingdom",
          "x": 0.2733333333333333,
          "xanchor": "center",
          "xref": "paper",
          "y": 1,
          "yanchor": "bottom",
          "yref": "paper"
         },
         {
          "font": {
           "size": 8
          },
          "showarrow": false,
          "text": "Country=France",
          "x": 0.3866666666666666,
          "xanchor": "center",
          "xref": "paper",
          "y": 1,
          "yanchor": "bottom",
          "yref": "paper"
         },
         {
          "font": {
           "size": 8
          },
          "showarrow": false,
          "text": "Country=Netherlands",
          "x": 0.5,
          "xanchor": "center",
          "xref": "paper",
          "y": 1,
          "yanchor": "bottom",
          "yref": "paper"
         },
         {
          "font": {
           "size": 8
          },
          "showarrow": false,
          "text": "Country=Australia",
          "x": 0.6133333333333333,
          "xanchor": "center",
          "xref": "paper",
          "y": 1,
          "yanchor": "bottom",
          "yref": "paper"
         },
         {
          "font": {
           "size": 8
          },
          "showarrow": false,
          "text": "Country=Germany",
          "x": 0.7266666666666666,
          "xanchor": "center",
          "xref": "paper",
          "y": 1,
          "yanchor": "bottom",
          "yref": "paper"
         },
         {
          "font": {
           "size": 8
          },
          "showarrow": false,
          "text": "Country=Ireland",
          "x": 0.8400000000000001,
          "xanchor": "center",
          "xref": "paper",
          "y": 1,
          "yanchor": "bottom",
          "yref": "paper"
         },
         {
          "font": {
           "size": 8
          },
          "showarrow": false,
          "text": "Country=India",
          "x": 0.9533333333333334,
          "xanchor": "center",
          "xref": "paper",
          "y": 1,
          "yanchor": "bottom",
          "yref": "paper"
         }
        ],
        "boxmode": "overlay",
        "legend": {
         "title": {
          "text": "Country"
         },
         "tracegroupgap": 0
        },
        "template": {
         "data": {
          "bar": [
           {
            "error_x": {
             "color": "#2a3f5f"
            },
            "error_y": {
             "color": "#2a3f5f"
            },
            "marker": {
             "line": {
              "color": "#E5ECF6",
              "width": 0.5
             },
             "pattern": {
              "fillmode": "overlay",
              "size": 10,
              "solidity": 0.2
             }
            },
            "type": "bar"
           }
          ],
          "barpolar": [
           {
            "marker": {
             "line": {
              "color": "#E5ECF6",
              "width": 0.5
             },
             "pattern": {
              "fillmode": "overlay",
              "size": 10,
              "solidity": 0.2
             }
            },
            "type": "barpolar"
           }
          ],
          "carpet": [
           {
            "aaxis": {
             "endlinecolor": "#2a3f5f",
             "gridcolor": "white",
             "linecolor": "white",
             "minorgridcolor": "white",
             "startlinecolor": "#2a3f5f"
            },
            "baxis": {
             "endlinecolor": "#2a3f5f",
             "gridcolor": "white",
             "linecolor": "white",
             "minorgridcolor": "white",
             "startlinecolor": "#2a3f5f"
            },
            "type": "carpet"
           }
          ],
          "choropleth": [
           {
            "colorbar": {
             "outlinewidth": 0,
             "ticks": ""
            },
            "type": "choropleth"
           }
          ],
          "contour": [
           {
            "colorbar": {
             "outlinewidth": 0,
             "ticks": ""
            },
            "colorscale": [
             [
              0,
              "#0d0887"
             ],
             [
              0.1111111111111111,
              "#46039f"
             ],
             [
              0.2222222222222222,
              "#7201a8"
             ],
             [
              0.3333333333333333,
              "#9c179e"
             ],
             [
              0.4444444444444444,
              "#bd3786"
             ],
             [
              0.5555555555555556,
              "#d8576b"
             ],
             [
              0.6666666666666666,
              "#ed7953"
             ],
             [
              0.7777777777777778,
              "#fb9f3a"
             ],
             [
              0.8888888888888888,
              "#fdca26"
             ],
             [
              1,
              "#f0f921"
             ]
            ],
            "type": "contour"
           }
          ],
          "contourcarpet": [
           {
            "colorbar": {
             "outlinewidth": 0,
             "ticks": ""
            },
            "type": "contourcarpet"
           }
          ],
          "heatmap": [
           {
            "colorbar": {
             "outlinewidth": 0,
             "ticks": ""
            },
            "colorscale": [
             [
              0,
              "#0d0887"
             ],
             [
              0.1111111111111111,
              "#46039f"
             ],
             [
              0.2222222222222222,
              "#7201a8"
             ],
             [
              0.3333333333333333,
              "#9c179e"
             ],
             [
              0.4444444444444444,
              "#bd3786"
             ],
             [
              0.5555555555555556,
              "#d8576b"
             ],
             [
              0.6666666666666666,
              "#ed7953"
             ],
             [
              0.7777777777777778,
              "#fb9f3a"
             ],
             [
              0.8888888888888888,
              "#fdca26"
             ],
             [
              1,
              "#f0f921"
             ]
            ],
            "type": "heatmap"
           }
          ],
          "heatmapgl": [
           {
            "colorbar": {
             "outlinewidth": 0,
             "ticks": ""
            },
            "colorscale": [
             [
              0,
              "#0d0887"
             ],
             [
              0.1111111111111111,
              "#46039f"
             ],
             [
              0.2222222222222222,
              "#7201a8"
             ],
             [
              0.3333333333333333,
              "#9c179e"
             ],
             [
              0.4444444444444444,
              "#bd3786"
             ],
             [
              0.5555555555555556,
              "#d8576b"
             ],
             [
              0.6666666666666666,
              "#ed7953"
             ],
             [
              0.7777777777777778,
              "#fb9f3a"
             ],
             [
              0.8888888888888888,
              "#fdca26"
             ],
             [
              1,
              "#f0f921"
             ]
            ],
            "type": "heatmapgl"
           }
          ],
          "histogram": [
           {
            "marker": {
             "pattern": {
              "fillmode": "overlay",
              "size": 10,
              "solidity": 0.2
             }
            },
            "type": "histogram"
           }
          ],
          "histogram2d": [
           {
            "colorbar": {
             "outlinewidth": 0,
             "ticks": ""
            },
            "colorscale": [
             [
              0,
              "#0d0887"
             ],
             [
              0.1111111111111111,
              "#46039f"
             ],
             [
              0.2222222222222222,
              "#7201a8"
             ],
             [
              0.3333333333333333,
              "#9c179e"
             ],
             [
              0.4444444444444444,
              "#bd3786"
             ],
             [
              0.5555555555555556,
              "#d8576b"
             ],
             [
              0.6666666666666666,
              "#ed7953"
             ],
             [
              0.7777777777777778,
              "#fb9f3a"
             ],
             [
              0.8888888888888888,
              "#fdca26"
             ],
             [
              1,
              "#f0f921"
             ]
            ],
            "type": "histogram2d"
           }
          ],
          "histogram2dcontour": [
           {
            "colorbar": {
             "outlinewidth": 0,
             "ticks": ""
            },
            "colorscale": [
             [
              0,
              "#0d0887"
             ],
             [
              0.1111111111111111,
              "#46039f"
             ],
             [
              0.2222222222222222,
              "#7201a8"
             ],
             [
              0.3333333333333333,
              "#9c179e"
             ],
             [
              0.4444444444444444,
              "#bd3786"
             ],
             [
              0.5555555555555556,
              "#d8576b"
             ],
             [
              0.6666666666666666,
              "#ed7953"
             ],
             [
              0.7777777777777778,
              "#fb9f3a"
             ],
             [
              0.8888888888888888,
              "#fdca26"
             ],
             [
              1,
              "#f0f921"
             ]
            ],
            "type": "histogram2dcontour"
           }
          ],
          "mesh3d": [
           {
            "colorbar": {
             "outlinewidth": 0,
             "ticks": ""
            },
            "type": "mesh3d"
           }
          ],
          "parcoords": [
           {
            "line": {
             "colorbar": {
              "outlinewidth": 0,
              "ticks": ""
             }
            },
            "type": "parcoords"
           }
          ],
          "pie": [
           {
            "automargin": true,
            "type": "pie"
           }
          ],
          "scatter": [
           {
            "fillpattern": {
             "fillmode": "overlay",
             "size": 10,
             "solidity": 0.2
            },
            "type": "scatter"
           }
          ],
          "scatter3d": [
           {
            "line": {
             "colorbar": {
              "outlinewidth": 0,
              "ticks": ""
             }
            },
            "marker": {
             "colorbar": {
              "outlinewidth": 0,
              "ticks": ""
             }
            },
            "type": "scatter3d"
           }
          ],
          "scattercarpet": [
           {
            "marker": {
             "colorbar": {
              "outlinewidth": 0,
              "ticks": ""
             }
            },
            "type": "scattercarpet"
           }
          ],
          "scattergeo": [
           {
            "marker": {
             "colorbar": {
              "outlinewidth": 0,
              "ticks": ""
             }
            },
            "type": "scattergeo"
           }
          ],
          "scattergl": [
           {
            "marker": {
             "colorbar": {
              "outlinewidth": 0,
              "ticks": ""
             }
            },
            "type": "scattergl"
           }
          ],
          "scattermapbox": [
           {
            "marker": {
             "colorbar": {
              "outlinewidth": 0,
              "ticks": ""
             }
            },
            "type": "scattermapbox"
           }
          ],
          "scatterpolar": [
           {
            "marker": {
             "colorbar": {
              "outlinewidth": 0,
              "ticks": ""
             }
            },
            "type": "scatterpolar"
           }
          ],
          "scatterpolargl": [
           {
            "marker": {
             "colorbar": {
              "outlinewidth": 0,
              "ticks": ""
             }
            },
            "type": "scatterpolargl"
           }
          ],
          "scatterternary": [
           {
            "marker": {
             "colorbar": {
              "outlinewidth": 0,
              "ticks": ""
             }
            },
            "type": "scatterternary"
           }
          ],
          "surface": [
           {
            "colorbar": {
             "outlinewidth": 0,
             "ticks": ""
            },
            "colorscale": [
             [
              0,
              "#0d0887"
             ],
             [
              0.1111111111111111,
              "#46039f"
             ],
             [
              0.2222222222222222,
              "#7201a8"
             ],
             [
              0.3333333333333333,
              "#9c179e"
             ],
             [
              0.4444444444444444,
              "#bd3786"
             ],
             [
              0.5555555555555556,
              "#d8576b"
             ],
             [
              0.6666666666666666,
              "#ed7953"
             ],
             [
              0.7777777777777778,
              "#fb9f3a"
             ],
             [
              0.8888888888888888,
              "#fdca26"
             ],
             [
              1,
              "#f0f921"
             ]
            ],
            "type": "surface"
           }
          ],
          "table": [
           {
            "cells": {
             "fill": {
              "color": "#EBF0F8"
             },
             "line": {
              "color": "white"
             }
            },
            "header": {
             "fill": {
              "color": "#C8D4E3"
             },
             "line": {
              "color": "white"
             }
            },
            "type": "table"
           }
          ]
         },
         "layout": {
          "annotationdefaults": {
           "arrowcolor": "#2a3f5f",
           "arrowhead": 0,
           "arrowwidth": 1
          },
          "autotypenumbers": "strict",
          "coloraxis": {
           "colorbar": {
            "outlinewidth": 0,
            "ticks": ""
           }
          },
          "colorscale": {
           "diverging": [
            [
             0,
             "#8e0152"
            ],
            [
             0.1,
             "#c51b7d"
            ],
            [
             0.2,
             "#de77ae"
            ],
            [
             0.3,
             "#f1b6da"
            ],
            [
             0.4,
             "#fde0ef"
            ],
            [
             0.5,
             "#f7f7f7"
            ],
            [
             0.6,
             "#e6f5d0"
            ],
            [
             0.7,
             "#b8e186"
            ],
            [
             0.8,
             "#7fbc41"
            ],
            [
             0.9,
             "#4d9221"
            ],
            [
             1,
             "#276419"
            ]
           ],
           "sequential": [
            [
             0,
             "#0d0887"
            ],
            [
             0.1111111111111111,
             "#46039f"
            ],
            [
             0.2222222222222222,
             "#7201a8"
            ],
            [
             0.3333333333333333,
             "#9c179e"
            ],
            [
             0.4444444444444444,
             "#bd3786"
            ],
            [
             0.5555555555555556,
             "#d8576b"
            ],
            [
             0.6666666666666666,
             "#ed7953"
            ],
            [
             0.7777777777777778,
             "#fb9f3a"
            ],
            [
             0.8888888888888888,
             "#fdca26"
            ],
            [
             1,
             "#f0f921"
            ]
           ],
           "sequentialminus": [
            [
             0,
             "#0d0887"
            ],
            [
             0.1111111111111111,
             "#46039f"
            ],
            [
             0.2222222222222222,
             "#7201a8"
            ],
            [
             0.3333333333333333,
             "#9c179e"
            ],
            [
             0.4444444444444444,
             "#bd3786"
            ],
            [
             0.5555555555555556,
             "#d8576b"
            ],
            [
             0.6666666666666666,
             "#ed7953"
            ],
            [
             0.7777777777777778,
             "#fb9f3a"
            ],
            [
             0.8888888888888888,
             "#fdca26"
            ],
            [
             1,
             "#f0f921"
            ]
           ]
          },
          "colorway": [
           "#636efa",
           "#EF553B",
           "#00cc96",
           "#ab63fa",
           "#FFA15A",
           "#19d3f3",
           "#FF6692",
           "#B6E880",
           "#FF97FF",
           "#FECB52"
          ],
          "font": {
           "color": "#2a3f5f"
          },
          "geo": {
           "bgcolor": "white",
           "lakecolor": "white",
           "landcolor": "#E5ECF6",
           "showlakes": true,
           "showland": true,
           "subunitcolor": "white"
          },
          "hoverlabel": {
           "align": "left"
          },
          "hovermode": "closest",
          "mapbox": {
           "style": "light"
          },
          "paper_bgcolor": "white",
          "plot_bgcolor": "#E5ECF6",
          "polar": {
           "angularaxis": {
            "gridcolor": "white",
            "linecolor": "white",
            "ticks": ""
           },
           "bgcolor": "#E5ECF6",
           "radialaxis": {
            "gridcolor": "white",
            "linecolor": "white",
            "ticks": ""
           }
          },
          "scene": {
           "xaxis": {
            "backgroundcolor": "#E5ECF6",
            "gridcolor": "white",
            "gridwidth": 2,
            "linecolor": "white",
            "showbackground": true,
            "ticks": "",
            "zerolinecolor": "white"
           },
           "yaxis": {
            "backgroundcolor": "#E5ECF6",
            "gridcolor": "white",
            "gridwidth": 2,
            "linecolor": "white",
            "showbackground": true,
            "ticks": "",
            "zerolinecolor": "white"
           },
           "zaxis": {
            "backgroundcolor": "#E5ECF6",
            "gridcolor": "white",
            "gridwidth": 2,
            "linecolor": "white",
            "showbackground": true,
            "ticks": "",
            "zerolinecolor": "white"
           }
          },
          "shapedefaults": {
           "line": {
            "color": "#2a3f5f"
           }
          },
          "ternary": {
           "aaxis": {
            "gridcolor": "white",
            "linecolor": "white",
            "ticks": ""
           },
           "baxis": {
            "gridcolor": "white",
            "linecolor": "white",
            "ticks": ""
           },
           "bgcolor": "#E5ECF6",
           "caxis": {
            "gridcolor": "white",
            "linecolor": "white",
            "ticks": ""
           }
          },
          "title": {
           "x": 0.05
          },
          "xaxis": {
           "automargin": true,
           "gridcolor": "white",
           "linecolor": "white",
           "ticks": "",
           "title": {
            "standoff": 15
           },
           "zerolinecolor": "white",
           "zerolinewidth": 2
          },
          "yaxis": {
           "automargin": true,
           "gridcolor": "white",
           "linecolor": "white",
           "ticks": "",
           "title": {
            "standoff": 15
           },
           "zerolinecolor": "white",
           "zerolinewidth": 2
          }
         }
        },
        "title": {
         "text": "Verteilung des Alters nach Ländern"
        },
        "xaxis": {
         "anchor": "y",
         "domain": [
          0,
          0.09333333333333332
         ]
        },
        "xaxis2": {
         "anchor": "y2",
         "domain": [
          0.11333333333333333,
          0.20666666666666667
         ],
         "matches": "x"
        },
        "xaxis3": {
         "anchor": "y3",
         "domain": [
          0.22666666666666666,
          0.31999999999999995
         ],
         "matches": "x"
        },
        "xaxis4": {
         "anchor": "y4",
         "domain": [
          0.33999999999999997,
          0.4333333333333333
         ],
         "matches": "x"
        },
        "xaxis5": {
         "anchor": "y5",
         "domain": [
          0.4533333333333333,
          0.5466666666666666
         ],
         "matches": "x"
        },
        "xaxis6": {
         "anchor": "y6",
         "domain": [
          0.5666666666666667,
          0.6599999999999999
         ],
         "matches": "x"
        },
        "xaxis7": {
         "anchor": "y7",
         "domain": [
          0.6799999999999999,
          0.7733333333333332
         ],
         "matches": "x"
        },
        "xaxis8": {
         "anchor": "y8",
         "domain": [
          0.7933333333333333,
          0.8866666666666667
         ],
         "matches": "x"
        },
        "xaxis9": {
         "anchor": "y9",
         "domain": [
          0.9066666666666666,
          1
         ],
         "matches": "x"
        },
        "yaxis": {
         "anchor": "x",
         "domain": [
          0,
          1
         ],
         "title": {
          "text": "Age"
         }
        },
        "yaxis2": {
         "anchor": "x2",
         "domain": [
          0,
          1
         ],
         "matches": "y",
         "showticklabels": false
        },
        "yaxis3": {
         "anchor": "x3",
         "domain": [
          0,
          1
         ],
         "matches": "y",
         "showticklabels": false
        },
        "yaxis4": {
         "anchor": "x4",
         "domain": [
          0,
          1
         ],
         "matches": "y",
         "showticklabels": false
        },
        "yaxis5": {
         "anchor": "x5",
         "domain": [
          0,
          1
         ],
         "matches": "y",
         "showticklabels": false
        },
        "yaxis6": {
         "anchor": "x6",
         "domain": [
          0,
          1
         ],
         "matches": "y",
         "showticklabels": false
        },
        "yaxis7": {
         "anchor": "x7",
         "domain": [
          0,
          1
         ],
         "matches": "y",
         "showticklabels": false
        },
        "yaxis8": {
         "anchor": "x8",
         "domain": [
          0,
          1
         ],
         "matches": "y",
         "showticklabels": false
        },
        "yaxis9": {
         "anchor": "x9",
         "domain": [
          0,
          1
         ],
         "matches": "y",
         "showticklabels": false
        }
       }
      }
     },
     "metadata": {},
     "output_type": "display_data"
    }
   ],
   "source": [
    "\n",
    "fig = px.box(age_country, y = \"Age\", facet_col= \"Country\", color= \"Country\", boxmode = \"overlay\", points=None, title = \"Verteilung des Alters nach Ländern\")\n",
    "\n",
    "fig.for_each_annotation(lambda a: a.update(font_size= 8))\n",
    "fig.show()"
   ]
  },
  {
   "cell_type": "markdown",
   "id": "ce695356",
   "metadata": {},
   "source": [
    "Das Durschschnittsalter der Personen hinsichtlich der unterschiedlichen Arbeitsorte unterscheidet sich nicht grundlegend. Die USA hat erhöhte Varianz, sowie auch die UK. Die Stichprobe für die beiden Länder ist allerdings auch entscheidend höher."
   ]
  },
  {
   "cell_type": "markdown",
   "id": "d5eb0ab4",
   "metadata": {},
   "source": [
    "#### 4.1.2.3 Supervisor vs. Co-Worker"
   ]
  },
  {
   "cell_type": "code",
   "execution_count": 66,
   "id": "a8c2bd66",
   "metadata": {},
   "outputs": [
    {
     "data": {
      "application/vnd.plotly.v1+json": {
       "config": {
        "plotlyServerURL": "https://plot.ly"
       },
       "data": [
        {
         "name": "Kollegen",
         "type": "bar",
         "x": [
          "Some of them",
          "No",
          "Yes"
         ],
         "xaxis": "x",
         "y": [
          771,
          258,
          222
         ],
         "yaxis": "y"
        },
        {
         "name": "Vorgesetzte",
         "type": "bar",
         "x": [
          "Yes",
          "No",
          "Some of them"
         ],
         "xaxis": "x2",
         "y": [
          512,
          390,
          349
         ],
         "yaxis": "y2"
        }
       ],
       "layout": {
        "height": 600,
        "template": {
         "data": {
          "bar": [
           {
            "error_x": {
             "color": "#2a3f5f"
            },
            "error_y": {
             "color": "#2a3f5f"
            },
            "marker": {
             "line": {
              "color": "#E5ECF6",
              "width": 0.5
             },
             "pattern": {
              "fillmode": "overlay",
              "size": 10,
              "solidity": 0.2
             }
            },
            "type": "bar"
           }
          ],
          "barpolar": [
           {
            "marker": {
             "line": {
              "color": "#E5ECF6",
              "width": 0.5
             },
             "pattern": {
              "fillmode": "overlay",
              "size": 10,
              "solidity": 0.2
             }
            },
            "type": "barpolar"
           }
          ],
          "carpet": [
           {
            "aaxis": {
             "endlinecolor": "#2a3f5f",
             "gridcolor": "white",
             "linecolor": "white",
             "minorgridcolor": "white",
             "startlinecolor": "#2a3f5f"
            },
            "baxis": {
             "endlinecolor": "#2a3f5f",
             "gridcolor": "white",
             "linecolor": "white",
             "minorgridcolor": "white",
             "startlinecolor": "#2a3f5f"
            },
            "type": "carpet"
           }
          ],
          "choropleth": [
           {
            "colorbar": {
             "outlinewidth": 0,
             "ticks": ""
            },
            "type": "choropleth"
           }
          ],
          "contour": [
           {
            "colorbar": {
             "outlinewidth": 0,
             "ticks": ""
            },
            "colorscale": [
             [
              0,
              "#0d0887"
             ],
             [
              0.1111111111111111,
              "#46039f"
             ],
             [
              0.2222222222222222,
              "#7201a8"
             ],
             [
              0.3333333333333333,
              "#9c179e"
             ],
             [
              0.4444444444444444,
              "#bd3786"
             ],
             [
              0.5555555555555556,
              "#d8576b"
             ],
             [
              0.6666666666666666,
              "#ed7953"
             ],
             [
              0.7777777777777778,
              "#fb9f3a"
             ],
             [
              0.8888888888888888,
              "#fdca26"
             ],
             [
              1,
              "#f0f921"
             ]
            ],
            "type": "contour"
           }
          ],
          "contourcarpet": [
           {
            "colorbar": {
             "outlinewidth": 0,
             "ticks": ""
            },
            "type": "contourcarpet"
           }
          ],
          "heatmap": [
           {
            "colorbar": {
             "outlinewidth": 0,
             "ticks": ""
            },
            "colorscale": [
             [
              0,
              "#0d0887"
             ],
             [
              0.1111111111111111,
              "#46039f"
             ],
             [
              0.2222222222222222,
              "#7201a8"
             ],
             [
              0.3333333333333333,
              "#9c179e"
             ],
             [
              0.4444444444444444,
              "#bd3786"
             ],
             [
              0.5555555555555556,
              "#d8576b"
             ],
             [
              0.6666666666666666,
              "#ed7953"
             ],
             [
              0.7777777777777778,
              "#fb9f3a"
             ],
             [
              0.8888888888888888,
              "#fdca26"
             ],
             [
              1,
              "#f0f921"
             ]
            ],
            "type": "heatmap"
           }
          ],
          "heatmapgl": [
           {
            "colorbar": {
             "outlinewidth": 0,
             "ticks": ""
            },
            "colorscale": [
             [
              0,
              "#0d0887"
             ],
             [
              0.1111111111111111,
              "#46039f"
             ],
             [
              0.2222222222222222,
              "#7201a8"
             ],
             [
              0.3333333333333333,
              "#9c179e"
             ],
             [
              0.4444444444444444,
              "#bd3786"
             ],
             [
              0.5555555555555556,
              "#d8576b"
             ],
             [
              0.6666666666666666,
              "#ed7953"
             ],
             [
              0.7777777777777778,
              "#fb9f3a"
             ],
             [
              0.8888888888888888,
              "#fdca26"
             ],
             [
              1,
              "#f0f921"
             ]
            ],
            "type": "heatmapgl"
           }
          ],
          "histogram": [
           {
            "marker": {
             "pattern": {
              "fillmode": "overlay",
              "size": 10,
              "solidity": 0.2
             }
            },
            "type": "histogram"
           }
          ],
          "histogram2d": [
           {
            "colorbar": {
             "outlinewidth": 0,
             "ticks": ""
            },
            "colorscale": [
             [
              0,
              "#0d0887"
             ],
             [
              0.1111111111111111,
              "#46039f"
             ],
             [
              0.2222222222222222,
              "#7201a8"
             ],
             [
              0.3333333333333333,
              "#9c179e"
             ],
             [
              0.4444444444444444,
              "#bd3786"
             ],
             [
              0.5555555555555556,
              "#d8576b"
             ],
             [
              0.6666666666666666,
              "#ed7953"
             ],
             [
              0.7777777777777778,
              "#fb9f3a"
             ],
             [
              0.8888888888888888,
              "#fdca26"
             ],
             [
              1,
              "#f0f921"
             ]
            ],
            "type": "histogram2d"
           }
          ],
          "histogram2dcontour": [
           {
            "colorbar": {
             "outlinewidth": 0,
             "ticks": ""
            },
            "colorscale": [
             [
              0,
              "#0d0887"
             ],
             [
              0.1111111111111111,
              "#46039f"
             ],
             [
              0.2222222222222222,
              "#7201a8"
             ],
             [
              0.3333333333333333,
              "#9c179e"
             ],
             [
              0.4444444444444444,
              "#bd3786"
             ],
             [
              0.5555555555555556,
              "#d8576b"
             ],
             [
              0.6666666666666666,
              "#ed7953"
             ],
             [
              0.7777777777777778,
              "#fb9f3a"
             ],
             [
              0.8888888888888888,
              "#fdca26"
             ],
             [
              1,
              "#f0f921"
             ]
            ],
            "type": "histogram2dcontour"
           }
          ],
          "mesh3d": [
           {
            "colorbar": {
             "outlinewidth": 0,
             "ticks": ""
            },
            "type": "mesh3d"
           }
          ],
          "parcoords": [
           {
            "line": {
             "colorbar": {
              "outlinewidth": 0,
              "ticks": ""
             }
            },
            "type": "parcoords"
           }
          ],
          "pie": [
           {
            "automargin": true,
            "type": "pie"
           }
          ],
          "scatter": [
           {
            "fillpattern": {
             "fillmode": "overlay",
             "size": 10,
             "solidity": 0.2
            },
            "type": "scatter"
           }
          ],
          "scatter3d": [
           {
            "line": {
             "colorbar": {
              "outlinewidth": 0,
              "ticks": ""
             }
            },
            "marker": {
             "colorbar": {
              "outlinewidth": 0,
              "ticks": ""
             }
            },
            "type": "scatter3d"
           }
          ],
          "scattercarpet": [
           {
            "marker": {
             "colorbar": {
              "outlinewidth": 0,
              "ticks": ""
             }
            },
            "type": "scattercarpet"
           }
          ],
          "scattergeo": [
           {
            "marker": {
             "colorbar": {
              "outlinewidth": 0,
              "ticks": ""
             }
            },
            "type": "scattergeo"
           }
          ],
          "scattergl": [
           {
            "marker": {
             "colorbar": {
              "outlinewidth": 0,
              "ticks": ""
             }
            },
            "type": "scattergl"
           }
          ],
          "scattermapbox": [
           {
            "marker": {
             "colorbar": {
              "outlinewidth": 0,
              "ticks": ""
             }
            },
            "type": "scattermapbox"
           }
          ],
          "scatterpolar": [
           {
            "marker": {
             "colorbar": {
              "outlinewidth": 0,
              "ticks": ""
             }
            },
            "type": "scatterpolar"
           }
          ],
          "scatterpolargl": [
           {
            "marker": {
             "colorbar": {
              "outlinewidth": 0,
              "ticks": ""
             }
            },
            "type": "scatterpolargl"
           }
          ],
          "scatterternary": [
           {
            "marker": {
             "colorbar": {
              "outlinewidth": 0,
              "ticks": ""
             }
            },
            "type": "scatterternary"
           }
          ],
          "surface": [
           {
            "colorbar": {
             "outlinewidth": 0,
             "ticks": ""
            },
            "colorscale": [
             [
              0,
              "#0d0887"
             ],
             [
              0.1111111111111111,
              "#46039f"
             ],
             [
              0.2222222222222222,
              "#7201a8"
             ],
             [
              0.3333333333333333,
              "#9c179e"
             ],
             [
              0.4444444444444444,
              "#bd3786"
             ],
             [
              0.5555555555555556,
              "#d8576b"
             ],
             [
              0.6666666666666666,
              "#ed7953"
             ],
             [
              0.7777777777777778,
              "#fb9f3a"
             ],
             [
              0.8888888888888888,
              "#fdca26"
             ],
             [
              1,
              "#f0f921"
             ]
            ],
            "type": "surface"
           }
          ],
          "table": [
           {
            "cells": {
             "fill": {
              "color": "#EBF0F8"
             },
             "line": {
              "color": "white"
             }
            },
            "header": {
             "fill": {
              "color": "#C8D4E3"
             },
             "line": {
              "color": "white"
             }
            },
            "type": "table"
           }
          ]
         },
         "layout": {
          "annotationdefaults": {
           "arrowcolor": "#2a3f5f",
           "arrowhead": 0,
           "arrowwidth": 1
          },
          "autotypenumbers": "strict",
          "coloraxis": {
           "colorbar": {
            "outlinewidth": 0,
            "ticks": ""
           }
          },
          "colorscale": {
           "diverging": [
            [
             0,
             "#8e0152"
            ],
            [
             0.1,
             "#c51b7d"
            ],
            [
             0.2,
             "#de77ae"
            ],
            [
             0.3,
             "#f1b6da"
            ],
            [
             0.4,
             "#fde0ef"
            ],
            [
             0.5,
             "#f7f7f7"
            ],
            [
             0.6,
             "#e6f5d0"
            ],
            [
             0.7,
             "#b8e186"
            ],
            [
             0.8,
             "#7fbc41"
            ],
            [
             0.9,
             "#4d9221"
            ],
            [
             1,
             "#276419"
            ]
           ],
           "sequential": [
            [
             0,
             "#0d0887"
            ],
            [
             0.1111111111111111,
             "#46039f"
            ],
            [
             0.2222222222222222,
             "#7201a8"
            ],
            [
             0.3333333333333333,
             "#9c179e"
            ],
            [
             0.4444444444444444,
             "#bd3786"
            ],
            [
             0.5555555555555556,
             "#d8576b"
            ],
            [
             0.6666666666666666,
             "#ed7953"
            ],
            [
             0.7777777777777778,
             "#fb9f3a"
            ],
            [
             0.8888888888888888,
             "#fdca26"
            ],
            [
             1,
             "#f0f921"
            ]
           ],
           "sequentialminus": [
            [
             0,
             "#0d0887"
            ],
            [
             0.1111111111111111,
             "#46039f"
            ],
            [
             0.2222222222222222,
             "#7201a8"
            ],
            [
             0.3333333333333333,
             "#9c179e"
            ],
            [
             0.4444444444444444,
             "#bd3786"
            ],
            [
             0.5555555555555556,
             "#d8576b"
            ],
            [
             0.6666666666666666,
             "#ed7953"
            ],
            [
             0.7777777777777778,
             "#fb9f3a"
            ],
            [
             0.8888888888888888,
             "#fdca26"
            ],
            [
             1,
             "#f0f921"
            ]
           ]
          },
          "colorway": [
           "#636efa",
           "#EF553B",
           "#00cc96",
           "#ab63fa",
           "#FFA15A",
           "#19d3f3",
           "#FF6692",
           "#B6E880",
           "#FF97FF",
           "#FECB52"
          ],
          "font": {
           "color": "#2a3f5f"
          },
          "geo": {
           "bgcolor": "white",
           "lakecolor": "white",
           "landcolor": "#E5ECF6",
           "showlakes": true,
           "showland": true,
           "subunitcolor": "white"
          },
          "hoverlabel": {
           "align": "left"
          },
          "hovermode": "closest",
          "mapbox": {
           "style": "light"
          },
          "paper_bgcolor": "white",
          "plot_bgcolor": "#E5ECF6",
          "polar": {
           "angularaxis": {
            "gridcolor": "white",
            "linecolor": "white",
            "ticks": ""
           },
           "bgcolor": "#E5ECF6",
           "radialaxis": {
            "gridcolor": "white",
            "linecolor": "white",
            "ticks": ""
           }
          },
          "scene": {
           "xaxis": {
            "backgroundcolor": "#E5ECF6",
            "gridcolor": "white",
            "gridwidth": 2,
            "linecolor": "white",
            "showbackground": true,
            "ticks": "",
            "zerolinecolor": "white"
           },
           "yaxis": {
            "backgroundcolor": "#E5ECF6",
            "gridcolor": "white",
            "gridwidth": 2,
            "linecolor": "white",
            "showbackground": true,
            "ticks": "",
            "zerolinecolor": "white"
           },
           "zaxis": {
            "backgroundcolor": "#E5ECF6",
            "gridcolor": "white",
            "gridwidth": 2,
            "linecolor": "white",
            "showbackground": true,
            "ticks": "",
            "zerolinecolor": "white"
           }
          },
          "shapedefaults": {
           "line": {
            "color": "#2a3f5f"
           }
          },
          "ternary": {
           "aaxis": {
            "gridcolor": "white",
            "linecolor": "white",
            "ticks": ""
           },
           "baxis": {
            "gridcolor": "white",
            "linecolor": "white",
            "ticks": ""
           },
           "bgcolor": "#E5ECF6",
           "caxis": {
            "gridcolor": "white",
            "linecolor": "white",
            "ticks": ""
           }
          },
          "title": {
           "x": 0.05
          },
          "xaxis": {
           "automargin": true,
           "gridcolor": "white",
           "linecolor": "white",
           "ticks": "",
           "title": {
            "standoff": 15
           },
           "zerolinecolor": "white",
           "zerolinewidth": 2
          },
          "yaxis": {
           "automargin": true,
           "gridcolor": "white",
           "linecolor": "white",
           "ticks": "",
           "title": {
            "standoff": 15
           },
           "zerolinecolor": "white",
           "zerolinewidth": 2
          }
         }
        },
        "title": {
         "text": "Kommunikation zu Kollegen und Vorgesetzten"
        },
        "width": 800,
        "xaxis": {
         "anchor": "y",
         "domain": [
          0,
          0.45
         ]
        },
        "xaxis2": {
         "anchor": "y2",
         "domain": [
          0.55,
          1
         ]
        },
        "yaxis": {
         "anchor": "x",
         "domain": [
          0,
          1
         ]
        },
        "yaxis2": {
         "anchor": "x2",
         "domain": [
          0,
          1
         ]
        }
       }
      }
     },
     "metadata": {},
     "output_type": "display_data"
    }
   ],
   "source": [
    "fig = make_subplots(rows=1,cols=2)\n",
    "\n",
    "fig.add_trace(\n",
    "    go.Bar(x=df_cl[\"coworkers\"].value_counts().index, \n",
    "           y=df_cl[\"coworkers\"].value_counts().values,\n",
    "           name=\"Kollegen\"),\n",
    "    row=1, col=1\n",
    ")\n",
    "fig.add_trace(\n",
    "    go.Bar(x = df_cl[\"supervisor\"].value_counts().index,\n",
    "           y= df_cl[\"supervisor\"].value_counts().values, \n",
    "           name=\"Vorgesetzte\"),\n",
    "    row=1, col=2\n",
    ")\n",
    "\n",
    "fig.update_layout(height=600, width=800, title_text= \"Kommunikation zu Kollegen und Vorgesetzten\")\n",
    "fig.show()\n"
   ]
  },
  {
   "cell_type": "markdown",
   "id": "2512798e",
   "metadata": {},
   "source": [
    "Ersichtlich ist der Unterschied zwischen Kollegen und Vorgesetzten. \n",
    "- Bei den Kollegen erscheint für viele Personen die Antwortmöglichkeit: Ich kann mit einigen über psychische Probleme reden am nah liegendsten. Es liegt wahrscheinlich in der Natur des Menschens\n",
    "- Bei den Vorgesetzten ist die Varianz zwischen den Kommunikationsmöglichkeiten höher\n"
   ]
  },
  {
   "cell_type": "markdown",
   "id": "0b54e2bb",
   "metadata": {},
   "source": [
    "Ziel der fortlaufenden Analyse ist ob mit dem Alter das Kommunikationsverhalten zunimmt. Die Personen eher mit den Angehörigen der Unternehmen reden würden. \n",
    "\n",
    "**These: Mit dem Alter steigt die Bereitschaft mentale Probleme mit zu teilen.**\n"
   ]
  },
  {
   "cell_type": "markdown",
   "id": "c2503887",
   "metadata": {},
   "source": [
    "#### 4.1.2.4 Mental Health Condition vs. Alter"
   ]
  },
  {
   "cell_type": "code",
   "execution_count": 67,
   "id": "f4141c8d",
   "metadata": {},
   "outputs": [],
   "source": [
    "mental_age = (df_cl.groupby([\"Age\", \"mental_health_condition\"]).size().reset_index(name = \"count\"))"
   ]
  },
  {
   "cell_type": "code",
   "execution_count": 68,
   "id": "aa49f87c",
   "metadata": {},
   "outputs": [
    {
     "data": {
      "application/vnd.plotly.v1+json": {
       "config": {
        "plotlyServerURL": "https://plot.ly"
       },
       "data": [
        {
         "alignmentgroup": "True",
         "hovertemplate": "mental_health_condition=No<br>Age=%{x}<br>count=%{y}<extra></extra>",
         "legendgroup": "No",
         "marker": {
          "color": "#636efa",
          "pattern": {
           "shape": ""
          }
         },
         "name": "No",
         "offsetgroup": "No",
         "orientation": "v",
         "showlegend": true,
         "textposition": "auto",
         "type": "bar",
         "x": [
          18,
          19,
          20,
          21,
          22,
          23,
          24,
          25,
          26,
          27,
          28,
          29,
          30,
          31,
          32,
          33,
          34,
          35,
          36,
          37,
          38,
          39,
          40,
          41,
          42,
          43,
          44,
          45,
          46,
          47,
          48,
          50,
          51,
          60,
          65
         ],
         "xaxis": "x",
         "y": [
          2,
          3,
          1,
          2,
          6,
          10,
          14,
          15,
          14,
          19,
          14,
          23,
          11,
          16,
          14,
          17,
          12,
          10,
          4,
          9,
          7,
          7,
          4,
          3,
          2,
          8,
          2,
          1,
          1,
          1,
          1,
          2,
          1,
          1,
          1
         ],
         "yaxis": "y"
        },
        {
         "alignmentgroup": "True",
         "hovertemplate": "mental_health_condition=Yes<br>Age=%{x}<br>count=%{y}<extra></extra>",
         "legendgroup": "Yes",
         "marker": {
          "color": "#EF553B",
          "pattern": {
           "shape": ""
          }
         },
         "name": "Yes",
         "offsetgroup": "Yes",
         "orientation": "v",
         "showlegend": true,
         "textposition": "auto",
         "type": "bar",
         "x": [
          18,
          19,
          20,
          21,
          22,
          23,
          24,
          25,
          26,
          27,
          28,
          29,
          30,
          31,
          32,
          33,
          34,
          35,
          36,
          37,
          38,
          39,
          40,
          41,
          42,
          43,
          44,
          45,
          46,
          47,
          48,
          49,
          50,
          51,
          53,
          54,
          55,
          56,
          57,
          58,
          60,
          61,
          62,
          72
         ],
         "xaxis": "x",
         "y": [
          5,
          6,
          5,
          14,
          15,
          41,
          32,
          46,
          61,
          52,
          54,
          62,
          52,
          51,
          68,
          53,
          53,
          45,
          33,
          34,
          32,
          26,
          29,
          18,
          18,
          20,
          9,
          11,
          11,
          1,
          5,
          4,
          4,
          4,
          1,
          3,
          3,
          4,
          3,
          1,
          1,
          1,
          1,
          1
         ],
         "yaxis": "y"
        }
       ],
       "layout": {
        "barmode": "stack",
        "legend": {
         "title": {
          "text": "mental_health_condition"
         },
         "tracegroupgap": 0
        },
        "template": {
         "data": {
          "bar": [
           {
            "error_x": {
             "color": "#2a3f5f"
            },
            "error_y": {
             "color": "#2a3f5f"
            },
            "marker": {
             "line": {
              "color": "#E5ECF6",
              "width": 0.5
             },
             "pattern": {
              "fillmode": "overlay",
              "size": 10,
              "solidity": 0.2
             }
            },
            "type": "bar"
           }
          ],
          "barpolar": [
           {
            "marker": {
             "line": {
              "color": "#E5ECF6",
              "width": 0.5
             },
             "pattern": {
              "fillmode": "overlay",
              "size": 10,
              "solidity": 0.2
             }
            },
            "type": "barpolar"
           }
          ],
          "carpet": [
           {
            "aaxis": {
             "endlinecolor": "#2a3f5f",
             "gridcolor": "white",
             "linecolor": "white",
             "minorgridcolor": "white",
             "startlinecolor": "#2a3f5f"
            },
            "baxis": {
             "endlinecolor": "#2a3f5f",
             "gridcolor": "white",
             "linecolor": "white",
             "minorgridcolor": "white",
             "startlinecolor": "#2a3f5f"
            },
            "type": "carpet"
           }
          ],
          "choropleth": [
           {
            "colorbar": {
             "outlinewidth": 0,
             "ticks": ""
            },
            "type": "choropleth"
           }
          ],
          "contour": [
           {
            "colorbar": {
             "outlinewidth": 0,
             "ticks": ""
            },
            "colorscale": [
             [
              0,
              "#0d0887"
             ],
             [
              0.1111111111111111,
              "#46039f"
             ],
             [
              0.2222222222222222,
              "#7201a8"
             ],
             [
              0.3333333333333333,
              "#9c179e"
             ],
             [
              0.4444444444444444,
              "#bd3786"
             ],
             [
              0.5555555555555556,
              "#d8576b"
             ],
             [
              0.6666666666666666,
              "#ed7953"
             ],
             [
              0.7777777777777778,
              "#fb9f3a"
             ],
             [
              0.8888888888888888,
              "#fdca26"
             ],
             [
              1,
              "#f0f921"
             ]
            ],
            "type": "contour"
           }
          ],
          "contourcarpet": [
           {
            "colorbar": {
             "outlinewidth": 0,
             "ticks": ""
            },
            "type": "contourcarpet"
           }
          ],
          "heatmap": [
           {
            "colorbar": {
             "outlinewidth": 0,
             "ticks": ""
            },
            "colorscale": [
             [
              0,
              "#0d0887"
             ],
             [
              0.1111111111111111,
              "#46039f"
             ],
             [
              0.2222222222222222,
              "#7201a8"
             ],
             [
              0.3333333333333333,
              "#9c179e"
             ],
             [
              0.4444444444444444,
              "#bd3786"
             ],
             [
              0.5555555555555556,
              "#d8576b"
             ],
             [
              0.6666666666666666,
              "#ed7953"
             ],
             [
              0.7777777777777778,
              "#fb9f3a"
             ],
             [
              0.8888888888888888,
              "#fdca26"
             ],
             [
              1,
              "#f0f921"
             ]
            ],
            "type": "heatmap"
           }
          ],
          "heatmapgl": [
           {
            "colorbar": {
             "outlinewidth": 0,
             "ticks": ""
            },
            "colorscale": [
             [
              0,
              "#0d0887"
             ],
             [
              0.1111111111111111,
              "#46039f"
             ],
             [
              0.2222222222222222,
              "#7201a8"
             ],
             [
              0.3333333333333333,
              "#9c179e"
             ],
             [
              0.4444444444444444,
              "#bd3786"
             ],
             [
              0.5555555555555556,
              "#d8576b"
             ],
             [
              0.6666666666666666,
              "#ed7953"
             ],
             [
              0.7777777777777778,
              "#fb9f3a"
             ],
             [
              0.8888888888888888,
              "#fdca26"
             ],
             [
              1,
              "#f0f921"
             ]
            ],
            "type": "heatmapgl"
           }
          ],
          "histogram": [
           {
            "marker": {
             "pattern": {
              "fillmode": "overlay",
              "size": 10,
              "solidity": 0.2
             }
            },
            "type": "histogram"
           }
          ],
          "histogram2d": [
           {
            "colorbar": {
             "outlinewidth": 0,
             "ticks": ""
            },
            "colorscale": [
             [
              0,
              "#0d0887"
             ],
             [
              0.1111111111111111,
              "#46039f"
             ],
             [
              0.2222222222222222,
              "#7201a8"
             ],
             [
              0.3333333333333333,
              "#9c179e"
             ],
             [
              0.4444444444444444,
              "#bd3786"
             ],
             [
              0.5555555555555556,
              "#d8576b"
             ],
             [
              0.6666666666666666,
              "#ed7953"
             ],
             [
              0.7777777777777778,
              "#fb9f3a"
             ],
             [
              0.8888888888888888,
              "#fdca26"
             ],
             [
              1,
              "#f0f921"
             ]
            ],
            "type": "histogram2d"
           }
          ],
          "histogram2dcontour": [
           {
            "colorbar": {
             "outlinewidth": 0,
             "ticks": ""
            },
            "colorscale": [
             [
              0,
              "#0d0887"
             ],
             [
              0.1111111111111111,
              "#46039f"
             ],
             [
              0.2222222222222222,
              "#7201a8"
             ],
             [
              0.3333333333333333,
              "#9c179e"
             ],
             [
              0.4444444444444444,
              "#bd3786"
             ],
             [
              0.5555555555555556,
              "#d8576b"
             ],
             [
              0.6666666666666666,
              "#ed7953"
             ],
             [
              0.7777777777777778,
              "#fb9f3a"
             ],
             [
              0.8888888888888888,
              "#fdca26"
             ],
             [
              1,
              "#f0f921"
             ]
            ],
            "type": "histogram2dcontour"
           }
          ],
          "mesh3d": [
           {
            "colorbar": {
             "outlinewidth": 0,
             "ticks": ""
            },
            "type": "mesh3d"
           }
          ],
          "parcoords": [
           {
            "line": {
             "colorbar": {
              "outlinewidth": 0,
              "ticks": ""
             }
            },
            "type": "parcoords"
           }
          ],
          "pie": [
           {
            "automargin": true,
            "type": "pie"
           }
          ],
          "scatter": [
           {
            "fillpattern": {
             "fillmode": "overlay",
             "size": 10,
             "solidity": 0.2
            },
            "type": "scatter"
           }
          ],
          "scatter3d": [
           {
            "line": {
             "colorbar": {
              "outlinewidth": 0,
              "ticks": ""
             }
            },
            "marker": {
             "colorbar": {
              "outlinewidth": 0,
              "ticks": ""
             }
            },
            "type": "scatter3d"
           }
          ],
          "scattercarpet": [
           {
            "marker": {
             "colorbar": {
              "outlinewidth": 0,
              "ticks": ""
             }
            },
            "type": "scattercarpet"
           }
          ],
          "scattergeo": [
           {
            "marker": {
             "colorbar": {
              "outlinewidth": 0,
              "ticks": ""
             }
            },
            "type": "scattergeo"
           }
          ],
          "scattergl": [
           {
            "marker": {
             "colorbar": {
              "outlinewidth": 0,
              "ticks": ""
             }
            },
            "type": "scattergl"
           }
          ],
          "scattermapbox": [
           {
            "marker": {
             "colorbar": {
              "outlinewidth": 0,
              "ticks": ""
             }
            },
            "type": "scattermapbox"
           }
          ],
          "scatterpolar": [
           {
            "marker": {
             "colorbar": {
              "outlinewidth": 0,
              "ticks": ""
             }
            },
            "type": "scatterpolar"
           }
          ],
          "scatterpolargl": [
           {
            "marker": {
             "colorbar": {
              "outlinewidth": 0,
              "ticks": ""
             }
            },
            "type": "scatterpolargl"
           }
          ],
          "scatterternary": [
           {
            "marker": {
             "colorbar": {
              "outlinewidth": 0,
              "ticks": ""
             }
            },
            "type": "scatterternary"
           }
          ],
          "surface": [
           {
            "colorbar": {
             "outlinewidth": 0,
             "ticks": ""
            },
            "colorscale": [
             [
              0,
              "#0d0887"
             ],
             [
              0.1111111111111111,
              "#46039f"
             ],
             [
              0.2222222222222222,
              "#7201a8"
             ],
             [
              0.3333333333333333,
              "#9c179e"
             ],
             [
              0.4444444444444444,
              "#bd3786"
             ],
             [
              0.5555555555555556,
              "#d8576b"
             ],
             [
              0.6666666666666666,
              "#ed7953"
             ],
             [
              0.7777777777777778,
              "#fb9f3a"
             ],
             [
              0.8888888888888888,
              "#fdca26"
             ],
             [
              1,
              "#f0f921"
             ]
            ],
            "type": "surface"
           }
          ],
          "table": [
           {
            "cells": {
             "fill": {
              "color": "#EBF0F8"
             },
             "line": {
              "color": "white"
             }
            },
            "header": {
             "fill": {
              "color": "#C8D4E3"
             },
             "line": {
              "color": "white"
             }
            },
            "type": "table"
           }
          ]
         },
         "layout": {
          "annotationdefaults": {
           "arrowcolor": "#2a3f5f",
           "arrowhead": 0,
           "arrowwidth": 1
          },
          "autotypenumbers": "strict",
          "coloraxis": {
           "colorbar": {
            "outlinewidth": 0,
            "ticks": ""
           }
          },
          "colorscale": {
           "diverging": [
            [
             0,
             "#8e0152"
            ],
            [
             0.1,
             "#c51b7d"
            ],
            [
             0.2,
             "#de77ae"
            ],
            [
             0.3,
             "#f1b6da"
            ],
            [
             0.4,
             "#fde0ef"
            ],
            [
             0.5,
             "#f7f7f7"
            ],
            [
             0.6,
             "#e6f5d0"
            ],
            [
             0.7,
             "#b8e186"
            ],
            [
             0.8,
             "#7fbc41"
            ],
            [
             0.9,
             "#4d9221"
            ],
            [
             1,
             "#276419"
            ]
           ],
           "sequential": [
            [
             0,
             "#0d0887"
            ],
            [
             0.1111111111111111,
             "#46039f"
            ],
            [
             0.2222222222222222,
             "#7201a8"
            ],
            [
             0.3333333333333333,
             "#9c179e"
            ],
            [
             0.4444444444444444,
             "#bd3786"
            ],
            [
             0.5555555555555556,
             "#d8576b"
            ],
            [
             0.6666666666666666,
             "#ed7953"
            ],
            [
             0.7777777777777778,
             "#fb9f3a"
            ],
            [
             0.8888888888888888,
             "#fdca26"
            ],
            [
             1,
             "#f0f921"
            ]
           ],
           "sequentialminus": [
            [
             0,
             "#0d0887"
            ],
            [
             0.1111111111111111,
             "#46039f"
            ],
            [
             0.2222222222222222,
             "#7201a8"
            ],
            [
             0.3333333333333333,
             "#9c179e"
            ],
            [
             0.4444444444444444,
             "#bd3786"
            ],
            [
             0.5555555555555556,
             "#d8576b"
            ],
            [
             0.6666666666666666,
             "#ed7953"
            ],
            [
             0.7777777777777778,
             "#fb9f3a"
            ],
            [
             0.8888888888888888,
             "#fdca26"
            ],
            [
             1,
             "#f0f921"
            ]
           ]
          },
          "colorway": [
           "#636efa",
           "#EF553B",
           "#00cc96",
           "#ab63fa",
           "#FFA15A",
           "#19d3f3",
           "#FF6692",
           "#B6E880",
           "#FF97FF",
           "#FECB52"
          ],
          "font": {
           "color": "#2a3f5f"
          },
          "geo": {
           "bgcolor": "white",
           "lakecolor": "white",
           "landcolor": "#E5ECF6",
           "showlakes": true,
           "showland": true,
           "subunitcolor": "white"
          },
          "hoverlabel": {
           "align": "left"
          },
          "hovermode": "closest",
          "mapbox": {
           "style": "light"
          },
          "paper_bgcolor": "white",
          "plot_bgcolor": "#E5ECF6",
          "polar": {
           "angularaxis": {
            "gridcolor": "white",
            "linecolor": "white",
            "ticks": ""
           },
           "bgcolor": "#E5ECF6",
           "radialaxis": {
            "gridcolor": "white",
            "linecolor": "white",
            "ticks": ""
           }
          },
          "scene": {
           "xaxis": {
            "backgroundcolor": "#E5ECF6",
            "gridcolor": "white",
            "gridwidth": 2,
            "linecolor": "white",
            "showbackground": true,
            "ticks": "",
            "zerolinecolor": "white"
           },
           "yaxis": {
            "backgroundcolor": "#E5ECF6",
            "gridcolor": "white",
            "gridwidth": 2,
            "linecolor": "white",
            "showbackground": true,
            "ticks": "",
            "zerolinecolor": "white"
           },
           "zaxis": {
            "backgroundcolor": "#E5ECF6",
            "gridcolor": "white",
            "gridwidth": 2,
            "linecolor": "white",
            "showbackground": true,
            "ticks": "",
            "zerolinecolor": "white"
           }
          },
          "shapedefaults": {
           "line": {
            "color": "#2a3f5f"
           }
          },
          "ternary": {
           "aaxis": {
            "gridcolor": "white",
            "linecolor": "white",
            "ticks": ""
           },
           "baxis": {
            "gridcolor": "white",
            "linecolor": "white",
            "ticks": ""
           },
           "bgcolor": "#E5ECF6",
           "caxis": {
            "gridcolor": "white",
            "linecolor": "white",
            "ticks": ""
           }
          },
          "title": {
           "x": 0.05
          },
          "xaxis": {
           "automargin": true,
           "gridcolor": "white",
           "linecolor": "white",
           "ticks": "",
           "title": {
            "standoff": 15
           },
           "zerolinecolor": "white",
           "zerolinewidth": 2
          },
          "yaxis": {
           "automargin": true,
           "gridcolor": "white",
           "linecolor": "white",
           "ticks": "",
           "title": {
            "standoff": 15
           },
           "zerolinecolor": "white",
           "zerolinewidth": 2
          }
         }
        },
        "title": {
         "text": "Vertreilung des Alters hinsichtlich psychische Probleme"
        },
        "xaxis": {
         "anchor": "y",
         "domain": [
          0,
          1
         ],
         "title": {
          "text": "Age"
         }
        },
        "yaxis": {
         "anchor": "x",
         "domain": [
          0,
          1
         ],
         "title": {
          "text": "count"
         }
        }
       }
      }
     },
     "metadata": {},
     "output_type": "display_data"
    }
   ],
   "source": [
    "fig = px.bar(mental_age, x = \"Age\",y = \"count\",color = \"mental_health_condition\", title=\"Vertreilung des Alters hinsichtlich psychische Probleme\", barmode= \"stack\")\n",
    "\n",
    "fig.show()"
   ]
  },
  {
   "cell_type": "markdown",
   "id": "e74d9de7",
   "metadata": {},
   "source": [
    "Die Übersicht ist verzerrt durch die Altersverteilung. Eine weiter Analyse erfolgt in der explorativen Analyse.\n",
    "\n",
    "**These: Mit zunehmenden Alter steigt die Wahrscheinlichkeit mentale Probleme zu haben.**"
   ]
  },
  {
   "cell_type": "markdown",
   "id": "e1a950b3",
   "metadata": {},
   "source": [
    "### 4.1.3 Geschlecht"
   ]
  },
  {
   "cell_type": "markdown",
   "id": "9d7f1931",
   "metadata": {},
   "source": [
    "#### 4.1.3.2 Geschlecht und Kommunikation über Probleme"
   ]
  },
  {
   "cell_type": "code",
   "execution_count": 68,
   "id": "4648c058",
   "metadata": {},
   "outputs": [],
   "source": [
    "gender_supervisor = (df_cl.groupby([\"Gender\", \"supervisor\"]).size().reset_index(name= \"count\"))\n",
    "gender_coworkers = (df_cl.groupby([\"Gender\", \"coworkers\"]).size().reset_index(name= \"count\"))\n",
    "\n",
    "gender_list = [\"male\", \"female\", \"diverse\"]\n"
   ]
  },
  {
   "cell_type": "code",
   "execution_count": 69,
   "id": "5c3596c7",
   "metadata": {},
   "outputs": [
    {
     "data": {
      "application/vnd.plotly.v1+json": {
       "config": {
        "plotlyServerURL": "https://plot.ly"
       },
       "data": [
        {
         "domain": {
          "x": [
           0,
           0.2888888888888889
          ],
          "y": [
           0.625,
           1
          ]
         },
         "labels": [
          "No",
          "Some of them",
          "Yes"
         ],
         "name": "male Supervisor",
         "type": "pie",
         "values": [
          298,
          255,
          432
         ]
        },
        {
         "domain": {
          "x": [
           0.35555555555555557,
           0.6444444444444445
          ],
          "y": [
           0.625,
           1
          ]
         },
         "labels": [
          "No",
          "Some of them",
          "Yes"
         ],
         "name": "female Supervisor",
         "type": "pie",
         "values": [
          86,
          85,
          76
         ]
        },
        {
         "domain": {
          "x": [
           0.7111111111111111,
           1
          ],
          "y": [
           0.625,
           1
          ]
         },
         "labels": [
          "No",
          "Some of them",
          "Yes"
         ],
         "name": "diverse Supervisor",
         "type": "pie",
         "values": [
          6,
          9,
          4
         ]
        },
        {
         "domain": {
          "x": [
           0,
           0.2888888888888889
          ],
          "y": [
           0,
           0.375
          ]
         },
         "labels": [
          "No",
          "Some of them",
          "Yes"
         ],
         "name": "male Coworkers",
         "type": "pie",
         "values": [
          195,
          606,
          184
         ]
        },
        {
         "domain": {
          "x": [
           0.35555555555555557,
           0.6444444444444445
          ],
          "y": [
           0,
           0.375
          ]
         },
         "labels": [
          "No",
          "Some of them",
          "Yes"
         ],
         "name": "female Coworkers",
         "type": "pie",
         "values": [
          58,
          155,
          34
         ]
        },
        {
         "domain": {
          "x": [
           0.7111111111111111,
           1
          ],
          "y": [
           0,
           0.375
          ]
         },
         "labels": [
          "No",
          "Some of them",
          "Yes"
         ],
         "name": "diverse Coworkers",
         "type": "pie",
         "values": [
          5,
          10,
          4
         ]
        }
       ],
       "layout": {
        "annotations": [
         {
          "font": {
           "size": 16
          },
          "showarrow": false,
          "text": "Supervisor - male",
          "x": 0.14444444444444446,
          "xanchor": "center",
          "xref": "paper",
          "y": 1,
          "yanchor": "bottom",
          "yref": "paper"
         },
         {
          "font": {
           "size": 16
          },
          "showarrow": false,
          "text": "Supervisor - female",
          "x": 0.5,
          "xanchor": "center",
          "xref": "paper",
          "y": 1,
          "yanchor": "bottom",
          "yref": "paper"
         },
         {
          "font": {
           "size": 16
          },
          "showarrow": false,
          "text": "Supervisor - diverse",
          "x": 0.8555555555555556,
          "xanchor": "center",
          "xref": "paper",
          "y": 1,
          "yanchor": "bottom",
          "yref": "paper"
         },
         {
          "font": {
           "size": 16
          },
          "showarrow": false,
          "text": "Coworkers - male",
          "x": 0.14444444444444446,
          "xanchor": "center",
          "xref": "paper",
          "y": 0.375,
          "yanchor": "bottom",
          "yref": "paper"
         },
         {
          "font": {
           "size": 16
          },
          "showarrow": false,
          "text": "Coworkers - female",
          "x": 0.5,
          "xanchor": "center",
          "xref": "paper",
          "y": 0.375,
          "yanchor": "bottom",
          "yref": "paper"
         },
         {
          "font": {
           "size": 16
          },
          "showarrow": false,
          "text": "Coworkers - diverse",
          "x": 0.8555555555555556,
          "xanchor": "center",
          "xref": "paper",
          "y": 0.375,
          "yanchor": "bottom",
          "yref": "paper"
         }
        ],
        "height": 700,
        "template": {
         "data": {
          "bar": [
           {
            "error_x": {
             "color": "#2a3f5f"
            },
            "error_y": {
             "color": "#2a3f5f"
            },
            "marker": {
             "line": {
              "color": "#E5ECF6",
              "width": 0.5
             },
             "pattern": {
              "fillmode": "overlay",
              "size": 10,
              "solidity": 0.2
             }
            },
            "type": "bar"
           }
          ],
          "barpolar": [
           {
            "marker": {
             "line": {
              "color": "#E5ECF6",
              "width": 0.5
             },
             "pattern": {
              "fillmode": "overlay",
              "size": 10,
              "solidity": 0.2
             }
            },
            "type": "barpolar"
           }
          ],
          "carpet": [
           {
            "aaxis": {
             "endlinecolor": "#2a3f5f",
             "gridcolor": "white",
             "linecolor": "white",
             "minorgridcolor": "white",
             "startlinecolor": "#2a3f5f"
            },
            "baxis": {
             "endlinecolor": "#2a3f5f",
             "gridcolor": "white",
             "linecolor": "white",
             "minorgridcolor": "white",
             "startlinecolor": "#2a3f5f"
            },
            "type": "carpet"
           }
          ],
          "choropleth": [
           {
            "colorbar": {
             "outlinewidth": 0,
             "ticks": ""
            },
            "type": "choropleth"
           }
          ],
          "contour": [
           {
            "colorbar": {
             "outlinewidth": 0,
             "ticks": ""
            },
            "colorscale": [
             [
              0,
              "#0d0887"
             ],
             [
              0.1111111111111111,
              "#46039f"
             ],
             [
              0.2222222222222222,
              "#7201a8"
             ],
             [
              0.3333333333333333,
              "#9c179e"
             ],
             [
              0.4444444444444444,
              "#bd3786"
             ],
             [
              0.5555555555555556,
              "#d8576b"
             ],
             [
              0.6666666666666666,
              "#ed7953"
             ],
             [
              0.7777777777777778,
              "#fb9f3a"
             ],
             [
              0.8888888888888888,
              "#fdca26"
             ],
             [
              1,
              "#f0f921"
             ]
            ],
            "type": "contour"
           }
          ],
          "contourcarpet": [
           {
            "colorbar": {
             "outlinewidth": 0,
             "ticks": ""
            },
            "type": "contourcarpet"
           }
          ],
          "heatmap": [
           {
            "colorbar": {
             "outlinewidth": 0,
             "ticks": ""
            },
            "colorscale": [
             [
              0,
              "#0d0887"
             ],
             [
              0.1111111111111111,
              "#46039f"
             ],
             [
              0.2222222222222222,
              "#7201a8"
             ],
             [
              0.3333333333333333,
              "#9c179e"
             ],
             [
              0.4444444444444444,
              "#bd3786"
             ],
             [
              0.5555555555555556,
              "#d8576b"
             ],
             [
              0.6666666666666666,
              "#ed7953"
             ],
             [
              0.7777777777777778,
              "#fb9f3a"
             ],
             [
              0.8888888888888888,
              "#fdca26"
             ],
             [
              1,
              "#f0f921"
             ]
            ],
            "type": "heatmap"
           }
          ],
          "heatmapgl": [
           {
            "colorbar": {
             "outlinewidth": 0,
             "ticks": ""
            },
            "colorscale": [
             [
              0,
              "#0d0887"
             ],
             [
              0.1111111111111111,
              "#46039f"
             ],
             [
              0.2222222222222222,
              "#7201a8"
             ],
             [
              0.3333333333333333,
              "#9c179e"
             ],
             [
              0.4444444444444444,
              "#bd3786"
             ],
             [
              0.5555555555555556,
              "#d8576b"
             ],
             [
              0.6666666666666666,
              "#ed7953"
             ],
             [
              0.7777777777777778,
              "#fb9f3a"
             ],
             [
              0.8888888888888888,
              "#fdca26"
             ],
             [
              1,
              "#f0f921"
             ]
            ],
            "type": "heatmapgl"
           }
          ],
          "histogram": [
           {
            "marker": {
             "pattern": {
              "fillmode": "overlay",
              "size": 10,
              "solidity": 0.2
             }
            },
            "type": "histogram"
           }
          ],
          "histogram2d": [
           {
            "colorbar": {
             "outlinewidth": 0,
             "ticks": ""
            },
            "colorscale": [
             [
              0,
              "#0d0887"
             ],
             [
              0.1111111111111111,
              "#46039f"
             ],
             [
              0.2222222222222222,
              "#7201a8"
             ],
             [
              0.3333333333333333,
              "#9c179e"
             ],
             [
              0.4444444444444444,
              "#bd3786"
             ],
             [
              0.5555555555555556,
              "#d8576b"
             ],
             [
              0.6666666666666666,
              "#ed7953"
             ],
             [
              0.7777777777777778,
              "#fb9f3a"
             ],
             [
              0.8888888888888888,
              "#fdca26"
             ],
             [
              1,
              "#f0f921"
             ]
            ],
            "type": "histogram2d"
           }
          ],
          "histogram2dcontour": [
           {
            "colorbar": {
             "outlinewidth": 0,
             "ticks": ""
            },
            "colorscale": [
             [
              0,
              "#0d0887"
             ],
             [
              0.1111111111111111,
              "#46039f"
             ],
             [
              0.2222222222222222,
              "#7201a8"
             ],
             [
              0.3333333333333333,
              "#9c179e"
             ],
             [
              0.4444444444444444,
              "#bd3786"
             ],
             [
              0.5555555555555556,
              "#d8576b"
             ],
             [
              0.6666666666666666,
              "#ed7953"
             ],
             [
              0.7777777777777778,
              "#fb9f3a"
             ],
             [
              0.8888888888888888,
              "#fdca26"
             ],
             [
              1,
              "#f0f921"
             ]
            ],
            "type": "histogram2dcontour"
           }
          ],
          "mesh3d": [
           {
            "colorbar": {
             "outlinewidth": 0,
             "ticks": ""
            },
            "type": "mesh3d"
           }
          ],
          "parcoords": [
           {
            "line": {
             "colorbar": {
              "outlinewidth": 0,
              "ticks": ""
             }
            },
            "type": "parcoords"
           }
          ],
          "pie": [
           {
            "automargin": true,
            "type": "pie"
           }
          ],
          "scatter": [
           {
            "fillpattern": {
             "fillmode": "overlay",
             "size": 10,
             "solidity": 0.2
            },
            "type": "scatter"
           }
          ],
          "scatter3d": [
           {
            "line": {
             "colorbar": {
              "outlinewidth": 0,
              "ticks": ""
             }
            },
            "marker": {
             "colorbar": {
              "outlinewidth": 0,
              "ticks": ""
             }
            },
            "type": "scatter3d"
           }
          ],
          "scattercarpet": [
           {
            "marker": {
             "colorbar": {
              "outlinewidth": 0,
              "ticks": ""
             }
            },
            "type": "scattercarpet"
           }
          ],
          "scattergeo": [
           {
            "marker": {
             "colorbar": {
              "outlinewidth": 0,
              "ticks": ""
             }
            },
            "type": "scattergeo"
           }
          ],
          "scattergl": [
           {
            "marker": {
             "colorbar": {
              "outlinewidth": 0,
              "ticks": ""
             }
            },
            "type": "scattergl"
           }
          ],
          "scattermapbox": [
           {
            "marker": {
             "colorbar": {
              "outlinewidth": 0,
              "ticks": ""
             }
            },
            "type": "scattermapbox"
           }
          ],
          "scatterpolar": [
           {
            "marker": {
             "colorbar": {
              "outlinewidth": 0,
              "ticks": ""
             }
            },
            "type": "scatterpolar"
           }
          ],
          "scatterpolargl": [
           {
            "marker": {
             "colorbar": {
              "outlinewidth": 0,
              "ticks": ""
             }
            },
            "type": "scatterpolargl"
           }
          ],
          "scatterternary": [
           {
            "marker": {
             "colorbar": {
              "outlinewidth": 0,
              "ticks": ""
             }
            },
            "type": "scatterternary"
           }
          ],
          "surface": [
           {
            "colorbar": {
             "outlinewidth": 0,
             "ticks": ""
            },
            "colorscale": [
             [
              0,
              "#0d0887"
             ],
             [
              0.1111111111111111,
              "#46039f"
             ],
             [
              0.2222222222222222,
              "#7201a8"
             ],
             [
              0.3333333333333333,
              "#9c179e"
             ],
             [
              0.4444444444444444,
              "#bd3786"
             ],
             [
              0.5555555555555556,
              "#d8576b"
             ],
             [
              0.6666666666666666,
              "#ed7953"
             ],
             [
              0.7777777777777778,
              "#fb9f3a"
             ],
             [
              0.8888888888888888,
              "#fdca26"
             ],
             [
              1,
              "#f0f921"
             ]
            ],
            "type": "surface"
           }
          ],
          "table": [
           {
            "cells": {
             "fill": {
              "color": "#EBF0F8"
             },
             "line": {
              "color": "white"
             }
            },
            "header": {
             "fill": {
              "color": "#C8D4E3"
             },
             "line": {
              "color": "white"
             }
            },
            "type": "table"
           }
          ]
         },
         "layout": {
          "annotationdefaults": {
           "arrowcolor": "#2a3f5f",
           "arrowhead": 0,
           "arrowwidth": 1
          },
          "autotypenumbers": "strict",
          "coloraxis": {
           "colorbar": {
            "outlinewidth": 0,
            "ticks": ""
           }
          },
          "colorscale": {
           "diverging": [
            [
             0,
             "#8e0152"
            ],
            [
             0.1,
             "#c51b7d"
            ],
            [
             0.2,
             "#de77ae"
            ],
            [
             0.3,
             "#f1b6da"
            ],
            [
             0.4,
             "#fde0ef"
            ],
            [
             0.5,
             "#f7f7f7"
            ],
            [
             0.6,
             "#e6f5d0"
            ],
            [
             0.7,
             "#b8e186"
            ],
            [
             0.8,
             "#7fbc41"
            ],
            [
             0.9,
             "#4d9221"
            ],
            [
             1,
             "#276419"
            ]
           ],
           "sequential": [
            [
             0,
             "#0d0887"
            ],
            [
             0.1111111111111111,
             "#46039f"
            ],
            [
             0.2222222222222222,
             "#7201a8"
            ],
            [
             0.3333333333333333,
             "#9c179e"
            ],
            [
             0.4444444444444444,
             "#bd3786"
            ],
            [
             0.5555555555555556,
             "#d8576b"
            ],
            [
             0.6666666666666666,
             "#ed7953"
            ],
            [
             0.7777777777777778,
             "#fb9f3a"
            ],
            [
             0.8888888888888888,
             "#fdca26"
            ],
            [
             1,
             "#f0f921"
            ]
           ],
           "sequentialminus": [
            [
             0,
             "#0d0887"
            ],
            [
             0.1111111111111111,
             "#46039f"
            ],
            [
             0.2222222222222222,
             "#7201a8"
            ],
            [
             0.3333333333333333,
             "#9c179e"
            ],
            [
             0.4444444444444444,
             "#bd3786"
            ],
            [
             0.5555555555555556,
             "#d8576b"
            ],
            [
             0.6666666666666666,
             "#ed7953"
            ],
            [
             0.7777777777777778,
             "#fb9f3a"
            ],
            [
             0.8888888888888888,
             "#fdca26"
            ],
            [
             1,
             "#f0f921"
            ]
           ]
          },
          "colorway": [
           "#636efa",
           "#EF553B",
           "#00cc96",
           "#ab63fa",
           "#FFA15A",
           "#19d3f3",
           "#FF6692",
           "#B6E880",
           "#FF97FF",
           "#FECB52"
          ],
          "font": {
           "color": "#2a3f5f"
          },
          "geo": {
           "bgcolor": "white",
           "lakecolor": "white",
           "landcolor": "#E5ECF6",
           "showlakes": true,
           "showland": true,
           "subunitcolor": "white"
          },
          "hoverlabel": {
           "align": "left"
          },
          "hovermode": "closest",
          "mapbox": {
           "style": "light"
          },
          "paper_bgcolor": "white",
          "plot_bgcolor": "#E5ECF6",
          "polar": {
           "angularaxis": {
            "gridcolor": "white",
            "linecolor": "white",
            "ticks": ""
           },
           "bgcolor": "#E5ECF6",
           "radialaxis": {
            "gridcolor": "white",
            "linecolor": "white",
            "ticks": ""
           }
          },
          "scene": {
           "xaxis": {
            "backgroundcolor": "#E5ECF6",
            "gridcolor": "white",
            "gridwidth": 2,
            "linecolor": "white",
            "showbackground": true,
            "ticks": "",
            "zerolinecolor": "white"
           },
           "yaxis": {
            "backgroundcolor": "#E5ECF6",
            "gridcolor": "white",
            "gridwidth": 2,
            "linecolor": "white",
            "showbackground": true,
            "ticks": "",
            "zerolinecolor": "white"
           },
           "zaxis": {
            "backgroundcolor": "#E5ECF6",
            "gridcolor": "white",
            "gridwidth": 2,
            "linecolor": "white",
            "showbackground": true,
            "ticks": "",
            "zerolinecolor": "white"
           }
          },
          "shapedefaults": {
           "line": {
            "color": "#2a3f5f"
           }
          },
          "ternary": {
           "aaxis": {
            "gridcolor": "white",
            "linecolor": "white",
            "ticks": ""
           },
           "baxis": {
            "gridcolor": "white",
            "linecolor": "white",
            "ticks": ""
           },
           "bgcolor": "#E5ECF6",
           "caxis": {
            "gridcolor": "white",
            "linecolor": "white",
            "ticks": ""
           }
          },
          "title": {
           "x": 0.05
          },
          "xaxis": {
           "automargin": true,
           "gridcolor": "white",
           "linecolor": "white",
           "ticks": "",
           "title": {
            "standoff": 15
           },
           "zerolinecolor": "white",
           "zerolinewidth": 2
          },
          "yaxis": {
           "automargin": true,
           "gridcolor": "white",
           "linecolor": "white",
           "ticks": "",
           "title": {
            "standoff": 15
           },
           "zerolinecolor": "white",
           "zerolinewidth": 2
          }
         }
        },
        "title": {
         "text": "Kommunikationsverhalten zu Vorgesetzten und Kollegen nach Geschlecht"
        }
       }
      }
     },
     "metadata": {},
     "output_type": "display_data"
    }
   ],
   "source": [
    "fig = make_subplots(rows=2, cols=3,\n",
    "                    specs=[[{'type':'domain'}]*3, [{'type':'domain'}]*3],\n",
    "                    subplot_titles=[\n",
    "                        f\"Supervisor - {gender}\" for gender in gender_list\n",
    "                    ] + [\n",
    "                        f\"Coworkers - {gender}\" for gender in gender_list\n",
    "                    ])\n",
    "\n",
    "for i, gender in enumerate(gender_list):\n",
    "    data = gender_supervisor[gender_supervisor[\"Gender\"] == gender]\n",
    "    fig.add_trace(\n",
    "        go.Pie(labels= data[\"supervisor\"], values=data[\"count\"], name = f\"{gender} Supervisor\"),\n",
    "        row = 1, col= i+1\n",
    "    )\n",
    "\n",
    "for i, gender in enumerate(gender_list):\n",
    "    data = gender_coworkers[gender_coworkers[\"Gender\"]==gender]\n",
    "    fig.add_trace(\n",
    "        go.Pie(labels= data[\"coworkers\"], values=data[\"count\"], name = f\"{gender} Coworkers\"),\n",
    "        row=2, col=i+1\n",
    "    )\n",
    "\n",
    "fig.update_layout(\n",
    "    title_text = \"Kommunikationsverhalten zu Vorgesetzten und Kollegen nach Geschlecht\",\n",
    "    height = 700\n",
    ")\n",
    "\n",
    "\n",
    "fig.show()\n",
    "\n",
    "\n"
   ]
  },
  {
   "cell_type": "markdown",
   "id": "471b5c8a",
   "metadata": {},
   "source": [
    "Hinsichtlich der Kollegen hat sich der Trend bestätigt. Unabhängig vom Geschlecht würden die Personen einigen der Kollegen über psychische Probleme erzählen. \n",
    "Interessant ist jedoch, das Männer offen gegenüber ihren vorgesetzten sein würden im Gegensatz zu den anderen Geschlechtern.\n",
    "\n",
    "Somit ergibt sich die These: **Männer sind ihrem Vorgesetzten offener hinsichtlich ihren psychischen Zustandes.**"
   ]
  },
  {
   "cell_type": "markdown",
   "id": "0461915c",
   "metadata": {},
   "source": [
    "#### 4.1.3.2 Geschlecht vs Mental Health Condition"
   ]
  },
  {
   "cell_type": "code",
   "execution_count": 70,
   "id": "6c0b8701",
   "metadata": {},
   "outputs": [],
   "source": [
    "gender_mhc = (df_cl.groupby([\"Gender\", \"mental_health_condition\"]).size().reset_index(name = \"count\"))"
   ]
  },
  {
   "cell_type": "code",
   "execution_count": null,
   "id": "be4169c4",
   "metadata": {},
   "outputs": [
    {
     "data": {
      "application/vnd.plotly.v1+json": {
       "config": {
        "plotlyServerURL": "https://plot.ly"
       },
       "data": [
        {
         "customdata": [
          [
           "No"
          ],
          [
           "Yes"
          ]
         ],
         "domain": {
          "x": [
           0,
           0.31999999999999995
          ],
          "y": [
           0,
           1
          ]
         },
         "hovertemplate": "Gender=diverse<br>count=%{value}<br>mental_health_condition=%{customdata[0]}<extra></extra>",
         "legendgroup": "",
         "marker": {
          "colors": [
           "#636efa",
           "#EF553B"
          ]
         },
         "name": "",
         "showlegend": false,
         "type": "pie",
         "values": [
          1,
          18
         ]
        },
        {
         "customdata": [
          [
           "No"
          ],
          [
           "Yes"
          ]
         ],
         "domain": {
          "x": [
           0.33999999999999997,
           0.6599999999999999
          ],
          "y": [
           0,
           1
          ]
         },
         "hovertemplate": "Gender=female<br>count=%{value}<br>mental_health_condition=%{customdata[0]}<extra></extra>",
         "legendgroup": "",
         "marker": {
          "colors": [
           "#636efa",
           "#EF553B"
          ]
         },
         "name": "",
         "showlegend": false,
         "type": "pie",
         "values": [
          35,
          212
         ]
        },
        {
         "customdata": [
          [
           "No"
          ],
          [
           "Yes"
          ]
         ],
         "domain": {
          "x": [
           0.6799999999999999,
           0.9999999999999999
          ],
          "y": [
           0,
           1
          ]
         },
         "hovertemplate": "Gender=male<br>count=%{value}<br>mental_health_condition=%{customdata[0]}<extra></extra>",
         "legendgroup": "",
         "marker": {
          "colors": [
           "#636efa",
           "#EF553B"
          ]
         },
         "name": "",
         "showlegend": false,
         "type": "pie",
         "values": [
          222,
          763
         ]
        }
       ],
       "layout": {
        "annotations": [
         {
          "font": {},
          "showarrow": false,
          "text": "Gender=diverse",
          "x": 0.15999999999999998,
          "xanchor": "center",
          "xref": "paper",
          "y": 1,
          "yanchor": "bottom",
          "yref": "paper"
         },
         {
          "font": {},
          "showarrow": false,
          "text": "Gender=female",
          "x": 0.49999999999999994,
          "xanchor": "center",
          "xref": "paper",
          "y": 1,
          "yanchor": "bottom",
          "yref": "paper"
         },
         {
          "font": {},
          "showarrow": false,
          "text": "Gender=male",
          "x": 0.8399999999999999,
          "xanchor": "center",
          "xref": "paper",
          "y": 1,
          "yanchor": "bottom",
          "yref": "paper"
         }
        ],
        "legend": {
         "tracegroupgap": 0
        },
        "margin": {
         "t": 60
        },
        "template": {
         "data": {
          "bar": [
           {
            "error_x": {
             "color": "#2a3f5f"
            },
            "error_y": {
             "color": "#2a3f5f"
            },
            "marker": {
             "line": {
              "color": "#E5ECF6",
              "width": 0.5
             },
             "pattern": {
              "fillmode": "overlay",
              "size": 10,
              "solidity": 0.2
             }
            },
            "type": "bar"
           }
          ],
          "barpolar": [
           {
            "marker": {
             "line": {
              "color": "#E5ECF6",
              "width": 0.5
             },
             "pattern": {
              "fillmode": "overlay",
              "size": 10,
              "solidity": 0.2
             }
            },
            "type": "barpolar"
           }
          ],
          "carpet": [
           {
            "aaxis": {
             "endlinecolor": "#2a3f5f",
             "gridcolor": "white",
             "linecolor": "white",
             "minorgridcolor": "white",
             "startlinecolor": "#2a3f5f"
            },
            "baxis": {
             "endlinecolor": "#2a3f5f",
             "gridcolor": "white",
             "linecolor": "white",
             "minorgridcolor": "white",
             "startlinecolor": "#2a3f5f"
            },
            "type": "carpet"
           }
          ],
          "choropleth": [
           {
            "colorbar": {
             "outlinewidth": 0,
             "ticks": ""
            },
            "type": "choropleth"
           }
          ],
          "contour": [
           {
            "colorbar": {
             "outlinewidth": 0,
             "ticks": ""
            },
            "colorscale": [
             [
              0,
              "#0d0887"
             ],
             [
              0.1111111111111111,
              "#46039f"
             ],
             [
              0.2222222222222222,
              "#7201a8"
             ],
             [
              0.3333333333333333,
              "#9c179e"
             ],
             [
              0.4444444444444444,
              "#bd3786"
             ],
             [
              0.5555555555555556,
              "#d8576b"
             ],
             [
              0.6666666666666666,
              "#ed7953"
             ],
             [
              0.7777777777777778,
              "#fb9f3a"
             ],
             [
              0.8888888888888888,
              "#fdca26"
             ],
             [
              1,
              "#f0f921"
             ]
            ],
            "type": "contour"
           }
          ],
          "contourcarpet": [
           {
            "colorbar": {
             "outlinewidth": 0,
             "ticks": ""
            },
            "type": "contourcarpet"
           }
          ],
          "heatmap": [
           {
            "colorbar": {
             "outlinewidth": 0,
             "ticks": ""
            },
            "colorscale": [
             [
              0,
              "#0d0887"
             ],
             [
              0.1111111111111111,
              "#46039f"
             ],
             [
              0.2222222222222222,
              "#7201a8"
             ],
             [
              0.3333333333333333,
              "#9c179e"
             ],
             [
              0.4444444444444444,
              "#bd3786"
             ],
             [
              0.5555555555555556,
              "#d8576b"
             ],
             [
              0.6666666666666666,
              "#ed7953"
             ],
             [
              0.7777777777777778,
              "#fb9f3a"
             ],
             [
              0.8888888888888888,
              "#fdca26"
             ],
             [
              1,
              "#f0f921"
             ]
            ],
            "type": "heatmap"
           }
          ],
          "heatmapgl": [
           {
            "colorbar": {
             "outlinewidth": 0,
             "ticks": ""
            },
            "colorscale": [
             [
              0,
              "#0d0887"
             ],
             [
              0.1111111111111111,
              "#46039f"
             ],
             [
              0.2222222222222222,
              "#7201a8"
             ],
             [
              0.3333333333333333,
              "#9c179e"
             ],
             [
              0.4444444444444444,
              "#bd3786"
             ],
             [
              0.5555555555555556,
              "#d8576b"
             ],
             [
              0.6666666666666666,
              "#ed7953"
             ],
             [
              0.7777777777777778,
              "#fb9f3a"
             ],
             [
              0.8888888888888888,
              "#fdca26"
             ],
             [
              1,
              "#f0f921"
             ]
            ],
            "type": "heatmapgl"
           }
          ],
          "histogram": [
           {
            "marker": {
             "pattern": {
              "fillmode": "overlay",
              "size": 10,
              "solidity": 0.2
             }
            },
            "type": "histogram"
           }
          ],
          "histogram2d": [
           {
            "colorbar": {
             "outlinewidth": 0,
             "ticks": ""
            },
            "colorscale": [
             [
              0,
              "#0d0887"
             ],
             [
              0.1111111111111111,
              "#46039f"
             ],
             [
              0.2222222222222222,
              "#7201a8"
             ],
             [
              0.3333333333333333,
              "#9c179e"
             ],
             [
              0.4444444444444444,
              "#bd3786"
             ],
             [
              0.5555555555555556,
              "#d8576b"
             ],
             [
              0.6666666666666666,
              "#ed7953"
             ],
             [
              0.7777777777777778,
              "#fb9f3a"
             ],
             [
              0.8888888888888888,
              "#fdca26"
             ],
             [
              1,
              "#f0f921"
             ]
            ],
            "type": "histogram2d"
           }
          ],
          "histogram2dcontour": [
           {
            "colorbar": {
             "outlinewidth": 0,
             "ticks": ""
            },
            "colorscale": [
             [
              0,
              "#0d0887"
             ],
             [
              0.1111111111111111,
              "#46039f"
             ],
             [
              0.2222222222222222,
              "#7201a8"
             ],
             [
              0.3333333333333333,
              "#9c179e"
             ],
             [
              0.4444444444444444,
              "#bd3786"
             ],
             [
              0.5555555555555556,
              "#d8576b"
             ],
             [
              0.6666666666666666,
              "#ed7953"
             ],
             [
              0.7777777777777778,
              "#fb9f3a"
             ],
             [
              0.8888888888888888,
              "#fdca26"
             ],
             [
              1,
              "#f0f921"
             ]
            ],
            "type": "histogram2dcontour"
           }
          ],
          "mesh3d": [
           {
            "colorbar": {
             "outlinewidth": 0,
             "ticks": ""
            },
            "type": "mesh3d"
           }
          ],
          "parcoords": [
           {
            "line": {
             "colorbar": {
              "outlinewidth": 0,
              "ticks": ""
             }
            },
            "type": "parcoords"
           }
          ],
          "pie": [
           {
            "automargin": true,
            "type": "pie"
           }
          ],
          "scatter": [
           {
            "fillpattern": {
             "fillmode": "overlay",
             "size": 10,
             "solidity": 0.2
            },
            "type": "scatter"
           }
          ],
          "scatter3d": [
           {
            "line": {
             "colorbar": {
              "outlinewidth": 0,
              "ticks": ""
             }
            },
            "marker": {
             "colorbar": {
              "outlinewidth": 0,
              "ticks": ""
             }
            },
            "type": "scatter3d"
           }
          ],
          "scattercarpet": [
           {
            "marker": {
             "colorbar": {
              "outlinewidth": 0,
              "ticks": ""
             }
            },
            "type": "scattercarpet"
           }
          ],
          "scattergeo": [
           {
            "marker": {
             "colorbar": {
              "outlinewidth": 0,
              "ticks": ""
             }
            },
            "type": "scattergeo"
           }
          ],
          "scattergl": [
           {
            "marker": {
             "colorbar": {
              "outlinewidth": 0,
              "ticks": ""
             }
            },
            "type": "scattergl"
           }
          ],
          "scattermapbox": [
           {
            "marker": {
             "colorbar": {
              "outlinewidth": 0,
              "ticks": ""
             }
            },
            "type": "scattermapbox"
           }
          ],
          "scatterpolar": [
           {
            "marker": {
             "colorbar": {
              "outlinewidth": 0,
              "ticks": ""
             }
            },
            "type": "scatterpolar"
           }
          ],
          "scatterpolargl": [
           {
            "marker": {
             "colorbar": {
              "outlinewidth": 0,
              "ticks": ""
             }
            },
            "type": "scatterpolargl"
           }
          ],
          "scatterternary": [
           {
            "marker": {
             "colorbar": {
              "outlinewidth": 0,
              "ticks": ""
             }
            },
            "type": "scatterternary"
           }
          ],
          "surface": [
           {
            "colorbar": {
             "outlinewidth": 0,
             "ticks": ""
            },
            "colorscale": [
             [
              0,
              "#0d0887"
             ],
             [
              0.1111111111111111,
              "#46039f"
             ],
             [
              0.2222222222222222,
              "#7201a8"
             ],
             [
              0.3333333333333333,
              "#9c179e"
             ],
             [
              0.4444444444444444,
              "#bd3786"
             ],
             [
              0.5555555555555556,
              "#d8576b"
             ],
             [
              0.6666666666666666,
              "#ed7953"
             ],
             [
              0.7777777777777778,
              "#fb9f3a"
             ],
             [
              0.8888888888888888,
              "#fdca26"
             ],
             [
              1,
              "#f0f921"
             ]
            ],
            "type": "surface"
           }
          ],
          "table": [
           {
            "cells": {
             "fill": {
              "color": "#EBF0F8"
             },
             "line": {
              "color": "white"
             }
            },
            "header": {
             "fill": {
              "color": "#C8D4E3"
             },
             "line": {
              "color": "white"
             }
            },
            "type": "table"
           }
          ]
         },
         "layout": {
          "annotationdefaults": {
           "arrowcolor": "#2a3f5f",
           "arrowhead": 0,
           "arrowwidth": 1
          },
          "autotypenumbers": "strict",
          "coloraxis": {
           "colorbar": {
            "outlinewidth": 0,
            "ticks": ""
           }
          },
          "colorscale": {
           "diverging": [
            [
             0,
             "#8e0152"
            ],
            [
             0.1,
             "#c51b7d"
            ],
            [
             0.2,
             "#de77ae"
            ],
            [
             0.3,
             "#f1b6da"
            ],
            [
             0.4,
             "#fde0ef"
            ],
            [
             0.5,
             "#f7f7f7"
            ],
            [
             0.6,
             "#e6f5d0"
            ],
            [
             0.7,
             "#b8e186"
            ],
            [
             0.8,
             "#7fbc41"
            ],
            [
             0.9,
             "#4d9221"
            ],
            [
             1,
             "#276419"
            ]
           ],
           "sequential": [
            [
             0,
             "#0d0887"
            ],
            [
             0.1111111111111111,
             "#46039f"
            ],
            [
             0.2222222222222222,
             "#7201a8"
            ],
            [
             0.3333333333333333,
             "#9c179e"
            ],
            [
             0.4444444444444444,
             "#bd3786"
            ],
            [
             0.5555555555555556,
             "#d8576b"
            ],
            [
             0.6666666666666666,
             "#ed7953"
            ],
            [
             0.7777777777777778,
             "#fb9f3a"
            ],
            [
             0.8888888888888888,
             "#fdca26"
            ],
            [
             1,
             "#f0f921"
            ]
           ],
           "sequentialminus": [
            [
             0,
             "#0d0887"
            ],
            [
             0.1111111111111111,
             "#46039f"
            ],
            [
             0.2222222222222222,
             "#7201a8"
            ],
            [
             0.3333333333333333,
             "#9c179e"
            ],
            [
             0.4444444444444444,
             "#bd3786"
            ],
            [
             0.5555555555555556,
             "#d8576b"
            ],
            [
             0.6666666666666666,
             "#ed7953"
            ],
            [
             0.7777777777777778,
             "#fb9f3a"
            ],
            [
             0.8888888888888888,
             "#fdca26"
            ],
            [
             1,
             "#f0f921"
            ]
           ]
          },
          "colorway": [
           "#636efa",
           "#EF553B",
           "#00cc96",
           "#ab63fa",
           "#FFA15A",
           "#19d3f3",
           "#FF6692",
           "#B6E880",
           "#FF97FF",
           "#FECB52"
          ],
          "font": {
           "color": "#2a3f5f"
          },
          "geo": {
           "bgcolor": "white",
           "lakecolor": "white",
           "landcolor": "#E5ECF6",
           "showlakes": true,
           "showland": true,
           "subunitcolor": "white"
          },
          "hoverlabel": {
           "align": "left"
          },
          "hovermode": "closest",
          "mapbox": {
           "style": "light"
          },
          "paper_bgcolor": "white",
          "plot_bgcolor": "#E5ECF6",
          "polar": {
           "angularaxis": {
            "gridcolor": "white",
            "linecolor": "white",
            "ticks": ""
           },
           "bgcolor": "#E5ECF6",
           "radialaxis": {
            "gridcolor": "white",
            "linecolor": "white",
            "ticks": ""
           }
          },
          "scene": {
           "xaxis": {
            "backgroundcolor": "#E5ECF6",
            "gridcolor": "white",
            "gridwidth": 2,
            "linecolor": "white",
            "showbackground": true,
            "ticks": "",
            "zerolinecolor": "white"
           },
           "yaxis": {
            "backgroundcolor": "#E5ECF6",
            "gridcolor": "white",
            "gridwidth": 2,
            "linecolor": "white",
            "showbackground": true,
            "ticks": "",
            "zerolinecolor": "white"
           },
           "zaxis": {
            "backgroundcolor": "#E5ECF6",
            "gridcolor": "white",
            "gridwidth": 2,
            "linecolor": "white",
            "showbackground": true,
            "ticks": "",
            "zerolinecolor": "white"
           }
          },
          "shapedefaults": {
           "line": {
            "color": "#2a3f5f"
           }
          },
          "ternary": {
           "aaxis": {
            "gridcolor": "white",
            "linecolor": "white",
            "ticks": ""
           },
           "baxis": {
            "gridcolor": "white",
            "linecolor": "white",
            "ticks": ""
           },
           "bgcolor": "#E5ECF6",
           "caxis": {
            "gridcolor": "white",
            "linecolor": "white",
            "ticks": ""
           }
          },
          "title": {
           "x": 0.05
          },
          "xaxis": {
           "automargin": true,
           "gridcolor": "white",
           "linecolor": "white",
           "ticks": "",
           "title": {
            "standoff": 15
           },
           "zerolinecolor": "white",
           "zerolinewidth": 2
          },
          "yaxis": {
           "automargin": true,
           "gridcolor": "white",
           "linecolor": "white",
           "ticks": "",
           "title": {
            "standoff": 15
           },
           "zerolinecolor": "white",
           "zerolinewidth": 2
          }
         }
        },
        "title": {
         "text": "Psychische Erkrankungen der Geschlechter <span style=\"color:red\">(Rot = Erkrankung)</span>"
        }
       }
      }
     },
     "metadata": {},
     "output_type": "display_data"
    }
   ],
   "source": [
    "fig = px.pie(gender_mhc, values= \"count\", facet_col=\"Gender\", color= \"mental_health_condition\")\n",
    "\n",
    "fig.update_layout(\n",
    "    title ={\n",
    "        \"text\": \"Psychische Erkrankungen der Geschlechter <span style=\\\"color:red\\\">(Rot = Erkrankung)</span>\"\n",
    "    }\n",
    ")\n",
    "\n",
    "fig.show()"
   ]
  },
  {
   "cell_type": "markdown",
   "id": "30540994",
   "metadata": {},
   "source": [
    "Der Anteil der psychischen Krankheiten von Frauen und Diversen sind höher.\n",
    "\n",
    "**These: Die Wahrscheinlichkeit einer psychischen Erkrankungen ist bei Frauen und Diversen höher.**"
   ]
  },
  {
   "cell_type": "markdown",
   "id": "c989ba83",
   "metadata": {},
   "source": [
    "### 4.1.4 Mental Health Condition"
   ]
  },
  {
   "cell_type": "markdown",
   "id": "0c1e2c63",
   "metadata": {},
   "source": [
    "### 4.1.4.1 Mental Health Condition und Family History"
   ]
  },
  {
   "cell_type": "code",
   "execution_count": 72,
   "id": "f7b10612",
   "metadata": {},
   "outputs": [
    {
     "data": {
      "text/plain": [
       "family_history\n",
       "No     762\n",
       "Yes    489\n",
       "Name: count, dtype: int64"
      ]
     },
     "execution_count": 72,
     "metadata": {},
     "output_type": "execute_result"
    }
   ],
   "source": [
    "df_cl.family_history.value_counts()"
   ]
  },
  {
   "cell_type": "code",
   "execution_count": 73,
   "id": "114210f1",
   "metadata": {},
   "outputs": [
    {
     "data": {
      "application/vnd.plotly.v1+json": {
       "config": {
        "plotlyServerURL": "https://plot.ly"
       },
       "data": [
        {
         "customdata": [
          [
           "No"
          ],
          [
           "Yes"
          ]
         ],
         "domain": {
          "x": [
           0,
           0.49
          ],
          "y": [
           0,
           1
          ]
         },
         "hovertemplate": "mental_health_condition=No<br>count=%{value}<br>family_history=%{customdata[0]}<extra></extra>",
         "legendgroup": "",
         "marker": {
          "colors": [
           "#636efa",
           "#EF553B"
          ]
         },
         "name": "",
         "showlegend": false,
         "type": "pie",
         "values": [
          216,
          42
         ]
        },
        {
         "customdata": [
          [
           "No"
          ],
          [
           "Yes"
          ]
         ],
         "domain": {
          "x": [
           0.51,
           1
          ],
          "y": [
           0,
           1
          ]
         },
         "hovertemplate": "mental_health_condition=Yes<br>count=%{value}<br>family_history=%{customdata[0]}<extra></extra>",
         "legendgroup": "",
         "marker": {
          "colors": [
           "#636efa",
           "#EF553B"
          ]
         },
         "name": "",
         "showlegend": false,
         "type": "pie",
         "values": [
          546,
          447
         ]
        }
       ],
       "layout": {
        "annotations": [
         {
          "font": {},
          "showarrow": false,
          "text": "mental_health_condition=No",
          "x": 0.245,
          "xanchor": "center",
          "xref": "paper",
          "y": 1,
          "yanchor": "bottom",
          "yref": "paper"
         },
         {
          "font": {},
          "showarrow": false,
          "text": "mental_health_condition=Yes",
          "x": 0.755,
          "xanchor": "center",
          "xref": "paper",
          "y": 1,
          "yanchor": "bottom",
          "yref": "paper"
         }
        ],
        "legend": {
         "tracegroupgap": 0
        },
        "margin": {
         "t": 60
        },
        "template": {
         "data": {
          "bar": [
           {
            "error_x": {
             "color": "#2a3f5f"
            },
            "error_y": {
             "color": "#2a3f5f"
            },
            "marker": {
             "line": {
              "color": "#E5ECF6",
              "width": 0.5
             },
             "pattern": {
              "fillmode": "overlay",
              "size": 10,
              "solidity": 0.2
             }
            },
            "type": "bar"
           }
          ],
          "barpolar": [
           {
            "marker": {
             "line": {
              "color": "#E5ECF6",
              "width": 0.5
             },
             "pattern": {
              "fillmode": "overlay",
              "size": 10,
              "solidity": 0.2
             }
            },
            "type": "barpolar"
           }
          ],
          "carpet": [
           {
            "aaxis": {
             "endlinecolor": "#2a3f5f",
             "gridcolor": "white",
             "linecolor": "white",
             "minorgridcolor": "white",
             "startlinecolor": "#2a3f5f"
            },
            "baxis": {
             "endlinecolor": "#2a3f5f",
             "gridcolor": "white",
             "linecolor": "white",
             "minorgridcolor": "white",
             "startlinecolor": "#2a3f5f"
            },
            "type": "carpet"
           }
          ],
          "choropleth": [
           {
            "colorbar": {
             "outlinewidth": 0,
             "ticks": ""
            },
            "type": "choropleth"
           }
          ],
          "contour": [
           {
            "colorbar": {
             "outlinewidth": 0,
             "ticks": ""
            },
            "colorscale": [
             [
              0,
              "#0d0887"
             ],
             [
              0.1111111111111111,
              "#46039f"
             ],
             [
              0.2222222222222222,
              "#7201a8"
             ],
             [
              0.3333333333333333,
              "#9c179e"
             ],
             [
              0.4444444444444444,
              "#bd3786"
             ],
             [
              0.5555555555555556,
              "#d8576b"
             ],
             [
              0.6666666666666666,
              "#ed7953"
             ],
             [
              0.7777777777777778,
              "#fb9f3a"
             ],
             [
              0.8888888888888888,
              "#fdca26"
             ],
             [
              1,
              "#f0f921"
             ]
            ],
            "type": "contour"
           }
          ],
          "contourcarpet": [
           {
            "colorbar": {
             "outlinewidth": 0,
             "ticks": ""
            },
            "type": "contourcarpet"
           }
          ],
          "heatmap": [
           {
            "colorbar": {
             "outlinewidth": 0,
             "ticks": ""
            },
            "colorscale": [
             [
              0,
              "#0d0887"
             ],
             [
              0.1111111111111111,
              "#46039f"
             ],
             [
              0.2222222222222222,
              "#7201a8"
             ],
             [
              0.3333333333333333,
              "#9c179e"
             ],
             [
              0.4444444444444444,
              "#bd3786"
             ],
             [
              0.5555555555555556,
              "#d8576b"
             ],
             [
              0.6666666666666666,
              "#ed7953"
             ],
             [
              0.7777777777777778,
              "#fb9f3a"
             ],
             [
              0.8888888888888888,
              "#fdca26"
             ],
             [
              1,
              "#f0f921"
             ]
            ],
            "type": "heatmap"
           }
          ],
          "heatmapgl": [
           {
            "colorbar": {
             "outlinewidth": 0,
             "ticks": ""
            },
            "colorscale": [
             [
              0,
              "#0d0887"
             ],
             [
              0.1111111111111111,
              "#46039f"
             ],
             [
              0.2222222222222222,
              "#7201a8"
             ],
             [
              0.3333333333333333,
              "#9c179e"
             ],
             [
              0.4444444444444444,
              "#bd3786"
             ],
             [
              0.5555555555555556,
              "#d8576b"
             ],
             [
              0.6666666666666666,
              "#ed7953"
             ],
             [
              0.7777777777777778,
              "#fb9f3a"
             ],
             [
              0.8888888888888888,
              "#fdca26"
             ],
             [
              1,
              "#f0f921"
             ]
            ],
            "type": "heatmapgl"
           }
          ],
          "histogram": [
           {
            "marker": {
             "pattern": {
              "fillmode": "overlay",
              "size": 10,
              "solidity": 0.2
             }
            },
            "type": "histogram"
           }
          ],
          "histogram2d": [
           {
            "colorbar": {
             "outlinewidth": 0,
             "ticks": ""
            },
            "colorscale": [
             [
              0,
              "#0d0887"
             ],
             [
              0.1111111111111111,
              "#46039f"
             ],
             [
              0.2222222222222222,
              "#7201a8"
             ],
             [
              0.3333333333333333,
              "#9c179e"
             ],
             [
              0.4444444444444444,
              "#bd3786"
             ],
             [
              0.5555555555555556,
              "#d8576b"
             ],
             [
              0.6666666666666666,
              "#ed7953"
             ],
             [
              0.7777777777777778,
              "#fb9f3a"
             ],
             [
              0.8888888888888888,
              "#fdca26"
             ],
             [
              1,
              "#f0f921"
             ]
            ],
            "type": "histogram2d"
           }
          ],
          "histogram2dcontour": [
           {
            "colorbar": {
             "outlinewidth": 0,
             "ticks": ""
            },
            "colorscale": [
             [
              0,
              "#0d0887"
             ],
             [
              0.1111111111111111,
              "#46039f"
             ],
             [
              0.2222222222222222,
              "#7201a8"
             ],
             [
              0.3333333333333333,
              "#9c179e"
             ],
             [
              0.4444444444444444,
              "#bd3786"
             ],
             [
              0.5555555555555556,
              "#d8576b"
             ],
             [
              0.6666666666666666,
              "#ed7953"
             ],
             [
              0.7777777777777778,
              "#fb9f3a"
             ],
             [
              0.8888888888888888,
              "#fdca26"
             ],
             [
              1,
              "#f0f921"
             ]
            ],
            "type": "histogram2dcontour"
           }
          ],
          "mesh3d": [
           {
            "colorbar": {
             "outlinewidth": 0,
             "ticks": ""
            },
            "type": "mesh3d"
           }
          ],
          "parcoords": [
           {
            "line": {
             "colorbar": {
              "outlinewidth": 0,
              "ticks": ""
             }
            },
            "type": "parcoords"
           }
          ],
          "pie": [
           {
            "automargin": true,
            "type": "pie"
           }
          ],
          "scatter": [
           {
            "fillpattern": {
             "fillmode": "overlay",
             "size": 10,
             "solidity": 0.2
            },
            "type": "scatter"
           }
          ],
          "scatter3d": [
           {
            "line": {
             "colorbar": {
              "outlinewidth": 0,
              "ticks": ""
             }
            },
            "marker": {
             "colorbar": {
              "outlinewidth": 0,
              "ticks": ""
             }
            },
            "type": "scatter3d"
           }
          ],
          "scattercarpet": [
           {
            "marker": {
             "colorbar": {
              "outlinewidth": 0,
              "ticks": ""
             }
            },
            "type": "scattercarpet"
           }
          ],
          "scattergeo": [
           {
            "marker": {
             "colorbar": {
              "outlinewidth": 0,
              "ticks": ""
             }
            },
            "type": "scattergeo"
           }
          ],
          "scattergl": [
           {
            "marker": {
             "colorbar": {
              "outlinewidth": 0,
              "ticks": ""
             }
            },
            "type": "scattergl"
           }
          ],
          "scattermapbox": [
           {
            "marker": {
             "colorbar": {
              "outlinewidth": 0,
              "ticks": ""
             }
            },
            "type": "scattermapbox"
           }
          ],
          "scatterpolar": [
           {
            "marker": {
             "colorbar": {
              "outlinewidth": 0,
              "ticks": ""
             }
            },
            "type": "scatterpolar"
           }
          ],
          "scatterpolargl": [
           {
            "marker": {
             "colorbar": {
              "outlinewidth": 0,
              "ticks": ""
             }
            },
            "type": "scatterpolargl"
           }
          ],
          "scatterternary": [
           {
            "marker": {
             "colorbar": {
              "outlinewidth": 0,
              "ticks": ""
             }
            },
            "type": "scatterternary"
           }
          ],
          "surface": [
           {
            "colorbar": {
             "outlinewidth": 0,
             "ticks": ""
            },
            "colorscale": [
             [
              0,
              "#0d0887"
             ],
             [
              0.1111111111111111,
              "#46039f"
             ],
             [
              0.2222222222222222,
              "#7201a8"
             ],
             [
              0.3333333333333333,
              "#9c179e"
             ],
             [
              0.4444444444444444,
              "#bd3786"
             ],
             [
              0.5555555555555556,
              "#d8576b"
             ],
             [
              0.6666666666666666,
              "#ed7953"
             ],
             [
              0.7777777777777778,
              "#fb9f3a"
             ],
             [
              0.8888888888888888,
              "#fdca26"
             ],
             [
              1,
              "#f0f921"
             ]
            ],
            "type": "surface"
           }
          ],
          "table": [
           {
            "cells": {
             "fill": {
              "color": "#EBF0F8"
             },
             "line": {
              "color": "white"
             }
            },
            "header": {
             "fill": {
              "color": "#C8D4E3"
             },
             "line": {
              "color": "white"
             }
            },
            "type": "table"
           }
          ]
         },
         "layout": {
          "annotationdefaults": {
           "arrowcolor": "#2a3f5f",
           "arrowhead": 0,
           "arrowwidth": 1
          },
          "autotypenumbers": "strict",
          "coloraxis": {
           "colorbar": {
            "outlinewidth": 0,
            "ticks": ""
           }
          },
          "colorscale": {
           "diverging": [
            [
             0,
             "#8e0152"
            ],
            [
             0.1,
             "#c51b7d"
            ],
            [
             0.2,
             "#de77ae"
            ],
            [
             0.3,
             "#f1b6da"
            ],
            [
             0.4,
             "#fde0ef"
            ],
            [
             0.5,
             "#f7f7f7"
            ],
            [
             0.6,
             "#e6f5d0"
            ],
            [
             0.7,
             "#b8e186"
            ],
            [
             0.8,
             "#7fbc41"
            ],
            [
             0.9,
             "#4d9221"
            ],
            [
             1,
             "#276419"
            ]
           ],
           "sequential": [
            [
             0,
             "#0d0887"
            ],
            [
             0.1111111111111111,
             "#46039f"
            ],
            [
             0.2222222222222222,
             "#7201a8"
            ],
            [
             0.3333333333333333,
             "#9c179e"
            ],
            [
             0.4444444444444444,
             "#bd3786"
            ],
            [
             0.5555555555555556,
             "#d8576b"
            ],
            [
             0.6666666666666666,
             "#ed7953"
            ],
            [
             0.7777777777777778,
             "#fb9f3a"
            ],
            [
             0.8888888888888888,
             "#fdca26"
            ],
            [
             1,
             "#f0f921"
            ]
           ],
           "sequentialminus": [
            [
             0,
             "#0d0887"
            ],
            [
             0.1111111111111111,
             "#46039f"
            ],
            [
             0.2222222222222222,
             "#7201a8"
            ],
            [
             0.3333333333333333,
             "#9c179e"
            ],
            [
             0.4444444444444444,
             "#bd3786"
            ],
            [
             0.5555555555555556,
             "#d8576b"
            ],
            [
             0.6666666666666666,
             "#ed7953"
            ],
            [
             0.7777777777777778,
             "#fb9f3a"
            ],
            [
             0.8888888888888888,
             "#fdca26"
            ],
            [
             1,
             "#f0f921"
            ]
           ]
          },
          "colorway": [
           "#636efa",
           "#EF553B",
           "#00cc96",
           "#ab63fa",
           "#FFA15A",
           "#19d3f3",
           "#FF6692",
           "#B6E880",
           "#FF97FF",
           "#FECB52"
          ],
          "font": {
           "color": "#2a3f5f"
          },
          "geo": {
           "bgcolor": "white",
           "lakecolor": "white",
           "landcolor": "#E5ECF6",
           "showlakes": true,
           "showland": true,
           "subunitcolor": "white"
          },
          "hoverlabel": {
           "align": "left"
          },
          "hovermode": "closest",
          "mapbox": {
           "style": "light"
          },
          "paper_bgcolor": "white",
          "plot_bgcolor": "#E5ECF6",
          "polar": {
           "angularaxis": {
            "gridcolor": "white",
            "linecolor": "white",
            "ticks": ""
           },
           "bgcolor": "#E5ECF6",
           "radialaxis": {
            "gridcolor": "white",
            "linecolor": "white",
            "ticks": ""
           }
          },
          "scene": {
           "xaxis": {
            "backgroundcolor": "#E5ECF6",
            "gridcolor": "white",
            "gridwidth": 2,
            "linecolor": "white",
            "showbackground": true,
            "ticks": "",
            "zerolinecolor": "white"
           },
           "yaxis": {
            "backgroundcolor": "#E5ECF6",
            "gridcolor": "white",
            "gridwidth": 2,
            "linecolor": "white",
            "showbackground": true,
            "ticks": "",
            "zerolinecolor": "white"
           },
           "zaxis": {
            "backgroundcolor": "#E5ECF6",
            "gridcolor": "white",
            "gridwidth": 2,
            "linecolor": "white",
            "showbackground": true,
            "ticks": "",
            "zerolinecolor": "white"
           }
          },
          "shapedefaults": {
           "line": {
            "color": "#2a3f5f"
           }
          },
          "ternary": {
           "aaxis": {
            "gridcolor": "white",
            "linecolor": "white",
            "ticks": ""
           },
           "baxis": {
            "gridcolor": "white",
            "linecolor": "white",
            "ticks": ""
           },
           "bgcolor": "#E5ECF6",
           "caxis": {
            "gridcolor": "white",
            "linecolor": "white",
            "ticks": ""
           }
          },
          "title": {
           "x": 0.05
          },
          "xaxis": {
           "automargin": true,
           "gridcolor": "white",
           "linecolor": "white",
           "ticks": "",
           "title": {
            "standoff": 15
           },
           "zerolinecolor": "white",
           "zerolinewidth": 2
          },
          "yaxis": {
           "automargin": true,
           "gridcolor": "white",
           "linecolor": "white",
           "ticks": "",
           "title": {
            "standoff": 15
           },
           "zerolinecolor": "white",
           "zerolinewidth": 2
          }
         }
        },
        "title": {
         "text": "Familiengeschichte nach Psychischer Erkrankung <span style=\"color:red\">(Rot = Psychische Erkrankung in der Familie)</span>"
        }
       }
      }
     },
     "metadata": {},
     "output_type": "display_data"
    }
   ],
   "source": [
    "mental_family = df_cl.groupby([\"mental_health_condition\", \"family_history\"]).size().reset_index(name= \"count\")\n",
    "\n",
    "fig = px.pie(mental_family, values= \"count\", facet_col= \"mental_health_condition\", color= \"family_history\")\n",
    "\n",
    "fig.update_layout(\n",
    "    title ={\n",
    "        \"text\": \"Familiengeschichte nach Psychischer Erkrankung <span style=\\\"color:red\\\">(Rot = Psychische Erkrankung in der Familie)</span>\"\n",
    "    }\n",
    ")\n",
    "\n",
    "fig.show()\n"
   ]
  },
  {
   "cell_type": "markdown",
   "id": "003d7bd2",
   "metadata": {},
   "source": [
    "Die Darstellung beweist:\n",
    "\n",
    "- Bei Personen die sich als mental gesund bezeichnen, haben 83,7% keine Erkrankung in der Familie gehabt.\n",
    "- Bei mental erkrankten Personen liegt die Wahrscheinlichkeit ca. bei 50:50\n",
    "\n",
    "Somit ergibt sich die These:\n",
    "\n",
    "**Das Fehlen familiärer Vorerkrankungen ist ein guter Prädiktor für die allgemeine Gesundheit – jedoch nicht für das Auftreten psychischer Erkrankungen.**"
   ]
  },
  {
   "cell_type": "markdown",
   "id": "01b7999b",
   "metadata": {},
   "source": [
    "#### 4.1.4.2 Remote Work "
   ]
  },
  {
   "cell_type": "code",
   "execution_count": 74,
   "id": "0f837f35",
   "metadata": {},
   "outputs": [
    {
     "data": {
      "application/vnd.plotly.v1+json": {
       "config": {
        "plotlyServerURL": "https://plot.ly"
       },
       "data": [
        {
         "customdata": [
          [
           "No"
          ],
          [
           "Yes"
          ]
         ],
         "domain": {
          "x": [
           0,
           0.49
          ],
          "y": [
           0,
           1
          ]
         },
         "hovertemplate": "mental_health_condition=No<br>count=%{value}<br>remote_work=%{customdata[0]}<extra></extra>",
         "legendgroup": "",
         "marker": {
          "colors": [
           "#636efa",
           "#EF553B"
          ]
         },
         "name": "",
         "showlegend": false,
         "type": "pie",
         "values": [
          187,
          71
         ]
        },
        {
         "customdata": [
          [
           "No"
          ],
          [
           "Yes"
          ]
         ],
         "domain": {
          "x": [
           0.51,
           1
          ],
          "y": [
           0,
           1
          ]
         },
         "hovertemplate": "mental_health_condition=Yes<br>count=%{value}<br>remote_work=%{customdata[0]}<extra></extra>",
         "legendgroup": "",
         "marker": {
          "colors": [
           "#636efa",
           "#EF553B"
          ]
         },
         "name": "",
         "showlegend": false,
         "type": "pie",
         "values": [
          693,
          300
         ]
        }
       ],
       "layout": {
        "annotations": [
         {
          "font": {},
          "showarrow": false,
          "text": "mental_health_condition=No",
          "x": 0.245,
          "xanchor": "center",
          "xref": "paper",
          "y": 1,
          "yanchor": "bottom",
          "yref": "paper"
         },
         {
          "font": {},
          "showarrow": false,
          "text": "mental_health_condition=Yes",
          "x": 0.755,
          "xanchor": "center",
          "xref": "paper",
          "y": 1,
          "yanchor": "bottom",
          "yref": "paper"
         }
        ],
        "legend": {
         "tracegroupgap": 0
        },
        "margin": {
         "t": 60
        },
        "template": {
         "data": {
          "bar": [
           {
            "error_x": {
             "color": "#2a3f5f"
            },
            "error_y": {
             "color": "#2a3f5f"
            },
            "marker": {
             "line": {
              "color": "#E5ECF6",
              "width": 0.5
             },
             "pattern": {
              "fillmode": "overlay",
              "size": 10,
              "solidity": 0.2
             }
            },
            "type": "bar"
           }
          ],
          "barpolar": [
           {
            "marker": {
             "line": {
              "color": "#E5ECF6",
              "width": 0.5
             },
             "pattern": {
              "fillmode": "overlay",
              "size": 10,
              "solidity": 0.2
             }
            },
            "type": "barpolar"
           }
          ],
          "carpet": [
           {
            "aaxis": {
             "endlinecolor": "#2a3f5f",
             "gridcolor": "white",
             "linecolor": "white",
             "minorgridcolor": "white",
             "startlinecolor": "#2a3f5f"
            },
            "baxis": {
             "endlinecolor": "#2a3f5f",
             "gridcolor": "white",
             "linecolor": "white",
             "minorgridcolor": "white",
             "startlinecolor": "#2a3f5f"
            },
            "type": "carpet"
           }
          ],
          "choropleth": [
           {
            "colorbar": {
             "outlinewidth": 0,
             "ticks": ""
            },
            "type": "choropleth"
           }
          ],
          "contour": [
           {
            "colorbar": {
             "outlinewidth": 0,
             "ticks": ""
            },
            "colorscale": [
             [
              0,
              "#0d0887"
             ],
             [
              0.1111111111111111,
              "#46039f"
             ],
             [
              0.2222222222222222,
              "#7201a8"
             ],
             [
              0.3333333333333333,
              "#9c179e"
             ],
             [
              0.4444444444444444,
              "#bd3786"
             ],
             [
              0.5555555555555556,
              "#d8576b"
             ],
             [
              0.6666666666666666,
              "#ed7953"
             ],
             [
              0.7777777777777778,
              "#fb9f3a"
             ],
             [
              0.8888888888888888,
              "#fdca26"
             ],
             [
              1,
              "#f0f921"
             ]
            ],
            "type": "contour"
           }
          ],
          "contourcarpet": [
           {
            "colorbar": {
             "outlinewidth": 0,
             "ticks": ""
            },
            "type": "contourcarpet"
           }
          ],
          "heatmap": [
           {
            "colorbar": {
             "outlinewidth": 0,
             "ticks": ""
            },
            "colorscale": [
             [
              0,
              "#0d0887"
             ],
             [
              0.1111111111111111,
              "#46039f"
             ],
             [
              0.2222222222222222,
              "#7201a8"
             ],
             [
              0.3333333333333333,
              "#9c179e"
             ],
             [
              0.4444444444444444,
              "#bd3786"
             ],
             [
              0.5555555555555556,
              "#d8576b"
             ],
             [
              0.6666666666666666,
              "#ed7953"
             ],
             [
              0.7777777777777778,
              "#fb9f3a"
             ],
             [
              0.8888888888888888,
              "#fdca26"
             ],
             [
              1,
              "#f0f921"
             ]
            ],
            "type": "heatmap"
           }
          ],
          "heatmapgl": [
           {
            "colorbar": {
             "outlinewidth": 0,
             "ticks": ""
            },
            "colorscale": [
             [
              0,
              "#0d0887"
             ],
             [
              0.1111111111111111,
              "#46039f"
             ],
             [
              0.2222222222222222,
              "#7201a8"
             ],
             [
              0.3333333333333333,
              "#9c179e"
             ],
             [
              0.4444444444444444,
              "#bd3786"
             ],
             [
              0.5555555555555556,
              "#d8576b"
             ],
             [
              0.6666666666666666,
              "#ed7953"
             ],
             [
              0.7777777777777778,
              "#fb9f3a"
             ],
             [
              0.8888888888888888,
              "#fdca26"
             ],
             [
              1,
              "#f0f921"
             ]
            ],
            "type": "heatmapgl"
           }
          ],
          "histogram": [
           {
            "marker": {
             "pattern": {
              "fillmode": "overlay",
              "size": 10,
              "solidity": 0.2
             }
            },
            "type": "histogram"
           }
          ],
          "histogram2d": [
           {
            "colorbar": {
             "outlinewidth": 0,
             "ticks": ""
            },
            "colorscale": [
             [
              0,
              "#0d0887"
             ],
             [
              0.1111111111111111,
              "#46039f"
             ],
             [
              0.2222222222222222,
              "#7201a8"
             ],
             [
              0.3333333333333333,
              "#9c179e"
             ],
             [
              0.4444444444444444,
              "#bd3786"
             ],
             [
              0.5555555555555556,
              "#d8576b"
             ],
             [
              0.6666666666666666,
              "#ed7953"
             ],
             [
              0.7777777777777778,
              "#fb9f3a"
             ],
             [
              0.8888888888888888,
              "#fdca26"
             ],
             [
              1,
              "#f0f921"
             ]
            ],
            "type": "histogram2d"
           }
          ],
          "histogram2dcontour": [
           {
            "colorbar": {
             "outlinewidth": 0,
             "ticks": ""
            },
            "colorscale": [
             [
              0,
              "#0d0887"
             ],
             [
              0.1111111111111111,
              "#46039f"
             ],
             [
              0.2222222222222222,
              "#7201a8"
             ],
             [
              0.3333333333333333,
              "#9c179e"
             ],
             [
              0.4444444444444444,
              "#bd3786"
             ],
             [
              0.5555555555555556,
              "#d8576b"
             ],
             [
              0.6666666666666666,
              "#ed7953"
             ],
             [
              0.7777777777777778,
              "#fb9f3a"
             ],
             [
              0.8888888888888888,
              "#fdca26"
             ],
             [
              1,
              "#f0f921"
             ]
            ],
            "type": "histogram2dcontour"
           }
          ],
          "mesh3d": [
           {
            "colorbar": {
             "outlinewidth": 0,
             "ticks": ""
            },
            "type": "mesh3d"
           }
          ],
          "parcoords": [
           {
            "line": {
             "colorbar": {
              "outlinewidth": 0,
              "ticks": ""
             }
            },
            "type": "parcoords"
           }
          ],
          "pie": [
           {
            "automargin": true,
            "type": "pie"
           }
          ],
          "scatter": [
           {
            "fillpattern": {
             "fillmode": "overlay",
             "size": 10,
             "solidity": 0.2
            },
            "type": "scatter"
           }
          ],
          "scatter3d": [
           {
            "line": {
             "colorbar": {
              "outlinewidth": 0,
              "ticks": ""
             }
            },
            "marker": {
             "colorbar": {
              "outlinewidth": 0,
              "ticks": ""
             }
            },
            "type": "scatter3d"
           }
          ],
          "scattercarpet": [
           {
            "marker": {
             "colorbar": {
              "outlinewidth": 0,
              "ticks": ""
             }
            },
            "type": "scattercarpet"
           }
          ],
          "scattergeo": [
           {
            "marker": {
             "colorbar": {
              "outlinewidth": 0,
              "ticks": ""
             }
            },
            "type": "scattergeo"
           }
          ],
          "scattergl": [
           {
            "marker": {
             "colorbar": {
              "outlinewidth": 0,
              "ticks": ""
             }
            },
            "type": "scattergl"
           }
          ],
          "scattermapbox": [
           {
            "marker": {
             "colorbar": {
              "outlinewidth": 0,
              "ticks": ""
             }
            },
            "type": "scattermapbox"
           }
          ],
          "scatterpolar": [
           {
            "marker": {
             "colorbar": {
              "outlinewidth": 0,
              "ticks": ""
             }
            },
            "type": "scatterpolar"
           }
          ],
          "scatterpolargl": [
           {
            "marker": {
             "colorbar": {
              "outlinewidth": 0,
              "ticks": ""
             }
            },
            "type": "scatterpolargl"
           }
          ],
          "scatterternary": [
           {
            "marker": {
             "colorbar": {
              "outlinewidth": 0,
              "ticks": ""
             }
            },
            "type": "scatterternary"
           }
          ],
          "surface": [
           {
            "colorbar": {
             "outlinewidth": 0,
             "ticks": ""
            },
            "colorscale": [
             [
              0,
              "#0d0887"
             ],
             [
              0.1111111111111111,
              "#46039f"
             ],
             [
              0.2222222222222222,
              "#7201a8"
             ],
             [
              0.3333333333333333,
              "#9c179e"
             ],
             [
              0.4444444444444444,
              "#bd3786"
             ],
             [
              0.5555555555555556,
              "#d8576b"
             ],
             [
              0.6666666666666666,
              "#ed7953"
             ],
             [
              0.7777777777777778,
              "#fb9f3a"
             ],
             [
              0.8888888888888888,
              "#fdca26"
             ],
             [
              1,
              "#f0f921"
             ]
            ],
            "type": "surface"
           }
          ],
          "table": [
           {
            "cells": {
             "fill": {
              "color": "#EBF0F8"
             },
             "line": {
              "color": "white"
             }
            },
            "header": {
             "fill": {
              "color": "#C8D4E3"
             },
             "line": {
              "color": "white"
             }
            },
            "type": "table"
           }
          ]
         },
         "layout": {
          "annotationdefaults": {
           "arrowcolor": "#2a3f5f",
           "arrowhead": 0,
           "arrowwidth": 1
          },
          "autotypenumbers": "strict",
          "coloraxis": {
           "colorbar": {
            "outlinewidth": 0,
            "ticks": ""
           }
          },
          "colorscale": {
           "diverging": [
            [
             0,
             "#8e0152"
            ],
            [
             0.1,
             "#c51b7d"
            ],
            [
             0.2,
             "#de77ae"
            ],
            [
             0.3,
             "#f1b6da"
            ],
            [
             0.4,
             "#fde0ef"
            ],
            [
             0.5,
             "#f7f7f7"
            ],
            [
             0.6,
             "#e6f5d0"
            ],
            [
             0.7,
             "#b8e186"
            ],
            [
             0.8,
             "#7fbc41"
            ],
            [
             0.9,
             "#4d9221"
            ],
            [
             1,
             "#276419"
            ]
           ],
           "sequential": [
            [
             0,
             "#0d0887"
            ],
            [
             0.1111111111111111,
             "#46039f"
            ],
            [
             0.2222222222222222,
             "#7201a8"
            ],
            [
             0.3333333333333333,
             "#9c179e"
            ],
            [
             0.4444444444444444,
             "#bd3786"
            ],
            [
             0.5555555555555556,
             "#d8576b"
            ],
            [
             0.6666666666666666,
             "#ed7953"
            ],
            [
             0.7777777777777778,
             "#fb9f3a"
            ],
            [
             0.8888888888888888,
             "#fdca26"
            ],
            [
             1,
             "#f0f921"
            ]
           ],
           "sequentialminus": [
            [
             0,
             "#0d0887"
            ],
            [
             0.1111111111111111,
             "#46039f"
            ],
            [
             0.2222222222222222,
             "#7201a8"
            ],
            [
             0.3333333333333333,
             "#9c179e"
            ],
            [
             0.4444444444444444,
             "#bd3786"
            ],
            [
             0.5555555555555556,
             "#d8576b"
            ],
            [
             0.6666666666666666,
             "#ed7953"
            ],
            [
             0.7777777777777778,
             "#fb9f3a"
            ],
            [
             0.8888888888888888,
             "#fdca26"
            ],
            [
             1,
             "#f0f921"
            ]
           ]
          },
          "colorway": [
           "#636efa",
           "#EF553B",
           "#00cc96",
           "#ab63fa",
           "#FFA15A",
           "#19d3f3",
           "#FF6692",
           "#B6E880",
           "#FF97FF",
           "#FECB52"
          ],
          "font": {
           "color": "#2a3f5f"
          },
          "geo": {
           "bgcolor": "white",
           "lakecolor": "white",
           "landcolor": "#E5ECF6",
           "showlakes": true,
           "showland": true,
           "subunitcolor": "white"
          },
          "hoverlabel": {
           "align": "left"
          },
          "hovermode": "closest",
          "mapbox": {
           "style": "light"
          },
          "paper_bgcolor": "white",
          "plot_bgcolor": "#E5ECF6",
          "polar": {
           "angularaxis": {
            "gridcolor": "white",
            "linecolor": "white",
            "ticks": ""
           },
           "bgcolor": "#E5ECF6",
           "radialaxis": {
            "gridcolor": "white",
            "linecolor": "white",
            "ticks": ""
           }
          },
          "scene": {
           "xaxis": {
            "backgroundcolor": "#E5ECF6",
            "gridcolor": "white",
            "gridwidth": 2,
            "linecolor": "white",
            "showbackground": true,
            "ticks": "",
            "zerolinecolor": "white"
           },
           "yaxis": {
            "backgroundcolor": "#E5ECF6",
            "gridcolor": "white",
            "gridwidth": 2,
            "linecolor": "white",
            "showbackground": true,
            "ticks": "",
            "zerolinecolor": "white"
           },
           "zaxis": {
            "backgroundcolor": "#E5ECF6",
            "gridcolor": "white",
            "gridwidth": 2,
            "linecolor": "white",
            "showbackground": true,
            "ticks": "",
            "zerolinecolor": "white"
           }
          },
          "shapedefaults": {
           "line": {
            "color": "#2a3f5f"
           }
          },
          "ternary": {
           "aaxis": {
            "gridcolor": "white",
            "linecolor": "white",
            "ticks": ""
           },
           "baxis": {
            "gridcolor": "white",
            "linecolor": "white",
            "ticks": ""
           },
           "bgcolor": "#E5ECF6",
           "caxis": {
            "gridcolor": "white",
            "linecolor": "white",
            "ticks": ""
           }
          },
          "title": {
           "x": 0.05
          },
          "xaxis": {
           "automargin": true,
           "gridcolor": "white",
           "linecolor": "white",
           "ticks": "",
           "title": {
            "standoff": 15
           },
           "zerolinecolor": "white",
           "zerolinewidth": 2
          },
          "yaxis": {
           "automargin": true,
           "gridcolor": "white",
           "linecolor": "white",
           "ticks": "",
           "title": {
            "standoff": 15
           },
           "zerolinecolor": "white",
           "zerolinewidth": 2
          }
         }
        },
        "title": {
         "text": "Remote-Work nach Psychischer Erkrankung <span style=\"color:red\">(Rot = Remote Work (Ja))</span>"
        }
       }
      }
     },
     "metadata": {},
     "output_type": "display_data"
    }
   ],
   "source": [
    "mental_remote = df_cl.groupby([\"mental_health_condition\", \"remote_work\"]).size().reset_index(name= \"count\")\n",
    "\n",
    "fig = px.pie(mental_remote, values= \"count\", facet_col= \"mental_health_condition\", color= \"remote_work\")\n",
    "\n",
    "fig.update_layout(\n",
    "    title ={\n",
    "        \"text\": \"Remote-Work nach Psychischer Erkrankung <span style=\\\"color:red\\\">(Rot = Remote Work (Ja))</span>\"\n",
    "    }\n",
    ")\n",
    "\n",
    "fig.show()"
   ]
  },
  {
   "cell_type": "markdown",
   "id": "355cc7b1",
   "metadata": {},
   "source": [
    "Beide Verteilungen sehen ausgeglichen aus. Da keine Zeitreihenbetrachtung möglich ist, können keine These abgeleitet werden. Die langfristigen Effekte von Remote-Work können dementsprechend nicht untersucht werden."
   ]
  },
  {
   "cell_type": "markdown",
   "id": "a9fe97cc",
   "metadata": {},
   "source": [
    "### 4.1.5 Communication"
   ]
  },
  {
   "cell_type": "markdown",
   "id": "4c2ee2c4",
   "metadata": {},
   "source": [
    "#### 4.1.5.1 Number of Employees"
   ]
  },
  {
   "cell_type": "markdown",
   "id": "8e61dcc0",
   "metadata": {},
   "source": [
    "Die Anzahl von Personen in dem Unternehmen können ein ausschlaggebender Punkt für die Kommunikation von Problemen sein. \n",
    "\n",
    "Somit besteht die Möglichkeit, das bei einem großen Unternehmen, die Antwort-Tendenz hinsichtlich der Kommunikation eher bei \"Some of them liegt\".\n",
    "Und bei kleineren Unternehmen, wo eine höhere Kommunikation und ein besserer Zusammenhalt entscheidend ist, auf die extremen Möglichkeiten \"Ja\" oder \"Nein\" fällt"
   ]
  },
  {
   "cell_type": "code",
   "execution_count": 75,
   "id": "afc97660",
   "metadata": {},
   "outputs": [
    {
     "data": {
      "text/plain": [
       "array(['6-25', 'More than 1000', '26-100', '100-500', '1-5', '500-1000'],\n",
       "      dtype=object)"
      ]
     },
     "execution_count": 75,
     "metadata": {},
     "output_type": "execute_result"
    }
   ],
   "source": [
    "df[\"no_employees\"].unique()"
   ]
  },
  {
   "cell_type": "markdown",
   "id": "76ce83ab",
   "metadata": {},
   "source": [
    "Ordnen der Werte zur besseren Darstellung"
   ]
  },
  {
   "cell_type": "code",
   "execution_count": 76,
   "id": "c3694eaa",
   "metadata": {},
   "outputs": [],
   "source": [
    "number_order = ['1-5', '6-25', '26-100', '100-500', '500-1000', 'More than 1000']\n",
    "df_cl[\"no_employees\"] = pd.Categorical(df_cl[\"no_employees\"], categories= number_order, ordered= True )"
   ]
  },
  {
   "cell_type": "code",
   "execution_count": 77,
   "id": "61a67533",
   "metadata": {},
   "outputs": [
    {
     "data": {
      "application/vnd.plotly.v1+json": {
       "config": {
        "plotlyServerURL": "https://plot.ly"
       },
       "data": [
        {
         "alignmentgroup": "True",
         "bingroup": "x",
         "histfunc": "count",
         "hovertemplate": "coworkers=Some of them<br>no_employees=%{x}<br>count=%{y}<extra></extra>",
         "legendgroup": "Some of them",
         "marker": {
          "color": "#636efa",
          "pattern": {
           "shape": ""
          }
         },
         "name": "Some of them",
         "offsetgroup": "Some of them",
         "orientation": "v",
         "showlegend": true,
         "type": "histogram",
         "x": [
          "6-25",
          "26-100",
          "100-500",
          "1-5",
          "6-25",
          "6-25",
          "26-100",
          "6-25",
          "6-25",
          "100-500",
          "1-5",
          "26-100",
          "More than 1000",
          "1-5",
          "26-100",
          "6-25",
          "6-25",
          "500-1000",
          "26-100",
          "1-5",
          "1-5",
          "100-500",
          "100-500",
          "6-25",
          "More than 1000",
          "1-5",
          "26-100",
          "26-100",
          "26-100",
          "100-500",
          "100-500",
          "1-5",
          "26-100",
          "26-100",
          "More than 1000",
          "6-25",
          "More than 1000",
          "1-5",
          "100-500",
          "26-100",
          "1-5",
          "26-100",
          "6-25",
          "26-100",
          "More than 1000",
          "26-100",
          "6-25",
          "26-100",
          "26-100",
          "1-5",
          "26-100",
          "6-25",
          "500-1000",
          "26-100",
          "500-1000",
          "500-1000",
          "26-100",
          "26-100",
          "26-100",
          "6-25",
          "6-25",
          "26-100",
          "26-100",
          "More than 1000",
          "6-25",
          "26-100",
          "26-100",
          "26-100",
          "100-500",
          "More than 1000",
          "6-25",
          "1-5",
          "6-25",
          "1-5",
          "26-100",
          "26-100",
          "100-500",
          "500-1000",
          "6-25",
          "6-25",
          "26-100",
          "6-25",
          "6-25",
          "6-25",
          "100-500",
          "More than 1000",
          "26-100",
          "More than 1000",
          "100-500",
          "100-500",
          "1-5",
          "26-100",
          "6-25",
          "More than 1000",
          "26-100",
          "26-100",
          "26-100",
          "26-100",
          "More than 1000",
          "500-1000",
          "More than 1000",
          "6-25",
          "1-5",
          "26-100",
          "100-500",
          "6-25",
          "6-25",
          "More than 1000",
          "100-500",
          "6-25",
          "More than 1000",
          "500-1000",
          "6-25",
          "6-25",
          "1-5",
          "1-5",
          "26-100",
          "6-25",
          "100-500",
          "6-25",
          "500-1000",
          "More than 1000",
          "6-25",
          "More than 1000",
          "26-100",
          "500-1000",
          "6-25",
          "6-25",
          "26-100",
          "26-100",
          "26-100",
          "6-25",
          "1-5",
          "6-25",
          "6-25",
          "500-1000",
          "6-25",
          "1-5",
          "6-25",
          "1-5",
          "26-100",
          "500-1000",
          "26-100",
          "26-100",
          "26-100",
          "6-25",
          "More than 1000",
          "6-25",
          "6-25",
          "1-5",
          "26-100",
          "6-25",
          "More than 1000",
          "500-1000",
          "26-100",
          "100-500",
          "100-500",
          "6-25",
          "6-25",
          "1-5",
          "6-25",
          "6-25",
          "6-25",
          "26-100",
          "1-5",
          "100-500",
          "More than 1000",
          "100-500",
          "26-100",
          "100-500",
          "100-500",
          "6-25",
          "100-500",
          "More than 1000",
          "26-100",
          "1-5",
          "More than 1000",
          "More than 1000",
          "More than 1000",
          "More than 1000",
          "500-1000",
          "More than 1000",
          "More than 1000",
          "More than 1000",
          "100-500",
          "100-500",
          "More than 1000",
          "6-25",
          "26-100",
          "26-100",
          "26-100",
          "100-500",
          "100-500",
          "1-5",
          "6-25",
          "More than 1000",
          "26-100",
          "100-500",
          "More than 1000",
          "500-1000",
          "More than 1000",
          "1-5",
          "26-100",
          "More than 1000",
          "6-25",
          "26-100",
          "More than 1000",
          "26-100",
          "26-100",
          "More than 1000",
          "26-100",
          "More than 1000",
          "More than 1000",
          "6-25",
          "More than 1000",
          "6-25",
          "500-1000",
          "26-100",
          "100-500",
          "6-25",
          "100-500",
          "More than 1000",
          "More than 1000",
          "100-500",
          "6-25",
          "26-100",
          "26-100",
          "26-100",
          "More than 1000",
          "500-1000",
          "More than 1000",
          "6-25",
          "500-1000",
          "1-5",
          "6-25",
          "More than 1000",
          "More than 1000",
          "More than 1000",
          "6-25",
          "100-500",
          "6-25",
          "26-100",
          "More than 1000",
          "100-500",
          "26-100",
          "6-25",
          "More than 1000",
          "More than 1000",
          "100-500",
          "6-25",
          "6-25",
          "26-100",
          "6-25",
          "6-25",
          "100-500",
          "More than 1000",
          "More than 1000",
          "100-500",
          "1-5",
          "26-100",
          "6-25",
          "More than 1000",
          "100-500",
          "26-100",
          "More than 1000",
          "100-500",
          "More than 1000",
          "More than 1000",
          "100-500",
          "26-100",
          "More than 1000",
          "More than 1000",
          "6-25",
          "6-25",
          "6-25",
          "500-1000",
          "26-100",
          "500-1000",
          "6-25",
          "26-100",
          "6-25",
          "26-100",
          "More than 1000",
          "100-500",
          "100-500",
          "More than 1000",
          "More than 1000",
          "6-25",
          "6-25",
          "100-500",
          "1-5",
          "6-25",
          "26-100",
          "26-100",
          "6-25",
          "6-25",
          "100-500",
          "26-100",
          "1-5",
          "26-100",
          "More than 1000",
          "More than 1000",
          "1-5",
          "6-25",
          "More than 1000",
          "More than 1000",
          "More than 1000",
          "More than 1000",
          "500-1000",
          "6-25",
          "6-25",
          "500-1000",
          "6-25",
          "More than 1000",
          "More than 1000",
          "1-5",
          "500-1000",
          "1-5",
          "100-500",
          "6-25",
          "6-25",
          "6-25",
          "26-100",
          "6-25",
          "500-1000",
          "100-500",
          "100-500",
          "More than 1000",
          "More than 1000",
          "26-100",
          "500-1000",
          "6-25",
          "1-5",
          "26-100",
          "100-500",
          "More than 1000",
          "More than 1000",
          "26-100",
          "6-25",
          "More than 1000",
          "6-25",
          "100-500",
          "More than 1000",
          "26-100",
          "26-100",
          "More than 1000",
          "100-500",
          "1-5",
          "500-1000",
          "6-25",
          "26-100",
          "26-100",
          "More than 1000",
          "100-500",
          "More than 1000",
          "6-25",
          "1-5",
          "100-500",
          "26-100",
          "26-100",
          "26-100",
          "1-5",
          "More than 1000",
          "100-500",
          "100-500",
          "100-500",
          "100-500",
          "100-500",
          "1-5",
          "26-100",
          "6-25",
          "6-25",
          "More than 1000",
          "26-100",
          "More than 1000",
          "26-100",
          "100-500",
          "26-100",
          "100-500",
          "100-500",
          "1-5",
          "26-100",
          "100-500",
          "100-500",
          "6-25",
          "26-100",
          "26-100",
          "6-25",
          "100-500",
          "100-500",
          "26-100",
          "6-25",
          "26-100",
          "1-5",
          "26-100",
          "26-100",
          "More than 1000",
          "100-500",
          "26-100",
          "26-100",
          "More than 1000",
          "1-5",
          "1-5",
          "1-5",
          "More than 1000",
          "6-25",
          "More than 1000",
          "1-5",
          "More than 1000",
          "1-5",
          "More than 1000",
          "26-100",
          "1-5",
          "100-500",
          "26-100",
          "100-500",
          "100-500",
          "26-100",
          "26-100",
          "26-100",
          "26-100",
          "More than 1000",
          "6-25",
          "More than 1000",
          "100-500",
          "26-100",
          "6-25",
          "26-100",
          "More than 1000",
          "100-500",
          "500-1000",
          "6-25",
          "100-500",
          "26-100",
          "26-100",
          "26-100",
          "6-25",
          "100-500",
          "6-25",
          "1-5",
          "500-1000",
          "6-25",
          "6-25",
          "More than 1000",
          "6-25",
          "1-5",
          "100-500",
          "6-25",
          "More than 1000",
          "26-100",
          "26-100",
          "26-100",
          "100-500",
          "26-100",
          "6-25",
          "6-25",
          "6-25",
          "26-100",
          "26-100",
          "More than 1000",
          "100-500",
          "6-25",
          "More than 1000",
          "26-100",
          "More than 1000",
          "100-500",
          "6-25",
          "1-5",
          "26-100",
          "6-25",
          "26-100",
          "500-1000",
          "More than 1000",
          "More than 1000",
          "6-25",
          "100-500",
          "More than 1000",
          "More than 1000",
          "6-25",
          "More than 1000",
          "26-100",
          "More than 1000",
          "100-500",
          "More than 1000",
          "6-25",
          "More than 1000",
          "26-100",
          "100-500",
          "26-100",
          "26-100",
          "100-500",
          "6-25",
          "More than 1000",
          "26-100",
          "26-100",
          "100-500",
          "More than 1000",
          "6-25",
          "100-500",
          "1-5",
          "6-25",
          "1-5",
          "500-1000",
          "1-5",
          "6-25",
          "1-5",
          "100-500",
          "1-5",
          "More than 1000",
          "More than 1000",
          "26-100",
          "1-5",
          "6-25",
          "1-5",
          "More than 1000",
          "100-500",
          "6-25",
          "500-1000",
          "6-25",
          "More than 1000",
          "More than 1000",
          "More than 1000",
          "More than 1000",
          "26-100",
          "26-100",
          "100-500",
          "More than 1000",
          "6-25",
          "6-25",
          "6-25",
          "More than 1000",
          "6-25",
          "100-500",
          "6-25",
          "6-25",
          "100-500",
          "6-25",
          "6-25",
          "1-5",
          "1-5",
          "More than 1000",
          "100-500",
          "26-100",
          "More than 1000",
          "26-100",
          "26-100",
          "26-100",
          "500-1000",
          "1-5",
          "26-100",
          "6-25",
          "500-1000",
          "100-500",
          "More than 1000",
          "6-25",
          "1-5",
          "100-500",
          "100-500",
          "500-1000",
          "100-500",
          "More than 1000",
          "1-5",
          "1-5",
          "26-100",
          "26-100",
          "1-5",
          "1-5",
          "6-25",
          "6-25",
          "6-25",
          "26-100",
          "1-5",
          "1-5",
          "More than 1000",
          "6-25",
          "26-100",
          "26-100",
          "More than 1000",
          "26-100",
          "100-500",
          "6-25",
          "1-5",
          "100-500",
          "More than 1000",
          "More than 1000",
          "6-25",
          "More than 1000",
          "More than 1000",
          "500-1000",
          "100-500",
          "More than 1000",
          "26-100",
          "More than 1000",
          "More than 1000",
          "6-25",
          "26-100",
          "1-5",
          "6-25",
          "6-25",
          "26-100",
          "More than 1000",
          "More than 1000",
          "6-25",
          "1-5",
          "1-5",
          "1-5",
          "100-500",
          "1-5",
          "6-25",
          "500-1000",
          "More than 1000",
          "1-5",
          "1-5",
          "26-100",
          "100-500",
          "1-5",
          "26-100",
          "1-5",
          "100-500",
          "6-25",
          "26-100",
          "1-5",
          "100-500",
          "6-25",
          "More than 1000",
          "26-100",
          "More than 1000",
          "100-500",
          "More than 1000",
          "26-100",
          "26-100",
          "26-100",
          "500-1000",
          "26-100",
          "6-25",
          "More than 1000",
          "1-5",
          "More than 1000",
          "6-25",
          "More than 1000",
          "More than 1000",
          "1-5",
          "26-100",
          "6-25",
          "6-25",
          "More than 1000",
          "100-500",
          "6-25",
          "100-500",
          "1-5",
          "More than 1000",
          "More than 1000",
          "1-5",
          "More than 1000",
          "500-1000",
          "6-25",
          "6-25",
          "More than 1000",
          "6-25",
          "More than 1000",
          "100-500",
          "6-25",
          "6-25",
          "26-100",
          "26-100",
          "6-25",
          "More than 1000",
          "More than 1000",
          "100-500",
          "1-5",
          "1-5",
          "26-100",
          "1-5",
          "More than 1000",
          "26-100",
          "100-500",
          "100-500",
          "More than 1000",
          "More than 1000",
          "6-25",
          "100-500",
          "6-25",
          "26-100",
          "6-25",
          "6-25",
          "6-25",
          "More than 1000",
          "1-5",
          "More than 1000",
          "100-500",
          "26-100",
          "26-100",
          "6-25",
          "26-100",
          "More than 1000",
          "26-100",
          "6-25",
          "More than 1000",
          "1-5",
          "More than 1000",
          "More than 1000",
          "6-25",
          "26-100",
          "26-100",
          "1-5",
          "6-25",
          "26-100",
          "100-500",
          "6-25",
          "100-500",
          "26-100",
          "More than 1000",
          "More than 1000",
          "More than 1000",
          "26-100",
          "6-25",
          "26-100",
          "1-5",
          "26-100",
          "More than 1000",
          "500-1000",
          "1-5",
          "6-25",
          "100-500",
          "26-100",
          "26-100",
          "6-25",
          "100-500",
          "26-100",
          "26-100",
          "26-100",
          "500-1000",
          "1-5",
          "6-25",
          "26-100",
          "100-500",
          "6-25",
          "100-500",
          "1-5",
          "6-25",
          "26-100",
          "1-5",
          "100-500",
          "More than 1000",
          "More than 1000",
          "26-100",
          "6-25",
          "More than 1000",
          "26-100",
          "6-25",
          "26-100",
          "100-500",
          "26-100",
          "More than 1000",
          "More than 1000",
          "26-100",
          "6-25",
          "More than 1000",
          "More than 1000",
          "100-500",
          "6-25",
          "More than 1000",
          "More than 1000",
          "6-25",
          "26-100",
          "100-500",
          "100-500",
          "More than 1000",
          "26-100",
          "26-100",
          "26-100"
         ],
         "xaxis": "x",
         "yaxis": "y"
        },
        {
         "alignmentgroup": "True",
         "bingroup": "x",
         "histfunc": "count",
         "hovertemplate": "coworkers=No<br>no_employees=%{x}<br>count=%{y}<extra></extra>",
         "legendgroup": "No",
         "marker": {
          "color": "#EF553B",
          "pattern": {
           "shape": ""
          }
         },
         "name": "No",
         "offsetgroup": "No",
         "orientation": "v",
         "showlegend": true,
         "type": "histogram",
         "x": [
          "More than 1000",
          "1-5",
          "More than 1000",
          "1-5",
          "6-25",
          "26-100",
          "6-25",
          "100-500",
          "26-100",
          "6-25",
          "26-100",
          "1-5",
          "More than 1000",
          "26-100",
          "100-500",
          "6-25",
          "500-1000",
          "More than 1000",
          "6-25",
          "100-500",
          "6-25",
          "26-100",
          "6-25",
          "6-25",
          "100-500",
          "More than 1000",
          "1-5",
          "More than 1000",
          "26-100",
          "6-25",
          "More than 1000",
          "More than 1000",
          "26-100",
          "1-5",
          "100-500",
          "100-500",
          "1-5",
          "26-100",
          "More than 1000",
          "26-100",
          "1-5",
          "More than 1000",
          "26-100",
          "More than 1000",
          "6-25",
          "6-25",
          "6-25",
          "26-100",
          "6-25",
          "6-25",
          "6-25",
          "26-100",
          "More than 1000",
          "6-25",
          "More than 1000",
          "100-500",
          "More than 1000",
          "6-25",
          "More than 1000",
          "More than 1000",
          "1-5",
          "100-500",
          "1-5",
          "26-100",
          "More than 1000",
          "More than 1000",
          "1-5",
          "More than 1000",
          "More than 1000",
          "More than 1000",
          "More than 1000",
          "More than 1000",
          "26-100",
          "More than 1000",
          "More than 1000",
          "More than 1000",
          "More than 1000",
          "500-1000",
          "26-100",
          "100-500",
          "500-1000",
          "More than 1000",
          "More than 1000",
          "More than 1000",
          "1-5",
          "More than 1000",
          "6-25",
          "6-25",
          "More than 1000",
          "More than 1000",
          "100-500",
          "100-500",
          "More than 1000",
          "6-25",
          "More than 1000",
          "500-1000",
          "More than 1000",
          "6-25",
          "More than 1000",
          "26-100",
          "26-100",
          "100-500",
          "More than 1000",
          "More than 1000",
          "More than 1000",
          "26-100",
          "26-100",
          "6-25",
          "1-5",
          "26-100",
          "More than 1000",
          "100-500",
          "6-25",
          "More than 1000",
          "26-100",
          "100-500",
          "26-100",
          "100-500",
          "More than 1000",
          "1-5",
          "More than 1000",
          "500-1000",
          "100-500",
          "1-5",
          "26-100",
          "6-25",
          "6-25",
          "100-500",
          "500-1000",
          "500-1000",
          "More than 1000",
          "26-100",
          "6-25",
          "6-25",
          "26-100",
          "More than 1000",
          "More than 1000",
          "6-25",
          "26-100",
          "More than 1000",
          "26-100",
          "26-100",
          "More than 1000",
          "6-25",
          "100-500",
          "26-100",
          "More than 1000",
          "26-100",
          "1-5",
          "1-5",
          "6-25",
          "1-5",
          "100-500",
          "26-100",
          "6-25",
          "26-100",
          "More than 1000",
          "26-100",
          "1-5",
          "100-500",
          "1-5",
          "26-100",
          "More than 1000",
          "6-25",
          "500-1000",
          "6-25",
          "More than 1000",
          "More than 1000",
          "26-100",
          "500-1000",
          "26-100",
          "1-5",
          "More than 1000",
          "More than 1000",
          "More than 1000",
          "500-1000",
          "More than 1000",
          "More than 1000",
          "500-1000",
          "100-500",
          "1-5",
          "6-25",
          "More than 1000",
          "6-25",
          "More than 1000",
          "More than 1000",
          "6-25",
          "500-1000",
          "6-25",
          "500-1000",
          "6-25",
          "26-100",
          "1-5",
          "26-100",
          "More than 1000",
          "500-1000",
          "6-25",
          "100-500",
          "More than 1000",
          "1-5",
          "6-25",
          "100-500",
          "26-100",
          "100-500",
          "6-25",
          "6-25",
          "More than 1000",
          "26-100",
          "1-5",
          "6-25",
          "More than 1000",
          "More than 1000",
          "More than 1000",
          "26-100",
          "More than 1000",
          "More than 1000",
          "100-500",
          "1-5",
          "1-5",
          "6-25",
          "More than 1000",
          "26-100",
          "6-25",
          "More than 1000",
          "1-5",
          "6-25",
          "More than 1000",
          "26-100",
          "26-100",
          "26-100",
          "6-25",
          "More than 1000",
          "More than 1000",
          "More than 1000",
          "26-100",
          "More than 1000",
          "6-25",
          "6-25",
          "More than 1000",
          "26-100",
          "6-25",
          "More than 1000",
          "100-500",
          "1-5",
          "More than 1000",
          "100-500",
          "26-100",
          "1-5",
          "More than 1000",
          "6-25",
          "6-25",
          "26-100",
          "26-100",
          "100-500",
          "100-500",
          "26-100",
          "More than 1000",
          "100-500"
         ],
         "xaxis": "x",
         "yaxis": "y"
        },
        {
         "alignmentgroup": "True",
         "bingroup": "x",
         "histfunc": "count",
         "hovertemplate": "coworkers=Yes<br>no_employees=%{x}<br>count=%{y}<extra></extra>",
         "legendgroup": "Yes",
         "marker": {
          "color": "#00cc96",
          "pattern": {
           "shape": ""
          }
         },
         "name": "Yes",
         "offsetgroup": "Yes",
         "orientation": "v",
         "showlegend": true,
         "type": "histogram",
         "x": [
          "6-25",
          "6-25",
          "100-500",
          "26-100",
          "100-500",
          "26-100",
          "500-1000",
          "26-100",
          "1-5",
          "26-100",
          "6-25",
          "6-25",
          "More than 1000",
          "6-25",
          "1-5",
          "6-25",
          "26-100",
          "100-500",
          "More than 1000",
          "More than 1000",
          "1-5",
          "100-500",
          "26-100",
          "26-100",
          "26-100",
          "1-5",
          "6-25",
          "6-25",
          "6-25",
          "More than 1000",
          "1-5",
          "26-100",
          "26-100",
          "More than 1000",
          "6-25",
          "1-5",
          "6-25",
          "More than 1000",
          "6-25",
          "1-5",
          "6-25",
          "26-100",
          "100-500",
          "26-100",
          "100-500",
          "6-25",
          "26-100",
          "1-5",
          "6-25",
          "1-5",
          "100-500",
          "6-25",
          "6-25",
          "100-500",
          "6-25",
          "26-100",
          "1-5",
          "6-25",
          "26-100",
          "6-25",
          "1-5",
          "More than 1000",
          "26-100",
          "More than 1000",
          "More than 1000",
          "More than 1000",
          "26-100",
          "100-500",
          "6-25",
          "1-5",
          "26-100",
          "100-500",
          "More than 1000",
          "More than 1000",
          "26-100",
          "26-100",
          "26-100",
          "26-100",
          "6-25",
          "100-500",
          "6-25",
          "1-5",
          "6-25",
          "More than 1000",
          "26-100",
          "1-5",
          "6-25",
          "6-25",
          "More than 1000",
          "6-25",
          "26-100",
          "26-100",
          "1-5",
          "More than 1000",
          "More than 1000",
          "100-500",
          "6-25",
          "26-100",
          "More than 1000",
          "26-100",
          "100-500",
          "100-500",
          "6-25",
          "26-100",
          "500-1000",
          "More than 1000",
          "More than 1000",
          "26-100",
          "26-100",
          "26-100",
          "26-100",
          "6-25",
          "6-25",
          "500-1000",
          "6-25",
          "1-5",
          "26-100",
          "6-25",
          "6-25",
          "100-500",
          "6-25",
          "1-5",
          "1-5",
          "6-25",
          "1-5",
          "1-5",
          "100-500",
          "100-500",
          "1-5",
          "26-100",
          "6-25",
          "6-25",
          "26-100",
          "1-5",
          "More than 1000",
          "1-5",
          "6-25",
          "26-100",
          "6-25",
          "26-100",
          "100-500",
          "6-25",
          "26-100",
          "1-5",
          "1-5",
          "More than 1000",
          "6-25",
          "26-100",
          "6-25",
          "1-5",
          "100-500",
          "100-500",
          "26-100",
          "100-500",
          "6-25",
          "100-500",
          "1-5",
          "1-5",
          "More than 1000",
          "1-5",
          "More than 1000",
          "More than 1000",
          "6-25",
          "26-100",
          "500-1000",
          "100-500",
          "6-25",
          "More than 1000",
          "26-100",
          "1-5",
          "26-100",
          "6-25",
          "6-25",
          "More than 1000",
          "26-100",
          "26-100",
          "6-25",
          "6-25",
          "6-25",
          "100-500",
          "500-1000",
          "100-500",
          "6-25",
          "6-25",
          "6-25",
          "26-100",
          "1-5",
          "6-25",
          "More than 1000",
          "1-5",
          "1-5",
          "6-25",
          "More than 1000",
          "100-500",
          "6-25",
          "500-1000",
          "6-25",
          "26-100",
          "6-25",
          "1-5",
          "100-500",
          "1-5",
          "More than 1000",
          "26-100",
          "More than 1000",
          "100-500",
          "6-25",
          "More than 1000",
          "26-100",
          "1-5",
          "26-100",
          "1-5",
          "More than 1000",
          "More than 1000",
          "1-5",
          "26-100",
          "6-25",
          "More than 1000",
          "6-25",
          "26-100",
          "500-1000",
          "26-100"
         ],
         "xaxis": "x",
         "yaxis": "y"
        }
       ],
       "layout": {
        "barmode": "relative",
        "legend": {
         "title": {
          "text": "coworkers"
         },
         "tracegroupgap": 0
        },
        "template": {
         "data": {
          "bar": [
           {
            "error_x": {
             "color": "#2a3f5f"
            },
            "error_y": {
             "color": "#2a3f5f"
            },
            "marker": {
             "line": {
              "color": "#E5ECF6",
              "width": 0.5
             },
             "pattern": {
              "fillmode": "overlay",
              "size": 10,
              "solidity": 0.2
             }
            },
            "type": "bar"
           }
          ],
          "barpolar": [
           {
            "marker": {
             "line": {
              "color": "#E5ECF6",
              "width": 0.5
             },
             "pattern": {
              "fillmode": "overlay",
              "size": 10,
              "solidity": 0.2
             }
            },
            "type": "barpolar"
           }
          ],
          "carpet": [
           {
            "aaxis": {
             "endlinecolor": "#2a3f5f",
             "gridcolor": "white",
             "linecolor": "white",
             "minorgridcolor": "white",
             "startlinecolor": "#2a3f5f"
            },
            "baxis": {
             "endlinecolor": "#2a3f5f",
             "gridcolor": "white",
             "linecolor": "white",
             "minorgridcolor": "white",
             "startlinecolor": "#2a3f5f"
            },
            "type": "carpet"
           }
          ],
          "choropleth": [
           {
            "colorbar": {
             "outlinewidth": 0,
             "ticks": ""
            },
            "type": "choropleth"
           }
          ],
          "contour": [
           {
            "colorbar": {
             "outlinewidth": 0,
             "ticks": ""
            },
            "colorscale": [
             [
              0,
              "#0d0887"
             ],
             [
              0.1111111111111111,
              "#46039f"
             ],
             [
              0.2222222222222222,
              "#7201a8"
             ],
             [
              0.3333333333333333,
              "#9c179e"
             ],
             [
              0.4444444444444444,
              "#bd3786"
             ],
             [
              0.5555555555555556,
              "#d8576b"
             ],
             [
              0.6666666666666666,
              "#ed7953"
             ],
             [
              0.7777777777777778,
              "#fb9f3a"
             ],
             [
              0.8888888888888888,
              "#fdca26"
             ],
             [
              1,
              "#f0f921"
             ]
            ],
            "type": "contour"
           }
          ],
          "contourcarpet": [
           {
            "colorbar": {
             "outlinewidth": 0,
             "ticks": ""
            },
            "type": "contourcarpet"
           }
          ],
          "heatmap": [
           {
            "colorbar": {
             "outlinewidth": 0,
             "ticks": ""
            },
            "colorscale": [
             [
              0,
              "#0d0887"
             ],
             [
              0.1111111111111111,
              "#46039f"
             ],
             [
              0.2222222222222222,
              "#7201a8"
             ],
             [
              0.3333333333333333,
              "#9c179e"
             ],
             [
              0.4444444444444444,
              "#bd3786"
             ],
             [
              0.5555555555555556,
              "#d8576b"
             ],
             [
              0.6666666666666666,
              "#ed7953"
             ],
             [
              0.7777777777777778,
              "#fb9f3a"
             ],
             [
              0.8888888888888888,
              "#fdca26"
             ],
             [
              1,
              "#f0f921"
             ]
            ],
            "type": "heatmap"
           }
          ],
          "heatmapgl": [
           {
            "colorbar": {
             "outlinewidth": 0,
             "ticks": ""
            },
            "colorscale": [
             [
              0,
              "#0d0887"
             ],
             [
              0.1111111111111111,
              "#46039f"
             ],
             [
              0.2222222222222222,
              "#7201a8"
             ],
             [
              0.3333333333333333,
              "#9c179e"
             ],
             [
              0.4444444444444444,
              "#bd3786"
             ],
             [
              0.5555555555555556,
              "#d8576b"
             ],
             [
              0.6666666666666666,
              "#ed7953"
             ],
             [
              0.7777777777777778,
              "#fb9f3a"
             ],
             [
              0.8888888888888888,
              "#fdca26"
             ],
             [
              1,
              "#f0f921"
             ]
            ],
            "type": "heatmapgl"
           }
          ],
          "histogram": [
           {
            "marker": {
             "pattern": {
              "fillmode": "overlay",
              "size": 10,
              "solidity": 0.2
             }
            },
            "type": "histogram"
           }
          ],
          "histogram2d": [
           {
            "colorbar": {
             "outlinewidth": 0,
             "ticks": ""
            },
            "colorscale": [
             [
              0,
              "#0d0887"
             ],
             [
              0.1111111111111111,
              "#46039f"
             ],
             [
              0.2222222222222222,
              "#7201a8"
             ],
             [
              0.3333333333333333,
              "#9c179e"
             ],
             [
              0.4444444444444444,
              "#bd3786"
             ],
             [
              0.5555555555555556,
              "#d8576b"
             ],
             [
              0.6666666666666666,
              "#ed7953"
             ],
             [
              0.7777777777777778,
              "#fb9f3a"
             ],
             [
              0.8888888888888888,
              "#fdca26"
             ],
             [
              1,
              "#f0f921"
             ]
            ],
            "type": "histogram2d"
           }
          ],
          "histogram2dcontour": [
           {
            "colorbar": {
             "outlinewidth": 0,
             "ticks": ""
            },
            "colorscale": [
             [
              0,
              "#0d0887"
             ],
             [
              0.1111111111111111,
              "#46039f"
             ],
             [
              0.2222222222222222,
              "#7201a8"
             ],
             [
              0.3333333333333333,
              "#9c179e"
             ],
             [
              0.4444444444444444,
              "#bd3786"
             ],
             [
              0.5555555555555556,
              "#d8576b"
             ],
             [
              0.6666666666666666,
              "#ed7953"
             ],
             [
              0.7777777777777778,
              "#fb9f3a"
             ],
             [
              0.8888888888888888,
              "#fdca26"
             ],
             [
              1,
              "#f0f921"
             ]
            ],
            "type": "histogram2dcontour"
           }
          ],
          "mesh3d": [
           {
            "colorbar": {
             "outlinewidth": 0,
             "ticks": ""
            },
            "type": "mesh3d"
           }
          ],
          "parcoords": [
           {
            "line": {
             "colorbar": {
              "outlinewidth": 0,
              "ticks": ""
             }
            },
            "type": "parcoords"
           }
          ],
          "pie": [
           {
            "automargin": true,
            "type": "pie"
           }
          ],
          "scatter": [
           {
            "fillpattern": {
             "fillmode": "overlay",
             "size": 10,
             "solidity": 0.2
            },
            "type": "scatter"
           }
          ],
          "scatter3d": [
           {
            "line": {
             "colorbar": {
              "outlinewidth": 0,
              "ticks": ""
             }
            },
            "marker": {
             "colorbar": {
              "outlinewidth": 0,
              "ticks": ""
             }
            },
            "type": "scatter3d"
           }
          ],
          "scattercarpet": [
           {
            "marker": {
             "colorbar": {
              "outlinewidth": 0,
              "ticks": ""
             }
            },
            "type": "scattercarpet"
           }
          ],
          "scattergeo": [
           {
            "marker": {
             "colorbar": {
              "outlinewidth": 0,
              "ticks": ""
             }
            },
            "type": "scattergeo"
           }
          ],
          "scattergl": [
           {
            "marker": {
             "colorbar": {
              "outlinewidth": 0,
              "ticks": ""
             }
            },
            "type": "scattergl"
           }
          ],
          "scattermapbox": [
           {
            "marker": {
             "colorbar": {
              "outlinewidth": 0,
              "ticks": ""
             }
            },
            "type": "scattermapbox"
           }
          ],
          "scatterpolar": [
           {
            "marker": {
             "colorbar": {
              "outlinewidth": 0,
              "ticks": ""
             }
            },
            "type": "scatterpolar"
           }
          ],
          "scatterpolargl": [
           {
            "marker": {
             "colorbar": {
              "outlinewidth": 0,
              "ticks": ""
             }
            },
            "type": "scatterpolargl"
           }
          ],
          "scatterternary": [
           {
            "marker": {
             "colorbar": {
              "outlinewidth": 0,
              "ticks": ""
             }
            },
            "type": "scatterternary"
           }
          ],
          "surface": [
           {
            "colorbar": {
             "outlinewidth": 0,
             "ticks": ""
            },
            "colorscale": [
             [
              0,
              "#0d0887"
             ],
             [
              0.1111111111111111,
              "#46039f"
             ],
             [
              0.2222222222222222,
              "#7201a8"
             ],
             [
              0.3333333333333333,
              "#9c179e"
             ],
             [
              0.4444444444444444,
              "#bd3786"
             ],
             [
              0.5555555555555556,
              "#d8576b"
             ],
             [
              0.6666666666666666,
              "#ed7953"
             ],
             [
              0.7777777777777778,
              "#fb9f3a"
             ],
             [
              0.8888888888888888,
              "#fdca26"
             ],
             [
              1,
              "#f0f921"
             ]
            ],
            "type": "surface"
           }
          ],
          "table": [
           {
            "cells": {
             "fill": {
              "color": "#EBF0F8"
             },
             "line": {
              "color": "white"
             }
            },
            "header": {
             "fill": {
              "color": "#C8D4E3"
             },
             "line": {
              "color": "white"
             }
            },
            "type": "table"
           }
          ]
         },
         "layout": {
          "annotationdefaults": {
           "arrowcolor": "#2a3f5f",
           "arrowhead": 0,
           "arrowwidth": 1
          },
          "autotypenumbers": "strict",
          "coloraxis": {
           "colorbar": {
            "outlinewidth": 0,
            "ticks": ""
           }
          },
          "colorscale": {
           "diverging": [
            [
             0,
             "#8e0152"
            ],
            [
             0.1,
             "#c51b7d"
            ],
            [
             0.2,
             "#de77ae"
            ],
            [
             0.3,
             "#f1b6da"
            ],
            [
             0.4,
             "#fde0ef"
            ],
            [
             0.5,
             "#f7f7f7"
            ],
            [
             0.6,
             "#e6f5d0"
            ],
            [
             0.7,
             "#b8e186"
            ],
            [
             0.8,
             "#7fbc41"
            ],
            [
             0.9,
             "#4d9221"
            ],
            [
             1,
             "#276419"
            ]
           ],
           "sequential": [
            [
             0,
             "#0d0887"
            ],
            [
             0.1111111111111111,
             "#46039f"
            ],
            [
             0.2222222222222222,
             "#7201a8"
            ],
            [
             0.3333333333333333,
             "#9c179e"
            ],
            [
             0.4444444444444444,
             "#bd3786"
            ],
            [
             0.5555555555555556,
             "#d8576b"
            ],
            [
             0.6666666666666666,
             "#ed7953"
            ],
            [
             0.7777777777777778,
             "#fb9f3a"
            ],
            [
             0.8888888888888888,
             "#fdca26"
            ],
            [
             1,
             "#f0f921"
            ]
           ],
           "sequentialminus": [
            [
             0,
             "#0d0887"
            ],
            [
             0.1111111111111111,
             "#46039f"
            ],
            [
             0.2222222222222222,
             "#7201a8"
            ],
            [
             0.3333333333333333,
             "#9c179e"
            ],
            [
             0.4444444444444444,
             "#bd3786"
            ],
            [
             0.5555555555555556,
             "#d8576b"
            ],
            [
             0.6666666666666666,
             "#ed7953"
            ],
            [
             0.7777777777777778,
             "#fb9f3a"
            ],
            [
             0.8888888888888888,
             "#fdca26"
            ],
            [
             1,
             "#f0f921"
            ]
           ]
          },
          "colorway": [
           "#636efa",
           "#EF553B",
           "#00cc96",
           "#ab63fa",
           "#FFA15A",
           "#19d3f3",
           "#FF6692",
           "#B6E880",
           "#FF97FF",
           "#FECB52"
          ],
          "font": {
           "color": "#2a3f5f"
          },
          "geo": {
           "bgcolor": "white",
           "lakecolor": "white",
           "landcolor": "#E5ECF6",
           "showlakes": true,
           "showland": true,
           "subunitcolor": "white"
          },
          "hoverlabel": {
           "align": "left"
          },
          "hovermode": "closest",
          "mapbox": {
           "style": "light"
          },
          "paper_bgcolor": "white",
          "plot_bgcolor": "#E5ECF6",
          "polar": {
           "angularaxis": {
            "gridcolor": "white",
            "linecolor": "white",
            "ticks": ""
           },
           "bgcolor": "#E5ECF6",
           "radialaxis": {
            "gridcolor": "white",
            "linecolor": "white",
            "ticks": ""
           }
          },
          "scene": {
           "xaxis": {
            "backgroundcolor": "#E5ECF6",
            "gridcolor": "white",
            "gridwidth": 2,
            "linecolor": "white",
            "showbackground": true,
            "ticks": "",
            "zerolinecolor": "white"
           },
           "yaxis": {
            "backgroundcolor": "#E5ECF6",
            "gridcolor": "white",
            "gridwidth": 2,
            "linecolor": "white",
            "showbackground": true,
            "ticks": "",
            "zerolinecolor": "white"
           },
           "zaxis": {
            "backgroundcolor": "#E5ECF6",
            "gridcolor": "white",
            "gridwidth": 2,
            "linecolor": "white",
            "showbackground": true,
            "ticks": "",
            "zerolinecolor": "white"
           }
          },
          "shapedefaults": {
           "line": {
            "color": "#2a3f5f"
           }
          },
          "ternary": {
           "aaxis": {
            "gridcolor": "white",
            "linecolor": "white",
            "ticks": ""
           },
           "baxis": {
            "gridcolor": "white",
            "linecolor": "white",
            "ticks": ""
           },
           "bgcolor": "#E5ECF6",
           "caxis": {
            "gridcolor": "white",
            "linecolor": "white",
            "ticks": ""
           }
          },
          "title": {
           "x": 0.05
          },
          "xaxis": {
           "automargin": true,
           "gridcolor": "white",
           "linecolor": "white",
           "ticks": "",
           "title": {
            "standoff": 15
           },
           "zerolinecolor": "white",
           "zerolinewidth": 2
          },
          "yaxis": {
           "automargin": true,
           "gridcolor": "white",
           "linecolor": "white",
           "ticks": "",
           "title": {
            "standoff": 15
           },
           "zerolinecolor": "white",
           "zerolinewidth": 2
          }
         }
        },
        "title": {
         "text": "Kommunikation mit Kolleg:innen nach Unternehmensgröße"
        },
        "xaxis": {
         "anchor": "y",
         "categoryarray": [
          "1-5",
          "6-25",
          "26-100",
          "100-500",
          "500-1000",
          "More than 1000"
         ],
         "categoryorder": "array",
         "domain": [
          0,
          1
         ],
         "title": {
          "text": "no_employees"
         }
        },
        "yaxis": {
         "anchor": "x",
         "domain": [
          0,
          1
         ],
         "title": {
          "text": "count"
         }
        }
       }
      }
     },
     "metadata": {},
     "output_type": "display_data"
    }
   ],
   "source": [
    "fig = px.histogram(\n",
    "    df_cl,\n",
    "    x=\"no_employees\",\n",
    "    color=\"coworkers\", \n",
    "    barmode=\"relative\",  \n",
    "    histfunc=\"count\",\n",
    "    title=\"Kommunikation mit Kolleg:innen nach Unternehmensgröße\",\n",
    "    category_orders={\"no_employees\": number_order}\n",
    ")\n",
    "\n",
    "fig.show()"
   ]
  },
  {
   "cell_type": "code",
   "execution_count": 78,
   "id": "461aac92",
   "metadata": {},
   "outputs": [
    {
     "data": {
      "application/vnd.plotly.v1+json": {
       "config": {
        "plotlyServerURL": "https://plot.ly"
       },
       "data": [
        {
         "alignmentgroup": "True",
         "bingroup": "x",
         "histfunc": "count",
         "hovertemplate": "supervisor=Yes<br>no_employees=%{x}<br>count=%{y}<extra></extra>",
         "legendgroup": "Yes",
         "marker": {
          "color": "#636efa",
          "pattern": {
           "shape": ""
          }
         },
         "name": "Yes",
         "offsetgroup": "Yes",
         "orientation": "v",
         "showlegend": true,
         "type": "histogram",
         "x": [
          "6-25",
          "6-25",
          "100-500",
          "6-25",
          "100-500",
          "26-100",
          "6-25",
          "100-500",
          "26-100",
          "500-1000",
          "6-25",
          "1-5",
          "26-100",
          "26-100",
          "More than 1000",
          "6-25",
          "500-1000",
          "6-25",
          "100-500",
          "More than 1000",
          "26-100",
          "26-100",
          "6-25",
          "1-5",
          "26-100",
          "100-500",
          "1-5",
          "6-25",
          "26-100",
          "26-100",
          "26-100",
          "100-500",
          "6-25",
          "1-5",
          "6-25",
          "More than 1000",
          "26-100",
          "More than 1000",
          "1-5",
          "26-100",
          "26-100",
          "1-5",
          "26-100",
          "500-1000",
          "26-100",
          "26-100",
          "26-100",
          "26-100",
          "6-25",
          "1-5",
          "26-100",
          "26-100",
          "More than 1000",
          "6-25",
          "26-100",
          "6-25",
          "26-100",
          "6-25",
          "1-5",
          "6-25",
          "26-100",
          "26-100",
          "6-25",
          "100-500",
          "100-500",
          "26-100",
          "26-100",
          "26-100",
          "6-25",
          "More than 1000",
          "100-500",
          "100-500",
          "6-25",
          "26-100",
          "26-100",
          "6-25",
          "1-5",
          "1-5",
          "6-25",
          "More than 1000",
          "6-25",
          "6-25",
          "More than 1000",
          "6-25",
          "1-5",
          "6-25",
          "6-25",
          "26-100",
          "6-25",
          "1-5",
          "6-25",
          "More than 1000",
          "500-1000",
          "100-500",
          "26-100",
          "26-100",
          "26-100",
          "26-100",
          "100-500",
          "6-25",
          "6-25",
          "26-100",
          "26-100",
          "1-5",
          "1-5",
          "26-100",
          "6-25",
          "6-25",
          "6-25",
          "26-100",
          "6-25",
          "More than 1000",
          "6-25",
          "1-5",
          "100-500",
          "100-500",
          "100-500",
          "6-25",
          "6-25",
          "100-500",
          "6-25",
          "6-25",
          "26-100",
          "6-25",
          "100-500",
          "More than 1000",
          "100-500",
          "6-25",
          "6-25",
          "1-5",
          "26-100",
          "More than 1000",
          "More than 1000",
          "More than 1000",
          "100-500",
          "100-500",
          "More than 1000",
          "26-100",
          "26-100",
          "100-500",
          "100-500",
          "1-5",
          "More than 1000",
          "More than 1000",
          "100-500",
          "500-1000",
          "More than 1000",
          "26-100",
          "26-100",
          "26-100",
          "100-500",
          "More than 1000",
          "6-25",
          "6-25",
          "6-25",
          "1-5",
          "26-100",
          "100-500",
          "More than 1000",
          "More than 1000",
          "100-500",
          "More than 1000",
          "26-100",
          "26-100",
          "More than 1000",
          "26-100",
          "26-100",
          "More than 1000",
          "500-1000",
          "26-100",
          "6-25",
          "6-25",
          "More than 1000",
          "6-25",
          "6-25",
          "6-25",
          "100-500",
          "6-25",
          "6-25",
          "1-5",
          "6-25",
          "6-25",
          "100-500",
          "26-100",
          "6-25",
          "More than 1000",
          "100-500",
          "1-5",
          "More than 1000",
          "100-500",
          "6-25",
          "26-100",
          "6-25",
          "More than 1000",
          "26-100",
          "500-1000",
          "6-25",
          "26-100",
          "More than 1000",
          "6-25",
          "100-500",
          "More than 1000",
          "6-25",
          "26-100",
          "100-500",
          "26-100",
          "1-5",
          "6-25",
          "More than 1000",
          "More than 1000",
          "100-500",
          "6-25",
          "More than 1000",
          "More than 1000",
          "26-100",
          "500-1000",
          "More than 1000",
          "26-100",
          "More than 1000",
          "1-5",
          "100-500",
          "6-25",
          "100-500",
          "6-25",
          "26-100",
          "100-500",
          "6-25",
          "26-100",
          "More than 1000",
          "More than 1000",
          "6-25",
          "More than 1000",
          "6-25",
          "More than 1000",
          "500-1000",
          "1-5",
          "More than 1000",
          "500-1000",
          "26-100",
          "26-100",
          "26-100",
          "6-25",
          "100-500",
          "6-25",
          "1-5",
          "26-100",
          "6-25",
          "6-25",
          "100-500",
          "500-1000",
          "100-500",
          "6-25",
          "1-5",
          "26-100",
          "6-25",
          "6-25",
          "6-25",
          "100-500",
          "1-5",
          "6-25",
          "100-500",
          "100-500",
          "6-25",
          "26-100",
          "1-5",
          "26-100",
          "100-500",
          "1-5",
          "6-25",
          "1-5",
          "More than 1000",
          "6-25",
          "1-5",
          "1-5",
          "100-500",
          "26-100",
          "26-100",
          "1-5",
          "1-5",
          "More than 1000",
          "More than 1000",
          "More than 1000",
          "100-500",
          "6-25",
          "1-5",
          "More than 1000",
          "26-100",
          "100-500",
          "1-5",
          "100-500",
          "26-100",
          "100-500",
          "1-5",
          "26-100",
          "6-25",
          "6-25",
          "100-500",
          "500-1000",
          "6-25",
          "6-25",
          "26-100",
          "1-5",
          "6-25",
          "1-5",
          "More than 1000",
          "6-25",
          "6-25",
          "26-100",
          "More than 1000",
          "26-100",
          "26-100",
          "6-25",
          "6-25",
          "26-100",
          "26-100",
          "6-25",
          "More than 1000",
          "26-100",
          "1-5",
          "6-25",
          "26-100",
          "1-5",
          "6-25",
          "100-500",
          "More than 1000",
          "6-25",
          "26-100",
          "6-25",
          "More than 1000",
          "1-5",
          "6-25",
          "1-5",
          "100-500",
          "100-500",
          "26-100",
          "100-500",
          "26-100",
          "26-100",
          "100-500",
          "6-25",
          "100-500",
          "26-100",
          "500-1000",
          "More than 1000",
          "More than 1000",
          "26-100",
          "1-5",
          "6-25",
          "100-500",
          "500-1000",
          "6-25",
          "More than 1000",
          "More than 1000",
          "More than 1000",
          "6-25",
          "100-500",
          "1-5",
          "More than 1000",
          "More than 1000",
          "6-25",
          "100-500",
          "1-5",
          "6-25",
          "1-5",
          "More than 1000",
          "More than 1000",
          "More than 1000",
          "26-100",
          "500-1000",
          "1-5",
          "6-25",
          "500-1000",
          "100-500",
          "More than 1000",
          "100-500",
          "100-500",
          "More than 1000",
          "1-5",
          "26-100",
          "More than 1000",
          "6-25",
          "26-100",
          "6-25",
          "More than 1000",
          "6-25",
          "500-1000",
          "100-500",
          "100-500",
          "6-25",
          "1-5",
          "6-25",
          "6-25",
          "500-1000",
          "More than 1000",
          "26-100",
          "26-100",
          "1-5",
          "6-25",
          "26-100",
          "More than 1000",
          "6-25",
          "6-25",
          "1-5",
          "6-25",
          "1-5",
          "6-25",
          "More than 1000",
          "6-25",
          "26-100",
          "1-5",
          "26-100",
          "6-25",
          "1-5",
          "6-25",
          "1-5",
          "100-500",
          "6-25",
          "6-25",
          "100-500",
          "500-1000",
          "100-500",
          "6-25",
          "More than 1000",
          "26-100",
          "100-500",
          "6-25",
          "6-25",
          "More than 1000",
          "1-5",
          "More than 1000",
          "6-25",
          "6-25",
          "26-100",
          "1-5",
          "6-25",
          "6-25",
          "1-5",
          "More than 1000",
          "500-1000",
          "6-25",
          "6-25",
          "More than 1000",
          "6-25",
          "6-25",
          "More than 1000",
          "26-100",
          "More than 1000",
          "1-5",
          "1-5",
          "1-5",
          "6-25",
          "More than 1000",
          "26-100",
          "100-500",
          "100-500",
          "6-25",
          "More than 1000",
          "6-25",
          "26-100",
          "26-100",
          "6-25",
          "1-5",
          "More than 1000",
          "1-5",
          "1-5",
          "6-25",
          "More than 1000",
          "26-100",
          "26-100",
          "More than 1000",
          "1-5",
          "More than 1000",
          "100-500",
          "26-100",
          "6-25",
          "More than 1000",
          "More than 1000",
          "26-100",
          "1-5",
          "6-25",
          "26-100",
          "500-1000",
          "100-500",
          "26-100",
          "26-100",
          "26-100",
          "6-25",
          "100-500",
          "1-5",
          "100-500",
          "1-5",
          "6-25",
          "26-100",
          "1-5",
          "100-500",
          "More than 1000",
          "More than 1000",
          "More than 1000",
          "100-500",
          "1-5",
          "6-25",
          "More than 1000",
          "6-25",
          "More than 1000",
          "500-1000",
          "More than 1000",
          "More than 1000",
          "100-500",
          "26-100",
          "26-100",
          "100-500",
          "26-100"
         ],
         "xaxis": "x",
         "yaxis": "y"
        },
        {
         "alignmentgroup": "True",
         "bingroup": "x",
         "histfunc": "count",
         "hovertemplate": "supervisor=No<br>no_employees=%{x}<br>count=%{y}<extra></extra>",
         "legendgroup": "No",
         "marker": {
          "color": "#EF553B",
          "pattern": {
           "shape": ""
          }
         },
         "name": "No",
         "offsetgroup": "No",
         "orientation": "v",
         "showlegend": true,
         "type": "histogram",
         "x": [
          "More than 1000",
          "26-100",
          "1-5",
          "1-5",
          "26-100",
          "More than 1000",
          "1-5",
          "26-100",
          "6-25",
          "1-5",
          "1-5",
          "1-5",
          "6-25",
          "More than 1000",
          "1-5",
          "26-100",
          "6-25",
          "100-500",
          "26-100",
          "6-25",
          "More than 1000",
          "26-100",
          "More than 1000",
          "26-100",
          "1-5",
          "1-5",
          "26-100",
          "More than 1000",
          "6-25",
          "26-100",
          "26-100",
          "6-25",
          "26-100",
          "6-25",
          "500-1000",
          "More than 1000",
          "1-5",
          "More than 1000",
          "6-25",
          "500-1000",
          "6-25",
          "6-25",
          "26-100",
          "6-25",
          "More than 1000",
          "26-100",
          "6-25",
          "100-500",
          "More than 1000",
          "26-100",
          "1-5",
          "More than 1000",
          "More than 1000",
          "500-1000",
          "6-25",
          "More than 1000",
          "26-100",
          "26-100",
          "100-500",
          "500-1000",
          "More than 1000",
          "1-5",
          "100-500",
          "100-500",
          "1-5",
          "1-5",
          "500-1000",
          "1-5",
          "6-25",
          "500-1000",
          "More than 1000",
          "26-100",
          "More than 1000",
          "6-25",
          "500-1000",
          "6-25",
          "6-25",
          "6-25",
          "26-100",
          "26-100",
          "100-500",
          "6-25",
          "6-25",
          "1-5",
          "More than 1000",
          "500-1000",
          "More than 1000",
          "6-25",
          "More than 1000",
          "100-500",
          "More than 1000",
          "6-25",
          "More than 1000",
          "1-5",
          "More than 1000",
          "100-500",
          "1-5",
          "26-100",
          "More than 1000",
          "More than 1000",
          "1-5",
          "More than 1000",
          "More than 1000",
          "More than 1000",
          "500-1000",
          "More than 1000",
          "More than 1000",
          "6-25",
          "26-100",
          "More than 1000",
          "More than 1000",
          "6-25",
          "1-5",
          "6-25",
          "More than 1000",
          "More than 1000",
          "More than 1000",
          "500-1000",
          "26-100",
          "26-100",
          "More than 1000",
          "500-1000",
          "More than 1000",
          "More than 1000",
          "More than 1000",
          "1-5",
          "26-100",
          "More than 1000",
          "More than 1000",
          "More than 1000",
          "26-100",
          "6-25",
          "More than 1000",
          "More than 1000",
          "6-25",
          "100-500",
          "100-500",
          "6-25",
          "6-25",
          "26-100",
          "100-500",
          "6-25",
          "More than 1000",
          "6-25",
          "500-1000",
          "More than 1000",
          "6-25",
          "6-25",
          "26-100",
          "26-100",
          "26-100",
          "More than 1000",
          "1-5",
          "26-100",
          "More than 1000",
          "100-500",
          "More than 1000",
          "6-25",
          "More than 1000",
          "More than 1000",
          "6-25",
          "More than 1000",
          "26-100",
          "26-100",
          "1-5",
          "26-100",
          "More than 1000",
          "100-500",
          "26-100",
          "6-25",
          "100-500",
          "More than 1000",
          "100-500",
          "26-100",
          "26-100",
          "More than 1000",
          "100-500",
          "1-5",
          "100-500",
          "26-100",
          "100-500",
          "100-500",
          "More than 1000",
          "26-100",
          "1-5",
          "More than 1000",
          "26-100",
          "More than 1000",
          "100-500",
          "More than 1000",
          "26-100",
          "1-5",
          "26-100",
          "100-500",
          "6-25",
          "100-500",
          "500-1000",
          "500-1000",
          "1-5",
          "26-100",
          "More than 1000",
          "26-100",
          "26-100",
          "6-25",
          "100-500",
          "6-25",
          "26-100",
          "6-25",
          "More than 1000",
          "26-100",
          "26-100",
          "6-25",
          "More than 1000",
          "500-1000",
          "6-25",
          "26-100",
          "26-100",
          "26-100",
          "1-5",
          "More than 1000",
          "26-100",
          "1-5",
          "26-100",
          "More than 1000",
          "6-25",
          "6-25",
          "More than 1000",
          "26-100",
          "More than 1000",
          "1-5",
          "1-5",
          "100-500",
          "1-5",
          "26-100",
          "6-25",
          "100-500",
          "26-100",
          "More than 1000",
          "6-25",
          "1-5",
          "26-100",
          "1-5",
          "100-500",
          "More than 1000",
          "1-5",
          "6-25",
          "More than 1000",
          "1-5",
          "100-500",
          "More than 1000",
          "26-100",
          "100-500",
          "1-5",
          "1-5",
          "6-25",
          "6-25",
          "More than 1000",
          "6-25",
          "500-1000",
          "6-25",
          "More than 1000",
          "26-100",
          "26-100",
          "500-1000",
          "6-25",
          "1-5",
          "100-500",
          "26-100",
          "26-100",
          "1-5",
          "More than 1000",
          "More than 1000",
          "More than 1000",
          "500-1000",
          "6-25",
          "6-25",
          "26-100",
          "More than 1000",
          "More than 1000",
          "100-500",
          "1-5",
          "6-25",
          "More than 1000",
          "100-500",
          "More than 1000",
          "26-100",
          "6-25",
          "More than 1000",
          "26-100",
          "100-500",
          "More than 1000",
          "6-25",
          "6-25",
          "26-100",
          "500-1000",
          "6-25",
          "26-100",
          "26-100",
          "1-5",
          "26-100",
          "More than 1000",
          "500-1000",
          "6-25",
          "26-100",
          "100-500",
          "100-500",
          "26-100",
          "6-25",
          "100-500",
          "26-100",
          "100-500",
          "More than 1000",
          "6-25",
          "More than 1000",
          "6-25",
          "More than 1000",
          "100-500",
          "More than 1000",
          "More than 1000",
          "100-500",
          "1-5",
          "6-25",
          "26-100",
          "More than 1000",
          "More than 1000",
          "100-500",
          "More than 1000",
          "26-100",
          "More than 1000",
          "More than 1000",
          "More than 1000",
          "1-5",
          "100-500",
          "1-5",
          "6-25",
          "More than 1000",
          "6-25",
          "26-100",
          "1-5",
          "6-25",
          "More than 1000",
          "26-100",
          "More than 1000",
          "26-100",
          "26-100",
          "6-25",
          "More than 1000",
          "More than 1000",
          "More than 1000",
          "More than 1000",
          "26-100",
          "6-25",
          "6-25",
          "More than 1000",
          "100-500",
          "26-100",
          "26-100",
          "6-25",
          "More than 1000",
          "More than 1000",
          "26-100",
          "100-500",
          "26-100",
          "More than 1000",
          "1-5",
          "6-25",
          "More than 1000",
          "1-5",
          "26-100",
          "100-500",
          "6-25",
          "26-100",
          "1-5",
          "More than 1000",
          "26-100",
          "26-100",
          "More than 1000",
          "6-25",
          "6-25",
          "More than 1000",
          "26-100",
          "100-500",
          "6-25",
          "26-100",
          "6-25",
          "26-100",
          "100-500",
          "More than 1000",
          "100-500",
          "26-100"
         ],
         "xaxis": "x",
         "yaxis": "y"
        },
        {
         "alignmentgroup": "True",
         "bingroup": "x",
         "histfunc": "count",
         "hovertemplate": "supervisor=Some of them<br>no_employees=%{x}<br>count=%{y}<extra></extra>",
         "legendgroup": "Some of them",
         "marker": {
          "color": "#00cc96",
          "pattern": {
           "shape": ""
          }
         },
         "name": "Some of them",
         "offsetgroup": "Some of them",
         "orientation": "v",
         "showlegend": true,
         "type": "histogram",
         "x": [
          "6-25",
          "26-100",
          "6-25",
          "100-500",
          "1-5",
          "6-25",
          "26-100",
          "100-500",
          "6-25",
          "100-500",
          "100-500",
          "26-100",
          "More than 1000",
          "6-25",
          "100-500",
          "500-1000",
          "26-100",
          "500-1000",
          "100-500",
          "26-100",
          "100-500",
          "6-25",
          "6-25",
          "More than 1000",
          "1-5",
          "6-25",
          "More than 1000",
          "6-25",
          "100-500",
          "1-5",
          "26-100",
          "6-25",
          "26-100",
          "More than 1000",
          "More than 1000",
          "500-1000",
          "More than 1000",
          "26-100",
          "100-500",
          "26-100",
          "100-500",
          "6-25",
          "More than 1000",
          "1-5",
          "6-25",
          "6-25",
          "26-100",
          "6-25",
          "6-25",
          "6-25",
          "6-25",
          "26-100",
          "6-25",
          "More than 1000",
          "1-5",
          "26-100",
          "26-100",
          "26-100",
          "More than 1000",
          "1-5",
          "26-100",
          "6-25",
          "1-5",
          "6-25",
          "6-25",
          "1-5",
          "26-100",
          "1-5",
          "26-100",
          "6-25",
          "100-500",
          "26-100",
          "100-500",
          "More than 1000",
          "26-100",
          "More than 1000",
          "More than 1000",
          "More than 1000",
          "More than 1000",
          "More than 1000",
          "6-25",
          "26-100",
          "6-25",
          "More than 1000",
          "26-100",
          "More than 1000",
          "More than 1000",
          "1-5",
          "26-100",
          "6-25",
          "26-100",
          "More than 1000",
          "26-100",
          "More than 1000",
          "More than 1000",
          "26-100",
          "100-500",
          "6-25",
          "100-500",
          "More than 1000",
          "More than 1000",
          "26-100",
          "More than 1000",
          "500-1000",
          "More than 1000",
          "100-500",
          "100-500",
          "100-500",
          "26-100",
          "26-100",
          "More than 1000",
          "100-500",
          "6-25",
          "100-500",
          "More than 1000",
          "6-25",
          "1-5",
          "26-100",
          "More than 1000",
          "More than 1000",
          "100-500",
          "More than 1000",
          "More than 1000",
          "6-25",
          "500-1000",
          "More than 1000",
          "More than 1000",
          "1-5",
          "26-100",
          "6-25",
          "More than 1000",
          "100-500",
          "1-5",
          "More than 1000",
          "6-25",
          "26-100",
          "500-1000",
          "6-25",
          "More than 1000",
          "500-1000",
          "1-5",
          "6-25",
          "6-25",
          "6-25",
          "500-1000",
          "100-500",
          "100-500",
          "6-25",
          "26-100",
          "500-1000",
          "1-5",
          "26-100",
          "100-500",
          "More than 1000",
          "More than 1000",
          "26-100",
          "26-100",
          "More than 1000",
          "More than 1000",
          "26-100",
          "More than 1000",
          "26-100",
          "26-100",
          "26-100",
          "More than 1000",
          "100-500",
          "100-500",
          "1-5",
          "26-100",
          "26-100",
          "100-500",
          "26-100",
          "100-500",
          "500-1000",
          "100-500",
          "6-25",
          "26-100",
          "100-500",
          "6-25",
          "26-100",
          "26-100",
          "More than 1000",
          "26-100",
          "26-100",
          "6-25",
          "More than 1000",
          "More than 1000",
          "More than 1000",
          "More than 1000",
          "1-5",
          "100-500",
          "26-100",
          "26-100",
          "6-25",
          "100-500",
          "6-25",
          "6-25",
          "100-500",
          "6-25",
          "26-100",
          "100-500",
          "6-25",
          "100-500",
          "100-500",
          "26-100",
          "100-500",
          "26-100",
          "More than 1000",
          "26-100",
          "6-25",
          "500-1000",
          "More than 1000",
          "More than 1000",
          "More than 1000",
          "More than 1000",
          "26-100",
          "More than 1000",
          "More than 1000",
          "6-25",
          "100-500",
          "More than 1000",
          "26-100",
          "26-100",
          "6-25",
          "More than 1000",
          "100-500",
          "1-5",
          "6-25",
          "6-25",
          "1-5",
          "1-5",
          "26-100",
          "100-500",
          "26-100",
          "More than 1000",
          "26-100",
          "6-25",
          "6-25",
          "6-25",
          "100-500",
          "6-25",
          "1-5",
          "100-500",
          "26-100",
          "26-100",
          "More than 1000",
          "26-100",
          "500-1000",
          "1-5",
          "1-5",
          "1-5",
          "1-5",
          "1-5",
          "26-100",
          "26-100",
          "More than 1000",
          "500-1000",
          "26-100",
          "100-500",
          "More than 1000",
          "More than 1000",
          "More than 1000",
          "More than 1000",
          "More than 1000",
          "6-25",
          "1-5",
          "More than 1000",
          "1-5",
          "More than 1000",
          "1-5",
          "500-1000",
          "More than 1000",
          "500-1000",
          "1-5",
          "100-500",
          "1-5",
          "1-5",
          "More than 1000",
          "More than 1000",
          "More than 1000",
          "26-100",
          "26-100",
          "500-1000",
          "26-100",
          "6-25",
          "More than 1000",
          "6-25",
          "26-100",
          "100-500",
          "1-5",
          "26-100",
          "More than 1000",
          "1-5",
          "6-25",
          "6-25",
          "6-25",
          "1-5",
          "More than 1000",
          "26-100",
          "1-5",
          "100-500",
          "100-500",
          "More than 1000",
          "500-1000",
          "6-25",
          "6-25",
          "6-25",
          "6-25",
          "More than 1000",
          "100-500",
          "6-25",
          "More than 1000",
          "100-500",
          "26-100",
          "26-100",
          "26-100",
          "6-25",
          "More than 1000",
          "6-25",
          "More than 1000",
          "26-100",
          "1-5",
          "6-25",
          "26-100",
          "6-25",
          "100-500",
          "More than 1000",
          "1-5",
          "26-100",
          "1-5",
          "6-25",
          "26-100",
          "26-100",
          "100-500",
          "500-1000",
          "More than 1000",
          "6-25",
          "26-100",
          "6-25",
          "26-100",
          "26-100",
          "More than 1000",
          "More than 1000",
          "26-100",
          "6-25",
          "26-100",
          "100-500",
          "More than 1000",
          "26-100"
         ],
         "xaxis": "x",
         "yaxis": "y"
        }
       ],
       "layout": {
        "barmode": "relative",
        "legend": {
         "title": {
          "text": "supervisor"
         },
         "tracegroupgap": 0
        },
        "template": {
         "data": {
          "bar": [
           {
            "error_x": {
             "color": "#2a3f5f"
            },
            "error_y": {
             "color": "#2a3f5f"
            },
            "marker": {
             "line": {
              "color": "#E5ECF6",
              "width": 0.5
             },
             "pattern": {
              "fillmode": "overlay",
              "size": 10,
              "solidity": 0.2
             }
            },
            "type": "bar"
           }
          ],
          "barpolar": [
           {
            "marker": {
             "line": {
              "color": "#E5ECF6",
              "width": 0.5
             },
             "pattern": {
              "fillmode": "overlay",
              "size": 10,
              "solidity": 0.2
             }
            },
            "type": "barpolar"
           }
          ],
          "carpet": [
           {
            "aaxis": {
             "endlinecolor": "#2a3f5f",
             "gridcolor": "white",
             "linecolor": "white",
             "minorgridcolor": "white",
             "startlinecolor": "#2a3f5f"
            },
            "baxis": {
             "endlinecolor": "#2a3f5f",
             "gridcolor": "white",
             "linecolor": "white",
             "minorgridcolor": "white",
             "startlinecolor": "#2a3f5f"
            },
            "type": "carpet"
           }
          ],
          "choropleth": [
           {
            "colorbar": {
             "outlinewidth": 0,
             "ticks": ""
            },
            "type": "choropleth"
           }
          ],
          "contour": [
           {
            "colorbar": {
             "outlinewidth": 0,
             "ticks": ""
            },
            "colorscale": [
             [
              0,
              "#0d0887"
             ],
             [
              0.1111111111111111,
              "#46039f"
             ],
             [
              0.2222222222222222,
              "#7201a8"
             ],
             [
              0.3333333333333333,
              "#9c179e"
             ],
             [
              0.4444444444444444,
              "#bd3786"
             ],
             [
              0.5555555555555556,
              "#d8576b"
             ],
             [
              0.6666666666666666,
              "#ed7953"
             ],
             [
              0.7777777777777778,
              "#fb9f3a"
             ],
             [
              0.8888888888888888,
              "#fdca26"
             ],
             [
              1,
              "#f0f921"
             ]
            ],
            "type": "contour"
           }
          ],
          "contourcarpet": [
           {
            "colorbar": {
             "outlinewidth": 0,
             "ticks": ""
            },
            "type": "contourcarpet"
           }
          ],
          "heatmap": [
           {
            "colorbar": {
             "outlinewidth": 0,
             "ticks": ""
            },
            "colorscale": [
             [
              0,
              "#0d0887"
             ],
             [
              0.1111111111111111,
              "#46039f"
             ],
             [
              0.2222222222222222,
              "#7201a8"
             ],
             [
              0.3333333333333333,
              "#9c179e"
             ],
             [
              0.4444444444444444,
              "#bd3786"
             ],
             [
              0.5555555555555556,
              "#d8576b"
             ],
             [
              0.6666666666666666,
              "#ed7953"
             ],
             [
              0.7777777777777778,
              "#fb9f3a"
             ],
             [
              0.8888888888888888,
              "#fdca26"
             ],
             [
              1,
              "#f0f921"
             ]
            ],
            "type": "heatmap"
           }
          ],
          "heatmapgl": [
           {
            "colorbar": {
             "outlinewidth": 0,
             "ticks": ""
            },
            "colorscale": [
             [
              0,
              "#0d0887"
             ],
             [
              0.1111111111111111,
              "#46039f"
             ],
             [
              0.2222222222222222,
              "#7201a8"
             ],
             [
              0.3333333333333333,
              "#9c179e"
             ],
             [
              0.4444444444444444,
              "#bd3786"
             ],
             [
              0.5555555555555556,
              "#d8576b"
             ],
             [
              0.6666666666666666,
              "#ed7953"
             ],
             [
              0.7777777777777778,
              "#fb9f3a"
             ],
             [
              0.8888888888888888,
              "#fdca26"
             ],
             [
              1,
              "#f0f921"
             ]
            ],
            "type": "heatmapgl"
           }
          ],
          "histogram": [
           {
            "marker": {
             "pattern": {
              "fillmode": "overlay",
              "size": 10,
              "solidity": 0.2
             }
            },
            "type": "histogram"
           }
          ],
          "histogram2d": [
           {
            "colorbar": {
             "outlinewidth": 0,
             "ticks": ""
            },
            "colorscale": [
             [
              0,
              "#0d0887"
             ],
             [
              0.1111111111111111,
              "#46039f"
             ],
             [
              0.2222222222222222,
              "#7201a8"
             ],
             [
              0.3333333333333333,
              "#9c179e"
             ],
             [
              0.4444444444444444,
              "#bd3786"
             ],
             [
              0.5555555555555556,
              "#d8576b"
             ],
             [
              0.6666666666666666,
              "#ed7953"
             ],
             [
              0.7777777777777778,
              "#fb9f3a"
             ],
             [
              0.8888888888888888,
              "#fdca26"
             ],
             [
              1,
              "#f0f921"
             ]
            ],
            "type": "histogram2d"
           }
          ],
          "histogram2dcontour": [
           {
            "colorbar": {
             "outlinewidth": 0,
             "ticks": ""
            },
            "colorscale": [
             [
              0,
              "#0d0887"
             ],
             [
              0.1111111111111111,
              "#46039f"
             ],
             [
              0.2222222222222222,
              "#7201a8"
             ],
             [
              0.3333333333333333,
              "#9c179e"
             ],
             [
              0.4444444444444444,
              "#bd3786"
             ],
             [
              0.5555555555555556,
              "#d8576b"
             ],
             [
              0.6666666666666666,
              "#ed7953"
             ],
             [
              0.7777777777777778,
              "#fb9f3a"
             ],
             [
              0.8888888888888888,
              "#fdca26"
             ],
             [
              1,
              "#f0f921"
             ]
            ],
            "type": "histogram2dcontour"
           }
          ],
          "mesh3d": [
           {
            "colorbar": {
             "outlinewidth": 0,
             "ticks": ""
            },
            "type": "mesh3d"
           }
          ],
          "parcoords": [
           {
            "line": {
             "colorbar": {
              "outlinewidth": 0,
              "ticks": ""
             }
            },
            "type": "parcoords"
           }
          ],
          "pie": [
           {
            "automargin": true,
            "type": "pie"
           }
          ],
          "scatter": [
           {
            "fillpattern": {
             "fillmode": "overlay",
             "size": 10,
             "solidity": 0.2
            },
            "type": "scatter"
           }
          ],
          "scatter3d": [
           {
            "line": {
             "colorbar": {
              "outlinewidth": 0,
              "ticks": ""
             }
            },
            "marker": {
             "colorbar": {
              "outlinewidth": 0,
              "ticks": ""
             }
            },
            "type": "scatter3d"
           }
          ],
          "scattercarpet": [
           {
            "marker": {
             "colorbar": {
              "outlinewidth": 0,
              "ticks": ""
             }
            },
            "type": "scattercarpet"
           }
          ],
          "scattergeo": [
           {
            "marker": {
             "colorbar": {
              "outlinewidth": 0,
              "ticks": ""
             }
            },
            "type": "scattergeo"
           }
          ],
          "scattergl": [
           {
            "marker": {
             "colorbar": {
              "outlinewidth": 0,
              "ticks": ""
             }
            },
            "type": "scattergl"
           }
          ],
          "scattermapbox": [
           {
            "marker": {
             "colorbar": {
              "outlinewidth": 0,
              "ticks": ""
             }
            },
            "type": "scattermapbox"
           }
          ],
          "scatterpolar": [
           {
            "marker": {
             "colorbar": {
              "outlinewidth": 0,
              "ticks": ""
             }
            },
            "type": "scatterpolar"
           }
          ],
          "scatterpolargl": [
           {
            "marker": {
             "colorbar": {
              "outlinewidth": 0,
              "ticks": ""
             }
            },
            "type": "scatterpolargl"
           }
          ],
          "scatterternary": [
           {
            "marker": {
             "colorbar": {
              "outlinewidth": 0,
              "ticks": ""
             }
            },
            "type": "scatterternary"
           }
          ],
          "surface": [
           {
            "colorbar": {
             "outlinewidth": 0,
             "ticks": ""
            },
            "colorscale": [
             [
              0,
              "#0d0887"
             ],
             [
              0.1111111111111111,
              "#46039f"
             ],
             [
              0.2222222222222222,
              "#7201a8"
             ],
             [
              0.3333333333333333,
              "#9c179e"
             ],
             [
              0.4444444444444444,
              "#bd3786"
             ],
             [
              0.5555555555555556,
              "#d8576b"
             ],
             [
              0.6666666666666666,
              "#ed7953"
             ],
             [
              0.7777777777777778,
              "#fb9f3a"
             ],
             [
              0.8888888888888888,
              "#fdca26"
             ],
             [
              1,
              "#f0f921"
             ]
            ],
            "type": "surface"
           }
          ],
          "table": [
           {
            "cells": {
             "fill": {
              "color": "#EBF0F8"
             },
             "line": {
              "color": "white"
             }
            },
            "header": {
             "fill": {
              "color": "#C8D4E3"
             },
             "line": {
              "color": "white"
             }
            },
            "type": "table"
           }
          ]
         },
         "layout": {
          "annotationdefaults": {
           "arrowcolor": "#2a3f5f",
           "arrowhead": 0,
           "arrowwidth": 1
          },
          "autotypenumbers": "strict",
          "coloraxis": {
           "colorbar": {
            "outlinewidth": 0,
            "ticks": ""
           }
          },
          "colorscale": {
           "diverging": [
            [
             0,
             "#8e0152"
            ],
            [
             0.1,
             "#c51b7d"
            ],
            [
             0.2,
             "#de77ae"
            ],
            [
             0.3,
             "#f1b6da"
            ],
            [
             0.4,
             "#fde0ef"
            ],
            [
             0.5,
             "#f7f7f7"
            ],
            [
             0.6,
             "#e6f5d0"
            ],
            [
             0.7,
             "#b8e186"
            ],
            [
             0.8,
             "#7fbc41"
            ],
            [
             0.9,
             "#4d9221"
            ],
            [
             1,
             "#276419"
            ]
           ],
           "sequential": [
            [
             0,
             "#0d0887"
            ],
            [
             0.1111111111111111,
             "#46039f"
            ],
            [
             0.2222222222222222,
             "#7201a8"
            ],
            [
             0.3333333333333333,
             "#9c179e"
            ],
            [
             0.4444444444444444,
             "#bd3786"
            ],
            [
             0.5555555555555556,
             "#d8576b"
            ],
            [
             0.6666666666666666,
             "#ed7953"
            ],
            [
             0.7777777777777778,
             "#fb9f3a"
            ],
            [
             0.8888888888888888,
             "#fdca26"
            ],
            [
             1,
             "#f0f921"
            ]
           ],
           "sequentialminus": [
            [
             0,
             "#0d0887"
            ],
            [
             0.1111111111111111,
             "#46039f"
            ],
            [
             0.2222222222222222,
             "#7201a8"
            ],
            [
             0.3333333333333333,
             "#9c179e"
            ],
            [
             0.4444444444444444,
             "#bd3786"
            ],
            [
             0.5555555555555556,
             "#d8576b"
            ],
            [
             0.6666666666666666,
             "#ed7953"
            ],
            [
             0.7777777777777778,
             "#fb9f3a"
            ],
            [
             0.8888888888888888,
             "#fdca26"
            ],
            [
             1,
             "#f0f921"
            ]
           ]
          },
          "colorway": [
           "#636efa",
           "#EF553B",
           "#00cc96",
           "#ab63fa",
           "#FFA15A",
           "#19d3f3",
           "#FF6692",
           "#B6E880",
           "#FF97FF",
           "#FECB52"
          ],
          "font": {
           "color": "#2a3f5f"
          },
          "geo": {
           "bgcolor": "white",
           "lakecolor": "white",
           "landcolor": "#E5ECF6",
           "showlakes": true,
           "showland": true,
           "subunitcolor": "white"
          },
          "hoverlabel": {
           "align": "left"
          },
          "hovermode": "closest",
          "mapbox": {
           "style": "light"
          },
          "paper_bgcolor": "white",
          "plot_bgcolor": "#E5ECF6",
          "polar": {
           "angularaxis": {
            "gridcolor": "white",
            "linecolor": "white",
            "ticks": ""
           },
           "bgcolor": "#E5ECF6",
           "radialaxis": {
            "gridcolor": "white",
            "linecolor": "white",
            "ticks": ""
           }
          },
          "scene": {
           "xaxis": {
            "backgroundcolor": "#E5ECF6",
            "gridcolor": "white",
            "gridwidth": 2,
            "linecolor": "white",
            "showbackground": true,
            "ticks": "",
            "zerolinecolor": "white"
           },
           "yaxis": {
            "backgroundcolor": "#E5ECF6",
            "gridcolor": "white",
            "gridwidth": 2,
            "linecolor": "white",
            "showbackground": true,
            "ticks": "",
            "zerolinecolor": "white"
           },
           "zaxis": {
            "backgroundcolor": "#E5ECF6",
            "gridcolor": "white",
            "gridwidth": 2,
            "linecolor": "white",
            "showbackground": true,
            "ticks": "",
            "zerolinecolor": "white"
           }
          },
          "shapedefaults": {
           "line": {
            "color": "#2a3f5f"
           }
          },
          "ternary": {
           "aaxis": {
            "gridcolor": "white",
            "linecolor": "white",
            "ticks": ""
           },
           "baxis": {
            "gridcolor": "white",
            "linecolor": "white",
            "ticks": ""
           },
           "bgcolor": "#E5ECF6",
           "caxis": {
            "gridcolor": "white",
            "linecolor": "white",
            "ticks": ""
           }
          },
          "title": {
           "x": 0.05
          },
          "xaxis": {
           "automargin": true,
           "gridcolor": "white",
           "linecolor": "white",
           "ticks": "",
           "title": {
            "standoff": 15
           },
           "zerolinecolor": "white",
           "zerolinewidth": 2
          },
          "yaxis": {
           "automargin": true,
           "gridcolor": "white",
           "linecolor": "white",
           "ticks": "",
           "title": {
            "standoff": 15
           },
           "zerolinecolor": "white",
           "zerolinewidth": 2
          }
         }
        },
        "title": {
         "text": "Kommunikation mit Vorgesetzten nach Unternehmensgröße"
        },
        "xaxis": {
         "anchor": "y",
         "categoryarray": [
          "1-5",
          "6-25",
          "26-100",
          "100-500",
          "500-1000",
          "More than 1000"
         ],
         "categoryorder": "array",
         "domain": [
          0,
          1
         ],
         "title": {
          "text": "no_employees"
         }
        },
        "yaxis": {
         "anchor": "x",
         "domain": [
          0,
          1
         ],
         "title": {
          "text": "count"
         }
        }
       }
      }
     },
     "metadata": {},
     "output_type": "display_data"
    }
   ],
   "source": [
    "fig = px.histogram(\n",
    "    df_cl,\n",
    "    x=\"no_employees\",\n",
    "    color=\"supervisor\", \n",
    "    barmode=\"relative\",  \n",
    "    histfunc=\"count\",\n",
    "    title=\"Kommunikation mit Vorgesetzten nach Unternehmensgröße\",\n",
    "    category_orders={\"no_employees\": number_order}\n",
    ")\n",
    "fig.show()"
   ]
  },
  {
   "cell_type": "markdown",
   "id": "cdf76844",
   "metadata": {},
   "source": [
    "Augenscheinlich sind die oben genannten Ideen nicht nachvollziehbar. Die Größe hat keinen Einfluss. \n",
    "\n",
    "Da die These nicht verworfen werden sollte, ohne Weiteres, wird folgend die Unternehmensgröße in Big [>=100] und Small [<=100] unterschieden und die relativen Häufigkeiten dargestellt.\n"
   ]
  },
  {
   "cell_type": "code",
   "execution_count": 79,
   "id": "1ca6bd2c",
   "metadata": {},
   "outputs": [],
   "source": [
    "size_map = {\"1-5\": \"Small\",\n",
    "            \"6-25\": \"Small\",\n",
    "            \"26-100\": \"Small\",\n",
    "            \"100-500\": \"Big\",\n",
    "            \"500-1000\": \"Big\",\n",
    "            \"More than 1000\": \"Big\"}\n",
    "df_cl[\"U_Size\"] = df_cl[\"no_employees\"].map(size_map)"
   ]
  },
  {
   "cell_type": "code",
   "execution_count": null,
   "id": "76d09760",
   "metadata": {},
   "outputs": [
    {
     "data": {
      "application/vnd.plotly.v1+json": {
       "config": {
        "plotlyServerURL": "https://plot.ly"
       },
       "data": [
        {
         "alignmentgroup": "True",
         "bingroup": "x",
         "hovertemplate": "coworkers=Some of them<br>U_Size=%{x}<br>count (normalized as percent)=%{y}<extra></extra>",
         "legendgroup": "Some of them",
         "marker": {
          "color": "#636efa",
          "pattern": {
           "shape": ""
          }
         },
         "name": "Some of them",
         "offsetgroup": "Some of them",
         "orientation": "v",
         "showlegend": true,
         "type": "histogram",
         "x": [
          "Small",
          "Small",
          "Big",
          "Small",
          "Small",
          "Small",
          "Small",
          "Small",
          "Small",
          "Big",
          "Small",
          "Small",
          "Big",
          "Small",
          "Small",
          "Small",
          "Small",
          "Big",
          "Small",
          "Small",
          "Small",
          "Big",
          "Big",
          "Small",
          "Big",
          "Small",
          "Small",
          "Small",
          "Small",
          "Big",
          "Big",
          "Small",
          "Small",
          "Small",
          "Big",
          "Small",
          "Big",
          "Small",
          "Big",
          "Small",
          "Small",
          "Small",
          "Small",
          "Small",
          "Big",
          "Small",
          "Small",
          "Small",
          "Small",
          "Small",
          "Small",
          "Small",
          "Big",
          "Small",
          "Big",
          "Big",
          "Small",
          "Small",
          "Small",
          "Small",
          "Small",
          "Small",
          "Small",
          "Big",
          "Small",
          "Small",
          "Small",
          "Small",
          "Big",
          "Big",
          "Small",
          "Small",
          "Small",
          "Small",
          "Small",
          "Small",
          "Big",
          "Big",
          "Small",
          "Small",
          "Small",
          "Small",
          "Small",
          "Small",
          "Big",
          "Big",
          "Small",
          "Big",
          "Big",
          "Big",
          "Small",
          "Small",
          "Small",
          "Big",
          "Small",
          "Small",
          "Small",
          "Small",
          "Big",
          "Big",
          "Big",
          "Small",
          "Small",
          "Small",
          "Big",
          "Small",
          "Small",
          "Big",
          "Big",
          "Small",
          "Big",
          "Big",
          "Small",
          "Small",
          "Small",
          "Small",
          "Small",
          "Small",
          "Big",
          "Small",
          "Big",
          "Big",
          "Small",
          "Big",
          "Small",
          "Big",
          "Small",
          "Small",
          "Small",
          "Small",
          "Small",
          "Small",
          "Small",
          "Small",
          "Small",
          "Big",
          "Small",
          "Small",
          "Small",
          "Small",
          "Small",
          "Big",
          "Small",
          "Small",
          "Small",
          "Small",
          "Big",
          "Small",
          "Small",
          "Small",
          "Small",
          "Small",
          "Big",
          "Big",
          "Small",
          "Big",
          "Big",
          "Small",
          "Small",
          "Small",
          "Small",
          "Small",
          "Small",
          "Small",
          "Small",
          "Big",
          "Big",
          "Big",
          "Small",
          "Big",
          "Big",
          "Small",
          "Big",
          "Big",
          "Small",
          "Small",
          "Big",
          "Big",
          "Big",
          "Big",
          "Big",
          "Big",
          "Big",
          "Big",
          "Big",
          "Big",
          "Big",
          "Small",
          "Small",
          "Small",
          "Small",
          "Big",
          "Big",
          "Small",
          "Small",
          "Big",
          "Small",
          "Big",
          "Big",
          "Big",
          "Big",
          "Small",
          "Small",
          "Big",
          "Small",
          "Small",
          "Big",
          "Small",
          "Small",
          "Big",
          "Small",
          "Big",
          "Big",
          "Small",
          "Big",
          "Small",
          "Big",
          "Small",
          "Big",
          "Small",
          "Big",
          "Big",
          "Big",
          "Big",
          "Small",
          "Small",
          "Small",
          "Small",
          "Big",
          "Big",
          "Big",
          "Small",
          "Big",
          "Small",
          "Small",
          "Big",
          "Big",
          "Big",
          "Small",
          "Big",
          "Small",
          "Small",
          "Big",
          "Big",
          "Small",
          "Small",
          "Big",
          "Big",
          "Big",
          "Small",
          "Small",
          "Small",
          "Small",
          "Small",
          "Big",
          "Big",
          "Big",
          "Big",
          "Small",
          "Small",
          "Small",
          "Big",
          "Big",
          "Small",
          "Big",
          "Big",
          "Big",
          "Big",
          "Big",
          "Small",
          "Big",
          "Big",
          "Small",
          "Small",
          "Small",
          "Big",
          "Small",
          "Big",
          "Small",
          "Small",
          "Small",
          "Small",
          "Big",
          "Big",
          "Big",
          "Big",
          "Big",
          "Small",
          "Small",
          "Big",
          "Small",
          "Small",
          "Small",
          "Small",
          "Small",
          "Small",
          "Big",
          "Small",
          "Small",
          "Small",
          "Big",
          "Big",
          "Small",
          "Small",
          "Big",
          "Big",
          "Big",
          "Big",
          "Big",
          "Small",
          "Small",
          "Big",
          "Small",
          "Big",
          "Big",
          "Small",
          "Big",
          "Small",
          "Big",
          "Small",
          "Small",
          "Small",
          "Small",
          "Small",
          "Big",
          "Big",
          "Big",
          "Big",
          "Big",
          "Small",
          "Big",
          "Small",
          "Small",
          "Small",
          "Big",
          "Big",
          "Big",
          "Small",
          "Small",
          "Big",
          "Small",
          "Big",
          "Big",
          "Small",
          "Small",
          "Big",
          "Big",
          "Small",
          "Big",
          "Small",
          "Small",
          "Small",
          "Big",
          "Big",
          "Big",
          "Small",
          "Small",
          "Big",
          "Small",
          "Small",
          "Small",
          "Small",
          "Big",
          "Big",
          "Big",
          "Big",
          "Big",
          "Big",
          "Small",
          "Small",
          "Small",
          "Small",
          "Big",
          "Small",
          "Big",
          "Small",
          "Big",
          "Small",
          "Big",
          "Big",
          "Small",
          "Small",
          "Big",
          "Big",
          "Small",
          "Small",
          "Small",
          "Small",
          "Big",
          "Big",
          "Small",
          "Small",
          "Small",
          "Small",
          "Small",
          "Small",
          "Big",
          "Big",
          "Small",
          "Small",
          "Big",
          "Small",
          "Small",
          "Small",
          "Big",
          "Small",
          "Big",
          "Small",
          "Big",
          "Small",
          "Big",
          "Small",
          "Small",
          "Big",
          "Small",
          "Big",
          "Big",
          "Small",
          "Small",
          "Small",
          "Small",
          "Big",
          "Small",
          "Big",
          "Big",
          "Small",
          "Small",
          "Small",
          "Big",
          "Big",
          "Big",
          "Small",
          "Big",
          "Small",
          "Small",
          "Small",
          "Small",
          "Big",
          "Small",
          "Small",
          "Big",
          "Small",
          "Small",
          "Big",
          "Small",
          "Small",
          "Big",
          "Small",
          "Big",
          "Small",
          "Small",
          "Small",
          "Big",
          "Small",
          "Small",
          "Small",
          "Small",
          "Small",
          "Small",
          "Big",
          "Big",
          "Small",
          "Big",
          "Small",
          "Big",
          "Big",
          "Small",
          "Small",
          "Small",
          "Small",
          "Small",
          "Big",
          "Big",
          "Big",
          "Small",
          "Big",
          "Big",
          "Big",
          "Small",
          "Big",
          "Small",
          "Big",
          "Big",
          "Big",
          "Small",
          "Big",
          "Small",
          "Big",
          "Small",
          "Small",
          "Big",
          "Small",
          "Big",
          "Small",
          "Small",
          "Big",
          "Big",
          "Small",
          "Big",
          "Small",
          "Small",
          "Small",
          "Big",
          "Small",
          "Small",
          "Small",
          "Big",
          "Small",
          "Big",
          "Big",
          "Small",
          "Small",
          "Small",
          "Small",
          "Big",
          "Big",
          "Small",
          "Big",
          "Small",
          "Big",
          "Big",
          "Big",
          "Big",
          "Small",
          "Small",
          "Big",
          "Big",
          "Small",
          "Small",
          "Small",
          "Big",
          "Small",
          "Big",
          "Small",
          "Small",
          "Big",
          "Small",
          "Small",
          "Small",
          "Small",
          "Big",
          "Big",
          "Small",
          "Big",
          "Small",
          "Small",
          "Small",
          "Big",
          "Small",
          "Small",
          "Small",
          "Big",
          "Big",
          "Big",
          "Small",
          "Small",
          "Big",
          "Big",
          "Big",
          "Big",
          "Big",
          "Small",
          "Small",
          "Small",
          "Small",
          "Small",
          "Small",
          "Small",
          "Small",
          "Small",
          "Small",
          "Small",
          "Small",
          "Big",
          "Small",
          "Small",
          "Small",
          "Big",
          "Small",
          "Big",
          "Small",
          "Small",
          "Big",
          "Big",
          "Big",
          "Small",
          "Big",
          "Big",
          "Big",
          "Big",
          "Big",
          "Small",
          "Big",
          "Big",
          "Small",
          "Small",
          "Small",
          "Small",
          "Small",
          "Small",
          "Big",
          "Big",
          "Small",
          "Small",
          "Small",
          "Small",
          "Big",
          "Small",
          "Small",
          "Big",
          "Big",
          "Small",
          "Small",
          "Small",
          "Big",
          "Small",
          "Small",
          "Small",
          "Big",
          "Small",
          "Small",
          "Small",
          "Big",
          "Small",
          "Big",
          "Small",
          "Big",
          "Big",
          "Big",
          "Small",
          "Small",
          "Small",
          "Big",
          "Small",
          "Small",
          "Big",
          "Small",
          "Big",
          "Small",
          "Big",
          "Big",
          "Small",
          "Small",
          "Small",
          "Small",
          "Big",
          "Big",
          "Small",
          "Big",
          "Small",
          "Big",
          "Big",
          "Small",
          "Big",
          "Big",
          "Small",
          "Small",
          "Big",
          "Small",
          "Big",
          "Big",
          "Small",
          "Small",
          "Small",
          "Small",
          "Small",
          "Big",
          "Big",
          "Big",
          "Small",
          "Small",
          "Small",
          "Small",
          "Big",
          "Small",
          "Big",
          "Big",
          "Big",
          "Big",
          "Small",
          "Big",
          "Small",
          "Small",
          "Small",
          "Small",
          "Small",
          "Big",
          "Small",
          "Big",
          "Big",
          "Small",
          "Small",
          "Small",
          "Small",
          "Big",
          "Small",
          "Small",
          "Big",
          "Small",
          "Big",
          "Big",
          "Small",
          "Small",
          "Small",
          "Small",
          "Small",
          "Small",
          "Big",
          "Small",
          "Big",
          "Small",
          "Big",
          "Big",
          "Big",
          "Small",
          "Small",
          "Small",
          "Small",
          "Small",
          "Big",
          "Big",
          "Small",
          "Small",
          "Big",
          "Small",
          "Small",
          "Small",
          "Big",
          "Small",
          "Small",
          "Small",
          "Big",
          "Small",
          "Small",
          "Small",
          "Big",
          "Small",
          "Big",
          "Small",
          "Small",
          "Small",
          "Small",
          "Big",
          "Big",
          "Big",
          "Small",
          "Small",
          "Big",
          "Small",
          "Small",
          "Small",
          "Big",
          "Small",
          "Big",
          "Big",
          "Small",
          "Small",
          "Big",
          "Big",
          "Big",
          "Small",
          "Big",
          "Big",
          "Small",
          "Small",
          "Big",
          "Big",
          "Big",
          "Small",
          "Small",
          "Small"
         ],
         "xaxis": "x",
         "yaxis": "y"
        },
        {
         "alignmentgroup": "True",
         "bingroup": "x",
         "hovertemplate": "coworkers=No<br>U_Size=%{x}<br>count (normalized as percent)=%{y}<extra></extra>",
         "legendgroup": "No",
         "marker": {
          "color": "#EF553B",
          "pattern": {
           "shape": ""
          }
         },
         "name": "No",
         "offsetgroup": "No",
         "orientation": "v",
         "showlegend": true,
         "type": "histogram",
         "x": [
          "Big",
          "Small",
          "Big",
          "Small",
          "Small",
          "Small",
          "Small",
          "Big",
          "Small",
          "Small",
          "Small",
          "Small",
          "Big",
          "Small",
          "Big",
          "Small",
          "Big",
          "Big",
          "Small",
          "Big",
          "Small",
          "Small",
          "Small",
          "Small",
          "Big",
          "Big",
          "Small",
          "Big",
          "Small",
          "Small",
          "Big",
          "Big",
          "Small",
          "Small",
          "Big",
          "Big",
          "Small",
          "Small",
          "Big",
          "Small",
          "Small",
          "Big",
          "Small",
          "Big",
          "Small",
          "Small",
          "Small",
          "Small",
          "Small",
          "Small",
          "Small",
          "Small",
          "Big",
          "Small",
          "Big",
          "Big",
          "Big",
          "Small",
          "Big",
          "Big",
          "Small",
          "Big",
          "Small",
          "Small",
          "Big",
          "Big",
          "Small",
          "Big",
          "Big",
          "Big",
          "Big",
          "Big",
          "Small",
          "Big",
          "Big",
          "Big",
          "Big",
          "Big",
          "Small",
          "Big",
          "Big",
          "Big",
          "Big",
          "Big",
          "Small",
          "Big",
          "Small",
          "Small",
          "Big",
          "Big",
          "Big",
          "Big",
          "Big",
          "Small",
          "Big",
          "Big",
          "Big",
          "Small",
          "Big",
          "Small",
          "Small",
          "Big",
          "Big",
          "Big",
          "Big",
          "Small",
          "Small",
          "Small",
          "Small",
          "Small",
          "Big",
          "Big",
          "Small",
          "Big",
          "Small",
          "Big",
          "Small",
          "Big",
          "Big",
          "Small",
          "Big",
          "Big",
          "Big",
          "Small",
          "Small",
          "Small",
          "Small",
          "Big",
          "Big",
          "Big",
          "Big",
          "Small",
          "Small",
          "Small",
          "Small",
          "Big",
          "Big",
          "Small",
          "Small",
          "Big",
          "Small",
          "Small",
          "Big",
          "Small",
          "Big",
          "Small",
          "Big",
          "Small",
          "Small",
          "Small",
          "Small",
          "Small",
          "Big",
          "Small",
          "Small",
          "Small",
          "Big",
          "Small",
          "Small",
          "Big",
          "Small",
          "Small",
          "Big",
          "Small",
          "Big",
          "Small",
          "Big",
          "Big",
          "Small",
          "Big",
          "Small",
          "Small",
          "Big",
          "Big",
          "Big",
          "Big",
          "Big",
          "Big",
          "Big",
          "Big",
          "Small",
          "Small",
          "Big",
          "Small",
          "Big",
          "Big",
          "Small",
          "Big",
          "Small",
          "Big",
          "Small",
          "Small",
          "Small",
          "Small",
          "Big",
          "Big",
          "Small",
          "Big",
          "Big",
          "Small",
          "Small",
          "Big",
          "Small",
          "Big",
          "Small",
          "Small",
          "Big",
          "Small",
          "Small",
          "Small",
          "Big",
          "Big",
          "Big",
          "Small",
          "Big",
          "Big",
          "Big",
          "Small",
          "Small",
          "Small",
          "Big",
          "Small",
          "Small",
          "Big",
          "Small",
          "Small",
          "Big",
          "Small",
          "Small",
          "Small",
          "Small",
          "Big",
          "Big",
          "Big",
          "Small",
          "Big",
          "Small",
          "Small",
          "Big",
          "Small",
          "Small",
          "Big",
          "Big",
          "Small",
          "Big",
          "Big",
          "Small",
          "Small",
          "Big",
          "Small",
          "Small",
          "Small",
          "Small",
          "Big",
          "Big",
          "Small",
          "Big",
          "Big"
         ],
         "xaxis": "x",
         "yaxis": "y"
        },
        {
         "alignmentgroup": "True",
         "bingroup": "x",
         "hovertemplate": "coworkers=Yes<br>U_Size=%{x}<br>count (normalized as percent)=%{y}<extra></extra>",
         "legendgroup": "Yes",
         "marker": {
          "color": "#00cc96",
          "pattern": {
           "shape": ""
          }
         },
         "name": "Yes",
         "offsetgroup": "Yes",
         "orientation": "v",
         "showlegend": true,
         "type": "histogram",
         "x": [
          "Small",
          "Small",
          "Big",
          "Small",
          "Big",
          "Small",
          "Big",
          "Small",
          "Small",
          "Small",
          "Small",
          "Small",
          "Big",
          "Small",
          "Small",
          "Small",
          "Small",
          "Big",
          "Big",
          "Big",
          "Small",
          "Big",
          "Small",
          "Small",
          "Small",
          "Small",
          "Small",
          "Small",
          "Small",
          "Big",
          "Small",
          "Small",
          "Small",
          "Big",
          "Small",
          "Small",
          "Small",
          "Big",
          "Small",
          "Small",
          "Small",
          "Small",
          "Big",
          "Small",
          "Big",
          "Small",
          "Small",
          "Small",
          "Small",
          "Small",
          "Big",
          "Small",
          "Small",
          "Big",
          "Small",
          "Small",
          "Small",
          "Small",
          "Small",
          "Small",
          "Small",
          "Big",
          "Small",
          "Big",
          "Big",
          "Big",
          "Small",
          "Big",
          "Small",
          "Small",
          "Small",
          "Big",
          "Big",
          "Big",
          "Small",
          "Small",
          "Small",
          "Small",
          "Small",
          "Big",
          "Small",
          "Small",
          "Small",
          "Big",
          "Small",
          "Small",
          "Small",
          "Small",
          "Big",
          "Small",
          "Small",
          "Small",
          "Small",
          "Big",
          "Big",
          "Big",
          "Small",
          "Small",
          "Big",
          "Small",
          "Big",
          "Big",
          "Small",
          "Small",
          "Big",
          "Big",
          "Big",
          "Small",
          "Small",
          "Small",
          "Small",
          "Small",
          "Small",
          "Big",
          "Small",
          "Small",
          "Small",
          "Small",
          "Small",
          "Big",
          "Small",
          "Small",
          "Small",
          "Small",
          "Small",
          "Small",
          "Big",
          "Big",
          "Small",
          "Small",
          "Small",
          "Small",
          "Small",
          "Small",
          "Big",
          "Small",
          "Small",
          "Small",
          "Small",
          "Small",
          "Big",
          "Small",
          "Small",
          "Small",
          "Small",
          "Big",
          "Small",
          "Small",
          "Small",
          "Small",
          "Big",
          "Big",
          "Small",
          "Big",
          "Small",
          "Big",
          "Small",
          "Small",
          "Big",
          "Small",
          "Big",
          "Big",
          "Small",
          "Small",
          "Big",
          "Big",
          "Small",
          "Big",
          "Small",
          "Small",
          "Small",
          "Small",
          "Small",
          "Big",
          "Small",
          "Small",
          "Small",
          "Small",
          "Small",
          "Big",
          "Big",
          "Big",
          "Small",
          "Small",
          "Small",
          "Small",
          "Small",
          "Small",
          "Big",
          "Small",
          "Small",
          "Small",
          "Big",
          "Big",
          "Small",
          "Big",
          "Small",
          "Small",
          "Small",
          "Small",
          "Big",
          "Small",
          "Big",
          "Small",
          "Big",
          "Big",
          "Small",
          "Big",
          "Small",
          "Small",
          "Small",
          "Small",
          "Big",
          "Big",
          "Small",
          "Small",
          "Small",
          "Big",
          "Small",
          "Small",
          "Big",
          "Small"
         ],
         "xaxis": "x",
         "yaxis": "y"
        }
       ],
       "layout": {
        "barmode": "stack",
        "barnorm": "percent",
        "legend": {
         "title": {
          "text": "coworkers"
         },
         "tracegroupgap": 0
        },
        "template": {
         "data": {
          "bar": [
           {
            "error_x": {
             "color": "#2a3f5f"
            },
            "error_y": {
             "color": "#2a3f5f"
            },
            "marker": {
             "line": {
              "color": "#E5ECF6",
              "width": 0.5
             },
             "pattern": {
              "fillmode": "overlay",
              "size": 10,
              "solidity": 0.2
             }
            },
            "type": "bar"
           }
          ],
          "barpolar": [
           {
            "marker": {
             "line": {
              "color": "#E5ECF6",
              "width": 0.5
             },
             "pattern": {
              "fillmode": "overlay",
              "size": 10,
              "solidity": 0.2
             }
            },
            "type": "barpolar"
           }
          ],
          "carpet": [
           {
            "aaxis": {
             "endlinecolor": "#2a3f5f",
             "gridcolor": "white",
             "linecolor": "white",
             "minorgridcolor": "white",
             "startlinecolor": "#2a3f5f"
            },
            "baxis": {
             "endlinecolor": "#2a3f5f",
             "gridcolor": "white",
             "linecolor": "white",
             "minorgridcolor": "white",
             "startlinecolor": "#2a3f5f"
            },
            "type": "carpet"
           }
          ],
          "choropleth": [
           {
            "colorbar": {
             "outlinewidth": 0,
             "ticks": ""
            },
            "type": "choropleth"
           }
          ],
          "contour": [
           {
            "colorbar": {
             "outlinewidth": 0,
             "ticks": ""
            },
            "colorscale": [
             [
              0,
              "#0d0887"
             ],
             [
              0.1111111111111111,
              "#46039f"
             ],
             [
              0.2222222222222222,
              "#7201a8"
             ],
             [
              0.3333333333333333,
              "#9c179e"
             ],
             [
              0.4444444444444444,
              "#bd3786"
             ],
             [
              0.5555555555555556,
              "#d8576b"
             ],
             [
              0.6666666666666666,
              "#ed7953"
             ],
             [
              0.7777777777777778,
              "#fb9f3a"
             ],
             [
              0.8888888888888888,
              "#fdca26"
             ],
             [
              1,
              "#f0f921"
             ]
            ],
            "type": "contour"
           }
          ],
          "contourcarpet": [
           {
            "colorbar": {
             "outlinewidth": 0,
             "ticks": ""
            },
            "type": "contourcarpet"
           }
          ],
          "heatmap": [
           {
            "colorbar": {
             "outlinewidth": 0,
             "ticks": ""
            },
            "colorscale": [
             [
              0,
              "#0d0887"
             ],
             [
              0.1111111111111111,
              "#46039f"
             ],
             [
              0.2222222222222222,
              "#7201a8"
             ],
             [
              0.3333333333333333,
              "#9c179e"
             ],
             [
              0.4444444444444444,
              "#bd3786"
             ],
             [
              0.5555555555555556,
              "#d8576b"
             ],
             [
              0.6666666666666666,
              "#ed7953"
             ],
             [
              0.7777777777777778,
              "#fb9f3a"
             ],
             [
              0.8888888888888888,
              "#fdca26"
             ],
             [
              1,
              "#f0f921"
             ]
            ],
            "type": "heatmap"
           }
          ],
          "heatmapgl": [
           {
            "colorbar": {
             "outlinewidth": 0,
             "ticks": ""
            },
            "colorscale": [
             [
              0,
              "#0d0887"
             ],
             [
              0.1111111111111111,
              "#46039f"
             ],
             [
              0.2222222222222222,
              "#7201a8"
             ],
             [
              0.3333333333333333,
              "#9c179e"
             ],
             [
              0.4444444444444444,
              "#bd3786"
             ],
             [
              0.5555555555555556,
              "#d8576b"
             ],
             [
              0.6666666666666666,
              "#ed7953"
             ],
             [
              0.7777777777777778,
              "#fb9f3a"
             ],
             [
              0.8888888888888888,
              "#fdca26"
             ],
             [
              1,
              "#f0f921"
             ]
            ],
            "type": "heatmapgl"
           }
          ],
          "histogram": [
           {
            "marker": {
             "pattern": {
              "fillmode": "overlay",
              "size": 10,
              "solidity": 0.2
             }
            },
            "type": "histogram"
           }
          ],
          "histogram2d": [
           {
            "colorbar": {
             "outlinewidth": 0,
             "ticks": ""
            },
            "colorscale": [
             [
              0,
              "#0d0887"
             ],
             [
              0.1111111111111111,
              "#46039f"
             ],
             [
              0.2222222222222222,
              "#7201a8"
             ],
             [
              0.3333333333333333,
              "#9c179e"
             ],
             [
              0.4444444444444444,
              "#bd3786"
             ],
             [
              0.5555555555555556,
              "#d8576b"
             ],
             [
              0.6666666666666666,
              "#ed7953"
             ],
             [
              0.7777777777777778,
              "#fb9f3a"
             ],
             [
              0.8888888888888888,
              "#fdca26"
             ],
             [
              1,
              "#f0f921"
             ]
            ],
            "type": "histogram2d"
           }
          ],
          "histogram2dcontour": [
           {
            "colorbar": {
             "outlinewidth": 0,
             "ticks": ""
            },
            "colorscale": [
             [
              0,
              "#0d0887"
             ],
             [
              0.1111111111111111,
              "#46039f"
             ],
             [
              0.2222222222222222,
              "#7201a8"
             ],
             [
              0.3333333333333333,
              "#9c179e"
             ],
             [
              0.4444444444444444,
              "#bd3786"
             ],
             [
              0.5555555555555556,
              "#d8576b"
             ],
             [
              0.6666666666666666,
              "#ed7953"
             ],
             [
              0.7777777777777778,
              "#fb9f3a"
             ],
             [
              0.8888888888888888,
              "#fdca26"
             ],
             [
              1,
              "#f0f921"
             ]
            ],
            "type": "histogram2dcontour"
           }
          ],
          "mesh3d": [
           {
            "colorbar": {
             "outlinewidth": 0,
             "ticks": ""
            },
            "type": "mesh3d"
           }
          ],
          "parcoords": [
           {
            "line": {
             "colorbar": {
              "outlinewidth": 0,
              "ticks": ""
             }
            },
            "type": "parcoords"
           }
          ],
          "pie": [
           {
            "automargin": true,
            "type": "pie"
           }
          ],
          "scatter": [
           {
            "fillpattern": {
             "fillmode": "overlay",
             "size": 10,
             "solidity": 0.2
            },
            "type": "scatter"
           }
          ],
          "scatter3d": [
           {
            "line": {
             "colorbar": {
              "outlinewidth": 0,
              "ticks": ""
             }
            },
            "marker": {
             "colorbar": {
              "outlinewidth": 0,
              "ticks": ""
             }
            },
            "type": "scatter3d"
           }
          ],
          "scattercarpet": [
           {
            "marker": {
             "colorbar": {
              "outlinewidth": 0,
              "ticks": ""
             }
            },
            "type": "scattercarpet"
           }
          ],
          "scattergeo": [
           {
            "marker": {
             "colorbar": {
              "outlinewidth": 0,
              "ticks": ""
             }
            },
            "type": "scattergeo"
           }
          ],
          "scattergl": [
           {
            "marker": {
             "colorbar": {
              "outlinewidth": 0,
              "ticks": ""
             }
            },
            "type": "scattergl"
           }
          ],
          "scattermapbox": [
           {
            "marker": {
             "colorbar": {
              "outlinewidth": 0,
              "ticks": ""
             }
            },
            "type": "scattermapbox"
           }
          ],
          "scatterpolar": [
           {
            "marker": {
             "colorbar": {
              "outlinewidth": 0,
              "ticks": ""
             }
            },
            "type": "scatterpolar"
           }
          ],
          "scatterpolargl": [
           {
            "marker": {
             "colorbar": {
              "outlinewidth": 0,
              "ticks": ""
             }
            },
            "type": "scatterpolargl"
           }
          ],
          "scatterternary": [
           {
            "marker": {
             "colorbar": {
              "outlinewidth": 0,
              "ticks": ""
             }
            },
            "type": "scatterternary"
           }
          ],
          "surface": [
           {
            "colorbar": {
             "outlinewidth": 0,
             "ticks": ""
            },
            "colorscale": [
             [
              0,
              "#0d0887"
             ],
             [
              0.1111111111111111,
              "#46039f"
             ],
             [
              0.2222222222222222,
              "#7201a8"
             ],
             [
              0.3333333333333333,
              "#9c179e"
             ],
             [
              0.4444444444444444,
              "#bd3786"
             ],
             [
              0.5555555555555556,
              "#d8576b"
             ],
             [
              0.6666666666666666,
              "#ed7953"
             ],
             [
              0.7777777777777778,
              "#fb9f3a"
             ],
             [
              0.8888888888888888,
              "#fdca26"
             ],
             [
              1,
              "#f0f921"
             ]
            ],
            "type": "surface"
           }
          ],
          "table": [
           {
            "cells": {
             "fill": {
              "color": "#EBF0F8"
             },
             "line": {
              "color": "white"
             }
            },
            "header": {
             "fill": {
              "color": "#C8D4E3"
             },
             "line": {
              "color": "white"
             }
            },
            "type": "table"
           }
          ]
         },
         "layout": {
          "annotationdefaults": {
           "arrowcolor": "#2a3f5f",
           "arrowhead": 0,
           "arrowwidth": 1
          },
          "autotypenumbers": "strict",
          "coloraxis": {
           "colorbar": {
            "outlinewidth": 0,
            "ticks": ""
           }
          },
          "colorscale": {
           "diverging": [
            [
             0,
             "#8e0152"
            ],
            [
             0.1,
             "#c51b7d"
            ],
            [
             0.2,
             "#de77ae"
            ],
            [
             0.3,
             "#f1b6da"
            ],
            [
             0.4,
             "#fde0ef"
            ],
            [
             0.5,
             "#f7f7f7"
            ],
            [
             0.6,
             "#e6f5d0"
            ],
            [
             0.7,
             "#b8e186"
            ],
            [
             0.8,
             "#7fbc41"
            ],
            [
             0.9,
             "#4d9221"
            ],
            [
             1,
             "#276419"
            ]
           ],
           "sequential": [
            [
             0,
             "#0d0887"
            ],
            [
             0.1111111111111111,
             "#46039f"
            ],
            [
             0.2222222222222222,
             "#7201a8"
            ],
            [
             0.3333333333333333,
             "#9c179e"
            ],
            [
             0.4444444444444444,
             "#bd3786"
            ],
            [
             0.5555555555555556,
             "#d8576b"
            ],
            [
             0.6666666666666666,
             "#ed7953"
            ],
            [
             0.7777777777777778,
             "#fb9f3a"
            ],
            [
             0.8888888888888888,
             "#fdca26"
            ],
            [
             1,
             "#f0f921"
            ]
           ],
           "sequentialminus": [
            [
             0,
             "#0d0887"
            ],
            [
             0.1111111111111111,
             "#46039f"
            ],
            [
             0.2222222222222222,
             "#7201a8"
            ],
            [
             0.3333333333333333,
             "#9c179e"
            ],
            [
             0.4444444444444444,
             "#bd3786"
            ],
            [
             0.5555555555555556,
             "#d8576b"
            ],
            [
             0.6666666666666666,
             "#ed7953"
            ],
            [
             0.7777777777777778,
             "#fb9f3a"
            ],
            [
             0.8888888888888888,
             "#fdca26"
            ],
            [
             1,
             "#f0f921"
            ]
           ]
          },
          "colorway": [
           "#636efa",
           "#EF553B",
           "#00cc96",
           "#ab63fa",
           "#FFA15A",
           "#19d3f3",
           "#FF6692",
           "#B6E880",
           "#FF97FF",
           "#FECB52"
          ],
          "font": {
           "color": "#2a3f5f"
          },
          "geo": {
           "bgcolor": "white",
           "lakecolor": "white",
           "landcolor": "#E5ECF6",
           "showlakes": true,
           "showland": true,
           "subunitcolor": "white"
          },
          "hoverlabel": {
           "align": "left"
          },
          "hovermode": "closest",
          "mapbox": {
           "style": "light"
          },
          "paper_bgcolor": "white",
          "plot_bgcolor": "#E5ECF6",
          "polar": {
           "angularaxis": {
            "gridcolor": "white",
            "linecolor": "white",
            "ticks": ""
           },
           "bgcolor": "#E5ECF6",
           "radialaxis": {
            "gridcolor": "white",
            "linecolor": "white",
            "ticks": ""
           }
          },
          "scene": {
           "xaxis": {
            "backgroundcolor": "#E5ECF6",
            "gridcolor": "white",
            "gridwidth": 2,
            "linecolor": "white",
            "showbackground": true,
            "ticks": "",
            "zerolinecolor": "white"
           },
           "yaxis": {
            "backgroundcolor": "#E5ECF6",
            "gridcolor": "white",
            "gridwidth": 2,
            "linecolor": "white",
            "showbackground": true,
            "ticks": "",
            "zerolinecolor": "white"
           },
           "zaxis": {
            "backgroundcolor": "#E5ECF6",
            "gridcolor": "white",
            "gridwidth": 2,
            "linecolor": "white",
            "showbackground": true,
            "ticks": "",
            "zerolinecolor": "white"
           }
          },
          "shapedefaults": {
           "line": {
            "color": "#2a3f5f"
           }
          },
          "ternary": {
           "aaxis": {
            "gridcolor": "white",
            "linecolor": "white",
            "ticks": ""
           },
           "baxis": {
            "gridcolor": "white",
            "linecolor": "white",
            "ticks": ""
           },
           "bgcolor": "#E5ECF6",
           "caxis": {
            "gridcolor": "white",
            "linecolor": "white",
            "ticks": ""
           }
          },
          "title": {
           "x": 0.05
          },
          "xaxis": {
           "automargin": true,
           "gridcolor": "white",
           "linecolor": "white",
           "ticks": "",
           "title": {
            "standoff": 15
           },
           "zerolinecolor": "white",
           "zerolinewidth": 2
          },
          "yaxis": {
           "automargin": true,
           "gridcolor": "white",
           "linecolor": "white",
           "ticks": "",
           "title": {
            "standoff": 15
           },
           "zerolinecolor": "white",
           "zerolinewidth": 2
          }
         }
        },
        "title": {
         "text": "Anteil der Kommunikation mit Kolleg:innen nach Unternehmensgröße"
        },
        "xaxis": {
         "anchor": "y",
         "domain": [
          0,
          1
         ],
         "title": {
          "text": "U_Size"
         }
        },
        "yaxis": {
         "anchor": "x",
         "domain": [
          0,
          1
         ],
         "title": {
          "text": "count (normalized as percent)"
         }
        }
       }
      }
     },
     "metadata": {},
     "output_type": "display_data"
    }
   ],
   "source": [
    "fig = px.histogram(\n",
    "    df_cl,\n",
    "    x=\"U_Size\",\n",
    "    color=\"coworkers\",\n",
    "    barnorm=\"percent\", \n",
    "    barmode=\"stack\",\n",
    "    title=\"Anteil der Kommunikation mit Kolleg:innen nach Unternehmensgröße\"\n",
    ")\n",
    "fig.show()"
   ]
  },
  {
   "cell_type": "code",
   "execution_count": 81,
   "id": "8c7bc799",
   "metadata": {},
   "outputs": [
    {
     "data": {
      "application/vnd.plotly.v1+json": {
       "config": {
        "plotlyServerURL": "https://plot.ly"
       },
       "data": [
        {
         "alignmentgroup": "True",
         "bingroup": "x",
         "hovertemplate": "supervisor=Yes<br>U_Size=%{x}<br>count (normalized as percent)=%{y}<extra></extra>",
         "legendgroup": "Yes",
         "marker": {
          "color": "#636efa",
          "pattern": {
           "shape": ""
          }
         },
         "name": "Yes",
         "offsetgroup": "Yes",
         "orientation": "v",
         "showlegend": true,
         "type": "histogram",
         "x": [
          "Small",
          "Small",
          "Big",
          "Small",
          "Big",
          "Small",
          "Small",
          "Big",
          "Small",
          "Big",
          "Small",
          "Small",
          "Small",
          "Small",
          "Big",
          "Small",
          "Big",
          "Small",
          "Big",
          "Big",
          "Small",
          "Small",
          "Small",
          "Small",
          "Small",
          "Big",
          "Small",
          "Small",
          "Small",
          "Small",
          "Small",
          "Big",
          "Small",
          "Small",
          "Small",
          "Big",
          "Small",
          "Big",
          "Small",
          "Small",
          "Small",
          "Small",
          "Small",
          "Big",
          "Small",
          "Small",
          "Small",
          "Small",
          "Small",
          "Small",
          "Small",
          "Small",
          "Big",
          "Small",
          "Small",
          "Small",
          "Small",
          "Small",
          "Small",
          "Small",
          "Small",
          "Small",
          "Small",
          "Big",
          "Big",
          "Small",
          "Small",
          "Small",
          "Small",
          "Big",
          "Big",
          "Big",
          "Small",
          "Small",
          "Small",
          "Small",
          "Small",
          "Small",
          "Small",
          "Big",
          "Small",
          "Small",
          "Big",
          "Small",
          "Small",
          "Small",
          "Small",
          "Small",
          "Small",
          "Small",
          "Small",
          "Big",
          "Big",
          "Big",
          "Small",
          "Small",
          "Small",
          "Small",
          "Big",
          "Small",
          "Small",
          "Small",
          "Small",
          "Small",
          "Small",
          "Small",
          "Small",
          "Small",
          "Small",
          "Small",
          "Small",
          "Big",
          "Small",
          "Small",
          "Big",
          "Big",
          "Big",
          "Small",
          "Small",
          "Big",
          "Small",
          "Small",
          "Small",
          "Small",
          "Big",
          "Big",
          "Big",
          "Small",
          "Small",
          "Small",
          "Small",
          "Big",
          "Big",
          "Big",
          "Big",
          "Big",
          "Big",
          "Small",
          "Small",
          "Big",
          "Big",
          "Small",
          "Big",
          "Big",
          "Big",
          "Big",
          "Big",
          "Small",
          "Small",
          "Small",
          "Big",
          "Big",
          "Small",
          "Small",
          "Small",
          "Small",
          "Small",
          "Big",
          "Big",
          "Big",
          "Big",
          "Big",
          "Small",
          "Small",
          "Big",
          "Small",
          "Small",
          "Big",
          "Big",
          "Small",
          "Small",
          "Small",
          "Big",
          "Small",
          "Small",
          "Small",
          "Big",
          "Small",
          "Small",
          "Small",
          "Small",
          "Small",
          "Big",
          "Small",
          "Small",
          "Big",
          "Big",
          "Small",
          "Big",
          "Big",
          "Small",
          "Small",
          "Small",
          "Big",
          "Small",
          "Big",
          "Small",
          "Small",
          "Big",
          "Small",
          "Big",
          "Big",
          "Small",
          "Small",
          "Big",
          "Small",
          "Small",
          "Small",
          "Big",
          "Big",
          "Big",
          "Small",
          "Big",
          "Big",
          "Small",
          "Big",
          "Big",
          "Small",
          "Big",
          "Small",
          "Big",
          "Small",
          "Big",
          "Small",
          "Small",
          "Big",
          "Small",
          "Small",
          "Big",
          "Big",
          "Small",
          "Big",
          "Small",
          "Big",
          "Big",
          "Small",
          "Big",
          "Big",
          "Small",
          "Small",
          "Small",
          "Small",
          "Big",
          "Small",
          "Small",
          "Small",
          "Small",
          "Small",
          "Big",
          "Big",
          "Big",
          "Small",
          "Small",
          "Small",
          "Small",
          "Small",
          "Small",
          "Big",
          "Small",
          "Small",
          "Big",
          "Big",
          "Small",
          "Small",
          "Small",
          "Small",
          "Big",
          "Small",
          "Small",
          "Small",
          "Big",
          "Small",
          "Small",
          "Small",
          "Big",
          "Small",
          "Small",
          "Small",
          "Small",
          "Big",
          "Big",
          "Big",
          "Big",
          "Small",
          "Small",
          "Big",
          "Small",
          "Big",
          "Small",
          "Big",
          "Small",
          "Big",
          "Small",
          "Small",
          "Small",
          "Small",
          "Big",
          "Big",
          "Small",
          "Small",
          "Small",
          "Small",
          "Small",
          "Small",
          "Big",
          "Small",
          "Small",
          "Small",
          "Big",
          "Small",
          "Small",
          "Small",
          "Small",
          "Small",
          "Small",
          "Small",
          "Big",
          "Small",
          "Small",
          "Small",
          "Small",
          "Small",
          "Small",
          "Big",
          "Big",
          "Small",
          "Small",
          "Small",
          "Big",
          "Small",
          "Small",
          "Small",
          "Big",
          "Big",
          "Small",
          "Big",
          "Small",
          "Small",
          "Big",
          "Small",
          "Big",
          "Small",
          "Big",
          "Big",
          "Big",
          "Small",
          "Small",
          "Small",
          "Big",
          "Big",
          "Small",
          "Big",
          "Big",
          "Big",
          "Small",
          "Big",
          "Small",
          "Big",
          "Big",
          "Small",
          "Big",
          "Small",
          "Small",
          "Small",
          "Big",
          "Big",
          "Big",
          "Small",
          "Big",
          "Small",
          "Small",
          "Big",
          "Big",
          "Big",
          "Big",
          "Big",
          "Big",
          "Small",
          "Small",
          "Big",
          "Small",
          "Small",
          "Small",
          "Big",
          "Small",
          "Big",
          "Big",
          "Big",
          "Small",
          "Small",
          "Small",
          "Small",
          "Big",
          "Big",
          "Small",
          "Small",
          "Small",
          "Small",
          "Small",
          "Big",
          "Small",
          "Small",
          "Small",
          "Small",
          "Small",
          "Small",
          "Big",
          "Small",
          "Small",
          "Small",
          "Small",
          "Small",
          "Small",
          "Small",
          "Small",
          "Big",
          "Small",
          "Small",
          "Big",
          "Big",
          "Big",
          "Small",
          "Big",
          "Small",
          "Big",
          "Small",
          "Small",
          "Big",
          "Small",
          "Big",
          "Small",
          "Small",
          "Small",
          "Small",
          "Small",
          "Small",
          "Small",
          "Big",
          "Big",
          "Small",
          "Small",
          "Big",
          "Small",
          "Small",
          "Big",
          "Small",
          "Big",
          "Small",
          "Small",
          "Small",
          "Small",
          "Big",
          "Small",
          "Big",
          "Big",
          "Small",
          "Big",
          "Small",
          "Small",
          "Small",
          "Small",
          "Small",
          "Big",
          "Small",
          "Small",
          "Small",
          "Big",
          "Small",
          "Small",
          "Big",
          "Small",
          "Big",
          "Big",
          "Small",
          "Small",
          "Big",
          "Big",
          "Small",
          "Small",
          "Small",
          "Small",
          "Big",
          "Big",
          "Small",
          "Small",
          "Small",
          "Small",
          "Big",
          "Small",
          "Big",
          "Small",
          "Small",
          "Small",
          "Small",
          "Big",
          "Big",
          "Big",
          "Big",
          "Big",
          "Small",
          "Small",
          "Big",
          "Small",
          "Big",
          "Big",
          "Big",
          "Big",
          "Big",
          "Small",
          "Small",
          "Big",
          "Small"
         ],
         "xaxis": "x",
         "yaxis": "y"
        },
        {
         "alignmentgroup": "True",
         "bingroup": "x",
         "hovertemplate": "supervisor=No<br>U_Size=%{x}<br>count (normalized as percent)=%{y}<extra></extra>",
         "legendgroup": "No",
         "marker": {
          "color": "#EF553B",
          "pattern": {
           "shape": ""
          }
         },
         "name": "No",
         "offsetgroup": "No",
         "orientation": "v",
         "showlegend": true,
         "type": "histogram",
         "x": [
          "Big",
          "Small",
          "Small",
          "Small",
          "Small",
          "Big",
          "Small",
          "Small",
          "Small",
          "Small",
          "Small",
          "Small",
          "Small",
          "Big",
          "Small",
          "Small",
          "Small",
          "Big",
          "Small",
          "Small",
          "Big",
          "Small",
          "Big",
          "Small",
          "Small",
          "Small",
          "Small",
          "Big",
          "Small",
          "Small",
          "Small",
          "Small",
          "Small",
          "Small",
          "Big",
          "Big",
          "Small",
          "Big",
          "Small",
          "Big",
          "Small",
          "Small",
          "Small",
          "Small",
          "Big",
          "Small",
          "Small",
          "Big",
          "Big",
          "Small",
          "Small",
          "Big",
          "Big",
          "Big",
          "Small",
          "Big",
          "Small",
          "Small",
          "Big",
          "Big",
          "Big",
          "Small",
          "Big",
          "Big",
          "Small",
          "Small",
          "Big",
          "Small",
          "Small",
          "Big",
          "Big",
          "Small",
          "Big",
          "Small",
          "Big",
          "Small",
          "Small",
          "Small",
          "Small",
          "Small",
          "Big",
          "Small",
          "Small",
          "Small",
          "Big",
          "Big",
          "Big",
          "Small",
          "Big",
          "Big",
          "Big",
          "Small",
          "Big",
          "Small",
          "Big",
          "Big",
          "Small",
          "Small",
          "Big",
          "Big",
          "Small",
          "Big",
          "Big",
          "Big",
          "Big",
          "Big",
          "Big",
          "Small",
          "Small",
          "Big",
          "Big",
          "Small",
          "Small",
          "Small",
          "Big",
          "Big",
          "Big",
          "Big",
          "Small",
          "Small",
          "Big",
          "Big",
          "Big",
          "Big",
          "Big",
          "Small",
          "Small",
          "Big",
          "Big",
          "Big",
          "Small",
          "Small",
          "Big",
          "Big",
          "Small",
          "Big",
          "Big",
          "Small",
          "Small",
          "Small",
          "Big",
          "Small",
          "Big",
          "Small",
          "Big",
          "Big",
          "Small",
          "Small",
          "Small",
          "Small",
          "Small",
          "Big",
          "Small",
          "Small",
          "Big",
          "Big",
          "Big",
          "Small",
          "Big",
          "Big",
          "Small",
          "Big",
          "Small",
          "Small",
          "Small",
          "Small",
          "Big",
          "Big",
          "Small",
          "Small",
          "Big",
          "Big",
          "Big",
          "Small",
          "Small",
          "Big",
          "Big",
          "Small",
          "Big",
          "Small",
          "Big",
          "Big",
          "Big",
          "Small",
          "Small",
          "Big",
          "Small",
          "Big",
          "Big",
          "Big",
          "Small",
          "Small",
          "Small",
          "Big",
          "Small",
          "Big",
          "Big",
          "Big",
          "Small",
          "Small",
          "Big",
          "Small",
          "Small",
          "Small",
          "Big",
          "Small",
          "Small",
          "Small",
          "Big",
          "Small",
          "Small",
          "Small",
          "Big",
          "Big",
          "Small",
          "Small",
          "Small",
          "Small",
          "Small",
          "Big",
          "Small",
          "Small",
          "Small",
          "Big",
          "Small",
          "Small",
          "Big",
          "Small",
          "Big",
          "Small",
          "Small",
          "Big",
          "Small",
          "Small",
          "Small",
          "Big",
          "Small",
          "Big",
          "Small",
          "Small",
          "Small",
          "Small",
          "Big",
          "Big",
          "Small",
          "Small",
          "Big",
          "Small",
          "Big",
          "Big",
          "Small",
          "Big",
          "Small",
          "Small",
          "Small",
          "Small",
          "Big",
          "Small",
          "Big",
          "Small",
          "Big",
          "Small",
          "Small",
          "Big",
          "Small",
          "Small",
          "Big",
          "Small",
          "Small",
          "Small",
          "Big",
          "Big",
          "Big",
          "Big",
          "Small",
          "Small",
          "Small",
          "Big",
          "Big",
          "Big",
          "Small",
          "Small",
          "Big",
          "Big",
          "Big",
          "Small",
          "Small",
          "Big",
          "Small",
          "Big",
          "Big",
          "Small",
          "Small",
          "Small",
          "Big",
          "Small",
          "Small",
          "Small",
          "Small",
          "Small",
          "Big",
          "Big",
          "Small",
          "Small",
          "Big",
          "Big",
          "Small",
          "Small",
          "Big",
          "Small",
          "Big",
          "Big",
          "Small",
          "Big",
          "Small",
          "Big",
          "Big",
          "Big",
          "Big",
          "Big",
          "Small",
          "Small",
          "Small",
          "Big",
          "Big",
          "Big",
          "Big",
          "Small",
          "Big",
          "Big",
          "Big",
          "Small",
          "Big",
          "Small",
          "Small",
          "Big",
          "Small",
          "Small",
          "Small",
          "Small",
          "Big",
          "Small",
          "Big",
          "Small",
          "Small",
          "Small",
          "Big",
          "Big",
          "Big",
          "Big",
          "Small",
          "Small",
          "Small",
          "Big",
          "Big",
          "Small",
          "Small",
          "Small",
          "Big",
          "Big",
          "Small",
          "Big",
          "Small",
          "Big",
          "Small",
          "Small",
          "Big",
          "Small",
          "Small",
          "Big",
          "Small",
          "Small",
          "Small",
          "Big",
          "Small",
          "Small",
          "Big",
          "Small",
          "Small",
          "Big",
          "Small",
          "Big",
          "Small",
          "Small",
          "Small",
          "Small",
          "Big",
          "Big",
          "Big",
          "Small"
         ],
         "xaxis": "x",
         "yaxis": "y"
        },
        {
         "alignmentgroup": "True",
         "bingroup": "x",
         "hovertemplate": "supervisor=Some of them<br>U_Size=%{x}<br>count (normalized as percent)=%{y}<extra></extra>",
         "legendgroup": "Some of them",
         "marker": {
          "color": "#00cc96",
          "pattern": {
           "shape": ""
          }
         },
         "name": "Some of them",
         "offsetgroup": "Some of them",
         "orientation": "v",
         "showlegend": true,
         "type": "histogram",
         "x": [
          "Small",
          "Small",
          "Small",
          "Big",
          "Small",
          "Small",
          "Small",
          "Big",
          "Small",
          "Big",
          "Big",
          "Small",
          "Big",
          "Small",
          "Big",
          "Big",
          "Small",
          "Big",
          "Big",
          "Small",
          "Big",
          "Small",
          "Small",
          "Big",
          "Small",
          "Small",
          "Big",
          "Small",
          "Big",
          "Small",
          "Small",
          "Small",
          "Small",
          "Big",
          "Big",
          "Big",
          "Big",
          "Small",
          "Big",
          "Small",
          "Big",
          "Small",
          "Big",
          "Small",
          "Small",
          "Small",
          "Small",
          "Small",
          "Small",
          "Small",
          "Small",
          "Small",
          "Small",
          "Big",
          "Small",
          "Small",
          "Small",
          "Small",
          "Big",
          "Small",
          "Small",
          "Small",
          "Small",
          "Small",
          "Small",
          "Small",
          "Small",
          "Small",
          "Small",
          "Small",
          "Big",
          "Small",
          "Big",
          "Big",
          "Small",
          "Big",
          "Big",
          "Big",
          "Big",
          "Big",
          "Small",
          "Small",
          "Small",
          "Big",
          "Small",
          "Big",
          "Big",
          "Small",
          "Small",
          "Small",
          "Small",
          "Big",
          "Small",
          "Big",
          "Big",
          "Small",
          "Big",
          "Small",
          "Big",
          "Big",
          "Big",
          "Small",
          "Big",
          "Big",
          "Big",
          "Big",
          "Big",
          "Big",
          "Small",
          "Small",
          "Big",
          "Big",
          "Small",
          "Big",
          "Big",
          "Small",
          "Small",
          "Small",
          "Big",
          "Big",
          "Big",
          "Big",
          "Big",
          "Small",
          "Big",
          "Big",
          "Big",
          "Small",
          "Small",
          "Small",
          "Big",
          "Big",
          "Small",
          "Big",
          "Small",
          "Small",
          "Big",
          "Small",
          "Big",
          "Big",
          "Small",
          "Small",
          "Small",
          "Small",
          "Big",
          "Big",
          "Big",
          "Small",
          "Small",
          "Big",
          "Small",
          "Small",
          "Big",
          "Big",
          "Big",
          "Small",
          "Small",
          "Big",
          "Big",
          "Small",
          "Big",
          "Small",
          "Small",
          "Small",
          "Big",
          "Big",
          "Big",
          "Small",
          "Small",
          "Small",
          "Big",
          "Small",
          "Big",
          "Big",
          "Big",
          "Small",
          "Small",
          "Big",
          "Small",
          "Small",
          "Small",
          "Big",
          "Small",
          "Small",
          "Small",
          "Big",
          "Big",
          "Big",
          "Big",
          "Small",
          "Big",
          "Small",
          "Small",
          "Small",
          "Big",
          "Small",
          "Small",
          "Big",
          "Small",
          "Small",
          "Big",
          "Small",
          "Big",
          "Big",
          "Small",
          "Big",
          "Small",
          "Big",
          "Small",
          "Small",
          "Big",
          "Big",
          "Big",
          "Big",
          "Big",
          "Small",
          "Big",
          "Big",
          "Small",
          "Big",
          "Big",
          "Small",
          "Small",
          "Small",
          "Big",
          "Big",
          "Small",
          "Small",
          "Small",
          "Small",
          "Small",
          "Small",
          "Big",
          "Small",
          "Big",
          "Small",
          "Small",
          "Small",
          "Small",
          "Big",
          "Small",
          "Small",
          "Big",
          "Small",
          "Small",
          "Big",
          "Small",
          "Big",
          "Small",
          "Small",
          "Small",
          "Small",
          "Small",
          "Small",
          "Small",
          "Big",
          "Big",
          "Small",
          "Big",
          "Big",
          "Big",
          "Big",
          "Big",
          "Big",
          "Small",
          "Small",
          "Big",
          "Small",
          "Big",
          "Small",
          "Big",
          "Big",
          "Big",
          "Small",
          "Big",
          "Small",
          "Small",
          "Big",
          "Big",
          "Big",
          "Small",
          "Small",
          "Big",
          "Small",
          "Small",
          "Big",
          "Small",
          "Small",
          "Big",
          "Small",
          "Small",
          "Big",
          "Small",
          "Small",
          "Small",
          "Small",
          "Small",
          "Big",
          "Small",
          "Small",
          "Big",
          "Big",
          "Big",
          "Big",
          "Small",
          "Small",
          "Small",
          "Small",
          "Big",
          "Big",
          "Small",
          "Big",
          "Big",
          "Small",
          "Small",
          "Small",
          "Small",
          "Big",
          "Small",
          "Big",
          "Small",
          "Small",
          "Small",
          "Small",
          "Small",
          "Big",
          "Big",
          "Small",
          "Small",
          "Small",
          "Small",
          "Small",
          "Small",
          "Big",
          "Big",
          "Big",
          "Small",
          "Small",
          "Small",
          "Small",
          "Small",
          "Big",
          "Big",
          "Small",
          "Small",
          "Small",
          "Big",
          "Big",
          "Small"
         ],
         "xaxis": "x",
         "yaxis": "y"
        }
       ],
       "layout": {
        "barmode": "stack",
        "barnorm": "percent",
        "legend": {
         "title": {
          "text": "supervisor"
         },
         "tracegroupgap": 0
        },
        "template": {
         "data": {
          "bar": [
           {
            "error_x": {
             "color": "#2a3f5f"
            },
            "error_y": {
             "color": "#2a3f5f"
            },
            "marker": {
             "line": {
              "color": "#E5ECF6",
              "width": 0.5
             },
             "pattern": {
              "fillmode": "overlay",
              "size": 10,
              "solidity": 0.2
             }
            },
            "type": "bar"
           }
          ],
          "barpolar": [
           {
            "marker": {
             "line": {
              "color": "#E5ECF6",
              "width": 0.5
             },
             "pattern": {
              "fillmode": "overlay",
              "size": 10,
              "solidity": 0.2
             }
            },
            "type": "barpolar"
           }
          ],
          "carpet": [
           {
            "aaxis": {
             "endlinecolor": "#2a3f5f",
             "gridcolor": "white",
             "linecolor": "white",
             "minorgridcolor": "white",
             "startlinecolor": "#2a3f5f"
            },
            "baxis": {
             "endlinecolor": "#2a3f5f",
             "gridcolor": "white",
             "linecolor": "white",
             "minorgridcolor": "white",
             "startlinecolor": "#2a3f5f"
            },
            "type": "carpet"
           }
          ],
          "choropleth": [
           {
            "colorbar": {
             "outlinewidth": 0,
             "ticks": ""
            },
            "type": "choropleth"
           }
          ],
          "contour": [
           {
            "colorbar": {
             "outlinewidth": 0,
             "ticks": ""
            },
            "colorscale": [
             [
              0,
              "#0d0887"
             ],
             [
              0.1111111111111111,
              "#46039f"
             ],
             [
              0.2222222222222222,
              "#7201a8"
             ],
             [
              0.3333333333333333,
              "#9c179e"
             ],
             [
              0.4444444444444444,
              "#bd3786"
             ],
             [
              0.5555555555555556,
              "#d8576b"
             ],
             [
              0.6666666666666666,
              "#ed7953"
             ],
             [
              0.7777777777777778,
              "#fb9f3a"
             ],
             [
              0.8888888888888888,
              "#fdca26"
             ],
             [
              1,
              "#f0f921"
             ]
            ],
            "type": "contour"
           }
          ],
          "contourcarpet": [
           {
            "colorbar": {
             "outlinewidth": 0,
             "ticks": ""
            },
            "type": "contourcarpet"
           }
          ],
          "heatmap": [
           {
            "colorbar": {
             "outlinewidth": 0,
             "ticks": ""
            },
            "colorscale": [
             [
              0,
              "#0d0887"
             ],
             [
              0.1111111111111111,
              "#46039f"
             ],
             [
              0.2222222222222222,
              "#7201a8"
             ],
             [
              0.3333333333333333,
              "#9c179e"
             ],
             [
              0.4444444444444444,
              "#bd3786"
             ],
             [
              0.5555555555555556,
              "#d8576b"
             ],
             [
              0.6666666666666666,
              "#ed7953"
             ],
             [
              0.7777777777777778,
              "#fb9f3a"
             ],
             [
              0.8888888888888888,
              "#fdca26"
             ],
             [
              1,
              "#f0f921"
             ]
            ],
            "type": "heatmap"
           }
          ],
          "heatmapgl": [
           {
            "colorbar": {
             "outlinewidth": 0,
             "ticks": ""
            },
            "colorscale": [
             [
              0,
              "#0d0887"
             ],
             [
              0.1111111111111111,
              "#46039f"
             ],
             [
              0.2222222222222222,
              "#7201a8"
             ],
             [
              0.3333333333333333,
              "#9c179e"
             ],
             [
              0.4444444444444444,
              "#bd3786"
             ],
             [
              0.5555555555555556,
              "#d8576b"
             ],
             [
              0.6666666666666666,
              "#ed7953"
             ],
             [
              0.7777777777777778,
              "#fb9f3a"
             ],
             [
              0.8888888888888888,
              "#fdca26"
             ],
             [
              1,
              "#f0f921"
             ]
            ],
            "type": "heatmapgl"
           }
          ],
          "histogram": [
           {
            "marker": {
             "pattern": {
              "fillmode": "overlay",
              "size": 10,
              "solidity": 0.2
             }
            },
            "type": "histogram"
           }
          ],
          "histogram2d": [
           {
            "colorbar": {
             "outlinewidth": 0,
             "ticks": ""
            },
            "colorscale": [
             [
              0,
              "#0d0887"
             ],
             [
              0.1111111111111111,
              "#46039f"
             ],
             [
              0.2222222222222222,
              "#7201a8"
             ],
             [
              0.3333333333333333,
              "#9c179e"
             ],
             [
              0.4444444444444444,
              "#bd3786"
             ],
             [
              0.5555555555555556,
              "#d8576b"
             ],
             [
              0.6666666666666666,
              "#ed7953"
             ],
             [
              0.7777777777777778,
              "#fb9f3a"
             ],
             [
              0.8888888888888888,
              "#fdca26"
             ],
             [
              1,
              "#f0f921"
             ]
            ],
            "type": "histogram2d"
           }
          ],
          "histogram2dcontour": [
           {
            "colorbar": {
             "outlinewidth": 0,
             "ticks": ""
            },
            "colorscale": [
             [
              0,
              "#0d0887"
             ],
             [
              0.1111111111111111,
              "#46039f"
             ],
             [
              0.2222222222222222,
              "#7201a8"
             ],
             [
              0.3333333333333333,
              "#9c179e"
             ],
             [
              0.4444444444444444,
              "#bd3786"
             ],
             [
              0.5555555555555556,
              "#d8576b"
             ],
             [
              0.6666666666666666,
              "#ed7953"
             ],
             [
              0.7777777777777778,
              "#fb9f3a"
             ],
             [
              0.8888888888888888,
              "#fdca26"
             ],
             [
              1,
              "#f0f921"
             ]
            ],
            "type": "histogram2dcontour"
           }
          ],
          "mesh3d": [
           {
            "colorbar": {
             "outlinewidth": 0,
             "ticks": ""
            },
            "type": "mesh3d"
           }
          ],
          "parcoords": [
           {
            "line": {
             "colorbar": {
              "outlinewidth": 0,
              "ticks": ""
             }
            },
            "type": "parcoords"
           }
          ],
          "pie": [
           {
            "automargin": true,
            "type": "pie"
           }
          ],
          "scatter": [
           {
            "fillpattern": {
             "fillmode": "overlay",
             "size": 10,
             "solidity": 0.2
            },
            "type": "scatter"
           }
          ],
          "scatter3d": [
           {
            "line": {
             "colorbar": {
              "outlinewidth": 0,
              "ticks": ""
             }
            },
            "marker": {
             "colorbar": {
              "outlinewidth": 0,
              "ticks": ""
             }
            },
            "type": "scatter3d"
           }
          ],
          "scattercarpet": [
           {
            "marker": {
             "colorbar": {
              "outlinewidth": 0,
              "ticks": ""
             }
            },
            "type": "scattercarpet"
           }
          ],
          "scattergeo": [
           {
            "marker": {
             "colorbar": {
              "outlinewidth": 0,
              "ticks": ""
             }
            },
            "type": "scattergeo"
           }
          ],
          "scattergl": [
           {
            "marker": {
             "colorbar": {
              "outlinewidth": 0,
              "ticks": ""
             }
            },
            "type": "scattergl"
           }
          ],
          "scattermapbox": [
           {
            "marker": {
             "colorbar": {
              "outlinewidth": 0,
              "ticks": ""
             }
            },
            "type": "scattermapbox"
           }
          ],
          "scatterpolar": [
           {
            "marker": {
             "colorbar": {
              "outlinewidth": 0,
              "ticks": ""
             }
            },
            "type": "scatterpolar"
           }
          ],
          "scatterpolargl": [
           {
            "marker": {
             "colorbar": {
              "outlinewidth": 0,
              "ticks": ""
             }
            },
            "type": "scatterpolargl"
           }
          ],
          "scatterternary": [
           {
            "marker": {
             "colorbar": {
              "outlinewidth": 0,
              "ticks": ""
             }
            },
            "type": "scatterternary"
           }
          ],
          "surface": [
           {
            "colorbar": {
             "outlinewidth": 0,
             "ticks": ""
            },
            "colorscale": [
             [
              0,
              "#0d0887"
             ],
             [
              0.1111111111111111,
              "#46039f"
             ],
             [
              0.2222222222222222,
              "#7201a8"
             ],
             [
              0.3333333333333333,
              "#9c179e"
             ],
             [
              0.4444444444444444,
              "#bd3786"
             ],
             [
              0.5555555555555556,
              "#d8576b"
             ],
             [
              0.6666666666666666,
              "#ed7953"
             ],
             [
              0.7777777777777778,
              "#fb9f3a"
             ],
             [
              0.8888888888888888,
              "#fdca26"
             ],
             [
              1,
              "#f0f921"
             ]
            ],
            "type": "surface"
           }
          ],
          "table": [
           {
            "cells": {
             "fill": {
              "color": "#EBF0F8"
             },
             "line": {
              "color": "white"
             }
            },
            "header": {
             "fill": {
              "color": "#C8D4E3"
             },
             "line": {
              "color": "white"
             }
            },
            "type": "table"
           }
          ]
         },
         "layout": {
          "annotationdefaults": {
           "arrowcolor": "#2a3f5f",
           "arrowhead": 0,
           "arrowwidth": 1
          },
          "autotypenumbers": "strict",
          "coloraxis": {
           "colorbar": {
            "outlinewidth": 0,
            "ticks": ""
           }
          },
          "colorscale": {
           "diverging": [
            [
             0,
             "#8e0152"
            ],
            [
             0.1,
             "#c51b7d"
            ],
            [
             0.2,
             "#de77ae"
            ],
            [
             0.3,
             "#f1b6da"
            ],
            [
             0.4,
             "#fde0ef"
            ],
            [
             0.5,
             "#f7f7f7"
            ],
            [
             0.6,
             "#e6f5d0"
            ],
            [
             0.7,
             "#b8e186"
            ],
            [
             0.8,
             "#7fbc41"
            ],
            [
             0.9,
             "#4d9221"
            ],
            [
             1,
             "#276419"
            ]
           ],
           "sequential": [
            [
             0,
             "#0d0887"
            ],
            [
             0.1111111111111111,
             "#46039f"
            ],
            [
             0.2222222222222222,
             "#7201a8"
            ],
            [
             0.3333333333333333,
             "#9c179e"
            ],
            [
             0.4444444444444444,
             "#bd3786"
            ],
            [
             0.5555555555555556,
             "#d8576b"
            ],
            [
             0.6666666666666666,
             "#ed7953"
            ],
            [
             0.7777777777777778,
             "#fb9f3a"
            ],
            [
             0.8888888888888888,
             "#fdca26"
            ],
            [
             1,
             "#f0f921"
            ]
           ],
           "sequentialminus": [
            [
             0,
             "#0d0887"
            ],
            [
             0.1111111111111111,
             "#46039f"
            ],
            [
             0.2222222222222222,
             "#7201a8"
            ],
            [
             0.3333333333333333,
             "#9c179e"
            ],
            [
             0.4444444444444444,
             "#bd3786"
            ],
            [
             0.5555555555555556,
             "#d8576b"
            ],
            [
             0.6666666666666666,
             "#ed7953"
            ],
            [
             0.7777777777777778,
             "#fb9f3a"
            ],
            [
             0.8888888888888888,
             "#fdca26"
            ],
            [
             1,
             "#f0f921"
            ]
           ]
          },
          "colorway": [
           "#636efa",
           "#EF553B",
           "#00cc96",
           "#ab63fa",
           "#FFA15A",
           "#19d3f3",
           "#FF6692",
           "#B6E880",
           "#FF97FF",
           "#FECB52"
          ],
          "font": {
           "color": "#2a3f5f"
          },
          "geo": {
           "bgcolor": "white",
           "lakecolor": "white",
           "landcolor": "#E5ECF6",
           "showlakes": true,
           "showland": true,
           "subunitcolor": "white"
          },
          "hoverlabel": {
           "align": "left"
          },
          "hovermode": "closest",
          "mapbox": {
           "style": "light"
          },
          "paper_bgcolor": "white",
          "plot_bgcolor": "#E5ECF6",
          "polar": {
           "angularaxis": {
            "gridcolor": "white",
            "linecolor": "white",
            "ticks": ""
           },
           "bgcolor": "#E5ECF6",
           "radialaxis": {
            "gridcolor": "white",
            "linecolor": "white",
            "ticks": ""
           }
          },
          "scene": {
           "xaxis": {
            "backgroundcolor": "#E5ECF6",
            "gridcolor": "white",
            "gridwidth": 2,
            "linecolor": "white",
            "showbackground": true,
            "ticks": "",
            "zerolinecolor": "white"
           },
           "yaxis": {
            "backgroundcolor": "#E5ECF6",
            "gridcolor": "white",
            "gridwidth": 2,
            "linecolor": "white",
            "showbackground": true,
            "ticks": "",
            "zerolinecolor": "white"
           },
           "zaxis": {
            "backgroundcolor": "#E5ECF6",
            "gridcolor": "white",
            "gridwidth": 2,
            "linecolor": "white",
            "showbackground": true,
            "ticks": "",
            "zerolinecolor": "white"
           }
          },
          "shapedefaults": {
           "line": {
            "color": "#2a3f5f"
           }
          },
          "ternary": {
           "aaxis": {
            "gridcolor": "white",
            "linecolor": "white",
            "ticks": ""
           },
           "baxis": {
            "gridcolor": "white",
            "linecolor": "white",
            "ticks": ""
           },
           "bgcolor": "#E5ECF6",
           "caxis": {
            "gridcolor": "white",
            "linecolor": "white",
            "ticks": ""
           }
          },
          "title": {
           "x": 0.05
          },
          "xaxis": {
           "automargin": true,
           "gridcolor": "white",
           "linecolor": "white",
           "ticks": "",
           "title": {
            "standoff": 15
           },
           "zerolinecolor": "white",
           "zerolinewidth": 2
          },
          "yaxis": {
           "automargin": true,
           "gridcolor": "white",
           "linecolor": "white",
           "ticks": "",
           "title": {
            "standoff": 15
           },
           "zerolinecolor": "white",
           "zerolinewidth": 2
          }
         }
        },
        "title": {
         "text": "Anteil der Kommunikation mit Vorgesetzten nach Unternehmensgröße"
        },
        "xaxis": {
         "anchor": "y",
         "domain": [
          0,
          1
         ],
         "title": {
          "text": "U_Size"
         }
        },
        "yaxis": {
         "anchor": "x",
         "domain": [
          0,
          1
         ],
         "title": {
          "text": "count (normalized as percent)"
         }
        }
       }
      }
     },
     "metadata": {},
     "output_type": "display_data"
    }
   ],
   "source": [
    "fig = px.histogram(\n",
    "    df_cl,\n",
    "    x=\"U_Size\",\n",
    "    color=\"supervisor\",\n",
    "    barnorm=\"percent\", \n",
    "    barmode=\"stack\",\n",
    "    title=\"Anteil der Kommunikation mit Vorgesetzten nach Unternehmensgröße\"\n",
    ")\n",
    "fig.show()"
   ]
  },
  {
   "cell_type": "markdown",
   "id": "525f13fd",
   "metadata": {},
   "source": [
    "Auch hier lassen sich keine Unterschiede erkennen, dementsprechend wird die These verworfen.\n",
    "\n",
    "Allerdings wird dieser mögliche Zusammenhang in der explorativen Datenanalyse noch betrachtet."
   ]
  },
  {
   "cell_type": "markdown",
   "id": "5f9b80b8",
   "metadata": {},
   "source": [
    "#### 4.1.5.2 Remote Work"
   ]
  },
  {
   "cell_type": "markdown",
   "id": "0b6d0da5",
   "metadata": {},
   "source": [
    "Füge mal noch ein Psychologische Konzepte, wieso Kommunikation beeinflusst wird von RemoteWork."
   ]
  },
  {
   "cell_type": "code",
   "execution_count": 82,
   "id": "9c8c33f4",
   "metadata": {},
   "outputs": [
    {
     "data": {
      "application/vnd.plotly.v1+json": {
       "config": {
        "plotlyServerURL": "https://plot.ly"
       },
       "data": [
        {
         "alignmentgroup": "True",
         "bingroup": "x",
         "hovertemplate": "coworkers=Some of them<br>remote_work=%{x}<br>count (normalized as percent)=%{y}<extra></extra>",
         "legendgroup": "Some of them",
         "marker": {
          "color": "#636efa",
          "pattern": {
           "shape": ""
          }
         },
         "name": "Some of them",
         "offsetgroup": "Some of them",
         "orientation": "v",
         "showlegend": true,
         "type": "histogram",
         "x": [
          "No",
          "No",
          "Yes",
          "Yes",
          "Yes",
          "No",
          "Yes",
          "No",
          "Yes",
          "No",
          "Yes",
          "Yes",
          "No",
          "No",
          "Yes",
          "No",
          "Yes",
          "Yes",
          "Yes",
          "No",
          "No",
          "No",
          "No",
          "No",
          "Yes",
          "No",
          "No",
          "No",
          "No",
          "Yes",
          "Yes",
          "Yes",
          "Yes",
          "No",
          "No",
          "No",
          "Yes",
          "Yes",
          "Yes",
          "Yes",
          "Yes",
          "No",
          "No",
          "No",
          "No",
          "Yes",
          "Yes",
          "No",
          "No",
          "Yes",
          "No",
          "No",
          "Yes",
          "No",
          "No",
          "No",
          "No",
          "No",
          "No",
          "No",
          "No",
          "No",
          "Yes",
          "No",
          "No",
          "Yes",
          "No",
          "No",
          "No",
          "No",
          "No",
          "Yes",
          "No",
          "Yes",
          "Yes",
          "Yes",
          "No",
          "No",
          "No",
          "No",
          "No",
          "No",
          "No",
          "Yes",
          "No",
          "No",
          "Yes",
          "Yes",
          "No",
          "No",
          "Yes",
          "No",
          "No",
          "No",
          "No",
          "No",
          "Yes",
          "No",
          "No",
          "No",
          "No",
          "No",
          "No",
          "No",
          "No",
          "No",
          "No",
          "No",
          "No",
          "No",
          "No",
          "Yes",
          "No",
          "Yes",
          "Yes",
          "Yes",
          "No",
          "No",
          "No",
          "No",
          "Yes",
          "No",
          "Yes",
          "No",
          "No",
          "No",
          "Yes",
          "Yes",
          "No",
          "No",
          "No",
          "No",
          "Yes",
          "Yes",
          "No",
          "No",
          "No",
          "Yes",
          "No",
          "No",
          "No",
          "Yes",
          "Yes",
          "No",
          "No",
          "No",
          "No",
          "No",
          "No",
          "No",
          "No",
          "No",
          "Yes",
          "Yes",
          "Yes",
          "No",
          "Yes",
          "No",
          "Yes",
          "No",
          "Yes",
          "No",
          "No",
          "No",
          "Yes",
          "No",
          "No",
          "No",
          "No",
          "No",
          "No",
          "Yes",
          "No",
          "No",
          "No",
          "No",
          "Yes",
          "No",
          "No",
          "No",
          "No",
          "No",
          "No",
          "No",
          "No",
          "Yes",
          "No",
          "No",
          "No",
          "No",
          "Yes",
          "No",
          "No",
          "No",
          "No",
          "No",
          "No",
          "Yes",
          "No",
          "No",
          "No",
          "Yes",
          "No",
          "No",
          "Yes",
          "No",
          "No",
          "No",
          "Yes",
          "No",
          "No",
          "No",
          "No",
          "No",
          "No",
          "No",
          "No",
          "No",
          "Yes",
          "No",
          "Yes",
          "No",
          "No",
          "No",
          "No",
          "No",
          "No",
          "Yes",
          "No",
          "No",
          "No",
          "No",
          "No",
          "Yes",
          "No",
          "No",
          "No",
          "No",
          "No",
          "No",
          "No",
          "No",
          "No",
          "No",
          "No",
          "No",
          "Yes",
          "No",
          "Yes",
          "No",
          "No",
          "Yes",
          "No",
          "No",
          "No",
          "No",
          "No",
          "Yes",
          "Yes",
          "No",
          "No",
          "No",
          "Yes",
          "No",
          "No",
          "Yes",
          "No",
          "No",
          "No",
          "No",
          "No",
          "No",
          "No",
          "No",
          "No",
          "No",
          "No",
          "No",
          "Yes",
          "No",
          "Yes",
          "Yes",
          "No",
          "Yes",
          "Yes",
          "No",
          "No",
          "Yes",
          "No",
          "No",
          "Yes",
          "No",
          "No",
          "No",
          "No",
          "No",
          "No",
          "No",
          "Yes",
          "No",
          "No",
          "No",
          "Yes",
          "No",
          "No",
          "No",
          "No",
          "No",
          "Yes",
          "No",
          "Yes",
          "Yes",
          "No",
          "No",
          "No",
          "Yes",
          "Yes",
          "No",
          "Yes",
          "No",
          "No",
          "No",
          "Yes",
          "No",
          "No",
          "Yes",
          "No",
          "No",
          "No",
          "No",
          "No",
          "No",
          "No",
          "No",
          "Yes",
          "No",
          "No",
          "No",
          "Yes",
          "No",
          "Yes",
          "Yes",
          "No",
          "No",
          "No",
          "No",
          "No",
          "No",
          "No",
          "Yes",
          "Yes",
          "Yes",
          "No",
          "Yes",
          "No",
          "No",
          "Yes",
          "Yes",
          "No",
          "Yes",
          "No",
          "No",
          "No",
          "No",
          "No",
          "No",
          "No",
          "No",
          "Yes",
          "No",
          "No",
          "Yes",
          "No",
          "No",
          "No",
          "No",
          "Yes",
          "Yes",
          "No",
          "No",
          "No",
          "Yes",
          "No",
          "No",
          "No",
          "Yes",
          "Yes",
          "No",
          "Yes",
          "No",
          "No",
          "No",
          "No",
          "Yes",
          "No",
          "No",
          "No",
          "No",
          "No",
          "No",
          "Yes",
          "Yes",
          "No",
          "Yes",
          "No",
          "No",
          "No",
          "No",
          "No",
          "Yes",
          "No",
          "Yes",
          "Yes",
          "No",
          "No",
          "Yes",
          "No",
          "No",
          "Yes",
          "No",
          "Yes",
          "No",
          "No",
          "No",
          "No",
          "Yes",
          "No",
          "No",
          "No",
          "No",
          "No",
          "No",
          "No",
          "No",
          "No",
          "Yes",
          "No",
          "No",
          "No",
          "Yes",
          "No",
          "No",
          "No",
          "No",
          "Yes",
          "No",
          "Yes",
          "Yes",
          "No",
          "No",
          "No",
          "No",
          "Yes",
          "Yes",
          "No",
          "No",
          "No",
          "No",
          "No",
          "Yes",
          "No",
          "No",
          "No",
          "Yes",
          "No",
          "No",
          "No",
          "No",
          "No",
          "Yes",
          "No",
          "No",
          "No",
          "No",
          "No",
          "No",
          "No",
          "No",
          "No",
          "No",
          "No",
          "No",
          "No",
          "No",
          "Yes",
          "No",
          "No",
          "No",
          "No",
          "No",
          "Yes",
          "No",
          "No",
          "No",
          "No",
          "No",
          "No",
          "No",
          "No",
          "No",
          "Yes",
          "Yes",
          "No",
          "Yes",
          "Yes",
          "No",
          "No",
          "No",
          "Yes",
          "No",
          "No",
          "Yes",
          "No",
          "No",
          "Yes",
          "No",
          "No",
          "No",
          "No",
          "No",
          "No",
          "No",
          "No",
          "No",
          "No",
          "No",
          "No",
          "No",
          "Yes",
          "No",
          "No",
          "No",
          "No",
          "No",
          "No",
          "No",
          "Yes",
          "No",
          "Yes",
          "Yes",
          "Yes",
          "No",
          "No",
          "Yes",
          "No",
          "No",
          "Yes",
          "Yes",
          "No",
          "Yes",
          "No",
          "No",
          "No",
          "No",
          "Yes",
          "Yes",
          "No",
          "No",
          "Yes",
          "No",
          "No",
          "Yes",
          "Yes",
          "Yes",
          "No",
          "No",
          "No",
          "No",
          "Yes",
          "No",
          "No",
          "Yes",
          "Yes",
          "Yes",
          "No",
          "No",
          "No",
          "No",
          "No",
          "No",
          "No",
          "No",
          "Yes",
          "No",
          "No",
          "Yes",
          "No",
          "Yes",
          "No",
          "No",
          "No",
          "No",
          "No",
          "No",
          "No",
          "No",
          "Yes",
          "No",
          "No",
          "No",
          "No",
          "No",
          "Yes",
          "Yes",
          "Yes",
          "Yes",
          "No",
          "Yes",
          "No",
          "No",
          "No",
          "Yes",
          "Yes",
          "Yes",
          "No",
          "Yes",
          "No",
          "No",
          "Yes",
          "Yes",
          "Yes",
          "No",
          "No",
          "Yes",
          "No",
          "Yes",
          "No",
          "No",
          "No",
          "Yes",
          "Yes",
          "Yes",
          "No",
          "Yes",
          "Yes",
          "No",
          "No",
          "No",
          "No",
          "Yes",
          "Yes",
          "No",
          "Yes",
          "Yes",
          "No",
          "No",
          "No",
          "No",
          "No",
          "Yes",
          "No",
          "No",
          "Yes",
          "No",
          "No",
          "No",
          "Yes",
          "No",
          "No",
          "Yes",
          "No",
          "Yes",
          "No",
          "No",
          "Yes",
          "Yes",
          "No",
          "No",
          "No",
          "Yes",
          "No",
          "No",
          "No",
          "No",
          "No",
          "No",
          "No",
          "No",
          "No",
          "Yes",
          "No",
          "Yes",
          "Yes",
          "No",
          "Yes",
          "Yes",
          "No",
          "No",
          "No",
          "No",
          "No",
          "Yes",
          "No",
          "No",
          "Yes",
          "Yes",
          "No",
          "No",
          "No",
          "No",
          "No",
          "No",
          "No",
          "No",
          "Yes",
          "No",
          "No",
          "No",
          "Yes",
          "Yes",
          "No",
          "Yes",
          "No",
          "No",
          "No",
          "No",
          "No",
          "Yes",
          "No",
          "No",
          "Yes",
          "Yes",
          "No",
          "No",
          "Yes",
          "No",
          "No",
          "No",
          "Yes",
          "No",
          "No",
          "No",
          "No",
          "No",
          "Yes",
          "No",
          "No",
          "No",
          "Yes",
          "No",
          "Yes",
          "No",
          "No",
          "No",
          "No",
          "Yes",
          "No",
          "Yes",
          "No",
          "No",
          "No",
          "Yes",
          "No",
          "No",
          "No",
          "No",
          "Yes",
          "Yes",
          "No",
          "No",
          "Yes",
          "Yes",
          "No",
          "No",
          "No",
          "No",
          "Yes",
          "No",
          "No",
          "Yes",
          "No"
         ],
         "xaxis": "x",
         "yaxis": "y"
        },
        {
         "alignmentgroup": "True",
         "bingroup": "x",
         "hovertemplate": "coworkers=No<br>remote_work=%{x}<br>count (normalized as percent)=%{y}<extra></extra>",
         "legendgroup": "No",
         "marker": {
          "color": "#EF553B",
          "pattern": {
           "shape": ""
          }
         },
         "name": "No",
         "offsetgroup": "No",
         "orientation": "v",
         "showlegend": true,
         "type": "histogram",
         "x": [
          "No",
          "Yes",
          "No",
          "Yes",
          "No",
          "No",
          "No",
          "No",
          "No",
          "Yes",
          "No",
          "No",
          "No",
          "No",
          "No",
          "Yes",
          "No",
          "No",
          "No",
          "No",
          "No",
          "No",
          "No",
          "No",
          "Yes",
          "No",
          "No",
          "No",
          "No",
          "Yes",
          "Yes",
          "No",
          "No",
          "No",
          "Yes",
          "No",
          "Yes",
          "No",
          "No",
          "No",
          "Yes",
          "No",
          "No",
          "Yes",
          "No",
          "No",
          "No",
          "Yes",
          "No",
          "No",
          "No",
          "No",
          "No",
          "Yes",
          "No",
          "No",
          "No",
          "No",
          "No",
          "No",
          "No",
          "No",
          "No",
          "No",
          "No",
          "No",
          "Yes",
          "No",
          "No",
          "No",
          "No",
          "No",
          "Yes",
          "No",
          "No",
          "Yes",
          "No",
          "No",
          "No",
          "No",
          "No",
          "Yes",
          "No",
          "No",
          "Yes",
          "No",
          "No",
          "No",
          "Yes",
          "No",
          "No",
          "No",
          "No",
          "No",
          "No",
          "Yes",
          "No",
          "No",
          "No",
          "No",
          "No",
          "No",
          "No",
          "No",
          "No",
          "Yes",
          "Yes",
          "No",
          "Yes",
          "No",
          "No",
          "No",
          "No",
          "No",
          "Yes",
          "No",
          "Yes",
          "No",
          "No",
          "Yes",
          "No",
          "No",
          "No",
          "Yes",
          "No",
          "No",
          "No",
          "No",
          "No",
          "No",
          "No",
          "No",
          "No",
          "No",
          "No",
          "Yes",
          "No",
          "No",
          "No",
          "Yes",
          "No",
          "No",
          "Yes",
          "No",
          "No",
          "No",
          "No",
          "No",
          "Yes",
          "No",
          "Yes",
          "No",
          "No",
          "Yes",
          "No",
          "No",
          "Yes",
          "No",
          "No",
          "Yes",
          "Yes",
          "Yes",
          "No",
          "Yes",
          "No",
          "Yes",
          "No",
          "No",
          "No",
          "Yes",
          "No",
          "Yes",
          "No",
          "Yes",
          "No",
          "Yes",
          "No",
          "No",
          "No",
          "No",
          "Yes",
          "No",
          "No",
          "No",
          "No",
          "Yes",
          "No",
          "No",
          "No",
          "Yes",
          "No",
          "No",
          "Yes",
          "No",
          "No",
          "No",
          "No",
          "No",
          "No",
          "Yes",
          "No",
          "Yes",
          "No",
          "No",
          "Yes",
          "Yes",
          "Yes",
          "No",
          "Yes",
          "Yes",
          "No",
          "Yes",
          "No",
          "Yes",
          "No",
          "No",
          "No",
          "No",
          "Yes",
          "Yes",
          "No",
          "No",
          "No",
          "No",
          "Yes",
          "No",
          "No",
          "No",
          "No",
          "No",
          "No",
          "No",
          "No",
          "No",
          "Yes",
          "No",
          "No",
          "No",
          "Yes",
          "No",
          "No",
          "No",
          "No",
          "Yes",
          "No",
          "Yes",
          "No",
          "No",
          "No",
          "Yes",
          "No",
          "No",
          "No",
          "No",
          "No",
          "No",
          "No",
          "Yes"
         ],
         "xaxis": "x",
         "yaxis": "y"
        },
        {
         "alignmentgroup": "True",
         "bingroup": "x",
         "hovertemplate": "coworkers=Yes<br>remote_work=%{x}<br>count (normalized as percent)=%{y}<extra></extra>",
         "legendgroup": "Yes",
         "marker": {
          "color": "#00cc96",
          "pattern": {
           "shape": ""
          }
         },
         "name": "Yes",
         "offsetgroup": "Yes",
         "orientation": "v",
         "showlegend": true,
         "type": "histogram",
         "x": [
          "No",
          "No",
          "No",
          "No",
          "Yes",
          "No",
          "No",
          "No",
          "Yes",
          "No",
          "Yes",
          "No",
          "Yes",
          "No",
          "No",
          "Yes",
          "Yes",
          "No",
          "No",
          "Yes",
          "Yes",
          "Yes",
          "No",
          "Yes",
          "No",
          "No",
          "No",
          "Yes",
          "Yes",
          "No",
          "Yes",
          "No",
          "Yes",
          "No",
          "Yes",
          "Yes",
          "No",
          "No",
          "Yes",
          "No",
          "Yes",
          "No",
          "Yes",
          "No",
          "No",
          "No",
          "No",
          "No",
          "No",
          "Yes",
          "No",
          "No",
          "No",
          "Yes",
          "Yes",
          "Yes",
          "Yes",
          "Yes",
          "No",
          "No",
          "No",
          "No",
          "No",
          "No",
          "No",
          "No",
          "No",
          "No",
          "No",
          "Yes",
          "Yes",
          "No",
          "No",
          "No",
          "Yes",
          "Yes",
          "Yes",
          "Yes",
          "Yes",
          "No",
          "No",
          "Yes",
          "Yes",
          "No",
          "No",
          "Yes",
          "No",
          "Yes",
          "No",
          "No",
          "Yes",
          "No",
          "Yes",
          "Yes",
          "No",
          "No",
          "Yes",
          "No",
          "No",
          "No",
          "No",
          "No",
          "No",
          "Yes",
          "No",
          "No",
          "No",
          "No",
          "No",
          "No",
          "No",
          "No",
          "No",
          "Yes",
          "Yes",
          "Yes",
          "No",
          "Yes",
          "Yes",
          "No",
          "No",
          "No",
          "Yes",
          "Yes",
          "Yes",
          "Yes",
          "No",
          "No",
          "Yes",
          "No",
          "No",
          "Yes",
          "No",
          "Yes",
          "No",
          "Yes",
          "No",
          "No",
          "Yes",
          "No",
          "No",
          "No",
          "No",
          "No",
          "Yes",
          "No",
          "No",
          "No",
          "Yes",
          "No",
          "Yes",
          "No",
          "Yes",
          "No",
          "Yes",
          "No",
          "No",
          "Yes",
          "Yes",
          "Yes",
          "Yes",
          "No",
          "Yes",
          "No",
          "No",
          "Yes",
          "No",
          "No",
          "No",
          "Yes",
          "Yes",
          "Yes",
          "No",
          "No",
          "No",
          "No",
          "Yes",
          "No",
          "Yes",
          "No",
          "No",
          "Yes",
          "No",
          "No",
          "No",
          "Yes",
          "Yes",
          "No",
          "No",
          "No",
          "No",
          "No",
          "No",
          "No",
          "Yes",
          "No",
          "Yes",
          "No",
          "No",
          "Yes",
          "No",
          "No",
          "No",
          "No",
          "No",
          "No",
          "Yes",
          "No",
          "No",
          "No",
          "Yes",
          "No",
          "Yes",
          "Yes",
          "Yes",
          "No",
          "No",
          "No",
          "No",
          "No",
          "No",
          "No"
         ],
         "xaxis": "x",
         "yaxis": "y"
        }
       ],
       "layout": {
        "barmode": "stack",
        "barnorm": "percent",
        "legend": {
         "title": {
          "text": "coworkers"
         },
         "tracegroupgap": 0
        },
        "template": {
         "data": {
          "bar": [
           {
            "error_x": {
             "color": "#2a3f5f"
            },
            "error_y": {
             "color": "#2a3f5f"
            },
            "marker": {
             "line": {
              "color": "#E5ECF6",
              "width": 0.5
             },
             "pattern": {
              "fillmode": "overlay",
              "size": 10,
              "solidity": 0.2
             }
            },
            "type": "bar"
           }
          ],
          "barpolar": [
           {
            "marker": {
             "line": {
              "color": "#E5ECF6",
              "width": 0.5
             },
             "pattern": {
              "fillmode": "overlay",
              "size": 10,
              "solidity": 0.2
             }
            },
            "type": "barpolar"
           }
          ],
          "carpet": [
           {
            "aaxis": {
             "endlinecolor": "#2a3f5f",
             "gridcolor": "white",
             "linecolor": "white",
             "minorgridcolor": "white",
             "startlinecolor": "#2a3f5f"
            },
            "baxis": {
             "endlinecolor": "#2a3f5f",
             "gridcolor": "white",
             "linecolor": "white",
             "minorgridcolor": "white",
             "startlinecolor": "#2a3f5f"
            },
            "type": "carpet"
           }
          ],
          "choropleth": [
           {
            "colorbar": {
             "outlinewidth": 0,
             "ticks": ""
            },
            "type": "choropleth"
           }
          ],
          "contour": [
           {
            "colorbar": {
             "outlinewidth": 0,
             "ticks": ""
            },
            "colorscale": [
             [
              0,
              "#0d0887"
             ],
             [
              0.1111111111111111,
              "#46039f"
             ],
             [
              0.2222222222222222,
              "#7201a8"
             ],
             [
              0.3333333333333333,
              "#9c179e"
             ],
             [
              0.4444444444444444,
              "#bd3786"
             ],
             [
              0.5555555555555556,
              "#d8576b"
             ],
             [
              0.6666666666666666,
              "#ed7953"
             ],
             [
              0.7777777777777778,
              "#fb9f3a"
             ],
             [
              0.8888888888888888,
              "#fdca26"
             ],
             [
              1,
              "#f0f921"
             ]
            ],
            "type": "contour"
           }
          ],
          "contourcarpet": [
           {
            "colorbar": {
             "outlinewidth": 0,
             "ticks": ""
            },
            "type": "contourcarpet"
           }
          ],
          "heatmap": [
           {
            "colorbar": {
             "outlinewidth": 0,
             "ticks": ""
            },
            "colorscale": [
             [
              0,
              "#0d0887"
             ],
             [
              0.1111111111111111,
              "#46039f"
             ],
             [
              0.2222222222222222,
              "#7201a8"
             ],
             [
              0.3333333333333333,
              "#9c179e"
             ],
             [
              0.4444444444444444,
              "#bd3786"
             ],
             [
              0.5555555555555556,
              "#d8576b"
             ],
             [
              0.6666666666666666,
              "#ed7953"
             ],
             [
              0.7777777777777778,
              "#fb9f3a"
             ],
             [
              0.8888888888888888,
              "#fdca26"
             ],
             [
              1,
              "#f0f921"
             ]
            ],
            "type": "heatmap"
           }
          ],
          "heatmapgl": [
           {
            "colorbar": {
             "outlinewidth": 0,
             "ticks": ""
            },
            "colorscale": [
             [
              0,
              "#0d0887"
             ],
             [
              0.1111111111111111,
              "#46039f"
             ],
             [
              0.2222222222222222,
              "#7201a8"
             ],
             [
              0.3333333333333333,
              "#9c179e"
             ],
             [
              0.4444444444444444,
              "#bd3786"
             ],
             [
              0.5555555555555556,
              "#d8576b"
             ],
             [
              0.6666666666666666,
              "#ed7953"
             ],
             [
              0.7777777777777778,
              "#fb9f3a"
             ],
             [
              0.8888888888888888,
              "#fdca26"
             ],
             [
              1,
              "#f0f921"
             ]
            ],
            "type": "heatmapgl"
           }
          ],
          "histogram": [
           {
            "marker": {
             "pattern": {
              "fillmode": "overlay",
              "size": 10,
              "solidity": 0.2
             }
            },
            "type": "histogram"
           }
          ],
          "histogram2d": [
           {
            "colorbar": {
             "outlinewidth": 0,
             "ticks": ""
            },
            "colorscale": [
             [
              0,
              "#0d0887"
             ],
             [
              0.1111111111111111,
              "#46039f"
             ],
             [
              0.2222222222222222,
              "#7201a8"
             ],
             [
              0.3333333333333333,
              "#9c179e"
             ],
             [
              0.4444444444444444,
              "#bd3786"
             ],
             [
              0.5555555555555556,
              "#d8576b"
             ],
             [
              0.6666666666666666,
              "#ed7953"
             ],
             [
              0.7777777777777778,
              "#fb9f3a"
             ],
             [
              0.8888888888888888,
              "#fdca26"
             ],
             [
              1,
              "#f0f921"
             ]
            ],
            "type": "histogram2d"
           }
          ],
          "histogram2dcontour": [
           {
            "colorbar": {
             "outlinewidth": 0,
             "ticks": ""
            },
            "colorscale": [
             [
              0,
              "#0d0887"
             ],
             [
              0.1111111111111111,
              "#46039f"
             ],
             [
              0.2222222222222222,
              "#7201a8"
             ],
             [
              0.3333333333333333,
              "#9c179e"
             ],
             [
              0.4444444444444444,
              "#bd3786"
             ],
             [
              0.5555555555555556,
              "#d8576b"
             ],
             [
              0.6666666666666666,
              "#ed7953"
             ],
             [
              0.7777777777777778,
              "#fb9f3a"
             ],
             [
              0.8888888888888888,
              "#fdca26"
             ],
             [
              1,
              "#f0f921"
             ]
            ],
            "type": "histogram2dcontour"
           }
          ],
          "mesh3d": [
           {
            "colorbar": {
             "outlinewidth": 0,
             "ticks": ""
            },
            "type": "mesh3d"
           }
          ],
          "parcoords": [
           {
            "line": {
             "colorbar": {
              "outlinewidth": 0,
              "ticks": ""
             }
            },
            "type": "parcoords"
           }
          ],
          "pie": [
           {
            "automargin": true,
            "type": "pie"
           }
          ],
          "scatter": [
           {
            "fillpattern": {
             "fillmode": "overlay",
             "size": 10,
             "solidity": 0.2
            },
            "type": "scatter"
           }
          ],
          "scatter3d": [
           {
            "line": {
             "colorbar": {
              "outlinewidth": 0,
              "ticks": ""
             }
            },
            "marker": {
             "colorbar": {
              "outlinewidth": 0,
              "ticks": ""
             }
            },
            "type": "scatter3d"
           }
          ],
          "scattercarpet": [
           {
            "marker": {
             "colorbar": {
              "outlinewidth": 0,
              "ticks": ""
             }
            },
            "type": "scattercarpet"
           }
          ],
          "scattergeo": [
           {
            "marker": {
             "colorbar": {
              "outlinewidth": 0,
              "ticks": ""
             }
            },
            "type": "scattergeo"
           }
          ],
          "scattergl": [
           {
            "marker": {
             "colorbar": {
              "outlinewidth": 0,
              "ticks": ""
             }
            },
            "type": "scattergl"
           }
          ],
          "scattermapbox": [
           {
            "marker": {
             "colorbar": {
              "outlinewidth": 0,
              "ticks": ""
             }
            },
            "type": "scattermapbox"
           }
          ],
          "scatterpolar": [
           {
            "marker": {
             "colorbar": {
              "outlinewidth": 0,
              "ticks": ""
             }
            },
            "type": "scatterpolar"
           }
          ],
          "scatterpolargl": [
           {
            "marker": {
             "colorbar": {
              "outlinewidth": 0,
              "ticks": ""
             }
            },
            "type": "scatterpolargl"
           }
          ],
          "scatterternary": [
           {
            "marker": {
             "colorbar": {
              "outlinewidth": 0,
              "ticks": ""
             }
            },
            "type": "scatterternary"
           }
          ],
          "surface": [
           {
            "colorbar": {
             "outlinewidth": 0,
             "ticks": ""
            },
            "colorscale": [
             [
              0,
              "#0d0887"
             ],
             [
              0.1111111111111111,
              "#46039f"
             ],
             [
              0.2222222222222222,
              "#7201a8"
             ],
             [
              0.3333333333333333,
              "#9c179e"
             ],
             [
              0.4444444444444444,
              "#bd3786"
             ],
             [
              0.5555555555555556,
              "#d8576b"
             ],
             [
              0.6666666666666666,
              "#ed7953"
             ],
             [
              0.7777777777777778,
              "#fb9f3a"
             ],
             [
              0.8888888888888888,
              "#fdca26"
             ],
             [
              1,
              "#f0f921"
             ]
            ],
            "type": "surface"
           }
          ],
          "table": [
           {
            "cells": {
             "fill": {
              "color": "#EBF0F8"
             },
             "line": {
              "color": "white"
             }
            },
            "header": {
             "fill": {
              "color": "#C8D4E3"
             },
             "line": {
              "color": "white"
             }
            },
            "type": "table"
           }
          ]
         },
         "layout": {
          "annotationdefaults": {
           "arrowcolor": "#2a3f5f",
           "arrowhead": 0,
           "arrowwidth": 1
          },
          "autotypenumbers": "strict",
          "coloraxis": {
           "colorbar": {
            "outlinewidth": 0,
            "ticks": ""
           }
          },
          "colorscale": {
           "diverging": [
            [
             0,
             "#8e0152"
            ],
            [
             0.1,
             "#c51b7d"
            ],
            [
             0.2,
             "#de77ae"
            ],
            [
             0.3,
             "#f1b6da"
            ],
            [
             0.4,
             "#fde0ef"
            ],
            [
             0.5,
             "#f7f7f7"
            ],
            [
             0.6,
             "#e6f5d0"
            ],
            [
             0.7,
             "#b8e186"
            ],
            [
             0.8,
             "#7fbc41"
            ],
            [
             0.9,
             "#4d9221"
            ],
            [
             1,
             "#276419"
            ]
           ],
           "sequential": [
            [
             0,
             "#0d0887"
            ],
            [
             0.1111111111111111,
             "#46039f"
            ],
            [
             0.2222222222222222,
             "#7201a8"
            ],
            [
             0.3333333333333333,
             "#9c179e"
            ],
            [
             0.4444444444444444,
             "#bd3786"
            ],
            [
             0.5555555555555556,
             "#d8576b"
            ],
            [
             0.6666666666666666,
             "#ed7953"
            ],
            [
             0.7777777777777778,
             "#fb9f3a"
            ],
            [
             0.8888888888888888,
             "#fdca26"
            ],
            [
             1,
             "#f0f921"
            ]
           ],
           "sequentialminus": [
            [
             0,
             "#0d0887"
            ],
            [
             0.1111111111111111,
             "#46039f"
            ],
            [
             0.2222222222222222,
             "#7201a8"
            ],
            [
             0.3333333333333333,
             "#9c179e"
            ],
            [
             0.4444444444444444,
             "#bd3786"
            ],
            [
             0.5555555555555556,
             "#d8576b"
            ],
            [
             0.6666666666666666,
             "#ed7953"
            ],
            [
             0.7777777777777778,
             "#fb9f3a"
            ],
            [
             0.8888888888888888,
             "#fdca26"
            ],
            [
             1,
             "#f0f921"
            ]
           ]
          },
          "colorway": [
           "#636efa",
           "#EF553B",
           "#00cc96",
           "#ab63fa",
           "#FFA15A",
           "#19d3f3",
           "#FF6692",
           "#B6E880",
           "#FF97FF",
           "#FECB52"
          ],
          "font": {
           "color": "#2a3f5f"
          },
          "geo": {
           "bgcolor": "white",
           "lakecolor": "white",
           "landcolor": "#E5ECF6",
           "showlakes": true,
           "showland": true,
           "subunitcolor": "white"
          },
          "hoverlabel": {
           "align": "left"
          },
          "hovermode": "closest",
          "mapbox": {
           "style": "light"
          },
          "paper_bgcolor": "white",
          "plot_bgcolor": "#E5ECF6",
          "polar": {
           "angularaxis": {
            "gridcolor": "white",
            "linecolor": "white",
            "ticks": ""
           },
           "bgcolor": "#E5ECF6",
           "radialaxis": {
            "gridcolor": "white",
            "linecolor": "white",
            "ticks": ""
           }
          },
          "scene": {
           "xaxis": {
            "backgroundcolor": "#E5ECF6",
            "gridcolor": "white",
            "gridwidth": 2,
            "linecolor": "white",
            "showbackground": true,
            "ticks": "",
            "zerolinecolor": "white"
           },
           "yaxis": {
            "backgroundcolor": "#E5ECF6",
            "gridcolor": "white",
            "gridwidth": 2,
            "linecolor": "white",
            "showbackground": true,
            "ticks": "",
            "zerolinecolor": "white"
           },
           "zaxis": {
            "backgroundcolor": "#E5ECF6",
            "gridcolor": "white",
            "gridwidth": 2,
            "linecolor": "white",
            "showbackground": true,
            "ticks": "",
            "zerolinecolor": "white"
           }
          },
          "shapedefaults": {
           "line": {
            "color": "#2a3f5f"
           }
          },
          "ternary": {
           "aaxis": {
            "gridcolor": "white",
            "linecolor": "white",
            "ticks": ""
           },
           "baxis": {
            "gridcolor": "white",
            "linecolor": "white",
            "ticks": ""
           },
           "bgcolor": "#E5ECF6",
           "caxis": {
            "gridcolor": "white",
            "linecolor": "white",
            "ticks": ""
           }
          },
          "title": {
           "x": 0.05
          },
          "xaxis": {
           "automargin": true,
           "gridcolor": "white",
           "linecolor": "white",
           "ticks": "",
           "title": {
            "standoff": 15
           },
           "zerolinecolor": "white",
           "zerolinewidth": 2
          },
          "yaxis": {
           "automargin": true,
           "gridcolor": "white",
           "linecolor": "white",
           "ticks": "",
           "title": {
            "standoff": 15
           },
           "zerolinecolor": "white",
           "zerolinewidth": 2
          }
         }
        },
        "title": {
         "text": "Kommunikation mit Kolleg:innen nach Remote-Arbeit"
        },
        "xaxis": {
         "anchor": "y",
         "domain": [
          0,
          1
         ],
         "title": {
          "text": "remote_work"
         }
        },
        "yaxis": {
         "anchor": "x",
         "domain": [
          0,
          1
         ],
         "title": {
          "text": "count (normalized as percent)"
         }
        }
       }
      }
     },
     "metadata": {},
     "output_type": "display_data"
    }
   ],
   "source": [
    "fig = px.histogram(\n",
    "    df_cl,\n",
    "    x=\"remote_work\",\n",
    "    color=\"coworkers\",  # alternativ: supervisor\n",
    "    barmode=\"stack\",\n",
    "    barnorm=\"percent\",  # ← Anteil wichtig!\n",
    "    title=\"Kommunikation mit Kolleg:innen nach Remote-Arbeit\"\n",
    ")\n",
    "fig.show()"
   ]
  },
  {
   "cell_type": "code",
   "execution_count": 83,
   "id": "0cec3396",
   "metadata": {},
   "outputs": [
    {
     "data": {
      "application/vnd.plotly.v1+json": {
       "config": {
        "plotlyServerURL": "https://plot.ly"
       },
       "data": [
        {
         "alignmentgroup": "True",
         "bingroup": "x",
         "hovertemplate": "supervisor=Yes<br>remote_work=%{x}<br>count (normalized as percent)=%{y}<extra></extra>",
         "legendgroup": "Yes",
         "marker": {
          "color": "#636efa",
          "pattern": {
           "shape": ""
          }
         },
         "name": "Yes",
         "offsetgroup": "Yes",
         "orientation": "v",
         "showlegend": true,
         "type": "histogram",
         "x": [
          "No",
          "No",
          "Yes",
          "No",
          "No",
          "No",
          "Yes",
          "Yes",
          "No",
          "No",
          "No",
          "Yes",
          "Yes",
          "No",
          "No",
          "Yes",
          "Yes",
          "No",
          "No",
          "Yes",
          "No",
          "No",
          "No",
          "No",
          "No",
          "Yes",
          "Yes",
          "Yes",
          "Yes",
          "No",
          "Yes",
          "No",
          "No",
          "Yes",
          "No",
          "No",
          "No",
          "Yes",
          "Yes",
          "No",
          "No",
          "Yes",
          "No",
          "No",
          "No",
          "Yes",
          "No",
          "No",
          "No",
          "No",
          "No",
          "Yes",
          "No",
          "No",
          "Yes",
          "No",
          "No",
          "Yes",
          "Yes",
          "No",
          "Yes",
          "Yes",
          "Yes",
          "No",
          "No",
          "No",
          "Yes",
          "No",
          "No",
          "No",
          "No",
          "No",
          "Yes",
          "No",
          "Yes",
          "No",
          "No",
          "Yes",
          "No",
          "No",
          "No",
          "No",
          "No",
          "Yes",
          "No",
          "Yes",
          "Yes",
          "No",
          "No",
          "Yes",
          "No",
          "No",
          "No",
          "Yes",
          "No",
          "No",
          "No",
          "No",
          "No",
          "Yes",
          "No",
          "No",
          "No",
          "No",
          "Yes",
          "Yes",
          "No",
          "No",
          "No",
          "No",
          "No",
          "Yes",
          "No",
          "Yes",
          "No",
          "Yes",
          "No",
          "No",
          "Yes",
          "Yes",
          "Yes",
          "No",
          "Yes",
          "Yes",
          "No",
          "No",
          "No",
          "Yes",
          "No",
          "No",
          "No",
          "No",
          "No",
          "No",
          "No",
          "Yes",
          "No",
          "No",
          "Yes",
          "No",
          "No",
          "No",
          "No",
          "No",
          "Yes",
          "No",
          "No",
          "No",
          "No",
          "No",
          "No",
          "No",
          "No",
          "No",
          "No",
          "Yes",
          "Yes",
          "Yes",
          "No",
          "No",
          "No",
          "No",
          "No",
          "Yes",
          "No",
          "Yes",
          "Yes",
          "Yes",
          "No",
          "Yes",
          "No",
          "No",
          "No",
          "No",
          "Yes",
          "No",
          "No",
          "No",
          "No",
          "Yes",
          "Yes",
          "No",
          "Yes",
          "No",
          "No",
          "No",
          "Yes",
          "Yes",
          "No",
          "Yes",
          "No",
          "No",
          "Yes",
          "No",
          "No",
          "No",
          "Yes",
          "Yes",
          "No",
          "No",
          "Yes",
          "No",
          "Yes",
          "Yes",
          "No",
          "No",
          "Yes",
          "No",
          "Yes",
          "No",
          "No",
          "Yes",
          "No",
          "No",
          "No",
          "Yes",
          "No",
          "No",
          "No",
          "Yes",
          "Yes",
          "No",
          "No",
          "No",
          "Yes",
          "No",
          "No",
          "Yes",
          "No",
          "No",
          "No",
          "No",
          "Yes",
          "No",
          "No",
          "No",
          "No",
          "No",
          "No",
          "No",
          "No",
          "Yes",
          "Yes",
          "No",
          "Yes",
          "No",
          "No",
          "No",
          "No",
          "Yes",
          "No",
          "Yes",
          "Yes",
          "No",
          "No",
          "Yes",
          "Yes",
          "No",
          "No",
          "Yes",
          "Yes",
          "No",
          "No",
          "No",
          "Yes",
          "No",
          "No",
          "Yes",
          "No",
          "Yes",
          "No",
          "No",
          "No",
          "Yes",
          "No",
          "Yes",
          "No",
          "No",
          "Yes",
          "No",
          "Yes",
          "No",
          "No",
          "Yes",
          "Yes",
          "No",
          "No",
          "No",
          "Yes",
          "No",
          "No",
          "No",
          "Yes",
          "No",
          "No",
          "No",
          "No",
          "No",
          "Yes",
          "No",
          "No",
          "Yes",
          "Yes",
          "No",
          "No",
          "No",
          "Yes",
          "No",
          "No",
          "No",
          "No",
          "No",
          "No",
          "No",
          "No",
          "No",
          "No",
          "Yes",
          "No",
          "No",
          "No",
          "Yes",
          "No",
          "No",
          "No",
          "No",
          "No",
          "Yes",
          "No",
          "No",
          "No",
          "No",
          "Yes",
          "No",
          "No",
          "No",
          "No",
          "No",
          "No",
          "No",
          "No",
          "Yes",
          "No",
          "Yes",
          "No",
          "No",
          "No",
          "No",
          "No",
          "No",
          "No",
          "No",
          "No",
          "No",
          "Yes",
          "No",
          "Yes",
          "No",
          "Yes",
          "No",
          "No",
          "Yes",
          "Yes",
          "Yes",
          "Yes",
          "Yes",
          "Yes",
          "Yes",
          "Yes",
          "No",
          "No",
          "No",
          "No",
          "No",
          "No",
          "No",
          "No",
          "Yes",
          "Yes",
          "No",
          "Yes",
          "No",
          "No",
          "Yes",
          "No",
          "No",
          "Yes",
          "No",
          "No",
          "No",
          "No",
          "Yes",
          "No",
          "No",
          "No",
          "No",
          "Yes",
          "No",
          "No",
          "No",
          "No",
          "Yes",
          "Yes",
          "Yes",
          "Yes",
          "No",
          "No",
          "No",
          "No",
          "Yes",
          "No",
          "Yes",
          "Yes",
          "No",
          "No",
          "Yes",
          "Yes",
          "Yes",
          "No",
          "No",
          "Yes",
          "Yes",
          "No",
          "Yes",
          "No",
          "No",
          "No",
          "No",
          "No",
          "No",
          "No",
          "No",
          "Yes",
          "No",
          "Yes",
          "No",
          "Yes",
          "No",
          "No",
          "No",
          "Yes",
          "Yes",
          "No",
          "No",
          "No",
          "No",
          "No",
          "No",
          "No",
          "No",
          "No",
          "No",
          "No",
          "No",
          "No",
          "Yes",
          "No",
          "Yes",
          "Yes",
          "No",
          "Yes",
          "Yes",
          "No",
          "No",
          "No",
          "No",
          "No",
          "Yes",
          "No",
          "No",
          "No",
          "No",
          "No",
          "No",
          "Yes",
          "No",
          "No",
          "No",
          "No",
          "No",
          "No",
          "Yes",
          "No",
          "Yes",
          "No",
          "No",
          "No",
          "No",
          "No",
          "No",
          "Yes",
          "No",
          "Yes",
          "No",
          "No",
          "No",
          "Yes",
          "Yes",
          "Yes",
          "Yes",
          "No",
          "No",
          "No",
          "No",
          "No",
          "Yes",
          "No",
          "No",
          "No",
          "No",
          "No",
          "Yes"
         ],
         "xaxis": "x",
         "yaxis": "y"
        },
        {
         "alignmentgroup": "True",
         "bingroup": "x",
         "hovertemplate": "supervisor=No<br>remote_work=%{x}<br>count (normalized as percent)=%{y}<extra></extra>",
         "legendgroup": "No",
         "marker": {
          "color": "#EF553B",
          "pattern": {
           "shape": ""
          }
         },
         "name": "No",
         "offsetgroup": "No",
         "orientation": "v",
         "showlegend": true,
         "type": "histogram",
         "x": [
          "No",
          "No",
          "Yes",
          "Yes",
          "Yes",
          "No",
          "No",
          "Yes",
          "No",
          "Yes",
          "No",
          "No",
          "No",
          "Yes",
          "No",
          "No",
          "No",
          "No",
          "No",
          "Yes",
          "No",
          "No",
          "Yes",
          "Yes",
          "Yes",
          "No",
          "Yes",
          "No",
          "No",
          "No",
          "No",
          "No",
          "No",
          "Yes",
          "No",
          "No",
          "Yes",
          "No",
          "No",
          "No",
          "No",
          "No",
          "No",
          "No",
          "No",
          "Yes",
          "No",
          "No",
          "No",
          "No",
          "No",
          "No",
          "Yes",
          "Yes",
          "Yes",
          "No",
          "No",
          "No",
          "No",
          "Yes",
          "No",
          "No",
          "Yes",
          "No",
          "Yes",
          "Yes",
          "No",
          "Yes",
          "No",
          "Yes",
          "No",
          "No",
          "Yes",
          "No",
          "Yes",
          "No",
          "No",
          "No",
          "Yes",
          "No",
          "No",
          "No",
          "No",
          "No",
          "Yes",
          "No",
          "No",
          "Yes",
          "No",
          "No",
          "No",
          "No",
          "No",
          "No",
          "No",
          "No",
          "No",
          "No",
          "No",
          "No",
          "Yes",
          "No",
          "No",
          "No",
          "No",
          "No",
          "No",
          "No",
          "No",
          "No",
          "No",
          "No",
          "Yes",
          "No",
          "No",
          "No",
          "No",
          "No",
          "No",
          "No",
          "Yes",
          "No",
          "Yes",
          "No",
          "No",
          "Yes",
          "Yes",
          "No",
          "No",
          "No",
          "No",
          "No",
          "Yes",
          "No",
          "No",
          "No",
          "No",
          "No",
          "Yes",
          "No",
          "Yes",
          "No",
          "No",
          "No",
          "Yes",
          "No",
          "No",
          "No",
          "No",
          "No",
          "No",
          "No",
          "Yes",
          "No",
          "No",
          "No",
          "No",
          "No",
          "No",
          "No",
          "Yes",
          "No",
          "Yes",
          "Yes",
          "Yes",
          "No",
          "No",
          "No",
          "No",
          "Yes",
          "Yes",
          "No",
          "No",
          "Yes",
          "Yes",
          "No",
          "Yes",
          "No",
          "No",
          "Yes",
          "No",
          "No",
          "No",
          "No",
          "Yes",
          "No",
          "No",
          "No",
          "Yes",
          "No",
          "Yes",
          "Yes",
          "No",
          "No",
          "No",
          "No",
          "No",
          "No",
          "No",
          "Yes",
          "No",
          "No",
          "No",
          "No",
          "No",
          "No",
          "No",
          "No",
          "No",
          "Yes",
          "No",
          "No",
          "Yes",
          "No",
          "No",
          "No",
          "No",
          "Yes",
          "Yes",
          "No",
          "No",
          "Yes",
          "No",
          "Yes",
          "No",
          "No",
          "Yes",
          "No",
          "No",
          "Yes",
          "No",
          "No",
          "No",
          "No",
          "Yes",
          "Yes",
          "Yes",
          "No",
          "No",
          "Yes",
          "No",
          "Yes",
          "No",
          "Yes",
          "Yes",
          "No",
          "Yes",
          "No",
          "Yes",
          "No",
          "No",
          "No",
          "No",
          "Yes",
          "No",
          "No",
          "No",
          "Yes",
          "No",
          "Yes",
          "No",
          "No",
          "Yes",
          "Yes",
          "Yes",
          "Yes",
          "No",
          "No",
          "No",
          "Yes",
          "No",
          "Yes",
          "No",
          "Yes",
          "No",
          "Yes",
          "No",
          "No",
          "No",
          "Yes",
          "Yes",
          "No",
          "No",
          "No",
          "No",
          "No",
          "No",
          "No",
          "Yes",
          "No",
          "Yes",
          "No",
          "No",
          "Yes",
          "Yes",
          "No",
          "No",
          "No",
          "Yes",
          "No",
          "No",
          "No",
          "No",
          "Yes",
          "No",
          "No",
          "Yes",
          "No",
          "Yes",
          "No",
          "No",
          "Yes",
          "Yes",
          "Yes",
          "No",
          "No",
          "No",
          "No",
          "No",
          "No",
          "Yes",
          "Yes",
          "Yes",
          "Yes",
          "No",
          "No",
          "No",
          "Yes",
          "No",
          "No",
          "No",
          "No",
          "No",
          "Yes",
          "Yes",
          "No",
          "Yes",
          "No",
          "Yes",
          "No",
          "No",
          "No",
          "Yes",
          "No",
          "No",
          "No",
          "No",
          "No",
          "No",
          "No",
          "Yes",
          "No",
          "No",
          "Yes",
          "No",
          "No",
          "No",
          "No",
          "No",
          "No",
          "No",
          "No",
          "No",
          "No",
          "Yes",
          "No",
          "No",
          "No",
          "Yes",
          "Yes",
          "No",
          "No",
          "No",
          "No",
          "Yes",
          "No",
          "No",
          "Yes",
          "No",
          "Yes",
          "No",
          "No",
          "Yes",
          "No",
          "No",
          "No",
          "Yes",
          "No",
          "Yes",
          "No"
         ],
         "xaxis": "x",
         "yaxis": "y"
        },
        {
         "alignmentgroup": "True",
         "bingroup": "x",
         "hovertemplate": "supervisor=Some of them<br>remote_work=%{x}<br>count (normalized as percent)=%{y}<extra></extra>",
         "legendgroup": "Some of them",
         "marker": {
          "color": "#00cc96",
          "pattern": {
           "shape": ""
          }
         },
         "name": "Some of them",
         "offsetgroup": "Some of them",
         "orientation": "v",
         "showlegend": true,
         "type": "histogram",
         "x": [
          "No",
          "No",
          "Yes",
          "No",
          "Yes",
          "Yes",
          "Yes",
          "No",
          "No",
          "Yes",
          "Yes",
          "No",
          "No",
          "Yes",
          "Yes",
          "Yes",
          "No",
          "No",
          "No",
          "No",
          "No",
          "No",
          "No",
          "No",
          "Yes",
          "Yes",
          "Yes",
          "No",
          "Yes",
          "Yes",
          "No",
          "No",
          "No",
          "No",
          "No",
          "No",
          "No",
          "No",
          "No",
          "No",
          "No",
          "No",
          "No",
          "Yes",
          "No",
          "Yes",
          "No",
          "Yes",
          "Yes",
          "No",
          "No",
          "No",
          "No",
          "No",
          "No",
          "No",
          "No",
          "No",
          "No",
          "No",
          "Yes",
          "No",
          "No",
          "Yes",
          "No",
          "Yes",
          "No",
          "Yes",
          "No",
          "No",
          "No",
          "No",
          "No",
          "No",
          "No",
          "No",
          "No",
          "No",
          "No",
          "No",
          "No",
          "No",
          "No",
          "No",
          "No",
          "No",
          "No",
          "Yes",
          "No",
          "Yes",
          "No",
          "No",
          "Yes",
          "No",
          "No",
          "No",
          "Yes",
          "No",
          "No",
          "No",
          "No",
          "Yes",
          "No",
          "No",
          "No",
          "No",
          "No",
          "No",
          "No",
          "Yes",
          "No",
          "Yes",
          "No",
          "No",
          "No",
          "No",
          "Yes",
          "No",
          "No",
          "No",
          "No",
          "No",
          "No",
          "No",
          "No",
          "No",
          "No",
          "Yes",
          "No",
          "No",
          "No",
          "No",
          "Yes",
          "No",
          "No",
          "No",
          "Yes",
          "No",
          "No",
          "Yes",
          "No",
          "No",
          "No",
          "No",
          "No",
          "Yes",
          "No",
          "No",
          "No",
          "No",
          "No",
          "No",
          "Yes",
          "No",
          "No",
          "No",
          "No",
          "No",
          "No",
          "Yes",
          "No",
          "No",
          "Yes",
          "No",
          "No",
          "No",
          "No",
          "Yes",
          "No",
          "Yes",
          "No",
          "Yes",
          "No",
          "No",
          "No",
          "No",
          "Yes",
          "No",
          "No",
          "No",
          "No",
          "No",
          "No",
          "No",
          "No",
          "Yes",
          "No",
          "No",
          "No",
          "Yes",
          "Yes",
          "No",
          "Yes",
          "No",
          "No",
          "No",
          "No",
          "Yes",
          "Yes",
          "No",
          "No",
          "No",
          "No",
          "Yes",
          "Yes",
          "No",
          "No",
          "No",
          "No",
          "Yes",
          "No",
          "No",
          "No",
          "No",
          "No",
          "No",
          "No",
          "No",
          "Yes",
          "No",
          "No",
          "No",
          "No",
          "No",
          "No",
          "No",
          "No",
          "Yes",
          "Yes",
          "No",
          "No",
          "No",
          "No",
          "No",
          "No",
          "Yes",
          "No",
          "Yes",
          "No",
          "No",
          "No",
          "Yes",
          "No",
          "No",
          "No",
          "No",
          "No",
          "Yes",
          "Yes",
          "No",
          "No",
          "Yes",
          "Yes",
          "No",
          "No",
          "No",
          "No",
          "No",
          "No",
          "No",
          "No",
          "Yes",
          "No",
          "No",
          "No",
          "Yes",
          "No",
          "Yes",
          "No",
          "Yes",
          "No",
          "No",
          "No",
          "Yes",
          "No",
          "No",
          "Yes",
          "No",
          "No",
          "No",
          "Yes",
          "Yes",
          "No",
          "Yes",
          "Yes",
          "Yes",
          "Yes",
          "Yes",
          "No",
          "Yes",
          "No",
          "No",
          "Yes",
          "No",
          "Yes",
          "Yes",
          "Yes",
          "No",
          "No",
          "No",
          "No",
          "No",
          "No",
          "No",
          "Yes",
          "Yes",
          "No",
          "No",
          "No",
          "No",
          "No",
          "No",
          "No",
          "No",
          "Yes",
          "No",
          "No",
          "No",
          "No",
          "No",
          "No",
          "Yes",
          "No",
          "No",
          "Yes",
          "Yes",
          "Yes",
          "Yes",
          "Yes",
          "Yes",
          "No",
          "Yes",
          "No",
          "No",
          "No",
          "Yes",
          "No",
          "No",
          "No",
          "No",
          "No",
          "No",
          "No",
          "No",
          "Yes",
          "No",
          "No",
          "No",
          "No"
         ],
         "xaxis": "x",
         "yaxis": "y"
        }
       ],
       "layout": {
        "barmode": "stack",
        "barnorm": "percent",
        "legend": {
         "title": {
          "text": "supervisor"
         },
         "tracegroupgap": 0
        },
        "template": {
         "data": {
          "bar": [
           {
            "error_x": {
             "color": "#2a3f5f"
            },
            "error_y": {
             "color": "#2a3f5f"
            },
            "marker": {
             "line": {
              "color": "#E5ECF6",
              "width": 0.5
             },
             "pattern": {
              "fillmode": "overlay",
              "size": 10,
              "solidity": 0.2
             }
            },
            "type": "bar"
           }
          ],
          "barpolar": [
           {
            "marker": {
             "line": {
              "color": "#E5ECF6",
              "width": 0.5
             },
             "pattern": {
              "fillmode": "overlay",
              "size": 10,
              "solidity": 0.2
             }
            },
            "type": "barpolar"
           }
          ],
          "carpet": [
           {
            "aaxis": {
             "endlinecolor": "#2a3f5f",
             "gridcolor": "white",
             "linecolor": "white",
             "minorgridcolor": "white",
             "startlinecolor": "#2a3f5f"
            },
            "baxis": {
             "endlinecolor": "#2a3f5f",
             "gridcolor": "white",
             "linecolor": "white",
             "minorgridcolor": "white",
             "startlinecolor": "#2a3f5f"
            },
            "type": "carpet"
           }
          ],
          "choropleth": [
           {
            "colorbar": {
             "outlinewidth": 0,
             "ticks": ""
            },
            "type": "choropleth"
           }
          ],
          "contour": [
           {
            "colorbar": {
             "outlinewidth": 0,
             "ticks": ""
            },
            "colorscale": [
             [
              0,
              "#0d0887"
             ],
             [
              0.1111111111111111,
              "#46039f"
             ],
             [
              0.2222222222222222,
              "#7201a8"
             ],
             [
              0.3333333333333333,
              "#9c179e"
             ],
             [
              0.4444444444444444,
              "#bd3786"
             ],
             [
              0.5555555555555556,
              "#d8576b"
             ],
             [
              0.6666666666666666,
              "#ed7953"
             ],
             [
              0.7777777777777778,
              "#fb9f3a"
             ],
             [
              0.8888888888888888,
              "#fdca26"
             ],
             [
              1,
              "#f0f921"
             ]
            ],
            "type": "contour"
           }
          ],
          "contourcarpet": [
           {
            "colorbar": {
             "outlinewidth": 0,
             "ticks": ""
            },
            "type": "contourcarpet"
           }
          ],
          "heatmap": [
           {
            "colorbar": {
             "outlinewidth": 0,
             "ticks": ""
            },
            "colorscale": [
             [
              0,
              "#0d0887"
             ],
             [
              0.1111111111111111,
              "#46039f"
             ],
             [
              0.2222222222222222,
              "#7201a8"
             ],
             [
              0.3333333333333333,
              "#9c179e"
             ],
             [
              0.4444444444444444,
              "#bd3786"
             ],
             [
              0.5555555555555556,
              "#d8576b"
             ],
             [
              0.6666666666666666,
              "#ed7953"
             ],
             [
              0.7777777777777778,
              "#fb9f3a"
             ],
             [
              0.8888888888888888,
              "#fdca26"
             ],
             [
              1,
              "#f0f921"
             ]
            ],
            "type": "heatmap"
           }
          ],
          "heatmapgl": [
           {
            "colorbar": {
             "outlinewidth": 0,
             "ticks": ""
            },
            "colorscale": [
             [
              0,
              "#0d0887"
             ],
             [
              0.1111111111111111,
              "#46039f"
             ],
             [
              0.2222222222222222,
              "#7201a8"
             ],
             [
              0.3333333333333333,
              "#9c179e"
             ],
             [
              0.4444444444444444,
              "#bd3786"
             ],
             [
              0.5555555555555556,
              "#d8576b"
             ],
             [
              0.6666666666666666,
              "#ed7953"
             ],
             [
              0.7777777777777778,
              "#fb9f3a"
             ],
             [
              0.8888888888888888,
              "#fdca26"
             ],
             [
              1,
              "#f0f921"
             ]
            ],
            "type": "heatmapgl"
           }
          ],
          "histogram": [
           {
            "marker": {
             "pattern": {
              "fillmode": "overlay",
              "size": 10,
              "solidity": 0.2
             }
            },
            "type": "histogram"
           }
          ],
          "histogram2d": [
           {
            "colorbar": {
             "outlinewidth": 0,
             "ticks": ""
            },
            "colorscale": [
             [
              0,
              "#0d0887"
             ],
             [
              0.1111111111111111,
              "#46039f"
             ],
             [
              0.2222222222222222,
              "#7201a8"
             ],
             [
              0.3333333333333333,
              "#9c179e"
             ],
             [
              0.4444444444444444,
              "#bd3786"
             ],
             [
              0.5555555555555556,
              "#d8576b"
             ],
             [
              0.6666666666666666,
              "#ed7953"
             ],
             [
              0.7777777777777778,
              "#fb9f3a"
             ],
             [
              0.8888888888888888,
              "#fdca26"
             ],
             [
              1,
              "#f0f921"
             ]
            ],
            "type": "histogram2d"
           }
          ],
          "histogram2dcontour": [
           {
            "colorbar": {
             "outlinewidth": 0,
             "ticks": ""
            },
            "colorscale": [
             [
              0,
              "#0d0887"
             ],
             [
              0.1111111111111111,
              "#46039f"
             ],
             [
              0.2222222222222222,
              "#7201a8"
             ],
             [
              0.3333333333333333,
              "#9c179e"
             ],
             [
              0.4444444444444444,
              "#bd3786"
             ],
             [
              0.5555555555555556,
              "#d8576b"
             ],
             [
              0.6666666666666666,
              "#ed7953"
             ],
             [
              0.7777777777777778,
              "#fb9f3a"
             ],
             [
              0.8888888888888888,
              "#fdca26"
             ],
             [
              1,
              "#f0f921"
             ]
            ],
            "type": "histogram2dcontour"
           }
          ],
          "mesh3d": [
           {
            "colorbar": {
             "outlinewidth": 0,
             "ticks": ""
            },
            "type": "mesh3d"
           }
          ],
          "parcoords": [
           {
            "line": {
             "colorbar": {
              "outlinewidth": 0,
              "ticks": ""
             }
            },
            "type": "parcoords"
           }
          ],
          "pie": [
           {
            "automargin": true,
            "type": "pie"
           }
          ],
          "scatter": [
           {
            "fillpattern": {
             "fillmode": "overlay",
             "size": 10,
             "solidity": 0.2
            },
            "type": "scatter"
           }
          ],
          "scatter3d": [
           {
            "line": {
             "colorbar": {
              "outlinewidth": 0,
              "ticks": ""
             }
            },
            "marker": {
             "colorbar": {
              "outlinewidth": 0,
              "ticks": ""
             }
            },
            "type": "scatter3d"
           }
          ],
          "scattercarpet": [
           {
            "marker": {
             "colorbar": {
              "outlinewidth": 0,
              "ticks": ""
             }
            },
            "type": "scattercarpet"
           }
          ],
          "scattergeo": [
           {
            "marker": {
             "colorbar": {
              "outlinewidth": 0,
              "ticks": ""
             }
            },
            "type": "scattergeo"
           }
          ],
          "scattergl": [
           {
            "marker": {
             "colorbar": {
              "outlinewidth": 0,
              "ticks": ""
             }
            },
            "type": "scattergl"
           }
          ],
          "scattermapbox": [
           {
            "marker": {
             "colorbar": {
              "outlinewidth": 0,
              "ticks": ""
             }
            },
            "type": "scattermapbox"
           }
          ],
          "scatterpolar": [
           {
            "marker": {
             "colorbar": {
              "outlinewidth": 0,
              "ticks": ""
             }
            },
            "type": "scatterpolar"
           }
          ],
          "scatterpolargl": [
           {
            "marker": {
             "colorbar": {
              "outlinewidth": 0,
              "ticks": ""
             }
            },
            "type": "scatterpolargl"
           }
          ],
          "scatterternary": [
           {
            "marker": {
             "colorbar": {
              "outlinewidth": 0,
              "ticks": ""
             }
            },
            "type": "scatterternary"
           }
          ],
          "surface": [
           {
            "colorbar": {
             "outlinewidth": 0,
             "ticks": ""
            },
            "colorscale": [
             [
              0,
              "#0d0887"
             ],
             [
              0.1111111111111111,
              "#46039f"
             ],
             [
              0.2222222222222222,
              "#7201a8"
             ],
             [
              0.3333333333333333,
              "#9c179e"
             ],
             [
              0.4444444444444444,
              "#bd3786"
             ],
             [
              0.5555555555555556,
              "#d8576b"
             ],
             [
              0.6666666666666666,
              "#ed7953"
             ],
             [
              0.7777777777777778,
              "#fb9f3a"
             ],
             [
              0.8888888888888888,
              "#fdca26"
             ],
             [
              1,
              "#f0f921"
             ]
            ],
            "type": "surface"
           }
          ],
          "table": [
           {
            "cells": {
             "fill": {
              "color": "#EBF0F8"
             },
             "line": {
              "color": "white"
             }
            },
            "header": {
             "fill": {
              "color": "#C8D4E3"
             },
             "line": {
              "color": "white"
             }
            },
            "type": "table"
           }
          ]
         },
         "layout": {
          "annotationdefaults": {
           "arrowcolor": "#2a3f5f",
           "arrowhead": 0,
           "arrowwidth": 1
          },
          "autotypenumbers": "strict",
          "coloraxis": {
           "colorbar": {
            "outlinewidth": 0,
            "ticks": ""
           }
          },
          "colorscale": {
           "diverging": [
            [
             0,
             "#8e0152"
            ],
            [
             0.1,
             "#c51b7d"
            ],
            [
             0.2,
             "#de77ae"
            ],
            [
             0.3,
             "#f1b6da"
            ],
            [
             0.4,
             "#fde0ef"
            ],
            [
             0.5,
             "#f7f7f7"
            ],
            [
             0.6,
             "#e6f5d0"
            ],
            [
             0.7,
             "#b8e186"
            ],
            [
             0.8,
             "#7fbc41"
            ],
            [
             0.9,
             "#4d9221"
            ],
            [
             1,
             "#276419"
            ]
           ],
           "sequential": [
            [
             0,
             "#0d0887"
            ],
            [
             0.1111111111111111,
             "#46039f"
            ],
            [
             0.2222222222222222,
             "#7201a8"
            ],
            [
             0.3333333333333333,
             "#9c179e"
            ],
            [
             0.4444444444444444,
             "#bd3786"
            ],
            [
             0.5555555555555556,
             "#d8576b"
            ],
            [
             0.6666666666666666,
             "#ed7953"
            ],
            [
             0.7777777777777778,
             "#fb9f3a"
            ],
            [
             0.8888888888888888,
             "#fdca26"
            ],
            [
             1,
             "#f0f921"
            ]
           ],
           "sequentialminus": [
            [
             0,
             "#0d0887"
            ],
            [
             0.1111111111111111,
             "#46039f"
            ],
            [
             0.2222222222222222,
             "#7201a8"
            ],
            [
             0.3333333333333333,
             "#9c179e"
            ],
            [
             0.4444444444444444,
             "#bd3786"
            ],
            [
             0.5555555555555556,
             "#d8576b"
            ],
            [
             0.6666666666666666,
             "#ed7953"
            ],
            [
             0.7777777777777778,
             "#fb9f3a"
            ],
            [
             0.8888888888888888,
             "#fdca26"
            ],
            [
             1,
             "#f0f921"
            ]
           ]
          },
          "colorway": [
           "#636efa",
           "#EF553B",
           "#00cc96",
           "#ab63fa",
           "#FFA15A",
           "#19d3f3",
           "#FF6692",
           "#B6E880",
           "#FF97FF",
           "#FECB52"
          ],
          "font": {
           "color": "#2a3f5f"
          },
          "geo": {
           "bgcolor": "white",
           "lakecolor": "white",
           "landcolor": "#E5ECF6",
           "showlakes": true,
           "showland": true,
           "subunitcolor": "white"
          },
          "hoverlabel": {
           "align": "left"
          },
          "hovermode": "closest",
          "mapbox": {
           "style": "light"
          },
          "paper_bgcolor": "white",
          "plot_bgcolor": "#E5ECF6",
          "polar": {
           "angularaxis": {
            "gridcolor": "white",
            "linecolor": "white",
            "ticks": ""
           },
           "bgcolor": "#E5ECF6",
           "radialaxis": {
            "gridcolor": "white",
            "linecolor": "white",
            "ticks": ""
           }
          },
          "scene": {
           "xaxis": {
            "backgroundcolor": "#E5ECF6",
            "gridcolor": "white",
            "gridwidth": 2,
            "linecolor": "white",
            "showbackground": true,
            "ticks": "",
            "zerolinecolor": "white"
           },
           "yaxis": {
            "backgroundcolor": "#E5ECF6",
            "gridcolor": "white",
            "gridwidth": 2,
            "linecolor": "white",
            "showbackground": true,
            "ticks": "",
            "zerolinecolor": "white"
           },
           "zaxis": {
            "backgroundcolor": "#E5ECF6",
            "gridcolor": "white",
            "gridwidth": 2,
            "linecolor": "white",
            "showbackground": true,
            "ticks": "",
            "zerolinecolor": "white"
           }
          },
          "shapedefaults": {
           "line": {
            "color": "#2a3f5f"
           }
          },
          "ternary": {
           "aaxis": {
            "gridcolor": "white",
            "linecolor": "white",
            "ticks": ""
           },
           "baxis": {
            "gridcolor": "white",
            "linecolor": "white",
            "ticks": ""
           },
           "bgcolor": "#E5ECF6",
           "caxis": {
            "gridcolor": "white",
            "linecolor": "white",
            "ticks": ""
           }
          },
          "title": {
           "x": 0.05
          },
          "xaxis": {
           "automargin": true,
           "gridcolor": "white",
           "linecolor": "white",
           "ticks": "",
           "title": {
            "standoff": 15
           },
           "zerolinecolor": "white",
           "zerolinewidth": 2
          },
          "yaxis": {
           "automargin": true,
           "gridcolor": "white",
           "linecolor": "white",
           "ticks": "",
           "title": {
            "standoff": 15
           },
           "zerolinecolor": "white",
           "zerolinewidth": 2
          }
         }
        },
        "title": {
         "text": "Kommunikation mit Vorgesetzten nach Remote-Arbeit"
        },
        "xaxis": {
         "anchor": "y",
         "domain": [
          0,
          1
         ],
         "title": {
          "text": "remote_work"
         }
        },
        "yaxis": {
         "anchor": "x",
         "domain": [
          0,
          1
         ],
         "title": {
          "text": "count (normalized as percent)"
         }
        }
       }
      }
     },
     "metadata": {},
     "output_type": "display_data"
    }
   ],
   "source": [
    "fig = px.histogram(\n",
    "    df_cl,\n",
    "    x=\"remote_work\",\n",
    "    color=\"supervisor\",\n",
    "    barmode=\"stack\",\n",
    "    barnorm=\"percent\",\n",
    "    title=\"Kommunikation mit Vorgesetzten nach Remote-Arbeit\"\n",
    ")\n",
    "fig.show()"
   ]
  },
  {
   "cell_type": "markdown",
   "id": "4f5e9cbb",
   "metadata": {},
   "source": [
    "Auch hier lassen sich keine Unterschiede hinsichtlich der Kommunikation ableiten."
   ]
  },
  {
   "cell_type": "markdown",
   "id": "07829f95",
   "metadata": {},
   "source": [
    "**Thesen der explorativen Analyse:**\n",
    "\n",
    "1. Mit dem Alter steigt die Bereitschaft mentale Probleme mit zu teilen.\n",
    "2. Mit zunehmenden Alter steigt die Wahrscheinlichkeit mentale Probleme zu haben.\n",
    "3. Männer sind ihrem Vorgesetzten offener hinsichtlich ihren psychischen Zustandes.\n",
    "4. Die Wahrscheinlichkeit einer psychischen Erkrankungen ist bei Frauen und Diversen höher.\n",
    "5. Das Fehlen familiärer Vorerkrankungen ist ein guter Prädiktor für die allgemeine Gesundheit – jedoch nicht für das Auftreten psychischer Erkrankungen.\n",
    "\n",
    "**Mögliche Korrelationen**\n",
    "\n",
    "6. Kommunikation - Unternehmensgröße"
   ]
  },
  {
   "cell_type": "markdown",
   "id": "4dcad808",
   "metadata": {},
   "source": [
    "# 5 Explorative Analyse"
   ]
  },
  {
   "cell_type": "markdown",
   "id": "4bb141cb",
   "metadata": {},
   "source": [
    "## 5.1 Mit dem Alter steigt die Bereitschaft mentale Probleme mit zu teilen."
   ]
  },
  {
   "cell_type": "code",
   "execution_count": 84,
   "id": "5b09be79",
   "metadata": {},
   "outputs": [],
   "source": [
    "df_cl[\"age_group\"] = pd.cut(df_cl[\"Age\"], bins = [0,25,40,55,100], labels = [\"<25\",\"25-40\",\"40-55\",\">55\"])"
   ]
  },
  {
   "cell_type": "code",
   "execution_count": 85,
   "id": "0da832fb",
   "metadata": {},
   "outputs": [
    {
     "data": {
      "application/vnd.plotly.v1+json": {
       "config": {
        "plotlyServerURL": "https://plot.ly"
       },
       "data": [
        {
         "alignmentgroup": "True",
         "bingroup": "x",
         "hovertemplate": "coworkers=Some of them<br>Age=%{x}<br>count=%{y}<extra></extra>",
         "legendgroup": "",
         "marker": {
          "color": "#636efa",
          "pattern": {
           "shape": ""
          }
         },
         "name": "",
         "nbinsx": 30,
         "offsetgroup": "",
         "orientation": "v",
         "showlegend": false,
         "type": "histogram",
         "x": [
          37,
          31,
          31,
          35,
          31,
          27,
          23,
          32,
          36,
          29,
          31,
          46,
          35,
          33,
          34,
          37,
          32,
          30,
          42,
          40,
          29,
          38,
          50,
          24,
          35,
          27,
          38,
          28,
          30,
          33,
          31,
          32,
          24,
          26,
          44,
          35,
          40,
          23,
          36,
          31,
          34,
          28,
          34,
          38,
          33,
          32,
          28,
          23,
          30,
          27,
          31,
          39,
          34,
          29,
          32,
          31,
          34,
          25,
          24,
          31,
          33,
          25,
          33,
          29,
          35,
          35,
          32,
          28,
          32,
          28,
          26,
          21,
          27,
          18,
          35,
          25,
          27,
          27,
          27,
          19,
          24,
          28,
          29,
          22,
          38,
          37,
          35,
          30,
          37,
          30,
          19,
          32,
          36,
          37,
          25,
          26,
          27,
          25,
          36,
          25,
          31,
          26,
          33,
          34,
          24,
          31,
          23,
          34,
          28,
          26,
          45,
          37,
          24,
          26,
          23,
          38,
          28,
          35,
          32,
          31,
          35,
          26,
          27,
          28,
          27,
          34,
          41,
          21,
          24,
          40,
          37,
          32,
          27,
          30,
          31,
          29,
          28,
          32,
          24,
          26,
          36,
          41,
          38,
          30,
          37,
          34,
          37,
          28,
          22,
          34,
          33,
          25,
          27,
          29,
          23,
          28,
          31,
          23,
          42,
          24,
          27,
          29,
          32,
          37,
          30,
          23,
          30,
          33,
          34,
          28,
          23,
          22,
          25,
          26,
          18,
          38,
          26,
          35,
          45,
          32,
          24,
          60,
          37,
          23,
          26,
          28,
          37,
          26,
          30,
          26,
          25,
          27,
          35,
          36,
          30,
          25,
          29,
          41,
          29,
          32,
          24,
          30,
          24,
          25,
          29,
          46,
          29,
          29,
          33,
          36,
          25,
          22,
          25,
          30,
          26,
          25,
          31,
          33,
          34,
          33,
          26,
          32,
          35,
          36,
          21,
          32,
          21,
          25,
          34,
          41,
          27,
          26,
          42,
          29,
          25,
          33,
          31,
          29,
          35,
          29,
          26,
          28,
          23,
          35,
          29,
          26,
          33,
          21,
          26,
          30,
          23,
          26,
          32,
          21,
          24,
          26,
          24,
          28,
          33,
          27,
          28,
          26,
          20,
          23,
          41,
          33,
          39,
          34,
          26,
          24,
          37,
          30,
          34,
          27,
          32,
          37,
          29,
          33,
          28,
          26,
          27,
          38,
          57,
          42,
          31,
          58,
          39,
          34,
          27,
          30,
          18,
          29,
          43,
          28,
          26,
          33,
          30,
          27,
          24,
          25,
          23,
          36,
          25,
          34,
          40,
          46,
          47,
          22,
          33,
          25,
          43,
          46,
          33,
          62,
          23,
          36,
          41,
          24,
          31,
          27,
          23,
          27,
          39,
          27,
          22,
          28,
          28,
          36,
          21,
          30,
          25,
          32,
          29,
          21,
          27,
          32,
          34,
          33,
          22,
          24,
          65,
          27,
          33,
          36,
          40,
          28,
          38,
          23,
          27,
          33,
          29,
          34,
          41,
          50,
          29,
          35,
          27,
          27,
          29,
          34,
          29,
          19,
          41,
          29,
          23,
          31,
          29,
          32,
          50,
          24,
          32,
          42,
          37,
          30,
          29,
          35,
          35,
          38,
          22,
          24,
          22,
          31,
          31,
          37,
          34,
          32,
          28,
          56,
          34,
          35,
          28,
          36,
          30,
          35,
          36,
          35,
          29,
          31,
          25,
          30,
          39,
          54,
          29,
          32,
          30,
          31,
          20,
          27,
          32,
          26,
          30,
          30,
          22,
          43,
          26,
          26,
          26,
          35,
          28,
          22,
          33,
          38,
          21,
          33,
          49,
          28,
          23,
          30,
          28,
          37,
          31,
          29,
          30,
          23,
          26,
          37,
          34,
          30,
          29,
          32,
          25,
          29,
          33,
          30,
          25,
          33,
          31,
          21,
          43,
          33,
          37,
          31,
          36,
          30,
          28,
          32,
          35,
          19,
          33,
          42,
          37,
          40,
          36,
          29,
          21,
          27,
          39,
          33,
          27,
          36,
          28,
          39,
          32,
          28,
          37,
          39,
          27,
          34,
          25,
          25,
          25,
          39,
          29,
          33,
          37,
          22,
          38,
          32,
          28,
          27,
          35,
          23,
          30,
          32,
          28,
          40,
          41,
          29,
          29,
          35,
          28,
          36,
          39,
          44,
          26,
          35,
          40,
          35,
          34,
          43,
          20,
          40,
          29,
          35,
          29,
          40,
          29,
          44,
          24,
          43,
          36,
          43,
          35,
          33,
          37,
          34,
          40,
          21,
          26,
          31,
          25,
          24,
          33,
          32,
          32,
          23,
          33,
          35,
          39,
          32,
          43,
          32,
          41,
          39,
          31,
          29,
          30,
          37,
          36,
          35,
          31,
          38,
          26,
          39,
          42,
          32,
          29,
          30,
          40,
          51,
          33,
          34,
          50,
          24,
          43,
          25,
          51,
          48,
          53,
          25,
          30,
          30,
          34,
          31,
          28,
          35,
          28,
          42,
          29,
          31,
          35,
          34,
          43,
          26,
          32,
          44,
          28,
          40,
          31,
          32,
          28,
          39,
          45,
          35,
          40,
          24,
          61,
          36,
          38,
          33,
          26,
          33,
          25,
          24,
          33,
          26,
          45,
          33,
          29,
          26,
          38,
          40,
          37,
          34,
          28,
          38,
          30,
          35,
          39,
          42,
          26,
          35,
          34,
          39,
          24,
          38,
          31,
          23,
          46,
          30,
          25,
          19,
          30,
          37,
          42,
          25,
          19,
          34,
          26,
          40,
          44,
          34,
          28,
          33,
          26,
          29,
          26,
          33,
          28,
          41,
          26,
          35,
          36,
          42,
          39,
          27,
          33,
          31,
          28,
          29,
          27,
          25,
          25,
          48,
          34,
          39,
          41,
          25,
          31,
          43,
          32,
          34,
          32,
          38,
          32,
          28,
          43,
          40,
          29,
          29,
          26,
          45,
          50,
          30,
          33,
          37,
          40,
          32,
          44,
          33,
          45,
          20,
          37,
          42,
          36,
          25,
          41,
          21,
          38,
          39,
          32,
          26,
          34,
          39,
          37,
          31,
          29,
          31,
          26,
          46,
          29,
          34,
          32,
          29,
          20,
          38,
          29,
          40,
          32,
          38,
          72,
          35,
          28,
          27,
          38,
          31,
          40,
          44,
          37,
          38,
          27,
          34,
          35,
          34,
          32,
          25,
          28,
          24,
          34,
          32,
          34,
          23,
          33,
          34,
          31,
          33,
          28,
          27,
          42,
          28,
          46,
          46,
          23,
          24,
          32,
          25,
          24,
          60,
          28,
          31,
          31,
          43,
          32,
          36,
          30,
          36,
          29,
          36,
          26,
          32,
          25
         ],
         "xaxis": "x",
         "yaxis": "y"
        },
        {
         "alignmentgroup": "True",
         "bingroup": "x",
         "hovertemplate": "coworkers=No<br>Age=%{x}<br>count=%{y}<extra></extra>",
         "legendgroup": "",
         "marker": {
          "color": "#636efa",
          "pattern": {
           "shape": ""
          }
         },
         "name": "",
         "nbinsx": 30,
         "offsetgroup": "",
         "orientation": "v",
         "showlegend": false,
         "type": "histogram",
         "x": [
          44,
          39,
          41,
          31,
          18,
          30,
          22,
          28,
          27,
          33,
          26,
          19,
          33,
          26,
          44,
          34,
          22,
          29,
          36,
          32,
          31,
          39,
          24,
          23,
          29,
          27,
          23,
          22,
          31,
          29,
          43,
          35,
          28,
          37,
          32,
          26,
          26,
          41,
          28,
          23,
          34,
          38,
          25,
          40,
          21,
          29,
          25,
          38,
          28,
          27,
          18,
          35,
          33,
          25,
          26,
          29,
          22,
          25,
          25,
          30,
          33,
          31,
          45,
          30,
          24,
          27,
          33,
          54,
          27,
          34,
          28,
          22,
          45,
          27,
          26,
          27,
          40,
          24,
          48,
          32,
          30,
          33,
          31,
          31,
          55,
          28,
          24,
          26,
          36,
          40,
          27,
          35,
          28,
          29,
          57,
          18,
          43,
          48,
          31,
          38,
          32,
          35,
          29,
          38,
          35,
          25,
          51,
          29,
          27,
          21,
          26,
          26,
          23,
          31,
          50,
          24,
          31,
          33,
          27,
          27,
          23,
          28,
          24,
          49,
          57,
          37,
          22,
          29,
          34,
          32,
          24,
          26,
          23,
          29,
          19,
          29,
          23,
          32,
          32,
          39,
          43,
          30,
          36,
          32,
          39,
          38,
          26,
          34,
          31,
          38,
          43,
          32,
          35,
          39,
          36,
          39,
          38,
          48,
          34,
          47,
          42,
          23,
          46,
          34,
          37,
          30,
          29,
          23,
          31,
          41,
          25,
          24,
          49,
          30,
          25,
          36,
          22,
          29,
          43,
          38,
          38,
          42,
          30,
          32,
          55,
          43,
          30,
          27,
          26,
          39,
          28,
          23,
          28,
          20,
          31,
          32,
          27,
          44,
          40,
          33,
          32,
          40,
          31,
          36,
          35,
          35,
          40,
          23,
          44,
          34,
          26,
          43,
          40,
          37,
          30,
          25,
          37,
          36,
          33,
          25,
          33,
          24,
          46,
          38,
          34,
          35,
          28,
          32,
          27,
          27,
          23,
          29,
          28,
          27,
          26,
          35,
          32,
          30,
          51,
          31,
          26,
          30,
          26,
          56,
          34,
          28,
          29,
          24,
          39,
          39,
          24,
          28,
          28,
          22,
          32,
          41,
          34,
          46
         ],
         "xaxis": "x2",
         "yaxis": "y2"
        },
        {
         "alignmentgroup": "True",
         "bingroup": "x",
         "hovertemplate": "coworkers=Yes<br>Age=%{x}<br>count=%{y}<extra></extra>",
         "legendgroup": "",
         "marker": {
          "color": "#636efa",
          "pattern": {
           "shape": ""
          }
         },
         "name": "",
         "nbinsx": 30,
         "offsetgroup": "",
         "orientation": "v",
         "showlegend": false,
         "type": "histogram",
         "x": [
          32,
          33,
          42,
          23,
          29,
          42,
          36,
          29,
          46,
          33,
          35,
          27,
          35,
          34,
          26,
          32,
          26,
          27,
          23,
          25,
          31,
          38,
          40,
          18,
          29,
          30,
          28,
          45,
          33,
          33,
          32,
          27,
          38,
          39,
          28,
          27,
          42,
          26,
          32,
          45,
          33,
          28,
          34,
          30,
          32,
          34,
          33,
          24,
          29,
          32,
          27,
          24,
          27,
          30,
          43,
          41,
          32,
          32,
          34,
          27,
          30,
          56,
          30,
          31,
          27,
          25,
          35,
          23,
          29,
          29,
          34,
          21,
          41,
          55,
          31,
          25,
          26,
          33,
          22,
          30,
          34,
          28,
          28,
          23,
          34,
          29,
          23,
          43,
          36,
          26,
          23,
          23,
          30,
          54,
          25,
          42,
          32,
          39,
          38,
          34,
          31,
          31,
          32,
          30,
          39,
          32,
          42,
          26,
          37,
          23,
          40,
          31,
          43,
          43,
          35,
          30,
          27,
          30,
          31,
          26,
          25,
          29,
          45,
          27,
          29,
          33,
          37,
          32,
          32,
          29,
          27,
          37,
          27,
          29,
          29,
          43,
          37,
          24,
          29,
          31,
          33,
          27,
          37,
          37,
          33,
          32,
          31,
          43,
          33,
          33,
          37,
          29,
          27,
          29,
          36,
          31,
          36,
          40,
          51,
          26,
          56,
          48,
          24,
          33,
          33,
          25,
          33,
          43,
          34,
          34,
          35,
          25,
          40,
          49,
          28,
          27,
          29,
          19,
          25,
          34,
          34,
          38,
          26,
          32,
          31,
          26,
          39,
          24,
          27,
          25,
          29,
          37,
          41,
          32,
          24,
          43,
          35,
          26,
          29,
          25,
          40,
          26,
          27,
          26,
          23,
          38,
          32,
          32,
          40,
          23,
          25,
          31,
          45,
          38,
          41,
          23,
          23,
          25,
          23,
          23,
          30,
          30
         ],
         "xaxis": "x3",
         "yaxis": "y3"
        }
       ],
       "layout": {
        "annotations": [
         {
          "font": {},
          "showarrow": false,
          "text": "coworkers=Some of them",
          "x": 0.15999999999999998,
          "xanchor": "center",
          "xref": "paper",
          "y": 1,
          "yanchor": "bottom",
          "yref": "paper"
         },
         {
          "font": {},
          "showarrow": false,
          "text": "coworkers=No",
          "x": 0.49999999999999994,
          "xanchor": "center",
          "xref": "paper",
          "y": 1,
          "yanchor": "bottom",
          "yref": "paper"
         },
         {
          "font": {},
          "showarrow": false,
          "text": "coworkers=Yes",
          "x": 0.8399999999999999,
          "xanchor": "center",
          "xref": "paper",
          "y": 1,
          "yanchor": "bottom",
          "yref": "paper"
         }
        ],
        "barmode": "group",
        "legend": {
         "tracegroupgap": 0
        },
        "template": {
         "data": {
          "bar": [
           {
            "error_x": {
             "color": "#2a3f5f"
            },
            "error_y": {
             "color": "#2a3f5f"
            },
            "marker": {
             "line": {
              "color": "#E5ECF6",
              "width": 0.5
             },
             "pattern": {
              "fillmode": "overlay",
              "size": 10,
              "solidity": 0.2
             }
            },
            "type": "bar"
           }
          ],
          "barpolar": [
           {
            "marker": {
             "line": {
              "color": "#E5ECF6",
              "width": 0.5
             },
             "pattern": {
              "fillmode": "overlay",
              "size": 10,
              "solidity": 0.2
             }
            },
            "type": "barpolar"
           }
          ],
          "carpet": [
           {
            "aaxis": {
             "endlinecolor": "#2a3f5f",
             "gridcolor": "white",
             "linecolor": "white",
             "minorgridcolor": "white",
             "startlinecolor": "#2a3f5f"
            },
            "baxis": {
             "endlinecolor": "#2a3f5f",
             "gridcolor": "white",
             "linecolor": "white",
             "minorgridcolor": "white",
             "startlinecolor": "#2a3f5f"
            },
            "type": "carpet"
           }
          ],
          "choropleth": [
           {
            "colorbar": {
             "outlinewidth": 0,
             "ticks": ""
            },
            "type": "choropleth"
           }
          ],
          "contour": [
           {
            "colorbar": {
             "outlinewidth": 0,
             "ticks": ""
            },
            "colorscale": [
             [
              0,
              "#0d0887"
             ],
             [
              0.1111111111111111,
              "#46039f"
             ],
             [
              0.2222222222222222,
              "#7201a8"
             ],
             [
              0.3333333333333333,
              "#9c179e"
             ],
             [
              0.4444444444444444,
              "#bd3786"
             ],
             [
              0.5555555555555556,
              "#d8576b"
             ],
             [
              0.6666666666666666,
              "#ed7953"
             ],
             [
              0.7777777777777778,
              "#fb9f3a"
             ],
             [
              0.8888888888888888,
              "#fdca26"
             ],
             [
              1,
              "#f0f921"
             ]
            ],
            "type": "contour"
           }
          ],
          "contourcarpet": [
           {
            "colorbar": {
             "outlinewidth": 0,
             "ticks": ""
            },
            "type": "contourcarpet"
           }
          ],
          "heatmap": [
           {
            "colorbar": {
             "outlinewidth": 0,
             "ticks": ""
            },
            "colorscale": [
             [
              0,
              "#0d0887"
             ],
             [
              0.1111111111111111,
              "#46039f"
             ],
             [
              0.2222222222222222,
              "#7201a8"
             ],
             [
              0.3333333333333333,
              "#9c179e"
             ],
             [
              0.4444444444444444,
              "#bd3786"
             ],
             [
              0.5555555555555556,
              "#d8576b"
             ],
             [
              0.6666666666666666,
              "#ed7953"
             ],
             [
              0.7777777777777778,
              "#fb9f3a"
             ],
             [
              0.8888888888888888,
              "#fdca26"
             ],
             [
              1,
              "#f0f921"
             ]
            ],
            "type": "heatmap"
           }
          ],
          "heatmapgl": [
           {
            "colorbar": {
             "outlinewidth": 0,
             "ticks": ""
            },
            "colorscale": [
             [
              0,
              "#0d0887"
             ],
             [
              0.1111111111111111,
              "#46039f"
             ],
             [
              0.2222222222222222,
              "#7201a8"
             ],
             [
              0.3333333333333333,
              "#9c179e"
             ],
             [
              0.4444444444444444,
              "#bd3786"
             ],
             [
              0.5555555555555556,
              "#d8576b"
             ],
             [
              0.6666666666666666,
              "#ed7953"
             ],
             [
              0.7777777777777778,
              "#fb9f3a"
             ],
             [
              0.8888888888888888,
              "#fdca26"
             ],
             [
              1,
              "#f0f921"
             ]
            ],
            "type": "heatmapgl"
           }
          ],
          "histogram": [
           {
            "marker": {
             "pattern": {
              "fillmode": "overlay",
              "size": 10,
              "solidity": 0.2
             }
            },
            "type": "histogram"
           }
          ],
          "histogram2d": [
           {
            "colorbar": {
             "outlinewidth": 0,
             "ticks": ""
            },
            "colorscale": [
             [
              0,
              "#0d0887"
             ],
             [
              0.1111111111111111,
              "#46039f"
             ],
             [
              0.2222222222222222,
              "#7201a8"
             ],
             [
              0.3333333333333333,
              "#9c179e"
             ],
             [
              0.4444444444444444,
              "#bd3786"
             ],
             [
              0.5555555555555556,
              "#d8576b"
             ],
             [
              0.6666666666666666,
              "#ed7953"
             ],
             [
              0.7777777777777778,
              "#fb9f3a"
             ],
             [
              0.8888888888888888,
              "#fdca26"
             ],
             [
              1,
              "#f0f921"
             ]
            ],
            "type": "histogram2d"
           }
          ],
          "histogram2dcontour": [
           {
            "colorbar": {
             "outlinewidth": 0,
             "ticks": ""
            },
            "colorscale": [
             [
              0,
              "#0d0887"
             ],
             [
              0.1111111111111111,
              "#46039f"
             ],
             [
              0.2222222222222222,
              "#7201a8"
             ],
             [
              0.3333333333333333,
              "#9c179e"
             ],
             [
              0.4444444444444444,
              "#bd3786"
             ],
             [
              0.5555555555555556,
              "#d8576b"
             ],
             [
              0.6666666666666666,
              "#ed7953"
             ],
             [
              0.7777777777777778,
              "#fb9f3a"
             ],
             [
              0.8888888888888888,
              "#fdca26"
             ],
             [
              1,
              "#f0f921"
             ]
            ],
            "type": "histogram2dcontour"
           }
          ],
          "mesh3d": [
           {
            "colorbar": {
             "outlinewidth": 0,
             "ticks": ""
            },
            "type": "mesh3d"
           }
          ],
          "parcoords": [
           {
            "line": {
             "colorbar": {
              "outlinewidth": 0,
              "ticks": ""
             }
            },
            "type": "parcoords"
           }
          ],
          "pie": [
           {
            "automargin": true,
            "type": "pie"
           }
          ],
          "scatter": [
           {
            "fillpattern": {
             "fillmode": "overlay",
             "size": 10,
             "solidity": 0.2
            },
            "type": "scatter"
           }
          ],
          "scatter3d": [
           {
            "line": {
             "colorbar": {
              "outlinewidth": 0,
              "ticks": ""
             }
            },
            "marker": {
             "colorbar": {
              "outlinewidth": 0,
              "ticks": ""
             }
            },
            "type": "scatter3d"
           }
          ],
          "scattercarpet": [
           {
            "marker": {
             "colorbar": {
              "outlinewidth": 0,
              "ticks": ""
             }
            },
            "type": "scattercarpet"
           }
          ],
          "scattergeo": [
           {
            "marker": {
             "colorbar": {
              "outlinewidth": 0,
              "ticks": ""
             }
            },
            "type": "scattergeo"
           }
          ],
          "scattergl": [
           {
            "marker": {
             "colorbar": {
              "outlinewidth": 0,
              "ticks": ""
             }
            },
            "type": "scattergl"
           }
          ],
          "scattermapbox": [
           {
            "marker": {
             "colorbar": {
              "outlinewidth": 0,
              "ticks": ""
             }
            },
            "type": "scattermapbox"
           }
          ],
          "scatterpolar": [
           {
            "marker": {
             "colorbar": {
              "outlinewidth": 0,
              "ticks": ""
             }
            },
            "type": "scatterpolar"
           }
          ],
          "scatterpolargl": [
           {
            "marker": {
             "colorbar": {
              "outlinewidth": 0,
              "ticks": ""
             }
            },
            "type": "scatterpolargl"
           }
          ],
          "scatterternary": [
           {
            "marker": {
             "colorbar": {
              "outlinewidth": 0,
              "ticks": ""
             }
            },
            "type": "scatterternary"
           }
          ],
          "surface": [
           {
            "colorbar": {
             "outlinewidth": 0,
             "ticks": ""
            },
            "colorscale": [
             [
              0,
              "#0d0887"
             ],
             [
              0.1111111111111111,
              "#46039f"
             ],
             [
              0.2222222222222222,
              "#7201a8"
             ],
             [
              0.3333333333333333,
              "#9c179e"
             ],
             [
              0.4444444444444444,
              "#bd3786"
             ],
             [
              0.5555555555555556,
              "#d8576b"
             ],
             [
              0.6666666666666666,
              "#ed7953"
             ],
             [
              0.7777777777777778,
              "#fb9f3a"
             ],
             [
              0.8888888888888888,
              "#fdca26"
             ],
             [
              1,
              "#f0f921"
             ]
            ],
            "type": "surface"
           }
          ],
          "table": [
           {
            "cells": {
             "fill": {
              "color": "#EBF0F8"
             },
             "line": {
              "color": "white"
             }
            },
            "header": {
             "fill": {
              "color": "#C8D4E3"
             },
             "line": {
              "color": "white"
             }
            },
            "type": "table"
           }
          ]
         },
         "layout": {
          "annotationdefaults": {
           "arrowcolor": "#2a3f5f",
           "arrowhead": 0,
           "arrowwidth": 1
          },
          "autotypenumbers": "strict",
          "coloraxis": {
           "colorbar": {
            "outlinewidth": 0,
            "ticks": ""
           }
          },
          "colorscale": {
           "diverging": [
            [
             0,
             "#8e0152"
            ],
            [
             0.1,
             "#c51b7d"
            ],
            [
             0.2,
             "#de77ae"
            ],
            [
             0.3,
             "#f1b6da"
            ],
            [
             0.4,
             "#fde0ef"
            ],
            [
             0.5,
             "#f7f7f7"
            ],
            [
             0.6,
             "#e6f5d0"
            ],
            [
             0.7,
             "#b8e186"
            ],
            [
             0.8,
             "#7fbc41"
            ],
            [
             0.9,
             "#4d9221"
            ],
            [
             1,
             "#276419"
            ]
           ],
           "sequential": [
            [
             0,
             "#0d0887"
            ],
            [
             0.1111111111111111,
             "#46039f"
            ],
            [
             0.2222222222222222,
             "#7201a8"
            ],
            [
             0.3333333333333333,
             "#9c179e"
            ],
            [
             0.4444444444444444,
             "#bd3786"
            ],
            [
             0.5555555555555556,
             "#d8576b"
            ],
            [
             0.6666666666666666,
             "#ed7953"
            ],
            [
             0.7777777777777778,
             "#fb9f3a"
            ],
            [
             0.8888888888888888,
             "#fdca26"
            ],
            [
             1,
             "#f0f921"
            ]
           ],
           "sequentialminus": [
            [
             0,
             "#0d0887"
            ],
            [
             0.1111111111111111,
             "#46039f"
            ],
            [
             0.2222222222222222,
             "#7201a8"
            ],
            [
             0.3333333333333333,
             "#9c179e"
            ],
            [
             0.4444444444444444,
             "#bd3786"
            ],
            [
             0.5555555555555556,
             "#d8576b"
            ],
            [
             0.6666666666666666,
             "#ed7953"
            ],
            [
             0.7777777777777778,
             "#fb9f3a"
            ],
            [
             0.8888888888888888,
             "#fdca26"
            ],
            [
             1,
             "#f0f921"
            ]
           ]
          },
          "colorway": [
           "#636efa",
           "#EF553B",
           "#00cc96",
           "#ab63fa",
           "#FFA15A",
           "#19d3f3",
           "#FF6692",
           "#B6E880",
           "#FF97FF",
           "#FECB52"
          ],
          "font": {
           "color": "#2a3f5f"
          },
          "geo": {
           "bgcolor": "white",
           "lakecolor": "white",
           "landcolor": "#E5ECF6",
           "showlakes": true,
           "showland": true,
           "subunitcolor": "white"
          },
          "hoverlabel": {
           "align": "left"
          },
          "hovermode": "closest",
          "mapbox": {
           "style": "light"
          },
          "paper_bgcolor": "white",
          "plot_bgcolor": "#E5ECF6",
          "polar": {
           "angularaxis": {
            "gridcolor": "white",
            "linecolor": "white",
            "ticks": ""
           },
           "bgcolor": "#E5ECF6",
           "radialaxis": {
            "gridcolor": "white",
            "linecolor": "white",
            "ticks": ""
           }
          },
          "scene": {
           "xaxis": {
            "backgroundcolor": "#E5ECF6",
            "gridcolor": "white",
            "gridwidth": 2,
            "linecolor": "white",
            "showbackground": true,
            "ticks": "",
            "zerolinecolor": "white"
           },
           "yaxis": {
            "backgroundcolor": "#E5ECF6",
            "gridcolor": "white",
            "gridwidth": 2,
            "linecolor": "white",
            "showbackground": true,
            "ticks": "",
            "zerolinecolor": "white"
           },
           "zaxis": {
            "backgroundcolor": "#E5ECF6",
            "gridcolor": "white",
            "gridwidth": 2,
            "linecolor": "white",
            "showbackground": true,
            "ticks": "",
            "zerolinecolor": "white"
           }
          },
          "shapedefaults": {
           "line": {
            "color": "#2a3f5f"
           }
          },
          "ternary": {
           "aaxis": {
            "gridcolor": "white",
            "linecolor": "white",
            "ticks": ""
           },
           "baxis": {
            "gridcolor": "white",
            "linecolor": "white",
            "ticks": ""
           },
           "bgcolor": "#E5ECF6",
           "caxis": {
            "gridcolor": "white",
            "linecolor": "white",
            "ticks": ""
           }
          },
          "title": {
           "x": 0.05
          },
          "xaxis": {
           "automargin": true,
           "gridcolor": "white",
           "linecolor": "white",
           "ticks": "",
           "title": {
            "standoff": 15
           },
           "zerolinecolor": "white",
           "zerolinewidth": 2
          },
          "yaxis": {
           "automargin": true,
           "gridcolor": "white",
           "linecolor": "white",
           "ticks": "",
           "title": {
            "standoff": 15
           },
           "zerolinecolor": "white",
           "zerolinewidth": 2
          }
         }
        },
        "title": {
         "text": "Kommunikationsverhalten mit Kollegen in Abhängigkeit vom Alter"
        },
        "xaxis": {
         "anchor": "y",
         "domain": [
          0,
          0.31999999999999995
         ],
         "title": {
          "text": "Alter"
         }
        },
        "xaxis2": {
         "anchor": "y2",
         "domain": [
          0.33999999999999997,
          0.6599999999999999
         ],
         "matches": "x",
         "title": {
          "text": "Age"
         }
        },
        "xaxis3": {
         "anchor": "y3",
         "domain": [
          0.6799999999999999,
          0.9999999999999999
         ],
         "matches": "x",
         "title": {
          "text": "Age"
         }
        },
        "yaxis": {
         "anchor": "x",
         "domain": [
          0,
          1
         ],
         "title": {
          "text": "Anzahl"
         }
        },
        "yaxis2": {
         "anchor": "x2",
         "domain": [
          0,
          1
         ],
         "matches": "y",
         "showticklabels": false
        },
        "yaxis3": {
         "anchor": "x3",
         "domain": [
          0,
          1
         ],
         "matches": "y",
         "showticklabels": false
        }
       }
      }
     },
     "metadata": {},
     "output_type": "display_data"
    }
   ],
   "source": [
    "fig = px.histogram(df_cl, x=\"Age\",facet_col=\"coworkers\",barmode=\"group\", nbins=30, title= \"Kommunikationsverhalten mit Kollegen in Abhängigkeit vom Alter\")\n",
    "\n",
    "fig.update_layout(xaxis_title = \"Alter\", yaxis_title = \"Anzahl\")\n",
    "fig.show()"
   ]
  },
  {
   "cell_type": "markdown",
   "id": "b63c4e62",
   "metadata": {},
   "source": [
    "Die Verteilungen, wie auch die vorherige Analyse (4.1.2.3), erlauben keine Aussage über die These.\n",
    "\n",
    "Dementsprechend wird es folgend in einer Regressionsanalyse untersucht. "
   ]
  },
  {
   "cell_type": "code",
   "execution_count": 105,
   "id": "92b77fc5",
   "metadata": {},
   "outputs": [
    {
     "name": "stdout",
     "output_type": "stream",
     "text": [
      "Optimization terminated successfully.\n",
      "         Current function value: 0.930603\n",
      "         Iterations 5\n",
      "                          MNLogit Regression Results                          \n",
      "==============================================================================\n",
      "Dep. Variable:              coworkers   No. Observations:                 1251\n",
      "Model:                        MNLogit   Df Residuals:                     1247\n",
      "Method:                           MLE   Df Model:                            2\n",
      "Date:                Tue, 24 Jun 2025   Pseudo R-squ.:               0.0001245\n",
      "Time:                        14:10:39   Log-Likelihood:                -1164.2\n",
      "converged:                       True   LL-Null:                       -1164.3\n",
      "Covariance Type:            nonrobust   LLR p-value:                    0.8651\n",
      "===============================================================================\n",
      "coworkers=1       coef    std err          z      P>|z|      [0.025      0.975]\n",
      "-------------------------------------------------------------------------------\n",
      "const           1.2616      0.323      3.901      0.000       0.628       1.895\n",
      "Age            -0.0052      0.010     -0.530      0.596      -0.024       0.014\n",
      "-------------------------------------------------------------------------------\n",
      "coworkers=2       coef    std err          z      P>|z|      [0.025      0.975]\n",
      "-------------------------------------------------------------------------------\n",
      "const          -0.0586      0.412     -0.142      0.887      -0.866       0.748\n",
      "Age            -0.0028      0.012     -0.228      0.819      -0.027       0.022\n",
      "===============================================================================\n"
     ]
    }
   ],
   "source": [
    "X = sm.add_constant(df_reg['Age'])\n",
    "y = df_reg[\"coworkers\"]\n",
    "\n",
    "model = sm.MNLogit(y,X).fit()\n",
    "\n",
    "print(model.summary())"
   ]
  },
  {
   "cell_type": "code",
   "execution_count": 107,
   "id": "36d5a834",
   "metadata": {},
   "outputs": [
    {
     "name": "stdout",
     "output_type": "stream",
     "text": [
      "Optimization terminated successfully.\n",
      "         Current function value: 1.084973\n",
      "         Iterations 4\n",
      "                          MNLogit Regression Results                          \n",
      "==============================================================================\n",
      "Dep. Variable:             supervisor   No. Observations:                 1251\n",
      "Model:                        MNLogit   Df Residuals:                     1247\n",
      "Method:                           MLE   Df Model:                            2\n",
      "Date:                Tue, 24 Jun 2025   Pseudo R-squ.:               0.0001577\n",
      "Time:                        14:11:59   Log-Likelihood:                -1357.3\n",
      "converged:                       True   LL-Null:                       -1357.5\n",
      "Covariance Type:            nonrobust   LLR p-value:                    0.8072\n",
      "================================================================================\n",
      "supervisor=1       coef    std err          z      P>|z|      [0.025      0.975]\n",
      "--------------------------------------------------------------------------------\n",
      "const            0.0046      0.334      0.014      0.989      -0.650       0.659\n",
      "Age             -0.0036      0.010     -0.355      0.723      -0.024       0.016\n",
      "--------------------------------------------------------------------------------\n",
      "supervisor=2       coef    std err          z      P>|z|      [0.025      0.975]\n",
      "--------------------------------------------------------------------------------\n",
      "const            0.1875      0.303      0.619      0.536      -0.406       0.781\n",
      "Age              0.0026      0.009      0.287      0.774      -0.015       0.021\n",
      "================================================================================\n"
     ]
    }
   ],
   "source": [
    "X = sm.add_constant(df_reg['Age'])\n",
    "y = df_reg[\"supervisor\"]\n",
    "\n",
    "model = sm.MNLogit(y,X).fit()\n",
    "\n",
    "print(model.summary())"
   ]
  },
  {
   "cell_type": "markdown",
   "id": "51a29aa6",
   "metadata": {},
   "source": [
    "Überprüfung aller kombination (auch some/y)"
   ]
  },
  {
   "cell_type": "code",
   "execution_count": null,
   "id": "0f5e835b",
   "metadata": {},
   "outputs": [
    {
     "name": "stdout",
     "output_type": "stream",
     "text": [
      "Optimization terminated successfully.\n",
      "         Current function value: 0.930603\n",
      "         Iterations 5\n",
      "                          MNLogit Regression Results                          \n",
      "==============================================================================\n",
      "Dep. Variable:              coworkers   No. Observations:                 1251\n",
      "Model:                        MNLogit   Df Residuals:                     1247\n",
      "Method:                           MLE   Df Model:                            2\n",
      "Date:                Tue, 24 Jun 2025   Pseudo R-squ.:               0.0001245\n",
      "Time:                        16:18:17   Log-Likelihood:                -1164.2\n",
      "converged:                       True   LL-Null:                       -1164.3\n",
      "Covariance Type:            nonrobust   LLR p-value:                    0.8651\n",
      "===============================================================================\n",
      "coworkers=1       coef    std err          z      P>|z|      [0.025      0.975]\n",
      "-------------------------------------------------------------------------------\n",
      "const          -1.2616      0.323     -3.901      0.000      -1.895      -0.628\n",
      "Age             0.0052      0.010      0.530      0.596      -0.014       0.024\n",
      "-------------------------------------------------------------------------------\n",
      "coworkers=2       coef    std err          z      P>|z|      [0.025      0.975]\n",
      "-------------------------------------------------------------------------------\n",
      "const          -1.3202      0.344     -3.841      0.000      -1.994      -0.646\n",
      "Age             0.0023      0.010      0.225      0.822      -0.018       0.023\n",
      "===============================================================================\n"
     ]
    }
   ],
   "source": [
    "X = sm.add_constant(df_reg_1['Age'])\n",
    "y = df_reg_1[\"coworkers\"]\n",
    "\n",
    "model = sm.MNLogit(y,X).fit()\n",
    "\n",
    "print(model.summary())"
   ]
  },
  {
   "cell_type": "code",
   "execution_count": 122,
   "id": "6fcd44bd",
   "metadata": {},
   "outputs": [
    {
     "name": "stdout",
     "output_type": "stream",
     "text": [
      "Optimization terminated successfully.\n",
      "         Current function value: 1.084973\n",
      "         Iterations 4\n",
      "                          MNLogit Regression Results                          \n",
      "==============================================================================\n",
      "Dep. Variable:             supervisor   No. Observations:                 1251\n",
      "Model:                        MNLogit   Df Residuals:                     1247\n",
      "Method:                           MLE   Df Model:                            2\n",
      "Date:                Tue, 24 Jun 2025   Pseudo R-squ.:               0.0001577\n",
      "Time:                        16:17:16   Log-Likelihood:                -1357.3\n",
      "converged:                       True   LL-Null:                       -1357.5\n",
      "Covariance Type:            nonrobust   LLR p-value:                    0.8072\n",
      "================================================================================\n",
      "supervisor=1       coef    std err          z      P>|z|      [0.025      0.975]\n",
      "--------------------------------------------------------------------------------\n",
      "const           -0.0046      0.334     -0.014      0.989      -0.659       0.650\n",
      "Age              0.0036      0.010      0.355      0.723      -0.016       0.024\n",
      "--------------------------------------------------------------------------------\n",
      "supervisor=2       coef    std err          z      P>|z|      [0.025      0.975]\n",
      "--------------------------------------------------------------------------------\n",
      "const            0.1829      0.314      0.582      0.561      -0.433       0.799\n",
      "Age              0.0063      0.010      0.653      0.514      -0.013       0.025\n",
      "================================================================================\n"
     ]
    }
   ],
   "source": [
    "X = sm.add_constant(df_reg_1['Age'])\n",
    "y = df_reg_1[\"supervisor\"]\n",
    "\n",
    "model = sm.MNLogit(y,X).fit()\n",
    "\n",
    "print(model.summary())"
   ]
  },
  {
   "cell_type": "markdown",
   "id": "3511b69c",
   "metadata": {},
   "source": [
    "Die These wird verworfen."
   ]
  },
  {
   "cell_type": "markdown",
   "id": "e21d449d",
   "metadata": {},
   "source": [
    "## 5.2 Mit zunehmenden Alter steigt die Wahrscheinlichkeit mentale Probleme zu haben."
   ]
  },
  {
   "cell_type": "code",
   "execution_count": 97,
   "id": "d6be4551",
   "metadata": {},
   "outputs": [],
   "source": [
    "df_reg['mental_bin'] = df_reg['mental_health_condition'].map({'Yes': 1, 'No': 0})"
   ]
  },
  {
   "cell_type": "code",
   "execution_count": 99,
   "id": "a19e38df",
   "metadata": {},
   "outputs": [
    {
     "name": "stdout",
     "output_type": "stream",
     "text": [
      "Optimization terminated successfully.\n",
      "         Current function value: 0.506697\n",
      "         Iterations 6\n",
      "                           Logit Regression Results                           \n",
      "==============================================================================\n",
      "Dep. Variable:             mental_bin   No. Observations:                 1251\n",
      "Model:                          Logit   Df Residuals:                     1249\n",
      "Method:                           MLE   Df Model:                            1\n",
      "Date:                Tue, 24 Jun 2025   Pseudo R-squ.:                0.004379\n",
      "Time:                        13:44:53   Log-Likelihood:                -633.88\n",
      "converged:                       True   LL-Null:                       -636.67\n",
      "Covariance Type:            nonrobust   LLR p-value:                   0.01821\n",
      "==============================================================================\n",
      "                 coef    std err          z      P>|z|      [0.025      0.975]\n",
      "------------------------------------------------------------------------------\n",
      "const          0.6020      0.326      1.845      0.065      -0.038       1.242\n",
      "Age            0.0235      0.010      2.313      0.021       0.004       0.043\n",
      "==============================================================================\n"
     ]
    }
   ],
   "source": [
    "X = sm.add_constant(df_reg['Age'])\n",
    "y = df_reg['mental_bin']\n",
    "\n",
    "model = sm.Logit(y, X).fit()\n",
    "\n",
    "print(model.summary())"
   ]
  },
  {
   "cell_type": "markdown",
   "id": "5a5f6779",
   "metadata": {},
   "source": [
    "Geringe Effektstärke aber signifikantes Ergebnis."
   ]
  },
  {
   "cell_type": "markdown",
   "id": "aab58f38",
   "metadata": {},
   "source": [
    "## 5.3 Männer sind ihrem Vorgesetzten offener hinsichtlich ihren psychischen Zustandes."
   ]
  },
  {
   "cell_type": "code",
   "execution_count": 124,
   "id": "3a057e84",
   "metadata": {},
   "outputs": [],
   "source": [
    "gender_communication = df_reg.copy()\n",
    "gender_communication[\"Gender\"] = gender_communication[\"Gender\"].map({\"female\": 0,\n",
    "                                                                    \"diverse\":0,\n",
    "                                                                    \"male\":1})\n",
    "gender_communication_1 = df_reg_1.copy()\n",
    "gender_communication_1[\"Gender\"] = gender_communication_1[\"Gender\"].map({\"female\": 0,\n",
    "                                                                    \"diverse\":0,\n",
    "                                                                    \"male\":1})"
   ]
  },
  {
   "cell_type": "code",
   "execution_count": 113,
   "id": "4d2fb3ae",
   "metadata": {},
   "outputs": [
    {
     "data": {
      "text/plain": [
       "array([0, 1], dtype=int64)"
      ]
     },
     "execution_count": 113,
     "metadata": {},
     "output_type": "execute_result"
    }
   ],
   "source": [
    "gender_communication.Gender.unique()"
   ]
  },
  {
   "cell_type": "code",
   "execution_count": 114,
   "id": "48d0394c",
   "metadata": {},
   "outputs": [
    {
     "name": "stdout",
     "output_type": "stream",
     "text": [
      "Optimization terminated successfully.\n",
      "         Current function value: 1.077945\n",
      "         Iterations 4\n",
      "                          MNLogit Regression Results                          \n",
      "==============================================================================\n",
      "Dep. Variable:             supervisor   No. Observations:                 1251\n",
      "Model:                        MNLogit   Df Residuals:                     1247\n",
      "Method:                           MLE   Df Model:                            2\n",
      "Date:                Tue, 24 Jun 2025   Pseudo R-squ.:                0.006634\n",
      "Time:                        14:19:19   Log-Likelihood:                -1348.5\n",
      "converged:                       True   LL-Null:                       -1357.5\n",
      "Covariance Type:            nonrobust   LLR p-value:                 0.0001227\n",
      "================================================================================\n",
      "supervisor=1       coef    std err          z      P>|z|      [0.025      0.975]\n",
      "--------------------------------------------------------------------------------\n",
      "const            0.0215      0.147      0.147      0.883      -0.266       0.309\n",
      "Gender          -0.1773      0.170     -1.045      0.296      -0.510       0.155\n",
      "--------------------------------------------------------------------------------\n",
      "supervisor=2       coef    std err          z      P>|z|      [0.025      0.975]\n",
      "--------------------------------------------------------------------------------\n",
      "const           -0.1398      0.153     -0.914      0.361      -0.439       0.160\n",
      "Gender           0.5111      0.170      2.999      0.003       0.177       0.845\n",
      "================================================================================\n"
     ]
    }
   ],
   "source": [
    "X = sm.add_constant(gender_communication[\"Gender\"])\n",
    "y = gender_communication[\"supervisor\"]\n",
    "\n",
    "model = sm.MNLogit(y,X).fit()\n",
    "\n",
    "print(model.summary())"
   ]
  },
  {
   "cell_type": "code",
   "execution_count": 115,
   "id": "ac564509",
   "metadata": {},
   "outputs": [
    {
     "name": "stdout",
     "output_type": "stream",
     "text": [
      "Optimization terminated successfully.\n",
      "         Current function value: 0.929163\n",
      "         Iterations 5\n",
      "                          MNLogit Regression Results                          \n",
      "==============================================================================\n",
      "Dep. Variable:              coworkers   No. Observations:                 1251\n",
      "Model:                        MNLogit   Df Residuals:                     1247\n",
      "Method:                           MLE   Df Model:                            2\n",
      "Date:                Tue, 24 Jun 2025   Pseudo R-squ.:                0.001672\n",
      "Time:                        14:20:10   Log-Likelihood:                -1162.4\n",
      "converged:                       True   LL-Null:                       -1164.3\n",
      "Covariance Type:            nonrobust   LLR p-value:                    0.1428\n",
      "===============================================================================\n",
      "coworkers=1       coef    std err          z      P>|z|      [0.025      0.975]\n",
      "-------------------------------------------------------------------------------\n",
      "const           0.9628      0.148      6.501      0.000       0.673       1.253\n",
      "Gender          0.1711      0.169      1.010      0.313      -0.161       0.503\n",
      "-------------------------------------------------------------------------------\n",
      "coworkers=2       coef    std err          z      P>|z|      [0.025      0.975]\n",
      "-------------------------------------------------------------------------------\n",
      "const          -0.5055      0.205     -2.461      0.014      -0.908      -0.103\n",
      "Gender          0.4475      0.230      1.948      0.051      -0.003       0.898\n",
      "===============================================================================\n"
     ]
    }
   ],
   "source": [
    "X = sm.add_constant(gender_communication[\"Gender\"])\n",
    "y = gender_communication[\"coworkers\"]\n",
    "\n",
    "model = sm.MNLogit(y,X).fit()\n",
    "\n",
    "print(model.summary())"
   ]
  },
  {
   "cell_type": "markdown",
   "id": "66e756ab",
   "metadata": {},
   "source": [
    "Auch wieder andere Kombination (ENTSCHEIDEND???????????)"
   ]
  },
  {
   "cell_type": "code",
   "execution_count": 125,
   "id": "d9d470c6",
   "metadata": {},
   "outputs": [
    {
     "name": "stdout",
     "output_type": "stream",
     "text": [
      "Optimization terminated successfully.\n",
      "         Current function value: 1.077945\n",
      "         Iterations 4\n",
      "                          MNLogit Regression Results                          \n",
      "==============================================================================\n",
      "Dep. Variable:             supervisor   No. Observations:                 1251\n",
      "Model:                        MNLogit   Df Residuals:                     1247\n",
      "Method:                           MLE   Df Model:                            2\n",
      "Date:                Tue, 24 Jun 2025   Pseudo R-squ.:                0.006634\n",
      "Time:                        16:23:09   Log-Likelihood:                -1348.5\n",
      "converged:                       True   LL-Null:                       -1357.5\n",
      "Covariance Type:            nonrobust   LLR p-value:                 0.0001227\n",
      "================================================================================\n",
      "supervisor=1       coef    std err          z      P>|z|      [0.025      0.975]\n",
      "--------------------------------------------------------------------------------\n",
      "const           -0.0215      0.147     -0.147      0.883      -0.309       0.266\n",
      "Gender           0.1773      0.170      1.045      0.296      -0.155       0.510\n",
      "--------------------------------------------------------------------------------\n",
      "supervisor=2       coef    std err          z      P>|z|      [0.025      0.975]\n",
      "--------------------------------------------------------------------------------\n",
      "const           -0.1613      0.152     -1.060      0.289      -0.459       0.137\n",
      "Gender           0.6884      0.171      4.017      0.000       0.353       1.024\n",
      "================================================================================\n"
     ]
    }
   ],
   "source": [
    "X = sm.add_constant(gender_communication_1[\"Gender\"])\n",
    "y = gender_communication_1[\"supervisor\"]\n",
    "\n",
    "model = sm.MNLogit(y,X).fit()\n",
    "\n",
    "print(model.summary())"
   ]
  },
  {
   "cell_type": "code",
   "execution_count": 126,
   "id": "469160cb",
   "metadata": {},
   "outputs": [
    {
     "name": "stdout",
     "output_type": "stream",
     "text": [
      "Optimization terminated successfully.\n",
      "         Current function value: 0.929163\n",
      "         Iterations 5\n",
      "                          MNLogit Regression Results                          \n",
      "==============================================================================\n",
      "Dep. Variable:              coworkers   No. Observations:                 1251\n",
      "Model:                        MNLogit   Df Residuals:                     1247\n",
      "Method:                           MLE   Df Model:                            2\n",
      "Date:                Tue, 24 Jun 2025   Pseudo R-squ.:                0.001672\n",
      "Time:                        16:23:43   Log-Likelihood:                -1162.4\n",
      "converged:                       True   LL-Null:                       -1164.3\n",
      "Covariance Type:            nonrobust   LLR p-value:                    0.1428\n",
      "===============================================================================\n",
      "coworkers=1       coef    std err          z      P>|z|      [0.025      0.975]\n",
      "-------------------------------------------------------------------------------\n",
      "const          -0.9628      0.148     -6.501      0.000      -1.253      -0.673\n",
      "Gender         -0.1711      0.169     -1.010      0.313      -0.503       0.161\n",
      "-------------------------------------------------------------------------------\n",
      "coworkers=2       coef    std err          z      P>|z|      [0.025      0.975]\n",
      "-------------------------------------------------------------------------------\n",
      "const          -1.4684      0.180     -8.161      0.000      -1.821      -1.116\n",
      "Gender          0.2764      0.199      1.391      0.164      -0.113       0.666\n",
      "===============================================================================\n"
     ]
    }
   ],
   "source": [
    "X = sm.add_constant(gender_communication_1[\"Gender\"])\n",
    "y = gender_communication_1[\"coworkers\"]\n",
    "\n",
    "model = sm.MNLogit(y,X).fit()\n",
    "\n",
    "print(model.summary())"
   ]
  },
  {
   "cell_type": "markdown",
   "id": "15fa3d13",
   "metadata": {},
   "source": [
    "## 5.4 Die Wahrscheinlichkeit einer psychischen Erkrankungen ist bei Frauen und Diversen höher."
   ]
  },
  {
   "cell_type": "code",
   "execution_count": 128,
   "id": "b2ba00f5",
   "metadata": {},
   "outputs": [],
   "source": [
    "gender_communication[\"mental_health_condition\"] = gender_communication[\"mental_health_condition\"].map({\"Yes\": 1, \n",
    "                                                                                                       \"No\": 0})"
   ]
  },
  {
   "cell_type": "code",
   "execution_count": 129,
   "id": "ab38e6c5",
   "metadata": {},
   "outputs": [
    {
     "name": "stdout",
     "output_type": "stream",
     "text": [
      "Optimization terminated successfully.\n",
      "         Current function value: 0.504456\n",
      "         Iterations 6\n",
      "                              Logit Regression Results                             \n",
      "===================================================================================\n",
      "Dep. Variable:     mental_health_condition   No. Observations:                 1251\n",
      "Model:                               Logit   Df Residuals:                     1249\n",
      "Method:                                MLE   Df Model:                            1\n",
      "Date:                     Tue, 24 Jun 2025   Pseudo R-squ.:                0.008781\n",
      "Time:                             16:30:07   Log-Likelihood:                -631.07\n",
      "converged:                            True   LL-Null:                       -636.67\n",
      "Covariance Type:                 nonrobust   LLR p-value:                 0.0008261\n",
      "==============================================================================\n",
      "                 coef    std err          z      P>|z|      [0.025      0.975]\n",
      "------------------------------------------------------------------------------\n",
      "const          1.8546      0.179     10.347      0.000       1.503       2.206\n",
      "Gender        -0.6200      0.195     -3.183      0.001      -1.002      -0.238\n",
      "==============================================================================\n"
     ]
    }
   ],
   "source": [
    "X = sm.add_constant(gender_communication[\"Gender\"])\n",
    "y = gender_communication[\"mental_health_condition\"]\n",
    "\n",
    "model = sm.Logit(y,X).fit()\n",
    "\n",
    "print(model.summary())"
   ]
  },
  {
   "cell_type": "markdown",
   "id": "5a4057f1",
   "metadata": {},
   "source": [
    "Hoch signifikanter negativer Effekt. These bestätigt."
   ]
  },
  {
   "cell_type": "markdown",
   "id": "ad14aeb3",
   "metadata": {},
   "source": [
    "## 5.5 Das Fehlen familiärer Vorerkrankungen ist ein guter Prädiktor für die allgemeine Gesundheit – jedoch nicht für das Auftreten psychischer Erkrankungen."
   ]
  },
  {
   "cell_type": "code",
   "execution_count": 133,
   "id": "39c6a40f",
   "metadata": {},
   "outputs": [],
   "source": [
    "family_health = gender_communication.copy()\n",
    "family_health[\"family_history\"] = family_health[\"family_history\"].map({\"Yes\": 1,\n",
    "                                                                      \"No\": 0})"
   ]
  },
  {
   "cell_type": "code",
   "execution_count": 134,
   "id": "dbf918c5",
   "metadata": {},
   "outputs": [
    {
     "name": "stdout",
     "output_type": "stream",
     "text": [
      "Optimization terminated successfully.\n",
      "         Current function value: 0.477650\n",
      "         Iterations 6\n",
      "                              Logit Regression Results                             \n",
      "===================================================================================\n",
      "Dep. Variable:     mental_health_condition   No. Observations:                 1251\n",
      "Model:                               Logit   Df Residuals:                     1249\n",
      "Method:                                MLE   Df Model:                            1\n",
      "Date:                     Tue, 24 Jun 2025   Pseudo R-squ.:                 0.06145\n",
      "Time:                             16:36:36   Log-Likelihood:                -597.54\n",
      "converged:                            True   LL-Null:                       -636.67\n",
      "Covariance Type:                 nonrobust   LLR p-value:                 9.078e-19\n",
      "==================================================================================\n",
      "                     coef    std err          z      P>|z|      [0.025      0.975]\n",
      "----------------------------------------------------------------------------------\n",
      "const              0.9273      0.080     11.537      0.000       0.770       1.085\n",
      "family_history     1.4375      0.180      7.973      0.000       1.084       1.791\n",
      "==================================================================================\n"
     ]
    }
   ],
   "source": [
    "X = sm.add_constant(family_health[\"family_history\"])\n",
    "y = family_health[\"mental_health_condition\"]\n",
    "\n",
    "model = sm.Logit(y,X).fit()\n",
    "\n",
    "print(model.summary())"
   ]
  },
  {
   "cell_type": "markdown",
   "id": "2b2f3b81",
   "metadata": {},
   "source": [
    "Der Effekt ist höchst signifikant."
   ]
  },
  {
   "cell_type": "markdown",
   "id": "d746e397",
   "metadata": {},
   "source": [
    "## 5.6 Kommunikation - Unternehmensgröße"
   ]
  },
  {
   "cell_type": "code",
   "execution_count": 135,
   "id": "eec9b9b3",
   "metadata": {},
   "outputs": [
    {
     "data": {
      "text/plain": [
       "no_employees\n",
       "6-25              289\n",
       "26-100            288\n",
       "More than 1000    281\n",
       "100-500           175\n",
       "1-5               158\n",
       "500-1000           60\n",
       "Name: count, dtype: int64"
      ]
     },
     "execution_count": 135,
     "metadata": {},
     "output_type": "execute_result"
    }
   ],
   "source": [
    "df_reg[\"no_employees\"].value_counts()"
   ]
  },
  {
   "cell_type": "code",
   "execution_count": 148,
   "id": "1c1f59f2",
   "metadata": {},
   "outputs": [],
   "source": [
    "size_map = {\n",
    "    \"1-5\": 1,\n",
    "    \"6-25\": 2,\n",
    "    \"26-100\": 3,\n",
    "    \"100-500\": 4,\n",
    "    \"500-1000\": 5,\n",
    "    \"More than 1000\": 6\n",
    "}\n",
    "\n",
    "df_reg[\"no_employees\"] = df_reg[\"no_employees\"].map(size_map)\n"
   ]
  },
  {
   "cell_type": "code",
   "execution_count": 152,
   "id": "dc74df33",
   "metadata": {},
   "outputs": [],
   "source": [
    "df_reg_1[\"no_employees\"] = df_reg_1[\"no_employees\"].map(size_map)\n"
   ]
  },
  {
   "cell_type": "code",
   "execution_count": 149,
   "id": "fe166a2c",
   "metadata": {},
   "outputs": [
    {
     "data": {
      "text/plain": [
       "[2, 6, 3, 4, 1, 5]\n",
       "Categories (6, int64): [1 < 2 < 3 < 4 < 5 < 6]"
      ]
     },
     "execution_count": 149,
     "metadata": {},
     "output_type": "execute_result"
    }
   ],
   "source": [
    "df_reg[\"no_employees\"].unique()"
   ]
  },
  {
   "cell_type": "code",
   "execution_count": null,
   "id": "69b48746",
   "metadata": {},
   "outputs": [
    {
     "name": "stdout",
     "output_type": "stream",
     "text": [
      "Optimization terminated successfully.\n",
      "         Current function value: 0.921968\n",
      "         Iterations 5\n",
      "                          MNLogit Regression Results                          \n",
      "==============================================================================\n",
      "Dep. Variable:              coworkers   No. Observations:                 1251\n",
      "Model:                        MNLogit   Df Residuals:                     1247\n",
      "Method:                           MLE   Df Model:                            2\n",
      "Date:                Tue, 24 Jun 2025   Pseudo R-squ.:                0.009403\n",
      "Time:                        17:06:03   Log-Likelihood:                -1153.4\n",
      "converged:                       True   LL-Null:                       -1164.3\n",
      "Covariance Type:            nonrobust   LLR p-value:                 1.760e-05\n",
      "================================================================================\n",
      " coworkers=1       coef    std err          z      P>|z|      [0.025      0.975]\n",
      "--------------------------------------------------------------------------------\n",
      "const            1.4837      0.170      8.750      0.000       1.151       1.816\n",
      "no_employees    -0.1083      0.042     -2.590      0.010      -0.190      -0.026\n",
      "--------------------------------------------------------------------------------\n",
      " coworkers=2       coef    std err          z      P>|z|      [0.025      0.975]\n",
      "--------------------------------------------------------------------------------\n",
      "const            0.7138      0.208      3.440      0.001       0.307       1.121\n",
      "no_employees    -0.2556      0.056     -4.605      0.000      -0.364      -0.147\n",
      "================================================================================\n"
     ]
    }
   ],
   "source": [
    "X = sm.add_constant(df_reg[\"no_employees\"])\n",
    "y = df_reg[\"coworkers\"]\n",
    "\n",
    "model = sm.MNLogit(y,X).fit()\n",
    "\n",
    "print(model.summary())"
   ]
  },
  {
   "cell_type": "code",
   "execution_count": 151,
   "id": "6ab20b8c",
   "metadata": {},
   "outputs": [
    {
     "name": "stdout",
     "output_type": "stream",
     "text": [
      "Optimization terminated successfully.\n",
      "         Current function value: 1.079778\n",
      "         Iterations 4\n",
      "                          MNLogit Regression Results                          \n",
      "==============================================================================\n",
      "Dep. Variable:             supervisor   No. Observations:                 1251\n",
      "Model:                        MNLogit   Df Residuals:                     1247\n",
      "Method:                           MLE   Df Model:                            2\n",
      "Date:                Tue, 24 Jun 2025   Pseudo R-squ.:                0.004945\n",
      "Time:                        17:06:16   Log-Likelihood:                -1350.8\n",
      "converged:                       True   LL-Null:                       -1357.5\n",
      "Covariance Type:            nonrobust   LLR p-value:                  0.001215\n",
      "================================================================================\n",
      "supervisor=1       coef    std err          z      P>|z|      [0.025      0.975]\n",
      "--------------------------------------------------------------------------------\n",
      "const           -0.0306      0.170     -0.180      0.857      -0.363       0.302\n",
      "no_employees    -0.0226      0.043     -0.526      0.599      -0.107       0.061\n",
      "--------------------------------------------------------------------------------\n",
      "supervisor=2       coef    std err          z      P>|z|      [0.025      0.975]\n",
      "--------------------------------------------------------------------------------\n",
      "const            0.7288      0.152      4.788      0.000       0.430       1.027\n",
      "no_employees    -0.1340      0.040     -3.369      0.001      -0.212      -0.056\n",
      "================================================================================\n"
     ]
    }
   ],
   "source": [
    "X = sm.add_constant(df_reg[\"no_employees\"])\n",
    "y = df_reg[\"supervisor\"]\n",
    "\n",
    "model = sm.MNLogit(y,X).fit()\n",
    "\n",
    "print(model.summary())"
   ]
  },
  {
   "cell_type": "code",
   "execution_count": 154,
   "id": "ba643d39",
   "metadata": {},
   "outputs": [
    {
     "name": "stdout",
     "output_type": "stream",
     "text": [
      "Optimization terminated successfully.\n",
      "         Current function value: 0.921968\n",
      "         Iterations 5\n",
      "                          MNLogit Regression Results                          \n",
      "==============================================================================\n",
      "Dep. Variable:              coworkers   No. Observations:                 1251\n",
      "Model:                        MNLogit   Df Residuals:                     1247\n",
      "Method:                           MLE   Df Model:                            2\n",
      "Date:                Tue, 24 Jun 2025   Pseudo R-squ.:                0.009403\n",
      "Time:                        17:08:38   Log-Likelihood:                -1153.4\n",
      "converged:                       True   LL-Null:                       -1164.3\n",
      "Covariance Type:            nonrobust   LLR p-value:                 1.760e-05\n",
      "================================================================================\n",
      " coworkers=1       coef    std err          z      P>|z|      [0.025      0.975]\n",
      "--------------------------------------------------------------------------------\n",
      "const           -1.4837      0.170     -8.750      0.000      -1.816      -1.151\n",
      "no_employees     0.1083      0.042      2.590      0.010       0.026       0.190\n",
      "--------------------------------------------------------------------------------\n",
      " coworkers=2       coef    std err          z      P>|z|      [0.025      0.975]\n",
      "--------------------------------------------------------------------------------\n",
      "const           -0.7699      0.165     -4.665      0.000      -1.093      -0.446\n",
      "no_employees    -0.1473      0.047     -3.134      0.002      -0.239      -0.055\n",
      "================================================================================\n"
     ]
    }
   ],
   "source": [
    "X = sm.add_constant(df_reg_1[\"no_employees\"])\n",
    "y = df_reg_1[\"coworkers\"]\n",
    "\n",
    "model = sm.MNLogit(y,X).fit()\n",
    "\n",
    "print(model.summary())"
   ]
  },
  {
   "cell_type": "code",
   "execution_count": 155,
   "id": "9751f608",
   "metadata": {},
   "outputs": [
    {
     "name": "stdout",
     "output_type": "stream",
     "text": [
      "Optimization terminated successfully.\n",
      "         Current function value: 1.079778\n",
      "         Iterations 4\n",
      "                          MNLogit Regression Results                          \n",
      "==============================================================================\n",
      "Dep. Variable:             supervisor   No. Observations:                 1251\n",
      "Model:                        MNLogit   Df Residuals:                     1247\n",
      "Method:                           MLE   Df Model:                            2\n",
      "Date:                Tue, 24 Jun 2025   Pseudo R-squ.:                0.004945\n",
      "Time:                        17:08:42   Log-Likelihood:                -1350.8\n",
      "converged:                       True   LL-Null:                       -1357.5\n",
      "Covariance Type:            nonrobust   LLR p-value:                  0.001215\n",
      "================================================================================\n",
      "supervisor=1       coef    std err          z      P>|z|      [0.025      0.975]\n",
      "--------------------------------------------------------------------------------\n",
      "const            0.0306      0.170      0.180      0.857      -0.302       0.363\n",
      "no_employees     0.0226      0.043      0.526      0.599      -0.061       0.107\n",
      "--------------------------------------------------------------------------------\n",
      "supervisor=2       coef    std err          z      P>|z|      [0.025      0.975]\n",
      "--------------------------------------------------------------------------------\n",
      "const            0.7594      0.156      4.863      0.000       0.453       1.066\n",
      "no_employees    -0.1115      0.041     -2.713      0.007      -0.192      -0.031\n",
      "================================================================================\n"
     ]
    }
   ],
   "source": [
    "X = sm.add_constant(df_reg_1[\"no_employees\"])\n",
    "y = df_reg_1[\"supervisor\"]\n",
    "\n",
    "model = sm.MNLogit(y,X).fit()\n",
    "\n",
    "print(model.summary())"
   ]
  },
  {
   "cell_type": "markdown",
   "id": "a9f9c2a5",
   "metadata": {},
   "source": [
    "EXTRAS"
   ]
  },
  {
   "cell_type": "code",
   "execution_count": 86,
   "id": "178a5b76",
   "metadata": {},
   "outputs": [
    {
     "data": {
      "text/html": [
       "\n",
       "        <iframe\n",
       "            width=\"100%\"\n",
       "            height=\"650\"\n",
       "            src=\"http://127.0.0.1:8050/\"\n",
       "            frameborder=\"0\"\n",
       "            allowfullscreen\n",
       "            \n",
       "        ></iframe>\n",
       "        "
      ],
      "text/plain": [
       "<IPython.lib.display.IFrame at 0x1673fb51940>"
      ]
     },
     "metadata": {},
     "output_type": "display_data"
    }
   ],
   "source": [
    "app = Dash()\n",
    "\n",
    "app.layout = [\n",
    "    html.Div(children = \"Übersicht Verteilung\"),\n",
    "    dash_table.DataTable(data= df.to_dict(\"records\"), page_size=10)\n",
    "]\n",
    "\n",
    "if __name__ == \"__main__\":\n",
    "    app.run(debug=True)"
   ]
  },
  {
   "cell_type": "code",
   "execution_count": 87,
   "id": "e5d656f0",
   "metadata": {},
   "outputs": [
    {
     "data": {
      "text/plain": [
       "Index(['Timestamp', 'Age', 'Gender', 'Country', 'self_employed',\n",
       "       'family_history', 'treatment', 'work_interfere', 'no_employees',\n",
       "       'remote_work', 'tech_company', 'benefits', 'care_options',\n",
       "       'wellness_program', 'seek_help', 'anonymity', 'leave',\n",
       "       'mental_health_consequence', 'phys_health_consequence', 'coworkers',\n",
       "       'supervisor', 'mental_health_interview', 'phys_health_interview',\n",
       "       'mental_vs_physical', 'obs_consequence', 'comments',\n",
       "       'mental_health_condition', 'U_Size', 'age_group'],\n",
       "      dtype='object')"
      ]
     },
     "execution_count": 87,
     "metadata": {},
     "output_type": "execute_result"
    }
   ],
   "source": [
    "df_cl.columns"
   ]
  },
  {
   "cell_type": "code",
   "execution_count": 88,
   "id": "75126bf0",
   "metadata": {},
   "outputs": [],
   "source": [
    "def plot_percentage(df, column, title = None):\n",
    "    counts= df[column].value_counts(normalize = True).reset_index()\n",
    "    counts.columns = [column, \"Percentage\"]\n",
    "    counts[\"Percentage\"] *=100\n",
    "    counts[\"Percentage_Label\"] = counts[\"Percentage\"].round(1).astype(str) + \"%\"\n",
    "\n",
    "    fig = px.bar(counts,\n",
    "                 x = column,\n",
    "                 y = \"Percentage\",\n",
    "                text = \"Percentage_Label\",\n",
    "                title = title or f\"Verteilung von {column} (in %)\")\n",
    "    fig.update_layout(yaxis_title = \"Prozent\", xaxis_title = column)\n",
    "    fig.show() "
   ]
  },
  {
   "cell_type": "code",
   "execution_count": 89,
   "id": "dab590ed",
   "metadata": {},
   "outputs": [
    {
     "data": {
      "text/html": [
       "\n",
       "        <iframe\n",
       "            width=\"100%\"\n",
       "            height=\"650\"\n",
       "            src=\"http://127.0.0.1:8050/\"\n",
       "            frameborder=\"0\"\n",
       "            allowfullscreen\n",
       "            \n",
       "        ></iframe>\n",
       "        "
      ],
      "text/plain": [
       "<IPython.lib.display.IFrame at 0x1673fb96750>"
      ]
     },
     "metadata": {},
     "output_type": "display_data"
    }
   ],
   "source": [
    "app = Dash()\n",
    "\n",
    "app.layout = html.Div([\n",
    "    html.H1(\"Verteilung der Variablen\"),\n",
    "    html.Hr(),\n",
    "    dcc.RadioItems(\n",
    "        options=[{'label': col, 'value': col} for col in ['Age', 'Gender','self_employed',\n",
    "           'family_history', 'treatment', 'work_interfere', 'no_employees',\n",
    "           'remote_work', 'tech_company', 'benefits', 'care_options',\n",
    "           'wellness_program', 'seek_help', 'anonymity', 'leave',\n",
    "           'mental_health_consequence', 'phys_health_consequence', 'coworkers',\n",
    "           'supervisor', 'mental_health_interview', 'phys_health_interview',\n",
    "           'mental_vs_physical', 'obs_consequence',\n",
    "           'mental_health_condition', 'age_group']],\n",
    "        value=\"Age\",\n",
    "        id=\"controls-and-radio-item\"\n",
    "    ),\n",
    "    dcc.Graph(id=\"controls-and-graph\")\n",
    "])\n",
    "\n",
    "@app.callback(\n",
    "    Output(\"controls-and-graph\", \"figure\"),\n",
    "    Input(\"controls-and-radio-item\",\"value\")\n",
    ")\n",
    "\n",
    "def update_graph(col_chosen):\n",
    "    if col_chosen == \"Age\":\n",
    "        fig = px.histogram(df_cl, x=\"Age\", nbins=30, title=\"Verteilung: Alter\")\n",
    "    else:\n",
    "        fig = plot_percentage(df_cl, col_chosen)\n",
    "    return fig\n",
    "\n",
    "if __name__ == \"__main__\":\n",
    "    app.run(debug=False)\n",
    "\n"
   ]
  }
 ],
 "metadata": {
  "kernelspec": {
   "display_name": "base",
   "language": "python",
   "name": "python3"
  },
  "language_info": {
   "codemirror_mode": {
    "name": "ipython",
    "version": 3
   },
   "file_extension": ".py",
   "mimetype": "text/x-python",
   "name": "python",
   "nbconvert_exporter": "python",
   "pygments_lexer": "ipython3",
   "version": "3.12.7"
  }
 },
 "nbformat": 4,
 "nbformat_minor": 5
}
